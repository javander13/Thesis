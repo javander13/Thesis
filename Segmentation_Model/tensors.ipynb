{
 "cells": [
  {
   "cell_type": "markdown",
   "metadata": {},
   "source": [
    "# Make tensors for every image\n",
    "\n",
    "Save the image tensors on disk as `torch.float16`, and the masks as `torch.uint8`"
   ]
  },
  {
   "cell_type": "markdown",
   "metadata": {},
   "source": [
    "## Imports"
   ]
  },
  {
   "cell_type": "code",
   "execution_count": 1,
   "metadata": {},
   "outputs": [],
   "source": [
    "# load custom scripts\n",
    "import config \n",
    "\n",
    "# import the necessary packages\n",
    "from skimage import io\n",
    "from sklearn.model_selection import train_test_split\n",
    "from torchvision import transforms, models\n",
    "from imutils import paths\n",
    "\n",
    "import matplotlib.pyplot as plt\n",
    "import numpy as np\n",
    "import time\n",
    "import torch\n",
    "import torchvision.transforms.functional as TF\n",
    "import os"
   ]
  },
  {
   "cell_type": "markdown",
   "metadata": {},
   "source": [
    "## Load data"
   ]
  },
  {
   "cell_type": "code",
   "execution_count": 2,
   "metadata": {},
   "outputs": [
    {
     "name": "stdout",
     "output_type": "stream",
     "text": [
      "[INFO] saving testing image paths...\n"
     ]
    }
   ],
   "source": [
    "# load the image and mask filepaths in a sorted manner\n",
    "imagePaths = sorted(list(paths.list_images(config.IMAGE_DATASET_PATH)))\n",
    "maskPaths = sorted(list(paths.list_images(config.MASK_DATASET_PATH)))\n",
    "\n",
    "# partition the data into training and testing splits using 85% of\n",
    "# the data for training and the remaining 15% for testing\n",
    "split = train_test_split(imagePaths, maskPaths, test_size=config.TEST_SPLIT, random_state=42)\n",
    "\n",
    "# unpack the data split\n",
    "(trainImages, testImages) = split[:2]\n",
    "(trainMasks, testMasks) = split[2:]\n",
    "\n",
    "# write the testing image paths to disk so that we can use then\n",
    "# when evaluating/testing our model\n",
    "print(\"[INFO] saving testing image paths...\")\n",
    "f = open(config.TEST_PATHS, \"w\")\n",
    "f.write(\"\\n\".join(testImages))\n",
    "f.close()"
   ]
  },
  {
   "cell_type": "markdown",
   "metadata": {},
   "source": [
    "## Create tensors "
   ]
  },
  {
   "cell_type": "code",
   "execution_count": 3,
   "metadata": {},
   "outputs": [],
   "source": [
    "# transforms needed\n",
    "\n",
    "normalize = transforms.Normalize(mean=[0.485, 0.456, 0.406], std=[0.229, 0.224, 0.225])\n",
    "asarray = lambda x: torch.tensor(np.array(x), dtype=torch.uint8)"
   ]
  },
  {
   "cell_type": "markdown",
   "metadata": {},
   "source": [
    "### Images"
   ]
  },
  {
   "cell_type": "code",
   "execution_count": 4,
   "metadata": {},
   "outputs": [
    {
     "name": "stdout",
     "output_type": "stream",
     "text": [
      "[INFO] total time taken to write the image tensors: 64.31s\n",
      "[INFO] total time taken to write the image tensors: 11.17s\n"
     ]
    }
   ],
   "source": [
    "# write all created image tensors to disk\n",
    "\n",
    "# train\n",
    "startTime = time.time()\n",
    "\n",
    "for imagePath in trainImages:\n",
    "    image = io.imread(imagePath)\n",
    "    image = TF.to_tensor(image.copy())\n",
    "    image = normalize(image)\n",
    "    # reduce size so its shorter to load after\n",
    "    image = torch.as_tensor(image, dtype=torch.float16)\n",
    "    tensorPath = '/data/jantina/CoralNet/WAPA_RFM/images_tensor_small/train/' + imagePath.split(os.path.sep)[-1].replace(\"JPG\",\"pt\")\n",
    "    torch.save(image, tensorPath)\n",
    "    \n",
    "endTime = time.time()\n",
    "print(\"[INFO] total time taken to write the image tensors: {:.2f}s\".format(endTime - startTime))\n",
    "\n",
    "# test\n",
    "startTime = time.time()\n",
    "\n",
    "for imagePath in testImages:\n",
    "    image = io.imread(imagePath)\n",
    "    image = TF.to_tensor(image.copy())\n",
    "    image = normalize(image)\n",
    "    image = torch.as_tensor(image, dtype=torch.float16)\n",
    "    tensorPath = '/data/jantina/CoralNet/WAPA_RFM/images_tensor_small/test/' + imagePath.split(os.path.sep)[-1].replace(\"JPG\",\"pt\")\n",
    "    torch.save(image, tensorPath)\n",
    "    \n",
    "endTime = time.time()\n",
    "print(\"[INFO] total time taken to write the image tensors: {:.2f}s\".format(endTime - startTime))\n"
   ]
  },
  {
   "cell_type": "markdown",
   "metadata": {},
   "source": [
    "### Masks"
   ]
  },
  {
   "cell_type": "code",
   "execution_count": 5,
   "metadata": {},
   "outputs": [
    {
     "name": "stdout",
     "output_type": "stream",
     "text": [
      "[INFO] total time taken to write the image tensors: 14.47s\n",
      "[INFO] total time taken to write the image tensors: 2.57s\n"
     ]
    }
   ],
   "source": [
    "# write all created mask tensors to disk\n",
    "\n",
    "# train\n",
    "startTime = time.time()\n",
    "\n",
    "for maskPath in trainMasks:\n",
    "    mask = io.imread(maskPath)\n",
    "    mask = asarray(np.expand_dims(mask, 0))\n",
    "    tensorPath = '/data/jantina/CoralNet/WAPA_RFM/labels_tensor_small/train/' + maskPath.split(os.path.sep)[-1].replace(\"png\",\"pt\")\n",
    "    torch.save(mask, tensorPath)\n",
    "    \n",
    "endTime = time.time()\n",
    "print(\"[INFO] total time taken to write the image tensors: {:.2f}s\".format(endTime - startTime))\n",
    "\n",
    "# test\n",
    "startTime = time.time()\n",
    "\n",
    "for maskPath in testMasks:\n",
    "    mask = io.imread(maskPath)\n",
    "    mask = asarray(np.expand_dims(mask, 0))\n",
    "    tensorPath = '/data/jantina/CoralNet/WAPA_RFM/labels_tensor_small/test/' + maskPath.split(os.path.sep)[-1].replace(\"png\",\"pt\")\n",
    "    torch.save(mask, tensorPath)\n",
    "    \n",
    "endTime = time.time()\n",
    "print(\"[INFO] total time taken to write the image tensors: {:.2f}s\".format(endTime - startTime))"
   ]
  }
 ],
 "metadata": {
  "kernelspec": {
   "display_name": "Python 3 (ipykernel)",
   "language": "python",
   "name": "python3"
  },
  "language_info": {
   "codemirror_mode": {
    "name": "ipython",
    "version": 3
   },
   "file_extension": ".py",
   "mimetype": "text/x-python",
   "name": "python",
   "nbconvert_exporter": "python",
   "pygments_lexer": "ipython3",
   "version": "3.8.10"
  }
 },
 "nbformat": 4,
 "nbformat_minor": 4
}
