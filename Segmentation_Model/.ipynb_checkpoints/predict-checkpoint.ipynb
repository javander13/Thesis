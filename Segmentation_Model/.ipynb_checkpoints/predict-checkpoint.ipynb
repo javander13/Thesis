{
 "cells": [
  {
   "cell_type": "code",
   "execution_count": 1,
   "metadata": {},
   "outputs": [],
   "source": [
    "# USAGE\n",
    "# python predict.py\n"
   ]
  },
  {
   "cell_type": "code",
   "execution_count": 3,
   "metadata": {},
   "outputs": [],
   "source": [
    "# import the necessary packages\n",
    "import config\n",
    "\n",
    "import matplotlib.pyplot as plt\n",
    "import numpy as np\n",
    "import torch\n",
    "import cv2\n",
    "import os"
   ]
  },
  {
   "cell_type": "code",
   "execution_count": 4,
   "metadata": {},
   "outputs": [],
   "source": [
    "def prepare_plot(origImage, origMask, predMask):\n",
    "    # initialize our figure\n",
    "    figure, ax = plt.subplots(nrows=1, ncols=3, figsize=(10, 10))\n",
    "    \n",
    "    # plot the original image, its mask, and the predicted mask\n",
    "    ax[0].imshow(origImage)\n",
    "    ax[1].imshow(origMask)\n",
    "    ax[2].imshow(predMask)\n",
    "    \n",
    "    # set the titles of the subplots\n",
    "    ax[0].set_title(\"Image\")\n",
    "    ax[1].set_title(\"Original Mask\")\n",
    "    ax[2].set_title(\"Predicted Mask\")\n",
    "    \n",
    "    # set the layout of the figure and display it\n",
    "    figure.tight_layout()\n",
    "    figure.show()"
   ]
  },
  {
   "cell_type": "code",
   "execution_count": null,
   "metadata": {},
   "outputs": [],
   "source": [
    "def make_predictions(model, imagePath):\n",
    "    # set model to evaluation mode\n",
    "    model.eval()\n",
    "    \n",
    "    # turn off gradient tracking\n",
    "    with torch.no_grad():\n",
    "        # load the image from disk, cast it to float data type, \n",
    "        # and scale its pixel values\n",
    "        image = io.imread(imagePath)\n",
    "        image = image.astype(\"float32\") / 255.0\n",
    "        \n",
    "        # resize the image and make a copy of it for visualization\n",
    "        image = cv2.resize(image, (128, 128))\n",
    "        orig = image.copy()\n",
    "        \n",
    "        # find the filename and generate the path to ground truth mask\n",
    "        filename = imagePath.split(os.path.sep)[-1]\n",
    "        groundTruthPath = os.path.join(config.MASK_DATASET_PATH, filename)\n",
    "        \n",
    "        # load the ground-truth segmentation mask in grayscale mode and resize it\n",
    "        gtMask = cv2.imread(groundTruthPath, 0)\n",
    "        gtMask = cv2.resize(gtMask, (config.INPUT_IMAGE_HEIGHT, config.INPUT_IMAGE_HEIGHT))\n",
    "        \n",
    "        # make the channel axis to be the leading one, add a batch\n",
    "        # dimension, create a PyTorch tensor, and flash it to the current device\n",
    "        image = np.transpose(image, (2, 0, 1))\n",
    "        image = np.expand_dims(image, 0)\n",
    "        image = torch.from_numpy(image).to(config.DEVICE)\n",
    "        \n",
    "        # make the prediction, pass the results through the sigmoid\n",
    "        # function, and convert the result to a NumPy array\n",
    "        predMask = model(image).squeeze()\n",
    "        predMask = torch.sigmoid(predMask)\n",
    "        predMask = predMask.cpu().numpy()\n",
    "        \n",
    "        # filter out the weak predictions and convert them to integers\n",
    "        predMask = (predMask > config.THRESHOLD) * 255\n",
    "        predMask = predMask.astype(np.uint8)\n",
    "        \n",
    "        # prepare a plot for visualization\n",
    "        prepare_plot(orig, gtMask, predMask)"
   ]
  },
  {
   "cell_type": "code",
   "execution_count": null,
   "metadata": {},
   "outputs": [],
   "source": [
    "# load the image paths in our testing file and randomly select 10 image paths\n",
    "print(\"[INFO] loading up test image paths...\")\n",
    "imagePaths = open(config.TEST_PATHS).read().strip().split(\"\\n\")\n",
    "imagePaths = np.random.choice(imagePaths, size=10)\n",
    "\n",
    "# load our model from disk and flash it to the current device\n",
    "print(\"[INFO] load up model...\")\n",
    "unet = torch.load(config.MODEL_PATH).to(config.DEVICE)\n",
    "\n",
    "# iterate over the randomly selected test image paths\n",
    "for path in imagePaths:\n",
    "    # make predictions and visualize the results\n",
    "    make_predictions(unet, path)"
   ]
  }
 ],
 "metadata": {
  "kernelspec": {
   "display_name": "Python 3 (ipykernel)",
   "language": "python",
   "name": "python3"
  },
  "language_info": {
   "codemirror_mode": {
    "name": "ipython",
    "version": 3
   },
   "file_extension": ".py",
   "mimetype": "text/x-python",
   "name": "python",
   "nbconvert_exporter": "python",
   "pygments_lexer": "ipython3",
   "version": "3.8.10"
  }
 },
 "nbformat": 4,
 "nbformat_minor": 4
}
