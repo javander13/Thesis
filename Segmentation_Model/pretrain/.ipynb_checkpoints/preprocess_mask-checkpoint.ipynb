{
 "cells": [
  {
   "cell_type": "markdown",
   "metadata": {},
   "source": [
    "# Preprocess mask\n",
    "\n",
    "Combine the multiple labels into 10 categories (for now):\n",
    "- hard coral\n",
    "- hard coral bleached\n",
    "- dead coral\n",
    "- other invertebrates\n",
    "- sand/rubble\n",
    "- other\n",
    "- algae\n",
    "- seagrass\n",
    "- unknown\n",
    "- no label"
   ]
  },
  {
   "cell_type": "markdown",
   "metadata": {},
   "source": [
    "## Imports"
   ]
  },
  {
   "cell_type": "code",
   "execution_count": 1,
   "metadata": {},
   "outputs": [],
   "source": [
    "# load custom scripts\n",
    "from preprocess_mask import *\n",
    "\n",
    "# import the necessary packages\n",
    "from imutils import paths\n",
    "from skimage import io\n",
    "import cv2\n",
    "import matplotlib.pyplot as plt\n",
    "import numpy as np\n",
    "import os\n",
    "import pandas as pd\n",
    "import plotly.express as px\n",
    "import time\n",
    "import warnings\n",
    "warnings.filterwarnings('ignore')"
   ]
  },
  {
   "cell_type": "markdown",
   "metadata": {},
   "source": [
    "## Load masks"
   ]
  },
  {
   "cell_type": "code",
   "execution_count": 2,
   "metadata": {},
   "outputs": [],
   "source": [
    "# load mask filepaths in a sorted manner\n",
    "maskPaths = sorted(list(paths.list_images(\"/data/jantina/CoralNet/dataset/pre_labels_dense\")))"
   ]
  },
  {
   "cell_type": "markdown",
   "metadata": {},
   "source": [
    "## New label classes"
   ]
  },
  {
   "cell_type": "code",
   "execution_count": 4,
   "metadata": {},
   "outputs": [],
   "source": [
    "classes = {1: 'hard coral',\n",
    "           2: 'hard coral bleached',\n",
    "           3: 'dead coral',\n",
    "           4: 'other invertebrates',\n",
    "           5: 'sand/rubble',\n",
    "           6: 'other',\n",
    "           7: 'algae',\n",
    "           8: 'seagrass',\n",
    "           9: 'unknown',\n",
    "           0: 'no label'\n",
    "          }"
   ]
  },
  {
   "cell_type": "markdown",
   "metadata": {},
   "source": [
    "### Merging labels"
   ]
  },
  {
   "cell_type": "code",
   "execution_count": 5,
   "metadata": {},
   "outputs": [],
   "source": [
    "hard_coral = [1,3,5,7,8,9,13,16,19,29,32,34,36,40,42,\n",
    "              46,49,52,54,55,57,59,64,66,70,74,76,81,\n",
    "              83,89,90,91,93,95,97,99,100,101,103,105,\n",
    "              106,108,110,111,113,114,122,135,136,138,\n",
    "              140,141,142,143,144,148,150,155,156,157,\n",
    "              158,159,160,161,162,163,164,165,166,167,\n",
    "              168,169,170,171,172,173,174,175,176,177,\n",
    "              178,179,180,181,182,183]\n",
    "\n",
    "hard_coral_bleached = [2,4,6,10,14,15,17,30,33,41,43,47,50,\n",
    "                       53,56,58,60,65,67,71,75,77,82,92,94,\n",
    "                       96,98,102,104,107,109,112,115,123,139]\n",
    "\n",
    "dead_coral = [37,38,116,117,152]\n",
    "\n",
    "other_invertebrates = [11,12,18,28,44,45,63,68,69,72,73,80,\n",
    "                       88,119,124,125,127,128,129,132,134,137,\n",
    "                       184,185,186,187,188,189,190,191,192,193,\n",
    "                       194,195,196,199,200]\n",
    "\n",
    "sand_rubble = [79,118,120,145,149,151,201]\n",
    "\n",
    "other = [35,48,51,86,126,153]\n",
    "\n",
    "algae = [20,21,22,23,24,25,26,27,31,39,\n",
    "         61,62,78,84,87,121,130,131,133,\n",
    "        146,147,154,197,198,202,203]\n",
    "\n",
    "seagrass = [204,205,206,207]\n",
    "\n",
    "unknown = [85]\n",
    "\n",
    "no_label = [255]"
   ]
  },
  {
   "cell_type": "markdown",
   "metadata": {},
   "source": [
    "## Creating new masks and saving to disk"
   ]
  },
  {
   "cell_type": "code",
   "execution_count": 6,
   "metadata": {},
   "outputs": [
    {
     "name": "stdout",
     "output_type": "stream",
     "text": [
      "[INFO] total time taken to write the new masks: 1775.07s\n"
     ]
    }
   ],
   "source": [
    "startTime = time.time()\n",
    "\n",
    "for masks in maskPaths:\n",
    "    mask = io.imread(masks)\n",
    "    new_mask = merge_mask(mask)\n",
    "    maskPath = '/data/jantina/CoralNet/dataset/labels_dense/' + masks.split(os.path.sep)[-1]\n",
    "    cv2.imwrite(maskPath, new_mask)\n",
    "    \n",
    "endTime = time.time()\n",
    "print(\"[INFO] total time taken to write the new masks: {:.2f}s\".format(endTime - startTime))"
   ]
  },
  {
   "cell_type": "markdown",
   "metadata": {},
   "source": [
    "## Class representation"
   ]
  },
  {
   "cell_type": "markdown",
   "metadata": {},
   "source": [
    "### Number of labels per class"
   ]
  },
  {
   "cell_type": "code",
   "execution_count": null,
   "metadata": {},
   "outputs": [],
   "source": [
    "labels_per_class = {'name': list(classes.values()),\n",
    "                    'number of labels': [len(hard_coral),len(hard_coral_bleached),\n",
    "                                         len(dead_coral),len(other_invertebrates),\n",
    "                                         len(sand_rubble),len(other),len(algae),\n",
    "                                         len(seagrass),len(unknown),len(no_label)]}"
   ]
  },
  {
   "cell_type": "code",
   "execution_count": null,
   "metadata": {},
   "outputs": [],
   "source": [
    "fig = px.bar(pd.DataFrame(labels_per_class), x ='name', y ='number of labels')\n",
    "fig.show()"
   ]
  },
  {
   "cell_type": "markdown",
   "metadata": {},
   "source": [
    "### Number of pixels per class"
   ]
  },
  {
   "cell_type": "code",
   "execution_count": null,
   "metadata": {},
   "outputs": [],
   "source": [
    "count = pd.DataFrame()\n",
    "\n",
    "new_maskPaths = sorted(list(paths.list_images(\"/data/jantina/CoralNet/dataset/small/labels\")))\n",
    "for masks in new_maskPaths:\n",
    "    mask = io.imread(masks)\n",
    "    unique, counts = np.unique(mask, return_counts=True)\n",
    "    count = count.append(pd.DataFrame(dict(zip(unique, counts)).items(),\n",
    "                                      columns=['label', 'pixel count']),\n",
    "                         ignore_index = True)\n",
    "    "
   ]
  },
  {
   "cell_type": "code",
   "execution_count": null,
   "metadata": {},
   "outputs": [],
   "source": [
    "df = pd.DataFrame(count.groupby('label')['pixel count'].sum()).reset_index()"
   ]
  },
  {
   "cell_type": "code",
   "execution_count": null,
   "metadata": {},
   "outputs": [],
   "source": [
    "for old, new in classes.items():\n",
    "    df.label[df.label == old] = new"
   ]
  },
  {
   "cell_type": "code",
   "execution_count": null,
   "metadata": {},
   "outputs": [],
   "source": [
    "fig = px.bar(df, x = 'label', y = 'pixel count')\n",
    "fig.show()"
   ]
  },
  {
   "cell_type": "markdown",
   "metadata": {},
   "source": [
    "## Class weighting"
   ]
  },
  {
   "cell_type": "code",
   "execution_count": null,
   "metadata": {},
   "outputs": [],
   "source": [
    "weights = 1. / df[\"pixel count\"]\n",
    "weights"
   ]
  },
  {
   "cell_type": "markdown",
   "metadata": {},
   "source": [
    "## Expand GT pixels to 3x3 and make the masks boolean"
   ]
  },
  {
   "cell_type": "code",
   "execution_count": null,
   "metadata": {},
   "outputs": [],
   "source": [
    "maskPaths = sorted(list(paths.list_images(\"/data/jantina/CoralNet/dataset/small/masks\")))\n",
    "startTime = time.time()\n",
    "\n",
    "for masks in maskPaths:\n",
    "    mask = io.imread(masks)\n",
    "    new_mask = expand_pixels(mask, masks)\n",
    "    maskPath = '/data/jantina/CoralNet/dataset/small/masks_3x3/' + masks.split(os.path.sep)[-1]\n",
    "    cv2.imwrite(maskPath, new_mask)\n",
    "    \n",
    "endTime = time.time()\n",
    "print(\"[INFO] total time taken to write the new masks: {:.2f}s\".format(endTime - startTime))"
   ]
  }
 ],
 "metadata": {
  "kernelspec": {
   "display_name": "Python 3 (ipykernel)",
   "language": "python",
   "name": "python3"
  },
  "language_info": {
   "codemirror_mode": {
    "name": "ipython",
    "version": 3
   },
   "file_extension": ".py",
   "mimetype": "text/x-python",
   "name": "python",
   "nbconvert_exporter": "python",
   "pygments_lexer": "ipython3",
   "version": "3.8.10"
  }
 },
 "nbformat": 4,
 "nbformat_minor": 4
}
