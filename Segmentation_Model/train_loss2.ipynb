{
 "cells": [
  {
   "cell_type": "markdown",
   "metadata": {},
   "source": [
    "# Training the model on images"
   ]
  },
  {
   "cell_type": "markdown",
   "metadata": {},
   "source": [
    "## Imports"
   ]
  },
  {
   "cell_type": "code",
   "execution_count": 1,
   "metadata": {},
   "outputs": [],
   "source": [
    "# load custom scripts\n",
    "from dataset import Dataset\n",
    "from utils import *\n",
    "import config \n",
    "\n",
    "# import the necessary packages\n",
    "from albumentations.pytorch import ToTensorV2\n",
    "from imutils import paths\n",
    "from skimage import io\n",
    "from sklearn.model_selection import train_test_split\n",
    "from torch import optim\n",
    "from torch.nn import CrossEntropyLoss \n",
    "from torch.optim import Adam\n",
    "from torch.utils.data import DataLoader, WeightedRandomSampler\n",
    "from torchvision import transforms, models\n",
    "from tqdm import tqdm\n",
    "from utils import EarlyStopping\n",
    "import albumentations as A\n",
    "import cv2\n",
    "import matplotlib.pyplot as plt\n",
    "import numpy as np\n",
    "import pandas as pd\n",
    "import plotly.express as px\n",
    "import plotly.graph_objects as go\n",
    "import random\n",
    "import segmentation_models_pytorch as smp\n",
    "import time\n",
    "import torch\n",
    "import torchmetrics\n",
    "import os"
   ]
  },
  {
   "cell_type": "markdown",
   "metadata": {},
   "source": [
    "## Controlling sources of randomness"
   ]
  },
  {
   "cell_type": "code",
   "execution_count": 2,
   "metadata": {},
   "outputs": [],
   "source": [
    "# Set seed\n",
    "SEED = 42\n",
    "seed_all(SEED)"
   ]
  },
  {
   "cell_type": "markdown",
   "metadata": {},
   "source": [
    "## Setup CUDA"
   ]
  },
  {
   "cell_type": "code",
   "execution_count": 3,
   "metadata": {},
   "outputs": [
    {
     "name": "stdout",
     "output_type": "stream",
     "text": [
      "Is CUDA supported by this system? True\n",
      "[INFO] CUDA version: 11.1\n",
      "[INFO] ID of current CUDA device:0\n",
      "[INFO] Name of current CUDA device:NVIDIA GeForce RTX 3090\n"
     ]
    }
   ],
   "source": [
    "print(f\"Is CUDA supported by this system? {torch.cuda.is_available()}\")\n",
    "print(f\"[INFO] CUDA version: {torch.version.cuda}\")\n",
    "  \n",
    "# storing ID of current CUDA device\n",
    "cuda_id = torch.cuda.current_device()\n",
    "print(f\"[INFO] ID of current CUDA device:{torch.cuda.current_device()}\")\n",
    "        \n",
    "print(f\"[INFO] Name of current CUDA device:{torch.cuda.get_device_name(cuda_id)}\")\n",
    "\n",
    "DEVICE = torch.device(\"cuda\" if torch.cuda.is_available() else \"cpu\")"
   ]
  },
  {
   "cell_type": "markdown",
   "metadata": {},
   "source": [
    "## Load images"
   ]
  },
  {
   "cell_type": "code",
   "execution_count": 4,
   "metadata": {},
   "outputs": [
    {
     "name": "stdout",
     "output_type": "stream",
     "text": [
      "[INFO] saving testing image paths...\n"
     ]
    }
   ],
   "source": [
    "# load the image and label filepaths in a sorted manner\n",
    "imagePaths = sorted(list(paths.list_images(config.IMAGE_DATASET_PATH)))\n",
    "labelPaths = sorted(list(paths.list_images(config.LABEL_DATASET_PATH)))\n",
    "\n",
    "trainImages, testImages, trainLabels, testLabels = train_test_split(imagePaths,\n",
    "                                                                    labelPaths,\n",
    "                                                                    test_size=0.2,\n",
    "                                                                    train_size=0.8,\n",
    "                                                                    random_state=SEED)\n",
    "testImages, valImages, testLabels, valLabels = train_test_split(testImages, \n",
    "                                                                  testLabels,\n",
    "                                                                  test_size=0.5,\n",
    "                                                                  train_size=0.5,\n",
    "                                                                  random_state=SEED)\n",
    "\n",
    "# get the masks corresponding to the labels\n",
    "trainMasks = [s.replace('labels', 'masks_9x9') for s in trainLabels]\n",
    "valMasks = [s.replace('labels', 'masks_9x9') for s in valLabels]\n",
    "\n",
    "# save testing images to disk\n",
    "print(\"[INFO] saving testing image paths...\")\n",
    "f = open(config.TEST_PATHS, \"w\")\n",
    "f.write(\"\\n\".join(testImages))\n",
    "f.close()"
   ]
  },
  {
   "cell_type": "markdown",
   "metadata": {},
   "source": [
    "## Example"
   ]
  },
  {
   "cell_type": "code",
   "execution_count": 5,
   "metadata": {},
   "outputs": [],
   "source": [
    "# new label classes\n",
    "classes = {1: 'hard coral',\n",
    "           2: 'hard coral bleached',\n",
    "           3: 'dead coral',\n",
    "           4: 'other invertebrates',\n",
    "           5: 'sand/rubble',\n",
    "           6: 'other',\n",
    "           7: 'algae',\n",
    "           8: 'seagrass',\n",
    "           9: 'unknown',\n",
    "           0: 'no label'\n",
    "          }"
   ]
  },
  {
   "cell_type": "code",
   "execution_count": 6,
   "metadata": {},
   "outputs": [
    {
     "name": "stdout",
     "output_type": "stream",
     "text": [
      "Image name: (1153).JPG\n",
      "Image dtype: uint8, Label dtype: uint8\n"
     ]
    }
   ],
   "source": [
    "a=random.randrange(len(trainImages))\n",
    "image = io.imread(trainImages[a])\n",
    "label = io.imread(trainLabels[a])\n",
    "mask = io.imread(trainMasks[a])\n",
    "\n",
    "print(f\"Image name: {trainImages[a].split('/')[-1]}\")\n",
    "print(f\"Image dtype: {image.dtype}, Label dtype: {label.dtype}\")"
   ]
  },
  {
   "cell_type": "code",
   "execution_count": 7,
   "metadata": {},
   "outputs": [
    {
     "data": {
      "image/png": "[encoded data removed]",
      "text/plain": [
       "<Figure size 1080x1080 with 3 Axes>"
      ]
     },
     "metadata": {
      "needs_background": "light"
     },
     "output_type": "display_data"
    }
   ],
   "source": [
    "fig, ax = plt.subplots(ncols=2, figsize=(15, 15))\n",
    "ax[0].imshow(image)\n",
    "ax[0].scatter(np.nonzero(mask)[1], np.nonzero(mask)[0], s=20, marker='.', c='r')\n",
    "\n",
    "cax = ax[1].imshow(label, cmap = plt.cm.get_cmap('tab20', 10), vmin=0, vmax=9)\n",
    "ax[1].scatter(np.nonzero(mask)[1], np.nonzero(mask)[0], s=20, marker='.', c='r')\n",
    "\n",
    "cbar = fig.colorbar(cax, ticks=list(classes.keys()), fraction=0.035, pad=0.05)\n",
    "cbar.ax.set_yticklabels(list(classes.values()))\n",
    "plt.show()"
   ]
  },
  {
   "cell_type": "markdown",
   "metadata": {},
   "source": [
    "## Transforms"
   ]
  },
  {
   "cell_type": "code",
   "execution_count": 8,
   "metadata": {},
   "outputs": [],
   "source": [
    "train_transform = A.Compose([\n",
    "    A.RandomResizedCrop(width=128, height=128, scale=(0.08, 1.0), ratio=(0.75, 1.33), interpolation=cv2.INTER_NEAREST),    \n",
    "    A.HorizontalFlip(p=0.5),              \n",
    "    A.RandomRotate90(p=0.5),\n",
    "    A.ColorJitter(brightness=0.1, contrast=0.1, saturation=0.1, hue=0.1, p=0.5),\n",
    "    A.GaussianBlur(blur_limit=(3, 7), sigma_limit=0, always_apply=False, p=0.5),\n",
    "    A.CLAHE(p=0.8),\n",
    "    A.RandomBrightnessContrast(p=0.8),    \n",
    "    A.RandomGamma(p=0.8),\n",
    "    A.Normalize(mean=(0.485, 0.456, 0.406), std=(0.229, 0.224, 0.225)),\n",
    "    ToTensorV2()],\n",
    "    additional_targets={'mask2': 'mask'}\n",
    ")"
   ]
  },
  {
   "cell_type": "code",
   "execution_count": 9,
   "metadata": {},
   "outputs": [],
   "source": [
    "val_transform = A.Compose([\n",
    "    A.RandomResizedCrop(width=128, height=128, scale=(0.08, 1.0), ratio=(0.75, 1.33), interpolation=cv2.INTER_NEAREST),    \n",
    "    A.Normalize(mean=(0.485, 0.456, 0.406), std=(0.229, 0.224, 0.225)),\n",
    "    ToTensorV2()],\n",
    "    additional_targets={'mask2': 'mask'}\n",
    ")"
   ]
  },
  {
   "cell_type": "code",
   "execution_count": 10,
   "metadata": {},
   "outputs": [],
   "source": [
    "image = io.imread(trainImages[a])\n",
    "label = io.imread(trainLabels[a])\n",
    "mask = io.imread(trainMasks[a])\n",
    "transformed = train_transform(image=image, mask=label, mask2=mask)\n",
    "image = transformed[\"image\"]\n",
    "label = transformed[\"mask\"]\n",
    "mask = transformed[\"mask2\"]\n",
    "            \n",
    "# convert label and mask to long tensor\n",
    "label = label.type(torch.LongTensor)\n",
    "mask = mask.type(torch.LongTensor)"
   ]
  },
  {
   "cell_type": "code",
   "execution_count": 11,
   "metadata": {},
   "outputs": [
    {
     "name": "stderr",
     "output_type": "stream",
     "text": [
      "/tmp/ipykernel_4088907/1473477371.py:10: MatplotlibDeprecationWarning:\n",
      "\n",
      "Starting from Matplotlib 3.6, colorbar() will steal space from the mappable's axes, rather than from the current axes, to place the colorbar.  To silence this warning, explicitly pass the 'ax' argument to colorbar().\n",
      "\n"
     ]
    },
    {
     "data": {
      "image/png": "[encoded data removed]",
      "text/plain": [
       "<Figure size 720x720 with 3 Axes>"
      ]
     },
     "metadata": {
      "needs_background": "light"
     },
     "output_type": "display_data"
    }
   ],
   "source": [
    "fig, ax = plt.subplots(ncols=2, figsize=(10, 10))\n",
    "ax[0].imshow(unnormalize(image).permute(1, 2, 0))\n",
    "ax[0].scatter(np.nonzero(mask)[:,1], np.nonzero(mask)[:,0], s=20, marker='.', c='r')\n",
    "\n",
    "ax[1].imshow(label,\n",
    "             cmap = plt.cm.get_cmap('tab20', 10), \n",
    "             vmin=0, vmax=9)\n",
    "ax[1].scatter(np.nonzero(mask)[:,1], np.nonzero(mask)[:,0], s=20, marker='.', c='r')\n",
    "\n",
    "cbar = fig.colorbar(cax, ticks=list(classes.keys()), fraction=0.035)\n",
    "cbar.ax.set_yticklabels(list(classes.values()))\n",
    "plt.show()"
   ]
  },
  {
   "cell_type": "markdown",
   "metadata": {},
   "source": [
    "## Create dataset"
   ]
  },
  {
   "cell_type": "code",
   "execution_count": 12,
   "metadata": {},
   "outputs": [
    {
     "name": "stdout",
     "output_type": "stream",
     "text": [
      "[INFO] found 6829 examples in the training set\n",
      "[INFO] found 854 examples in the validation set\n",
      "[INFO] found 854 examples in the test set\n",
      "[INFO] total time taken to load the data: 0.00s\n"
     ]
    }
   ],
   "source": [
    "# create the train and validation datasets\n",
    "startTime = time.time()\n",
    "trainDS = Dataset(imagePaths=trainImages, labelPaths = trainLabels, maskPaths=trainMasks, transform=train_transform)\n",
    "valDS = Dataset(imagePaths=valImages, labelPaths = valLabels, maskPaths=valMasks, transform=val_transform)\n",
    "print(f\"[INFO] found {len(trainDS)} examples in the training set\")\n",
    "print(f\"[INFO] found {len(valDS)} examples in the validation set\")\n",
    "print(f\"[INFO] found {len(testImages)} examples in the test set\")\n",
    "endTime = time.time()\n",
    "print(\"[INFO] total time taken to load the data: {:.2f}s\".format(endTime - startTime))"
   ]
  },
  {
   "cell_type": "code",
   "execution_count": 13,
   "metadata": {},
   "outputs": [
    {
     "name": "stdout",
     "output_type": "stream",
     "text": [
      "Feature shape: torch.Size([3, 128, 128]), Feature type: torch.float32\n",
      "Label shape: torch.Size([128, 128]), Label type: torch.int64\n",
      "Mask shape: torch.Size([128, 128]), Mask type: torch.int64\n"
     ]
    }
   ],
   "source": [
    "sample = valDS[0]\n",
    "print(f\"Feature shape: {sample[0].shape}, Feature type: {sample[0].dtype}\")\n",
    "print(f\"Label shape: {sample[1].shape}, Label type: {sample[1].dtype}\")\n",
    "print(f\"Mask shape: {sample[2].shape}, Mask type: {sample[2].dtype}\")"
   ]
  },
  {
   "cell_type": "code",
   "execution_count": 14,
   "metadata": {},
   "outputs": [],
   "source": [
    "# create the training and validation data loaders\n",
    "trainLoader = DataLoader(trainDS, shuffle=True, \n",
    "                         batch_size=config.BATCH_SIZE, \n",
    "                         pin_memory=config.PIN_MEMORY, \n",
    "                         num_workers=os.cpu_count(),\n",
    "                         persistent_workers=True,\n",
    "                         worker_init_fn=seed_worker)\n",
    "\n",
    "valLoader = DataLoader(valDS, shuffle=False, \n",
    "                       batch_size=config.BATCH_SIZE, \n",
    "                       pin_memory=config.PIN_MEMORY, \n",
    "                       num_workers=os.cpu_count(),\n",
    "                       persistent_workers=True,\n",
    "                       worker_init_fn=seed_worker)"
   ]
  },
  {
   "cell_type": "code",
   "execution_count": 15,
   "metadata": {},
   "outputs": [
    {
     "name": "stdout",
     "output_type": "stream",
     "text": [
      "[INFO] batch_size:700\n",
      "[INFO] num_workers:32\n"
     ]
    }
   ],
   "source": [
    "print(f\"[INFO] batch_size:{config.BATCH_SIZE}\")\n",
    "print(f\"[INFO] num_workers:{os.cpu_count()}\")"
   ]
  },
  {
   "cell_type": "markdown",
   "metadata": {},
   "source": [
    "## Model initialization"
   ]
  },
  {
   "cell_type": "code",
   "execution_count": 16,
   "metadata": {},
   "outputs": [],
   "source": [
    "# import a pretrained model\n",
    "model = smp.Unet(\n",
    "    encoder_name=\"resnet18\",\n",
    "    encoder_weights=\"imagenet\",\n",
    "    in_channels=3,      \n",
    "    classes=len(classes)\n",
    ")"
   ]
  },
  {
   "cell_type": "code",
   "execution_count": 17,
   "metadata": {},
   "outputs": [],
   "source": [
    "# initialize model\n",
    "unet = model.to(config.DEVICE)\n",
    "\n",
    "# initialize loss function\n",
    "lossFunc = CrossEntropyLoss(ignore_index=0)\n",
    "\n",
    "# initialize optimizer\n",
    "opt = Adam(unet.parameters(), lr=config.INIT_LR)\n",
    "\n",
    "# calculate steps per epoch for training and validation set\n",
    "trainSteps = len(trainDS) // config.BATCH_SIZE\n",
    "valSteps = len(valDS) // config.BATCH_SIZE\n",
    "\n",
    "# initialize a dictionary to store training history\n",
    "H = {\"train_loss\": [], \"validation_loss\": []}"
   ]
  },
  {
   "cell_type": "code",
   "execution_count": 18,
   "metadata": {},
   "outputs": [],
   "source": [
    "# initialize metrics\n",
    "acc = torchmetrics.Accuracy(ignore_index=0)\n",
    "\n",
    "# move the metrics to device\n",
    "acc.to(config.DEVICE)\n",
    "\n",
    "# initialize a dictionary to store metrics history\n",
    "metrics = {\"train_accuracyGT\": [], \"val_accuracyGT\": [],\n",
    "          \"train_accuracyAGT\": [], \"val_accuracyAGT\": [],\n",
    "          \"train_accuracyAGT2\": [], \"val_accuracyAGT2\": []}"
   ]
  },
  {
   "cell_type": "code",
   "execution_count": 19,
   "metadata": {},
   "outputs": [],
   "source": [
    "# initialize the early_stopping object\n",
    "early_stopping = EarlyStopping(patience=10, verbose=True, \n",
    "                               path=\"/data/jantina/CoralNet/dataset/output/checkpoint.pt\")"
   ]
  },
  {
   "cell_type": "code",
   "execution_count": 20,
   "metadata": {},
   "outputs": [],
   "source": [
    "#initialize scheduler\n",
    "scheduler = optim.lr_scheduler.ReduceLROnPlateau(opt, \"min\", patience=4, verbose=1)\n",
    "grad_scaler = torch.cuda.amp.GradScaler(enabled=False)"
   ]
  },
  {
   "cell_type": "markdown",
   "metadata": {},
   "source": [
    "## Training loop"
   ]
  },
  {
   "cell_type": "code",
   "execution_count": 21,
   "metadata": {
    "scrolled": true
   },
   "outputs": [
    {
     "name": "stdout",
     "output_type": "stream",
     "text": [
      "[INFO] training the network...\n"
     ]
    },
    {
     "name": "stderr",
     "output_type": "stream",
     "text": [
      "  1%|█▎                                                                                                                           | 1/100 [06:16<10:20:29, 376.05s/it]"
     ]
    },
    {
     "name": "stdout",
     "output_type": "stream",
     "text": [
      "Validation loss decreased (inf --> 142676678.000000).  Saving model ...\n",
      "[INFO] EPOCH: 1/100\n",
      "Train loss: 0.711903, Validation loss: 142676678.0000\n",
      "GT Train Accuracy: 0.2312\n",
      "AGT Train Accuracy: 0.4802\n",
      "AGT 2 Train Accuracy: 0.2915\n",
      "GT Val Accuracy: 0.3275\n",
      "AGT Val Accuracy: 0.2947\n",
      "AGT 2 Val Accuracy: 0.2935\n"
     ]
    },
    {
     "name": "stderr",
     "output_type": "stream",
     "text": [
      "\r",
      "  2%|██▌                                                                                                                          | 2/100 [12:23<10:06:22, 371.25s/it]"
     ]
    },
    {
     "name": "stdout",
     "output_type": "stream",
     "text": [
      "Validation loss decreased (142676678.000000 --> 23589.909180).  Saving model ...\n",
      "[INFO] EPOCH: 2/100\n",
      "Train loss: 0.647027, Validation loss: 23589.9092\n",
      "GT Train Accuracy: 0.2488\n",
      "AGT Train Accuracy: 0.3437\n",
      "AGT 2 Train Accuracy: 0.3423\n",
      "GT Val Accuracy: 0.3477\n",
      "AGT Val Accuracy: 0.3010\n",
      "AGT 2 Val Accuracy: 0.2994\n"
     ]
    },
    {
     "name": "stderr",
     "output_type": "stream",
     "text": [
      "\r",
      "  4%|█████                                                                                                                         | 4/100 [24:38<9:49:46, 368.61s/it]"
     ]
    },
    {
     "name": "stdout",
     "output_type": "stream",
     "text": [
      "Validation loss decreased (378.451725 --> 3.687482).  Saving model ...\n",
      "[INFO] EPOCH: 4/100\n",
      "Train loss: 0.631150, Validation loss: 3.6875\n",
      "GT Train Accuracy: 0.3550\n",
      "AGT Train Accuracy: 0.3828\n",
      "AGT 2 Train Accuracy: 0.3813\n",
      "GT Val Accuracy: 0.3308\n",
      "AGT Val Accuracy: 0.3968\n",
      "AGT 2 Val Accuracy: 0.3935\n"
     ]
    },
    {
     "name": "stderr",
     "output_type": "stream",
     "text": [
      "\r",
      "  5%|██████▎                                                                                                                       | 5/100 [30:28<9:33:26, 362.17s/it]"
     ]
    },
    {
     "name": "stdout",
     "output_type": "stream",
     "text": [
      "Validation loss decreased (3.687482 --> 2.279547).  Saving model ...\n",
      "[INFO] EPOCH: 5/100\n",
      "Train loss: 0.627340, Validation loss: 2.2795\n",
      "GT Train Accuracy: 0.3433\n",
      "AGT Train Accuracy: 0.4070\n",
      "AGT 2 Train Accuracy: 0.4057\n",
      "GT Val Accuracy: 0.3737\n",
      "AGT Val Accuracy: 0.4349\n",
      "AGT 2 Val Accuracy: 0.4331\n"
     ]
    },
    {
     "name": "stderr",
     "output_type": "stream",
     "text": [
      "\r",
      "  6%|███████▌                                                                                                                      | 6/100 [36:21<9:22:06, 358.79s/it]"
     ]
    },
    {
     "name": "stdout",
     "output_type": "stream",
     "text": [
      "EarlyStopping counter: 1 out of 10\n",
      "[INFO] EPOCH: 6/100\n",
      "Train loss: 0.624008, Validation loss: 2.2833\n",
      "GT Train Accuracy: 0.4116\n",
      "AGT Train Accuracy: 0.4432\n",
      "AGT 2 Train Accuracy: 0.4414\n",
      "GT Val Accuracy: 0.3904\n",
      "AGT Val Accuracy: 0.4391\n",
      "AGT 2 Val Accuracy: 0.4382\n"
     ]
    },
    {
     "name": "stderr",
     "output_type": "stream",
     "text": [
      "\r",
      "  7%|████████▊                                                                                                                     | 7/100 [42:12<9:12:29, 356.45s/it]"
     ]
    },
    {
     "name": "stdout",
     "output_type": "stream",
     "text": [
      "Validation loss decreased (2.279547 --> 2.268233).  Saving model ...\n",
      "[INFO] EPOCH: 7/100\n",
      "Train loss: 0.624188, Validation loss: 2.2682\n",
      "GT Train Accuracy: 0.4364\n",
      "AGT Train Accuracy: 0.4492\n",
      "AGT 2 Train Accuracy: 0.4476\n",
      "GT Val Accuracy: 0.3952\n",
      "AGT Val Accuracy: 0.4506\n",
      "AGT 2 Val Accuracy: 0.4492\n"
     ]
    },
    {
     "name": "stderr",
     "output_type": "stream",
     "text": [
      "\r",
      "  8%|██████████                                                                                                                    | 8/100 [48:06<9:05:16, 355.62s/it]"
     ]
    },
    {
     "name": "stdout",
     "output_type": "stream",
     "text": [
      "Validation loss decreased (2.268233 --> 2.256774).  Saving model ...\n",
      "[INFO] EPOCH: 8/100\n",
      "Train loss: 0.624605, Validation loss: 2.2568\n",
      "GT Train Accuracy: 0.4154\n",
      "AGT Train Accuracy: 0.4523\n",
      "AGT 2 Train Accuracy: 0.4507\n",
      "GT Val Accuracy: 0.4206\n",
      "AGT Val Accuracy: 0.4513\n",
      "AGT 2 Val Accuracy: 0.4499\n"
     ]
    },
    {
     "name": "stderr",
     "output_type": "stream",
     "text": [
      "\r",
      "  9%|███████████▎                                                                                                                  | 9/100 [53:57<8:57:21, 354.30s/it]"
     ]
    },
    {
     "name": "stdout",
     "output_type": "stream",
     "text": [
      "Validation loss decreased (2.256774 --> 2.251703).  Saving model ...\n",
      "[INFO] EPOCH: 9/100\n",
      "Train loss: 0.618979, Validation loss: 2.2517\n",
      "GT Train Accuracy: 0.4534\n",
      "AGT Train Accuracy: 0.4695\n",
      "AGT 2 Train Accuracy: 0.4679\n",
      "GT Val Accuracy: 0.4758\n",
      "AGT Val Accuracy: 0.5069\n",
      "AGT 2 Val Accuracy: 0.5060\n"
     ]
    },
    {
     "name": "stderr",
     "output_type": "stream",
     "text": [
      "\r",
      " 10%|████████████▌                                                                                                                | 10/100 [59:46<8:48:56, 352.63s/it]"
     ]
    },
    {
     "name": "stdout",
     "output_type": "stream",
     "text": [
      "Validation loss decreased (2.251703 --> 2.235974).  Saving model ...\n",
      "[INFO] EPOCH: 10/100\n",
      "Train loss: 0.619210, Validation loss: 2.2360\n",
      "GT Train Accuracy: 0.4264\n",
      "AGT Train Accuracy: 0.4614\n",
      "AGT 2 Train Accuracy: 0.4597\n",
      "GT Val Accuracy: 0.4633\n",
      "AGT Val Accuracy: 0.4804\n",
      "AGT 2 Val Accuracy: 0.4795\n",
      "Epoch    21: reducing learning rate of group 0 to 7.0000e-03.\n"
     ]
    },
    {
     "name": "stderr",
     "output_type": "stream",
     "text": [
      "\r",
      " 11%|█████████████▌                                                                                                             | 11/100 [1:05:41<8:43:49, 353.14s/it]"
     ]
    },
    {
     "name": "stdout",
     "output_type": "stream",
     "text": [
      "EarlyStopping counter: 1 out of 10\n",
      "[INFO] EPOCH: 11/100\n",
      "Train loss: 0.625319, Validation loss: 2.2621\n",
      "GT Train Accuracy: 0.4211\n",
      "AGT Train Accuracy: 0.4647\n",
      "AGT 2 Train Accuracy: 0.4629\n",
      "GT Val Accuracy: 0.5053\n",
      "AGT Val Accuracy: 0.5018\n",
      "AGT 2 Val Accuracy: 0.5009\n"
     ]
    },
    {
     "name": "stderr",
     "output_type": "stream",
     "text": [
      "\r",
      " 12%|██████████████▊                                                                                                            | 12/100 [1:11:34<8:38:06, 353.26s/it]"
     ]
    },
    {
     "name": "stdout",
     "output_type": "stream",
     "text": [
      "Validation loss decreased (2.235974 --> 2.222912).  Saving model ...\n",
      "[INFO] EPOCH: 12/100\n",
      "Train loss: 0.622327, Validation loss: 2.2229\n",
      "GT Train Accuracy: 0.4849\n",
      "AGT Train Accuracy: 0.4877\n",
      "AGT 2 Train Accuracy: 0.4860\n",
      "GT Val Accuracy: 0.4925\n",
      "AGT Val Accuracy: 0.5147\n",
      "AGT 2 Val Accuracy: 0.5132\n"
     ]
    },
    {
     "name": "stderr",
     "output_type": "stream",
     "text": [
      "\r",
      " 13%|███████████████▉                                                                                                           | 13/100 [1:17:32<8:34:02, 354.51s/it]"
     ]
    },
    {
     "name": "stdout",
     "output_type": "stream",
     "text": [
      "EarlyStopping counter: 1 out of 10\n",
      "[INFO] EPOCH: 13/100\n",
      "Train loss: 0.618303, Validation loss: 2.2393\n",
      "GT Train Accuracy: 0.4528\n",
      "AGT Train Accuracy: 0.4841\n",
      "AGT 2 Train Accuracy: 0.4822\n",
      "GT Val Accuracy: 0.4870\n",
      "AGT Val Accuracy: 0.4931\n",
      "AGT 2 Val Accuracy: 0.4916\n"
     ]
    },
    {
     "name": "stderr",
     "output_type": "stream",
     "text": [
      "\r",
      " 14%|█████████████████▏                                                                                                         | 14/100 [1:23:21<8:25:49, 352.90s/it]"
     ]
    },
    {
     "name": "stdout",
     "output_type": "stream",
     "text": [
      "Validation loss decreased (2.222912 --> 2.217029).  Saving model ...\n",
      "[INFO] EPOCH: 14/100\n",
      "Train loss: 0.614097, Validation loss: 2.2170\n",
      "GT Train Accuracy: 0.4673\n",
      "AGT Train Accuracy: 0.4916\n",
      "AGT 2 Train Accuracy: 0.4901\n",
      "GT Val Accuracy: 0.5061\n",
      "AGT Val Accuracy: 0.5265\n",
      "AGT 2 Val Accuracy: 0.5250\n"
     ]
    },
    {
     "name": "stderr",
     "output_type": "stream",
     "text": [
      "\r",
      " 15%|██████████████████▍                                                                                                        | 15/100 [1:29:17<8:21:21, 353.91s/it]"
     ]
    },
    {
     "name": "stdout",
     "output_type": "stream",
     "text": [
      "EarlyStopping counter: 1 out of 10\n",
      "[INFO] EPOCH: 15/100\n",
      "Train loss: 0.615578, Validation loss: 2.2335\n",
      "GT Train Accuracy: 0.4813\n",
      "AGT Train Accuracy: 0.5042\n",
      "AGT 2 Train Accuracy: 0.5027\n",
      "GT Val Accuracy: 0.4735\n",
      "AGT Val Accuracy: 0.5297\n",
      "AGT 2 Val Accuracy: 0.5288\n"
     ]
    },
    {
     "name": "stderr",
     "output_type": "stream",
     "text": [
      "\r",
      " 16%|███████████████████▋                                                                                                       | 16/100 [1:35:09<8:14:50, 353.46s/it]"
     ]
    },
    {
     "name": "stdout",
     "output_type": "stream",
     "text": [
      "EarlyStopping counter: 2 out of 10\n",
      "[INFO] EPOCH: 16/100\n",
      "Train loss: 0.616610, Validation loss: 2.2217\n",
      "GT Train Accuracy: 0.4824\n",
      "AGT Train Accuracy: 0.5056\n",
      "AGT 2 Train Accuracy: 0.5039\n",
      "GT Val Accuracy: 0.4867\n",
      "AGT Val Accuracy: 0.5124\n",
      "AGT 2 Val Accuracy: 0.5108\n",
      "Epoch    33: reducing learning rate of group 0 to 7.0000e-04.\n"
     ]
    },
    {
     "name": "stderr",
     "output_type": "stream",
     "text": [
      "\r",
      " 17%|████████████████████▉                                                                                                      | 17/100 [1:40:53<8:04:44, 350.42s/it]"
     ]
    },
    {
     "name": "stdout",
     "output_type": "stream",
     "text": [
      "EarlyStopping counter: 3 out of 10\n",
      "[INFO] EPOCH: 17/100\n",
      "Train loss: 0.614654, Validation loss: 2.2330\n",
      "GT Train Accuracy: 0.4718\n",
      "AGT Train Accuracy: 0.5038\n",
      "AGT 2 Train Accuracy: 0.5021\n",
      "GT Val Accuracy: 0.4875\n",
      "AGT Val Accuracy: 0.5325\n",
      "AGT 2 Val Accuracy: 0.5316\n"
     ]
    },
    {
     "name": "stderr",
     "output_type": "stream",
     "text": [
      "\r",
      " 18%|██████████████████████▏                                                                                                    | 18/100 [1:46:34<7:55:03, 347.60s/it]"
     ]
    },
    {
     "name": "stdout",
     "output_type": "stream",
     "text": [
      "EarlyStopping counter: 4 out of 10\n",
      "[INFO] EPOCH: 18/100\n",
      "Train loss: 0.614376, Validation loss: 2.2234\n",
      "GT Train Accuracy: 0.4731\n",
      "AGT Train Accuracy: 0.5054\n",
      "AGT 2 Train Accuracy: 0.5037\n",
      "GT Val Accuracy: 0.4678\n",
      "AGT Val Accuracy: 0.5250\n",
      "AGT 2 Val Accuracy: 0.5241\n"
     ]
    },
    {
     "name": "stderr",
     "output_type": "stream",
     "text": [
      "\r",
      " 19%|███████████████████████▎                                                                                                   | 19/100 [1:52:11<7:45:12, 344.60s/it]"
     ]
    },
    {
     "name": "stdout",
     "output_type": "stream",
     "text": [
      "Epoch    38: reducing learning rate of group 0 to 7.0000e-05.\n",
      "EarlyStopping counter: 5 out of 10\n",
      "[INFO] EPOCH: 19/100\n",
      "Train loss: 0.613033, Validation loss: 2.2277\n",
      "GT Train Accuracy: 0.4846\n",
      "AGT Train Accuracy: 0.5127\n",
      "AGT 2 Train Accuracy: 0.5112\n",
      "GT Val Accuracy: 0.4852\n",
      "AGT Val Accuracy: 0.5377\n",
      "AGT 2 Val Accuracy: 0.5361\n"
     ]
    },
    {
     "name": "stderr",
     "output_type": "stream",
     "text": [
      "\r",
      " 20%|████████████████████████▌                                                                                                  | 20/100 [1:57:54<7:38:36, 343.95s/it]"
     ]
    },
    {
     "name": "stdout",
     "output_type": "stream",
     "text": [
      "Validation loss decreased (2.217029 --> 2.208457).  Saving model ...\n",
      "[INFO] EPOCH: 20/100\n",
      "Train loss: 0.610655, Validation loss: 2.2085\n",
      "GT Train Accuracy: 0.4882\n",
      "AGT Train Accuracy: 0.5074\n",
      "AGT 2 Train Accuracy: 0.5058\n",
      "GT Val Accuracy: 0.5021\n",
      "AGT Val Accuracy: 0.5381\n",
      "AGT 2 Val Accuracy: 0.5353\n"
     ]
    },
    {
     "name": "stderr",
     "output_type": "stream",
     "text": [
      "\r",
      " 21%|█████████████████████████▊                                                                                                 | 21/100 [2:03:35<7:31:44, 343.09s/it]"
     ]
    },
    {
     "name": "stdout",
     "output_type": "stream",
     "text": [
      "EarlyStopping counter: 1 out of 10\n",
      "[INFO] EPOCH: 21/100\n",
      "Train loss: 0.614204, Validation loss: 2.2299\n",
      "GT Train Accuracy: 0.4830\n",
      "AGT Train Accuracy: 0.5074\n",
      "AGT 2 Train Accuracy: 0.5059\n",
      "GT Val Accuracy: 0.4930\n",
      "AGT Val Accuracy: 0.5365\n",
      "AGT 2 Val Accuracy: 0.5350\n",
      "Epoch    43: reducing learning rate of group 0 to 7.0000e-06.\n"
     ]
    },
    {
     "name": "stderr",
     "output_type": "stream",
     "text": [
      "\r",
      " 22%|███████████████████████████                                                                                                | 22/100 [2:09:18<7:25:59, 343.07s/it]"
     ]
    },
    {
     "name": "stdout",
     "output_type": "stream",
     "text": [
      "EarlyStopping counter: 2 out of 10\n",
      "[INFO] EPOCH: 22/100\n",
      "Train loss: 0.612999, Validation loss: 2.2170\n",
      "GT Train Accuracy: 0.4835\n",
      "AGT Train Accuracy: 0.5076\n",
      "AGT 2 Train Accuracy: 0.5061\n",
      "GT Val Accuracy: 0.5169\n",
      "AGT Val Accuracy: 0.5380\n",
      "AGT 2 Val Accuracy: 0.5371\n"
     ]
    },
    {
     "name": "stderr",
     "output_type": "stream",
     "text": [
      "\r",
      " 23%|████████████████████████████▎                                                                                              | 23/100 [2:14:57<7:18:39, 341.81s/it]"
     ]
    },
    {
     "name": "stdout",
     "output_type": "stream",
     "text": [
      "EarlyStopping counter: 3 out of 10\n",
      "[INFO] EPOCH: 23/100\n",
      "Train loss: 0.614261, Validation loss: 2.2277\n",
      "GT Train Accuracy: 0.4893\n",
      "AGT Train Accuracy: 0.5075\n",
      "AGT 2 Train Accuracy: 0.5057\n",
      "GT Val Accuracy: 0.5064\n",
      "AGT Val Accuracy: 0.5425\n",
      "AGT 2 Val Accuracy: 0.5409\n"
     ]
    },
    {
     "name": "stderr",
     "output_type": "stream",
     "text": [
      "\r",
      " 24%|█████████████████████████████▌                                                                                             | 24/100 [2:20:31<7:10:10, 339.61s/it]"
     ]
    },
    {
     "name": "stdout",
     "output_type": "stream",
     "text": [
      "Validation loss decreased (2.208457 --> 2.203622).  Saving model ...\n",
      "[INFO] EPOCH: 24/100\n",
      "Train loss: 0.613463, Validation loss: 2.2036\n",
      "GT Train Accuracy: 0.4875\n",
      "AGT Train Accuracy: 0.5112\n",
      "AGT 2 Train Accuracy: 0.5091\n",
      "GT Val Accuracy: 0.5183\n",
      "AGT Val Accuracy: 0.5402\n",
      "AGT 2 Val Accuracy: 0.5387\n"
     ]
    },
    {
     "name": "stderr",
     "output_type": "stream",
     "text": [
      "\r",
      " 25%|██████████████████████████████▊                                                                                            | 25/100 [2:26:13<7:05:15, 340.20s/it]"
     ]
    },
    {
     "name": "stdout",
     "output_type": "stream",
     "text": [
      "EarlyStopping counter: 1 out of 10\n",
      "[INFO] EPOCH: 25/100\n",
      "Train loss: 0.612119, Validation loss: 2.2191\n",
      "GT Train Accuracy: 0.4807\n",
      "AGT Train Accuracy: 0.5112\n",
      "AGT 2 Train Accuracy: 0.5093\n",
      "GT Val Accuracy: 0.5191\n",
      "AGT Val Accuracy: 0.5394\n",
      "AGT 2 Val Accuracy: 0.5378\n"
     ]
    },
    {
     "name": "stderr",
     "output_type": "stream",
     "text": [
      "\r",
      " 26%|███████████████████████████████▉                                                                                           | 26/100 [2:31:52<6:59:01, 339.76s/it]"
     ]
    },
    {
     "name": "stdout",
     "output_type": "stream",
     "text": [
      "EarlyStopping counter: 2 out of 10\n",
      "[INFO] EPOCH: 26/100\n",
      "Train loss: 0.616971, Validation loss: 2.2150\n",
      "GT Train Accuracy: 0.4835\n",
      "AGT Train Accuracy: 0.5085\n",
      "AGT 2 Train Accuracy: 0.5069\n",
      "GT Val Accuracy: 0.5303\n",
      "AGT Val Accuracy: 0.5399\n",
      "AGT 2 Val Accuracy: 0.5377\n",
      "Epoch    53: reducing learning rate of group 0 to 7.0000e-07.\n"
     ]
    },
    {
     "name": "stderr",
     "output_type": "stream",
     "text": [
      "\r",
      " 27%|█████████████████████████████████▏                                                                                         | 27/100 [2:37:34<6:54:17, 340.52s/it]"
     ]
    },
    {
     "name": "stdout",
     "output_type": "stream",
     "text": [
      "EarlyStopping counter: 3 out of 10\n",
      "[INFO] EPOCH: 27/100\n",
      "Train loss: 0.615212, Validation loss: 2.2135\n",
      "GT Train Accuracy: 0.4860\n",
      "AGT Train Accuracy: 0.5100\n",
      "AGT 2 Train Accuracy: 0.5088\n",
      "GT Val Accuracy: 0.5112\n",
      "AGT Val Accuracy: 0.5402\n",
      "AGT 2 Val Accuracy: 0.5387\n"
     ]
    },
    {
     "name": "stderr",
     "output_type": "stream",
     "text": [
      "\r",
      " 28%|██████████████████████████████████▍                                                                                        | 28/100 [2:43:17<6:49:29, 341.24s/it]"
     ]
    },
    {
     "name": "stdout",
     "output_type": "stream",
     "text": [
      "EarlyStopping counter: 4 out of 10\n",
      "[INFO] EPOCH: 28/100\n",
      "Train loss: 0.614517, Validation loss: 2.2193\n",
      "GT Train Accuracy: 0.4875\n",
      "AGT Train Accuracy: 0.5115\n",
      "AGT 2 Train Accuracy: 0.5099\n",
      "GT Val Accuracy: 0.5173\n",
      "AGT Val Accuracy: 0.5357\n",
      "AGT 2 Val Accuracy: 0.5347\n"
     ]
    },
    {
     "name": "stderr",
     "output_type": "stream",
     "text": [
      "\r",
      " 29%|███████████████████████████████████▋                                                                                       | 29/100 [2:48:55<6:42:46, 340.38s/it]"
     ]
    },
    {
     "name": "stdout",
     "output_type": "stream",
     "text": [
      "Epoch    58: reducing learning rate of group 0 to 7.0000e-08.\n",
      "EarlyStopping counter: 5 out of 10\n",
      "[INFO] EPOCH: 29/100\n",
      "Train loss: 0.620168, Validation loss: 2.2332\n",
      "GT Train Accuracy: 0.4877\n",
      "AGT Train Accuracy: 0.5087\n",
      "AGT 2 Train Accuracy: 0.5074\n",
      "GT Val Accuracy: 0.5032\n",
      "AGT Val Accuracy: 0.5409\n",
      "AGT 2 Val Accuracy: 0.5387\n"
     ]
    },
    {
     "name": "stderr",
     "output_type": "stream",
     "text": [
      "\r",
      " 30%|████████████████████████████████████▉                                                                                      | 30/100 [2:54:23<6:32:42, 336.61s/it]"
     ]
    },
    {
     "name": "stdout",
     "output_type": "stream",
     "text": [
      "Validation loss decreased (2.203622 --> 2.189570).  Saving model ...\n",
      "[INFO] EPOCH: 30/100\n",
      "Train loss: 0.610566, Validation loss: 2.1896\n",
      "GT Train Accuracy: 0.4899\n",
      "AGT Train Accuracy: 0.5109\n",
      "AGT 2 Train Accuracy: 0.5090\n",
      "GT Val Accuracy: 0.5050\n",
      "AGT Val Accuracy: 0.5392\n",
      "AGT 2 Val Accuracy: 0.5377\n"
     ]
    },
    {
     "name": "stderr",
     "output_type": "stream",
     "text": [
      "\r",
      " 31%|██████████████████████████████████████▏                                                                                    | 31/100 [3:00:04<6:28:28, 337.80s/it]"
     ]
    },
    {
     "name": "stdout",
     "output_type": "stream",
     "text": [
      "EarlyStopping counter: 1 out of 10\n",
      "[INFO] EPOCH: 31/100\n",
      "Train loss: 0.612078, Validation loss: 2.2112\n",
      "GT Train Accuracy: 0.4927\n",
      "AGT Train Accuracy: 0.5113\n",
      "AGT 2 Train Accuracy: 0.5096\n",
      "GT Val Accuracy: 0.5168\n",
      "AGT Val Accuracy: 0.5450\n",
      "AGT 2 Val Accuracy: 0.5434\n"
     ]
    },
    {
     "name": "stderr",
     "output_type": "stream",
     "text": [
      "\r",
      " 32%|███████████████████████████████████████▎                                                                                   | 32/100 [3:05:43<6:23:25, 338.31s/it]"
     ]
    },
    {
     "name": "stdout",
     "output_type": "stream",
     "text": [
      "EarlyStopping counter: 2 out of 10\n",
      "[INFO] EPOCH: 32/100\n",
      "Train loss: 0.612040, Validation loss: 2.2222\n",
      "GT Train Accuracy: 0.4737\n",
      "AGT Train Accuracy: 0.5126\n",
      "AGT 2 Train Accuracy: 0.5109\n",
      "GT Val Accuracy: 0.5086\n",
      "AGT Val Accuracy: 0.5449\n",
      "AGT 2 Val Accuracy: 0.5440\n",
      "Epoch    65: reducing learning rate of group 0 to 7.0000e-09.\n"
     ]
    },
    {
     "name": "stderr",
     "output_type": "stream",
     "text": [
      "\r",
      " 33%|████████████████████████████████████████▌                                                                                  | 33/100 [3:11:21<6:17:48, 338.34s/it]"
     ]
    },
    {
     "name": "stdout",
     "output_type": "stream",
     "text": [
      "EarlyStopping counter: 3 out of 10\n",
      "[INFO] EPOCH: 33/100\n",
      "Train loss: 0.615609, Validation loss: 2.2195\n",
      "GT Train Accuracy: 0.4858\n",
      "AGT Train Accuracy: 0.5103\n",
      "AGT 2 Train Accuracy: 0.5086\n",
      "GT Val Accuracy: 0.5145\n",
      "AGT Val Accuracy: 0.5382\n",
      "AGT 2 Val Accuracy: 0.5367\n"
     ]
    },
    {
     "name": "stderr",
     "output_type": "stream",
     "text": [
      "\r",
      " 34%|█████████████████████████████████████████▊                                                                                 | 34/100 [3:17:05<6:13:53, 339.91s/it]"
     ]
    },
    {
     "name": "stdout",
     "output_type": "stream",
     "text": [
      "EarlyStopping counter: 4 out of 10\n",
      "[INFO] EPOCH: 34/100\n",
      "Train loss: 0.615423, Validation loss: 2.2148\n",
      "GT Train Accuracy: 0.4875\n",
      "AGT Train Accuracy: 0.5105\n",
      "AGT 2 Train Accuracy: 0.5090\n",
      "GT Val Accuracy: 0.4874\n",
      "AGT Val Accuracy: 0.5332\n",
      "AGT 2 Val Accuracy: 0.5322\n"
     ]
    },
    {
     "name": "stderr",
     "output_type": "stream",
     "text": [
      "\r",
      " 35%|███████████████████████████████████████████                                                                                | 35/100 [3:22:47<6:08:46, 340.41s/it]"
     ]
    },
    {
     "name": "stdout",
     "output_type": "stream",
     "text": [
      "EarlyStopping counter: 5 out of 10\n",
      "[INFO] EPOCH: 35/100\n",
      "Train loss: 0.612897, Validation loss: 2.2351\n",
      "GT Train Accuracy: 0.4825\n",
      "AGT Train Accuracy: 0.5076\n",
      "AGT 2 Train Accuracy: 0.5061\n",
      "GT Val Accuracy: 0.5307\n",
      "AGT Val Accuracy: 0.5352\n",
      "AGT 2 Val Accuracy: 0.5343\n"
     ]
    },
    {
     "name": "stderr",
     "output_type": "stream",
     "text": [
      "\r",
      " 36%|████████████████████████████████████████████▎                                                                              | 36/100 [3:28:19<6:00:38, 338.11s/it]"
     ]
    },
    {
     "name": "stdout",
     "output_type": "stream",
     "text": [
      "EarlyStopping counter: 6 out of 10\n",
      "[INFO] EPOCH: 36/100\n",
      "Train loss: 0.609639, Validation loss: 2.2238\n",
      "GT Train Accuracy: 0.4944\n",
      "AGT Train Accuracy: 0.5104\n",
      "AGT 2 Train Accuracy: 0.5084\n",
      "GT Val Accuracy: 0.5004\n",
      "AGT Val Accuracy: 0.5293\n",
      "AGT 2 Val Accuracy: 0.5285\n"
     ]
    },
    {
     "name": "stderr",
     "output_type": "stream",
     "text": [
      "\r",
      " 37%|█████████████████████████████████████████████▌                                                                             | 37/100 [3:34:01<5:56:11, 339.23s/it]"
     ]
    },
    {
     "name": "stdout",
     "output_type": "stream",
     "text": [
      "EarlyStopping counter: 7 out of 10\n",
      "[INFO] EPOCH: 37/100\n",
      "Train loss: 0.609454, Validation loss: 2.2042\n",
      "GT Train Accuracy: 0.4895\n",
      "AGT Train Accuracy: 0.5124\n",
      "AGT 2 Train Accuracy: 0.5109\n",
      "GT Val Accuracy: 0.5102\n",
      "AGT Val Accuracy: 0.5325\n",
      "AGT 2 Val Accuracy: 0.5316\n"
     ]
    },
    {
     "name": "stderr",
     "output_type": "stream",
     "text": [
      "\r",
      " 38%|██████████████████████████████████████████████▋                                                                            | 38/100 [3:39:43<5:51:28, 340.14s/it]"
     ]
    },
    {
     "name": "stdout",
     "output_type": "stream",
     "text": [
      "EarlyStopping counter: 8 out of 10\n",
      "[INFO] EPOCH: 38/100\n",
      "Train loss: 0.615905, Validation loss: 2.2290\n",
      "GT Train Accuracy: 0.4789\n",
      "AGT Train Accuracy: 0.5081\n",
      "AGT 2 Train Accuracy: 0.5066\n",
      "GT Val Accuracy: 0.5152\n",
      "AGT Val Accuracy: 0.5362\n",
      "AGT 2 Val Accuracy: 0.5335\n"
     ]
    },
    {
     "name": "stderr",
     "output_type": "stream",
     "text": [
      "\r",
      " 39%|███████████████████████████████████████████████▉                                                                           | 39/100 [3:45:24<5:45:50, 340.17s/it]"
     ]
    },
    {
     "name": "stdout",
     "output_type": "stream",
     "text": [
      "EarlyStopping counter: 9 out of 10\n",
      "[INFO] EPOCH: 39/100\n",
      "Train loss: 0.613397, Validation loss: 2.2271\n",
      "GT Train Accuracy: 0.4829\n",
      "AGT Train Accuracy: 0.5113\n",
      "AGT 2 Train Accuracy: 0.5094\n",
      "GT Val Accuracy: 0.5227\n",
      "AGT Val Accuracy: 0.5357\n",
      "AGT 2 Val Accuracy: 0.5342\n"
     ]
    },
    {
     "name": "stderr",
     "output_type": "stream",
     "text": [
      "\r",
      " 39%|███████████████████████████████████████████████▉                                                                           | 39/100 [3:51:07<6:01:30, 355.59s/it]"
     ]
    },
    {
     "name": "stdout",
     "output_type": "stream",
     "text": [
      "EarlyStopping counter: 10 out of 10\n",
      "Early stopping\n",
      "[INFO] total time taken to train the model: 13867.85s\n"
     ]
    },
    {
     "name": "stderr",
     "output_type": "stream",
     "text": [
      "\n"
     ]
    }
   ],
   "source": [
    "# loop over epochs\n",
    "print(\"[INFO] training the network...\")\n",
    "startTime = time.time()\n",
    "for e in tqdm(range(config.NUM_EPOCHS)):\n",
    "    #fix seed\n",
    "    seed_all(SEED)\n",
    "    \n",
    "    ###################\n",
    "    # train the model #\n",
    "    ###################\n",
    "    unet.train() # prep model for training\n",
    "\n",
    "    # initialize the total training and validation loss\n",
    "    totalTrainLoss, totalValLoss = 0, 0\n",
    "    \n",
    "    # initialize the accuracy\n",
    "    accTrainGT = 0\n",
    "    accTrainAGT = 0\n",
    "    accTrainAGT2 = 0\n",
    "    accValGT = 0\n",
    "    accValAGT = 0\n",
    "    accValAGT2 = 0\n",
    "    countTrainGT = 0\n",
    "    countTrainAGT = 0\n",
    "    countTrainAGT2 = 0\n",
    "    countValGT = 0\n",
    "    countValAGT = 0\n",
    "    countValAGT2 = 0\n",
    "    \n",
    "    # loop over the training set\n",
    "    for batch, (data, target, mask) in enumerate(trainLoader, 1):\n",
    "        #fix seed\n",
    "        seed_all(SEED)\n",
    "        \n",
    "        # send the input to the device\n",
    "        (data, target, mask) = (data.to(config.DEVICE), target.to(config.DEVICE), mask.to(config.DEVICE))\n",
    "        \n",
    "        # perform a forward pass \n",
    "        pred = unet(data)\n",
    "\n",
    "        # initialize losses\n",
    "        lossTrainGT, lossTrainAGT = 0, 0\n",
    "        \n",
    "        # for each input\n",
    "        for i in range(len(target)):\n",
    "            if torch.sum(mask[i])!=0: # GT and AGT\n",
    "                # update the accuracy count\n",
    "                countTrainGT = countTrainGT + 1\n",
    "                countTrainAGT = countTrainAGT + 1\n",
    "                countTrainAGT2 = countTrainAGT2 + 1\n",
    "                # extract the GT label positions in the prediction\n",
    "                pixel_predGT = torch.mul(mask[i], torch.argmax(pred[i],dim=0))\n",
    "                # extract the GT label positions in the target\n",
    "                pixel_targGT = torch.mul(mask[i], target[i])\n",
    "                # metrics on current element\n",
    "                accTrainGT += acc(pixel_predGT, pixel_targGT).item()\n",
    "                # loss function\n",
    "                lossTrainGT += lossFunc(torch.unsqueeze(torch.mul(pred[i],mask[i]),0),\n",
    "                                        torch.unsqueeze(target[i],0))\n",
    "                \n",
    "                # extract the AGT label positions in the prediction\n",
    "                pixel_predAGT = torch.argmax(pred[i],dim=0)-pixel_predGT\n",
    "                # extract the AGT label positions in the target\n",
    "                pixel_targAGT = target[i]-pixel_targGT\n",
    "                # metrics on current element\n",
    "                accTrainAGT2 += acc(pixel_predAGT, pixel_targAGT).item()\n",
    "                if np.isnan(accuracyAGT(pixel_predAGT, pixel_targAGT).item()):\n",
    "                    countTrainAGT = countTrainAGT - 1\n",
    "                else:\n",
    "                    accTrainAGT += accuracyAGT(pixel_predAGT, pixel_targAGT).item()\n",
    "                # loss function\n",
    "                lossTrainAGT += lossFunc(torch.unsqueeze(pred[i]-torch.mul(pred[i],mask[i]),0), \n",
    "                                         torch.unsqueeze(target[i],0))\n",
    "                \n",
    "            else: # only AGT\n",
    "                # update the accuracy count\n",
    "                countTrainAGT = countTrainAGT + 1\n",
    "                countTrainAGT2 = countTrainAGT2 + 1\n",
    "                # metrics on current element\n",
    "                accTrainAGT2 += acc(torch.argmax(pred[i],dim=0), target[i]).item()\n",
    "                if np.isnan(accuracyAGT(torch.argmax(pred[i],dim=0), target[i]).item()):\n",
    "                    countTrainAGT = countTrainAGT - 1\n",
    "                else:\n",
    "                    accTrainAGT += accuracyAGT(torch.argmax(pred[i],dim=0), target[i]).item()\n",
    "                # loss function\n",
    "                lossTrainAGT += lossFunc(torch.unsqueeze(pred[i],0),\n",
    "                                         torch.unsqueeze(target[i],0))\n",
    "        \n",
    "        loss = (0.6*lossTrainGT/countTrainGT + 0.4*lossTrainAGT/countTrainAGT)\n",
    "        \n",
    "        # Gradient descent with optimizer:\n",
    "        opt.zero_grad(set_to_none=True)\n",
    "        grad_scaler.scale(loss).backward()\n",
    "        grad_scaler.step(opt)\n",
    "        grad_scaler.update()\n",
    "\n",
    "        # add the loss to the total training loss so far\n",
    "        totalTrainLoss += loss.item()\n",
    "        \n",
    "    ######################    \n",
    "    # validate the model #\n",
    "    ######################\n",
    "    # switch off autograd\n",
    "    with torch.no_grad():        \n",
    "        unet.eval() # prep model for evaluation\n",
    "        \n",
    "        # loop over the validation set\n",
    "        for data, target, mask in valLoader:\n",
    "            #fix seed\n",
    "            seed_all(SEED)\n",
    "            \n",
    "            # send the input to the device\n",
    "            (data, target, mask) = (data.to(config.DEVICE), target.to(config.DEVICE), mask.to(config.DEVICE))\n",
    "        \n",
    "            # make the predictions \n",
    "            pred = unet(data)\n",
    "\n",
    "            # initialize losses\n",
    "            lossValGT, lossValAGT = 0, 0\n",
    "            \n",
    "            # for each input\n",
    "            for i in range(len(target)):\n",
    "                if torch.sum(mask[i])!=0: # GT and AGT\n",
    "                    # update the accuracy count\n",
    "                    countValGT = countValGT + 1\n",
    "                    countValAGT = countValAGT + 1\n",
    "                    countValAGT2 = countValAGT2 + 1\n",
    "                    # extract the GT label positions in the prediction\n",
    "                    pixel_predGT = torch.mul(mask[i], torch.argmax(pred[i],dim=0))\n",
    "                    # extract the GT label positions in the target\n",
    "                    pixel_targGT = torch.mul(mask[i], target[i])\n",
    "                    # metrics on current element\n",
    "                    accValGT += acc(pixel_predGT, pixel_targGT).item()\n",
    "                    # loss function\n",
    "                    lossValGT += lossFunc(torch.unsqueeze(torch.mul(pred[i],mask[i]),0),\n",
    "                                        torch.unsqueeze(target[i],0))\n",
    "\n",
    "                    # extract the AGT label positions in the prediction\n",
    "                    pixel_predAGT = torch.argmax(pred[i],dim=0)-pixel_predGT\n",
    "                    # extract the AGT label positions in the target\n",
    "                    pixel_targAGT = target[i]-pixel_targGT\n",
    "                    # metrics on current element\n",
    "                    accValAGT2 += acc(pixel_predAGT, pixel_targAGT).item()\n",
    "                    if np.isnan(accuracyAGT(pixel_predAGT, pixel_targAGT).item()):\n",
    "                        countValAGT = countValAGT - 1\n",
    "                    else:\n",
    "                        accValAGT += accuracyAGT(pixel_predAGT, pixel_targAGT).item()\n",
    "                    # loss function\n",
    "                    lossValAGT += lossFunc(torch.unsqueeze(pred[i]-torch.mul(pred[i],mask[i]),0), \n",
    "                                         torch.unsqueeze(target[i],0))\n",
    "                    \n",
    "                else: # only AGT\n",
    "                    # update the accuracy count\n",
    "                    countValAGT = countValAGT + 1\n",
    "                    countValAGT2 = countValAGT2 + 1\n",
    "                    # metrics on current element\n",
    "                    accValAGT2 += acc(torch.argmax(pred[i],dim=0), target[i]).item()\n",
    "                    if np.isnan(accuracyAGT(torch.argmax(pred[i],dim=0), target[i]).item()):\n",
    "                        countValAGT = countValAGT - 1\n",
    "                    else:\n",
    "                        accValAGT += accuracyAGT(torch.argmax(pred[i],dim=0), target[i]).item()\n",
    "                    # loss function\n",
    "                    lossValAGT += lossFunc(torch.unsqueeze(pred[i],0),\n",
    "                                         torch.unsqueeze(target[i],0))\n",
    "\n",
    "                \n",
    "            loss = (0.6*lossValGT/countValGT + 0.4*lossValAGT/countValAGT)\n",
    "            \n",
    "            # add the loss to the total validation loss so far\n",
    "            totalValLoss += loss.item()\n",
    "            \n",
    "            # scheduler step\n",
    "            scheduler.step(loss)                  \n",
    "            \n",
    "    # calculate the average training and validation loss\n",
    "    avgTrainLoss = totalTrainLoss / trainSteps\n",
    "    avgValLoss = totalValLoss / valSteps\n",
    "    \n",
    "    # update our training history\n",
    "    H[\"train_loss\"].append(avgTrainLoss)\n",
    "    H[\"validation_loss\"].append(avgValLoss)\n",
    "    \n",
    "    # calculate the average metrics\n",
    "    avgaccTrainGT = accTrainGT / countTrainGT\n",
    "    avgaccTrainAGT = accTrainAGT / countTrainAGT\n",
    "    avgaccValGT = accValGT / countValGT\n",
    "    avgaccValAGT = accValAGT / countValAGT \n",
    "    avgaccTrainAGT2 = accTrainAGT2 / countTrainAGT2\n",
    "    avgaccValAGT2 = accValAGT2 / countValAGT2\n",
    "    \n",
    "    # update our metrics history\n",
    "    metrics[\"train_accuracyGT\"].append(avgaccTrainGT)\n",
    "    metrics[\"val_accuracyGT\"].append(avgaccValGT)\n",
    "    metrics[\"train_accuracyAGT\"].append(avgaccTrainAGT)\n",
    "    metrics[\"val_accuracyAGT\"].append(avgaccValAGT)\n",
    "    metrics[\"train_accuracyAGT2\"].append(avgaccTrainAGT2)\n",
    "    metrics[\"val_accuracyAGT2\"].append(avgaccValAGT2)\n",
    "    \n",
    "    # check early stopping\n",
    "    early_stopping(avgValLoss, unet)\n",
    "    if early_stopping.early_stop:\n",
    "        print(\"Early stopping\")\n",
    "        break\n",
    "    \n",
    "    # print the model training and validation information\n",
    "    print(\"[INFO] EPOCH: {}/{}\".format(e + 1, config.NUM_EPOCHS))\n",
    "    print(\"Train loss: {:.6f}, Validation loss: {:.4f}\".format(avgTrainLoss, avgValLoss))\n",
    "    \n",
    "    # print the model metrics information\n",
    "    print(\"GT Train Accuracy: {:.4f}\".format(avgaccTrainGT))\n",
    "    print(\"AGT Train Accuracy: {:.4f}\".format(avgaccTrainAGT))\n",
    "    print(\"AGT 2 Train Accuracy: {:.4f}\".format(avgaccTrainAGT2))\n",
    "    print(\"GT Val Accuracy: {:.4f}\".format(avgaccValGT))\n",
    "    print(\"AGT Val Accuracy: {:.4f}\".format(avgaccValAGT))\n",
    "    print(\"AGT 2 Val Accuracy: {:.4f}\".format(avgaccValAGT2))\n",
    "    \n",
    "    \n",
    "# load the last checkpoint with the best model\n",
    "unet.load_state_dict(torch.load(\"/data/jantina/CoralNet/dataset/output/checkpoint.pt\"))\n",
    "\n",
    "# display the total time needed to perform the training\n",
    "endTime = time.time()\n",
    "print(\"[INFO] total time taken to train the model: {:.2f}s\".format(endTime - startTime))"
   ]
  },
  {
   "cell_type": "markdown",
   "metadata": {},
   "source": [
    "## Plotting the loss"
   ]
  },
  {
   "cell_type": "code",
   "execution_count": 25,
   "metadata": {
    "scrolled": false
   },
   "outputs": [
    {
     "data": {
      "application/vnd.plotly.v1+json": {
       "config": {
        "plotlyServerURL": "https://plot.ly"
       },
       "data": [
        {
         "mode": "lines",
         "name": "Training Loss",
         "type": "scatter",
         "x": [
          0,
          1,
          2,
          3,
          4,
          5,
          6,
          7,
          8,
          9,
          10,
          11,
          12,
          13,
          14,
          15,
          16,
          17,
          18,
          19,
          20,
          21,
          22,
          23,
          24,
          25,
          26,
          27,
          28,
          29,
          30,
          31,
          32,
          33,
          34,
          35,
          36,
          37,
          38,
          39
         ],
         "y": [
          0.7119026382764181,
          0.6470268103811476,
          0.6421600944466062,
          0.6311502158641815,
          0.6273397902647654,
          0.6240078508853912,
          0.6241880324151781,
          0.6246052301592298,
          0.6189785963959165,
          0.6192099203666052,
          0.6253185851706399,
          0.6223268244001601,
          0.6183033138513565,
          0.6140972475210825,
          0.6155776000685163,
          0.616610222392612,
          0.6146544582313962,
          0.6143759422832065,
          0.6130333559380637,
          0.6106552945242988,
          0.6142042047447629,
          0.6129987074269189,
          0.6142609301540587,
          0.6134633753034804,
          0.6121190504895316,
          0.6169710275199678,
          0.6152123924758699,
          0.6145169403817918,
          0.6201675302452512,
          0.6105655812554889,
          0.6120777510934405,
          0.6120399501588609,
          0.6156093643771278,
          0.6154234574900733,
          0.6128967271910774,
          0.6096387522088157,
          0.6094536632299423,
          0.6159054123693042,
          0.6133973350127538,
          0.6156657785177231
         ]
        },
        {
         "mode": "lines",
         "name": "Validation Loss",
         "type": "scatter",
         "x": [
          0,
          1,
          2,
          3,
          4,
          5,
          6,
          7,
          8,
          9,
          10,
          11,
          12,
          13,
          14,
          15,
          16,
          17,
          18,
          19,
          20,
          21,
          22,
          23,
          24,
          25,
          26,
          27,
          28,
          29,
          30,
          31,
          32,
          33,
          34,
          35,
          36,
          37,
          38,
          39
         ],
         "y": [
          142676678,
          23589.9091796875,
          378.4517250061035,
          3.6874820590019226,
          2.2795466780662537,
          2.283306896686554,
          2.2682332694530487,
          2.256774425506592,
          2.2517031133174896,
          2.2359741628170013,
          2.262108564376831,
          2.2229118943214417,
          2.239307254552841,
          2.217028558254242,
          2.2334757447242737,
          2.2217095494270325,
          2.2329598665237427,
          2.2234379053115845,
          2.2276756167411804,
          2.2084566950798035,
          2.2299267053604126,
          2.2170131504535675,
          2.227731615304947,
          2.2036218345165253,
          2.2190945744514465,
          2.215022921562195,
          2.213475674390793,
          2.219281256198883,
          2.2331968545913696,
          2.189570128917694,
          2.2111803889274597,
          2.2221630215644836,
          2.219515323638916,
          2.2148177921772003,
          2.235097497701645,
          2.2237809002399445,
          2.2041906118392944,
          2.2290233969688416,
          2.227117598056793,
          2.214937448501587
         ]
        }
       ],
       "layout": {
        "template": {
         "data": {
          "bar": [
           {
            "error_x": {
             "color": "#2a3f5f"
            },
            "error_y": {
             "color": "#2a3f5f"
            },
            "marker": {
             "line": {
              "color": "#E5ECF6",
              "width": 0.5
             }
            },
            "type": "bar"
           }
          ],
          "barpolar": [
           {
            "marker": {
             "line": {
              "color": "#E5ECF6",
              "width": 0.5
             }
            },
            "type": "barpolar"
           }
          ],
          "carpet": [
           {
            "aaxis": {
             "endlinecolor": "#2a3f5f",
             "gridcolor": "white",
             "linecolor": "white",
             "minorgridcolor": "white",
             "startlinecolor": "#2a3f5f"
            },
            "baxis": {
             "endlinecolor": "#2a3f5f",
             "gridcolor": "white",
             "linecolor": "white",
             "minorgridcolor": "white",
             "startlinecolor": "#2a3f5f"
            },
            "type": "carpet"
           }
          ],
          "choropleth": [
           {
            "colorbar": {
             "outlinewidth": 0,
             "ticks": ""
            },
            "type": "choropleth"
           }
          ],
          "contour": [
           {
            "colorbar": {
             "outlinewidth": 0,
             "ticks": ""
            },
            "colorscale": [
             [
              0,
              "#0d0887"
             ],
             [
              0.1111111111111111,
              "#46039f"
             ],
             [
              0.2222222222222222,
              "#7201a8"
             ],
             [
              0.3333333333333333,
              "#9c179e"
             ],
             [
              0.4444444444444444,
              "#bd3786"
             ],
             [
              0.5555555555555556,
              "#d8576b"
             ],
             [
              0.6666666666666666,
              "#ed7953"
             ],
             [
              0.7777777777777778,
              "#fb9f3a"
             ],
             [
              0.8888888888888888,
              "#fdca26"
             ],
             [
              1,
              "#f0f921"
             ]
            ],
            "type": "contour"
           }
          ],
          "contourcarpet": [
           {
            "colorbar": {
             "outlinewidth": 0,
             "ticks": ""
            },
            "type": "contourcarpet"
           }
          ],
          "heatmap": [
           {
            "colorbar": {
             "outlinewidth": 0,
             "ticks": ""
            },
            "colorscale": [
             [
              0,
              "#0d0887"
             ],
             [
              0.1111111111111111,
              "#46039f"
             ],
             [
              0.2222222222222222,
              "#7201a8"
             ],
             [
              0.3333333333333333,
              "#9c179e"
             ],
             [
              0.4444444444444444,
              "#bd3786"
             ],
             [
              0.5555555555555556,
              "#d8576b"
             ],
             [
              0.6666666666666666,
              "#ed7953"
             ],
             [
              0.7777777777777778,
              "#fb9f3a"
             ],
             [
              0.8888888888888888,
              "#fdca26"
             ],
             [
              1,
              "#f0f921"
             ]
            ],
            "type": "heatmap"
           }
          ],
          "heatmapgl": [
           {
            "colorbar": {
             "outlinewidth": 0,
             "ticks": ""
            },
            "colorscale": [
             [
              0,
              "#0d0887"
             ],
             [
              0.1111111111111111,
              "#46039f"
             ],
             [
              0.2222222222222222,
              "#7201a8"
             ],
             [
              0.3333333333333333,
              "#9c179e"
             ],
             [
              0.4444444444444444,
              "#bd3786"
             ],
             [
              0.5555555555555556,
              "#d8576b"
             ],
             [
              0.6666666666666666,
              "#ed7953"
             ],
             [
              0.7777777777777778,
              "#fb9f3a"
             ],
             [
              0.8888888888888888,
              "#fdca26"
             ],
             [
              1,
              "#f0f921"
             ]
            ],
            "type": "heatmapgl"
           }
          ],
          "histogram": [
           {
            "marker": {
             "colorbar": {
              "outlinewidth": 0,
              "ticks": ""
             }
            },
            "type": "histogram"
           }
          ],
          "histogram2d": [
           {
            "colorbar": {
             "outlinewidth": 0,
             "ticks": ""
            },
            "colorscale": [
             [
              0,
              "#0d0887"
             ],
             [
              0.1111111111111111,
              "#46039f"
             ],
             [
              0.2222222222222222,
              "#7201a8"
             ],
             [
              0.3333333333333333,
              "#9c179e"
             ],
             [
              0.4444444444444444,
              "#bd3786"
             ],
             [
              0.5555555555555556,
              "#d8576b"
             ],
             [
              0.6666666666666666,
              "#ed7953"
             ],
             [
              0.7777777777777778,
              "#fb9f3a"
             ],
             [
              0.8888888888888888,
              "#fdca26"
             ],
             [
              1,
              "#f0f921"
             ]
            ],
            "type": "histogram2d"
           }
          ],
          "histogram2dcontour": [
           {
            "colorbar": {
             "outlinewidth": 0,
             "ticks": ""
            },
            "colorscale": [
             [
              0,
              "#0d0887"
             ],
             [
              0.1111111111111111,
              "#46039f"
             ],
             [
              0.2222222222222222,
              "#7201a8"
             ],
             [
              0.3333333333333333,
              "#9c179e"
             ],
             [
              0.4444444444444444,
              "#bd3786"
             ],
             [
              0.5555555555555556,
              "#d8576b"
             ],
             [
              0.6666666666666666,
              "#ed7953"
             ],
             [
              0.7777777777777778,
              "#fb9f3a"
             ],
             [
              0.8888888888888888,
              "#fdca26"
             ],
             [
              1,
              "#f0f921"
             ]
            ],
            "type": "histogram2dcontour"
           }
          ],
          "mesh3d": [
           {
            "colorbar": {
             "outlinewidth": 0,
             "ticks": ""
            },
            "type": "mesh3d"
           }
          ],
          "parcoords": [
           {
            "line": {
             "colorbar": {
              "outlinewidth": 0,
              "ticks": ""
             }
            },
            "type": "parcoords"
           }
          ],
          "pie": [
           {
            "automargin": true,
            "type": "pie"
           }
          ],
          "scatter": [
           {
            "marker": {
             "colorbar": {
              "outlinewidth": 0,
              "ticks": ""
             }
            },
            "type": "scatter"
           }
          ],
          "scatter3d": [
           {
            "line": {
             "colorbar": {
              "outlinewidth": 0,
              "ticks": ""
             }
            },
            "marker": {
             "colorbar": {
              "outlinewidth": 0,
              "ticks": ""
             }
            },
            "type": "scatter3d"
           }
          ],
          "scattercarpet": [
           {
            "marker": {
             "colorbar": {
              "outlinewidth": 0,
              "ticks": ""
             }
            },
            "type": "scattercarpet"
           }
          ],
          "scattergeo": [
           {
            "marker": {
             "colorbar": {
              "outlinewidth": 0,
              "ticks": ""
             }
            },
            "type": "scattergeo"
           }
          ],
          "scattergl": [
           {
            "marker": {
             "colorbar": {
              "outlinewidth": 0,
              "ticks": ""
             }
            },
            "type": "scattergl"
           }
          ],
          "scattermapbox": [
           {
            "marker": {
             "colorbar": {
              "outlinewidth": 0,
              "ticks": ""
             }
            },
            "type": "scattermapbox"
           }
          ],
          "scatterpolar": [
           {
            "marker": {
             "colorbar": {
              "outlinewidth": 0,
              "ticks": ""
             }
            },
            "type": "scatterpolar"
           }
          ],
          "scatterpolargl": [
           {
            "marker": {
             "colorbar": {
              "outlinewidth": 0,
              "ticks": ""
             }
            },
            "type": "scatterpolargl"
           }
          ],
          "scatterternary": [
           {
            "marker": {
             "colorbar": {
              "outlinewidth": 0,
              "ticks": ""
             }
            },
            "type": "scatterternary"
           }
          ],
          "surface": [
           {
            "colorbar": {
             "outlinewidth": 0,
             "ticks": ""
            },
            "colorscale": [
             [
              0,
              "#0d0887"
             ],
             [
              0.1111111111111111,
              "#46039f"
             ],
             [
              0.2222222222222222,
              "#7201a8"
             ],
             [
              0.3333333333333333,
              "#9c179e"
             ],
             [
              0.4444444444444444,
              "#bd3786"
             ],
             [
              0.5555555555555556,
              "#d8576b"
             ],
             [
              0.6666666666666666,
              "#ed7953"
             ],
             [
              0.7777777777777778,
              "#fb9f3a"
             ],
             [
              0.8888888888888888,
              "#fdca26"
             ],
             [
              1,
              "#f0f921"
             ]
            ],
            "type": "surface"
           }
          ],
          "table": [
           {
            "cells": {
             "fill": {
              "color": "#EBF0F8"
             },
             "line": {
              "color": "white"
             }
            },
            "header": {
             "fill": {
              "color": "#C8D4E3"
             },
             "line": {
              "color": "white"
             }
            },
            "type": "table"
           }
          ]
         },
         "layout": {
          "annotationdefaults": {
           "arrowcolor": "#2a3f5f",
           "arrowhead": 0,
           "arrowwidth": 1
          },
          "coloraxis": {
           "colorbar": {
            "outlinewidth": 0,
            "ticks": ""
           }
          },
          "colorscale": {
           "diverging": [
            [
             0,
             "#8e0152"
            ],
            [
             0.1,
             "#c51b7d"
            ],
            [
             0.2,
             "#de77ae"
            ],
            [
             0.3,
             "#f1b6da"
            ],
            [
             0.4,
             "#fde0ef"
            ],
            [
             0.5,
             "#f7f7f7"
            ],
            [
             0.6,
             "#e6f5d0"
            ],
            [
             0.7,
             "#b8e186"
            ],
            [
             0.8,
             "#7fbc41"
            ],
            [
             0.9,
             "#4d9221"
            ],
            [
             1,
             "#276419"
            ]
           ],
           "sequential": [
            [
             0,
             "#0d0887"
            ],
            [
             0.1111111111111111,
             "#46039f"
            ],
            [
             0.2222222222222222,
             "#7201a8"
            ],
            [
             0.3333333333333333,
             "#9c179e"
            ],
            [
             0.4444444444444444,
             "#bd3786"
            ],
            [
             0.5555555555555556,
             "#d8576b"
            ],
            [
             0.6666666666666666,
             "#ed7953"
            ],
            [
             0.7777777777777778,
             "#fb9f3a"
            ],
            [
             0.8888888888888888,
             "#fdca26"
            ],
            [
             1,
             "#f0f921"
            ]
           ],
           "sequentialminus": [
            [
             0,
             "#0d0887"
            ],
            [
             0.1111111111111111,
             "#46039f"
            ],
            [
             0.2222222222222222,
             "#7201a8"
            ],
            [
             0.3333333333333333,
             "#9c179e"
            ],
            [
             0.4444444444444444,
             "#bd3786"
            ],
            [
             0.5555555555555556,
             "#d8576b"
            ],
            [
             0.6666666666666666,
             "#ed7953"
            ],
            [
             0.7777777777777778,
             "#fb9f3a"
            ],
            [
             0.8888888888888888,
             "#fdca26"
            ],
            [
             1,
             "#f0f921"
            ]
           ]
          },
          "colorway": [
           "#636efa",
           "#EF553B",
           "#00cc96",
           "#ab63fa",
           "#FFA15A",
           "#19d3f3",
           "#FF6692",
           "#B6E880",
           "#FF97FF",
           "#FECB52"
          ],
          "font": {
           "color": "#2a3f5f"
          },
          "geo": {
           "bgcolor": "white",
           "lakecolor": "white",
           "landcolor": "#E5ECF6",
           "showlakes": true,
           "showland": true,
           "subunitcolor": "white"
          },
          "hoverlabel": {
           "align": "left"
          },
          "hovermode": "closest",
          "mapbox": {
           "style": "light"
          },
          "paper_bgcolor": "white",
          "plot_bgcolor": "#E5ECF6",
          "polar": {
           "angularaxis": {
            "gridcolor": "white",
            "linecolor": "white",
            "ticks": ""
           },
           "bgcolor": "#E5ECF6",
           "radialaxis": {
            "gridcolor": "white",
            "linecolor": "white",
            "ticks": ""
           }
          },
          "scene": {
           "xaxis": {
            "backgroundcolor": "#E5ECF6",
            "gridcolor": "white",
            "gridwidth": 2,
            "linecolor": "white",
            "showbackground": true,
            "ticks": "",
            "zerolinecolor": "white"
           },
           "yaxis": {
            "backgroundcolor": "#E5ECF6",
            "gridcolor": "white",
            "gridwidth": 2,
            "linecolor": "white",
            "showbackground": true,
            "ticks": "",
            "zerolinecolor": "white"
           },
           "zaxis": {
            "backgroundcolor": "#E5ECF6",
            "gridcolor": "white",
            "gridwidth": 2,
            "linecolor": "white",
            "showbackground": true,
            "ticks": "",
            "zerolinecolor": "white"
           }
          },
          "shapedefaults": {
           "line": {
            "color": "#2a3f5f"
           }
          },
          "ternary": {
           "aaxis": {
            "gridcolor": "white",
            "linecolor": "white",
            "ticks": ""
           },
           "baxis": {
            "gridcolor": "white",
            "linecolor": "white",
            "ticks": ""
           },
           "bgcolor": "#E5ECF6",
           "caxis": {
            "gridcolor": "white",
            "linecolor": "white",
            "ticks": ""
           }
          },
          "title": {
           "x": 0.05
          },
          "xaxis": {
           "automargin": true,
           "gridcolor": "white",
           "linecolor": "white",
           "ticks": "",
           "title": {
            "standoff": 15
           },
           "zerolinecolor": "white",
           "zerolinewidth": 2
          },
          "yaxis": {
           "automargin": true,
           "gridcolor": "white",
           "linecolor": "white",
           "ticks": "",
           "title": {
            "standoff": 15
           },
           "zerolinecolor": "white",
           "zerolinewidth": 2
          }
         }
        },
        "title": {
         "text": "Training and Testing Loss on Dataset"
        },
        "xaxis": {
         "range": [
          -1,
          40
         ],
         "title": {
          "text": "Epoch #"
         }
        },
        "yaxis": {
         "range": [
          0,
          4
         ],
         "title": {
          "text": "Loss"
         }
        }
       }
      },
      "text/html": [
       "<div>\n",
       "        \n",
       "        \n",
       "            <div id=\"2a098e0a-9dc9-409f-a87c-8d4009a5e799\" class=\"plotly-graph-div\" style=\"height:525px; width:100%;\"></div>\n",
       "            <script type=\"text/javascript\">\n",
       "                require([\"plotly\"], function(Plotly) {\n",
       "                    window.PLOTLYENV=window.PLOTLYENV || {};\n",
       "                    \n",
       "                if (document.getElementById(\"2a098e0a-9dc9-409f-a87c-8d4009a5e799\")) {\n",
       "                    Plotly.newPlot(\n",
       "                        '2a098e0a-9dc9-409f-a87c-8d4009a5e799',\n",
       "                        [{\"mode\": \"lines\", \"name\": \"Training Loss\", \"type\": \"scatter\", \"x\": [0, 1, 2, 3, 4, 5, 6, 7, 8, 9, 10, 11, 12, 13, 14, 15, 16, 17, 18, 19, 20, 21, 22, 23, 24, 25, 26, 27, 28, 29, 30, 31, 32, 33, 34, 35, 36, 37, 38, 39], \"y\": [0.7119026382764181, 0.6470268103811476, 0.6421600944466062, 0.6311502158641815, 0.6273397902647654, 0.6240078508853912, 0.6241880324151781, 0.6246052301592298, 0.6189785963959165, 0.6192099203666052, 0.6253185851706399, 0.6223268244001601, 0.6183033138513565, 0.6140972475210825, 0.6155776000685163, 0.616610222392612, 0.6146544582313962, 0.6143759422832065, 0.6130333559380637, 0.6106552945242988, 0.6142042047447629, 0.6129987074269189, 0.6142609301540587, 0.6134633753034804, 0.6121190504895316, 0.6169710275199678, 0.6152123924758699, 0.6145169403817918, 0.6201675302452512, 0.6105655812554889, 0.6120777510934405, 0.6120399501588609, 0.6156093643771278, 0.6154234574900733, 0.6128967271910774, 0.6096387522088157, 0.6094536632299423, 0.6159054123693042, 0.6133973350127538, 0.6156657785177231]}, {\"mode\": \"lines\", \"name\": \"Validation Loss\", \"type\": \"scatter\", \"x\": [0, 1, 2, 3, 4, 5, 6, 7, 8, 9, 10, 11, 12, 13, 14, 15, 16, 17, 18, 19, 20, 21, 22, 23, 24, 25, 26, 27, 28, 29, 30, 31, 32, 33, 34, 35, 36, 37, 38, 39], \"y\": [142676678.0, 23589.9091796875, 378.4517250061035, 3.6874820590019226, 2.2795466780662537, 2.283306896686554, 2.2682332694530487, 2.256774425506592, 2.2517031133174896, 2.2359741628170013, 2.262108564376831, 2.2229118943214417, 2.239307254552841, 2.217028558254242, 2.2334757447242737, 2.2217095494270325, 2.2329598665237427, 2.2234379053115845, 2.2276756167411804, 2.2084566950798035, 2.2299267053604126, 2.2170131504535675, 2.227731615304947, 2.2036218345165253, 2.2190945744514465, 2.215022921562195, 2.213475674390793, 2.219281256198883, 2.2331968545913696, 2.189570128917694, 2.2111803889274597, 2.2221630215644836, 2.219515323638916, 2.2148177921772003, 2.235097497701645, 2.2237809002399445, 2.2041906118392944, 2.2290233969688416, 2.227117598056793, 2.214937448501587]}],\n",
       "                        {\"template\": {\"data\": {\"bar\": [{\"error_x\": {\"color\": \"#2a3f5f\"}, \"error_y\": {\"color\": \"#2a3f5f\"}, \"marker\": {\"line\": {\"color\": \"#E5ECF6\", \"width\": 0.5}}, \"type\": \"bar\"}], \"barpolar\": [{\"marker\": {\"line\": {\"color\": \"#E5ECF6\", \"width\": 0.5}}, \"type\": \"barpolar\"}], \"carpet\": [{\"aaxis\": {\"endlinecolor\": \"#2a3f5f\", \"gridcolor\": \"white\", \"linecolor\": \"white\", \"minorgridcolor\": \"white\", \"startlinecolor\": \"#2a3f5f\"}, \"baxis\": {\"endlinecolor\": \"#2a3f5f\", \"gridcolor\": \"white\", \"linecolor\": \"white\", \"minorgridcolor\": \"white\", \"startlinecolor\": \"#2a3f5f\"}, \"type\": \"carpet\"}], \"choropleth\": [{\"colorbar\": {\"outlinewidth\": 0, \"ticks\": \"\"}, \"type\": \"choropleth\"}], \"contour\": [{\"colorbar\": {\"outlinewidth\": 0, \"ticks\": \"\"}, \"colorscale\": [[0.0, \"#0d0887\"], [0.1111111111111111, \"#46039f\"], [0.2222222222222222, \"#7201a8\"], [0.3333333333333333, \"#9c179e\"], [0.4444444444444444, \"#bd3786\"], [0.5555555555555556, \"#d8576b\"], [0.6666666666666666, \"#ed7953\"], [0.7777777777777778, \"#fb9f3a\"], [0.8888888888888888, \"#fdca26\"], [1.0, \"#f0f921\"]], \"type\": \"contour\"}], \"contourcarpet\": [{\"colorbar\": {\"outlinewidth\": 0, \"ticks\": \"\"}, \"type\": \"contourcarpet\"}], \"heatmap\": [{\"colorbar\": {\"outlinewidth\": 0, \"ticks\": \"\"}, \"colorscale\": [[0.0, \"#0d0887\"], [0.1111111111111111, \"#46039f\"], [0.2222222222222222, \"#7201a8\"], [0.3333333333333333, \"#9c179e\"], [0.4444444444444444, \"#bd3786\"], [0.5555555555555556, \"#d8576b\"], [0.6666666666666666, \"#ed7953\"], [0.7777777777777778, \"#fb9f3a\"], [0.8888888888888888, \"#fdca26\"], [1.0, \"#f0f921\"]], \"type\": \"heatmap\"}], \"heatmapgl\": [{\"colorbar\": {\"outlinewidth\": 0, \"ticks\": \"\"}, \"colorscale\": [[0.0, \"#0d0887\"], [0.1111111111111111, \"#46039f\"], [0.2222222222222222, \"#7201a8\"], [0.3333333333333333, \"#9c179e\"], [0.4444444444444444, \"#bd3786\"], [0.5555555555555556, \"#d8576b\"], [0.6666666666666666, \"#ed7953\"], [0.7777777777777778, \"#fb9f3a\"], [0.8888888888888888, \"#fdca26\"], [1.0, \"#f0f921\"]], \"type\": \"heatmapgl\"}], \"histogram\": [{\"marker\": {\"colorbar\": {\"outlinewidth\": 0, \"ticks\": \"\"}}, \"type\": \"histogram\"}], \"histogram2d\": [{\"colorbar\": {\"outlinewidth\": 0, \"ticks\": \"\"}, \"colorscale\": [[0.0, \"#0d0887\"], [0.1111111111111111, \"#46039f\"], [0.2222222222222222, \"#7201a8\"], [0.3333333333333333, \"#9c179e\"], [0.4444444444444444, \"#bd3786\"], [0.5555555555555556, \"#d8576b\"], [0.6666666666666666, \"#ed7953\"], [0.7777777777777778, \"#fb9f3a\"], [0.8888888888888888, \"#fdca26\"], [1.0, \"#f0f921\"]], \"type\": \"histogram2d\"}], \"histogram2dcontour\": [{\"colorbar\": {\"outlinewidth\": 0, \"ticks\": \"\"}, \"colorscale\": [[0.0, \"#0d0887\"], [0.1111111111111111, \"#46039f\"], [0.2222222222222222, \"#7201a8\"], [0.3333333333333333, \"#9c179e\"], [0.4444444444444444, \"#bd3786\"], [0.5555555555555556, \"#d8576b\"], [0.6666666666666666, \"#ed7953\"], [0.7777777777777778, \"#fb9f3a\"], [0.8888888888888888, \"#fdca26\"], [1.0, \"#f0f921\"]], \"type\": \"histogram2dcontour\"}], \"mesh3d\": [{\"colorbar\": {\"outlinewidth\": 0, \"ticks\": \"\"}, \"type\": \"mesh3d\"}], \"parcoords\": [{\"line\": {\"colorbar\": {\"outlinewidth\": 0, \"ticks\": \"\"}}, \"type\": \"parcoords\"}], \"pie\": [{\"automargin\": true, \"type\": \"pie\"}], \"scatter\": [{\"marker\": {\"colorbar\": {\"outlinewidth\": 0, \"ticks\": \"\"}}, \"type\": \"scatter\"}], \"scatter3d\": [{\"line\": {\"colorbar\": {\"outlinewidth\": 0, \"ticks\": \"\"}}, \"marker\": {\"colorbar\": {\"outlinewidth\": 0, \"ticks\": \"\"}}, \"type\": \"scatter3d\"}], \"scattercarpet\": [{\"marker\": {\"colorbar\": {\"outlinewidth\": 0, \"ticks\": \"\"}}, \"type\": \"scattercarpet\"}], \"scattergeo\": [{\"marker\": {\"colorbar\": {\"outlinewidth\": 0, \"ticks\": \"\"}}, \"type\": \"scattergeo\"}], \"scattergl\": [{\"marker\": {\"colorbar\": {\"outlinewidth\": 0, \"ticks\": \"\"}}, \"type\": \"scattergl\"}], \"scattermapbox\": [{\"marker\": {\"colorbar\": {\"outlinewidth\": 0, \"ticks\": \"\"}}, \"type\": \"scattermapbox\"}], \"scatterpolar\": [{\"marker\": {\"colorbar\": {\"outlinewidth\": 0, \"ticks\": \"\"}}, \"type\": \"scatterpolar\"}], \"scatterpolargl\": [{\"marker\": {\"colorbar\": {\"outlinewidth\": 0, \"ticks\": \"\"}}, \"type\": \"scatterpolargl\"}], \"scatterternary\": [{\"marker\": {\"colorbar\": {\"outlinewidth\": 0, \"ticks\": \"\"}}, \"type\": \"scatterternary\"}], \"surface\": [{\"colorbar\": {\"outlinewidth\": 0, \"ticks\": \"\"}, \"colorscale\": [[0.0, \"#0d0887\"], [0.1111111111111111, \"#46039f\"], [0.2222222222222222, \"#7201a8\"], [0.3333333333333333, \"#9c179e\"], [0.4444444444444444, \"#bd3786\"], [0.5555555555555556, \"#d8576b\"], [0.6666666666666666, \"#ed7953\"], [0.7777777777777778, \"#fb9f3a\"], [0.8888888888888888, \"#fdca26\"], [1.0, \"#f0f921\"]], \"type\": \"surface\"}], \"table\": [{\"cells\": {\"fill\": {\"color\": \"#EBF0F8\"}, \"line\": {\"color\": \"white\"}}, \"header\": {\"fill\": {\"color\": \"#C8D4E3\"}, \"line\": {\"color\": \"white\"}}, \"type\": \"table\"}]}, \"layout\": {\"annotationdefaults\": {\"arrowcolor\": \"#2a3f5f\", \"arrowhead\": 0, \"arrowwidth\": 1}, \"coloraxis\": {\"colorbar\": {\"outlinewidth\": 0, \"ticks\": \"\"}}, \"colorscale\": {\"diverging\": [[0, \"#8e0152\"], [0.1, \"#c51b7d\"], [0.2, \"#de77ae\"], [0.3, \"#f1b6da\"], [0.4, \"#fde0ef\"], [0.5, \"#f7f7f7\"], [0.6, \"#e6f5d0\"], [0.7, \"#b8e186\"], [0.8, \"#7fbc41\"], [0.9, \"#4d9221\"], [1, \"#276419\"]], \"sequential\": [[0.0, \"#0d0887\"], [0.1111111111111111, \"#46039f\"], [0.2222222222222222, \"#7201a8\"], [0.3333333333333333, \"#9c179e\"], [0.4444444444444444, \"#bd3786\"], [0.5555555555555556, \"#d8576b\"], [0.6666666666666666, \"#ed7953\"], [0.7777777777777778, \"#fb9f3a\"], [0.8888888888888888, \"#fdca26\"], [1.0, \"#f0f921\"]], \"sequentialminus\": [[0.0, \"#0d0887\"], [0.1111111111111111, \"#46039f\"], [0.2222222222222222, \"#7201a8\"], [0.3333333333333333, \"#9c179e\"], [0.4444444444444444, \"#bd3786\"], [0.5555555555555556, \"#d8576b\"], [0.6666666666666666, \"#ed7953\"], [0.7777777777777778, \"#fb9f3a\"], [0.8888888888888888, \"#fdca26\"], [1.0, \"#f0f921\"]]}, \"colorway\": [\"#636efa\", \"#EF553B\", \"#00cc96\", \"#ab63fa\", \"#FFA15A\", \"#19d3f3\", \"#FF6692\", \"#B6E880\", \"#FF97FF\", \"#FECB52\"], \"font\": {\"color\": \"#2a3f5f\"}, \"geo\": {\"bgcolor\": \"white\", \"lakecolor\": \"white\", \"landcolor\": \"#E5ECF6\", \"showlakes\": true, \"showland\": true, \"subunitcolor\": \"white\"}, \"hoverlabel\": {\"align\": \"left\"}, \"hovermode\": \"closest\", \"mapbox\": {\"style\": \"light\"}, \"paper_bgcolor\": \"white\", \"plot_bgcolor\": \"#E5ECF6\", \"polar\": {\"angularaxis\": {\"gridcolor\": \"white\", \"linecolor\": \"white\", \"ticks\": \"\"}, \"bgcolor\": \"#E5ECF6\", \"radialaxis\": {\"gridcolor\": \"white\", \"linecolor\": \"white\", \"ticks\": \"\"}}, \"scene\": {\"xaxis\": {\"backgroundcolor\": \"#E5ECF6\", \"gridcolor\": \"white\", \"gridwidth\": 2, \"linecolor\": \"white\", \"showbackground\": true, \"ticks\": \"\", \"zerolinecolor\": \"white\"}, \"yaxis\": {\"backgroundcolor\": \"#E5ECF6\", \"gridcolor\": \"white\", \"gridwidth\": 2, \"linecolor\": \"white\", \"showbackground\": true, \"ticks\": \"\", \"zerolinecolor\": \"white\"}, \"zaxis\": {\"backgroundcolor\": \"#E5ECF6\", \"gridcolor\": \"white\", \"gridwidth\": 2, \"linecolor\": \"white\", \"showbackground\": true, \"ticks\": \"\", \"zerolinecolor\": \"white\"}}, \"shapedefaults\": {\"line\": {\"color\": \"#2a3f5f\"}}, \"ternary\": {\"aaxis\": {\"gridcolor\": \"white\", \"linecolor\": \"white\", \"ticks\": \"\"}, \"baxis\": {\"gridcolor\": \"white\", \"linecolor\": \"white\", \"ticks\": \"\"}, \"bgcolor\": \"#E5ECF6\", \"caxis\": {\"gridcolor\": \"white\", \"linecolor\": \"white\", \"ticks\": \"\"}}, \"title\": {\"x\": 0.05}, \"xaxis\": {\"automargin\": true, \"gridcolor\": \"white\", \"linecolor\": \"white\", \"ticks\": \"\", \"title\": {\"standoff\": 15}, \"zerolinecolor\": \"white\", \"zerolinewidth\": 2}, \"yaxis\": {\"automargin\": true, \"gridcolor\": \"white\", \"linecolor\": \"white\", \"ticks\": \"\", \"title\": {\"standoff\": 15}, \"zerolinecolor\": \"white\", \"zerolinewidth\": 2}}}, \"title\": {\"text\": \"Training and Testing Loss on Dataset\"}, \"xaxis\": {\"range\": [-1, 40], \"title\": {\"text\": \"Epoch #\"}}, \"yaxis\": {\"range\": [0, 4], \"title\": {\"text\": \"Loss\"}}},\n",
       "                        {\"responsive\": true}\n",
       "                    ).then(function(){\n",
       "                            \n",
       "var gd = document.getElementById('2a098e0a-9dc9-409f-a87c-8d4009a5e799');\n",
       "var x = new MutationObserver(function (mutations, observer) {{\n",
       "        var display = window.getComputedStyle(gd).display;\n",
       "        if (!display || display === 'none') {{\n",
       "            console.log([gd, 'removed!']);\n",
       "            Plotly.purge(gd);\n",
       "            observer.disconnect();\n",
       "        }}\n",
       "}});\n",
       "\n",
       "// Listen for the removal of the full notebook cells\n",
       "var notebookContainer = gd.closest('#notebook-container');\n",
       "if (notebookContainer) {{\n",
       "    x.observe(notebookContainer, {childList: true});\n",
       "}}\n",
       "\n",
       "// Listen for the clearing of the current output cell\n",
       "var outputEl = gd.closest('.output');\n",
       "if (outputEl) {{\n",
       "    x.observe(outputEl, {childList: true});\n",
       "}}\n",
       "\n",
       "                        })\n",
       "                };\n",
       "                });\n",
       "            </script>\n",
       "        </div>"
      ]
     },
     "metadata": {},
     "output_type": "display_data"
    }
   ],
   "source": [
    "H = pd.DataFrame(H)\n",
    "\n",
    "# create figure\n",
    "fig = go.Figure()\n",
    "fig.add_trace(go.Scatter(x=H.index, y=H['train_loss'],\n",
    "                    mode='lines',\n",
    "                    name='Training Loss'))\n",
    "fig.add_trace(go.Scatter(x=H.index, y=H['validation_loss'],\n",
    "                    mode='lines',\n",
    "                    name='Validation Loss'))\n",
    "\n",
    "fig.update_layout(title='Training and Testing Loss on Dataset',\n",
    "                   xaxis_title='Epoch #',\n",
    "                   yaxis_title='Loss')\n",
    "\n",
    "fig.update_xaxes(range = [-1,40])\n",
    "fig.update_yaxes(range = [0,4])\n",
    "\n",
    "fig.show()"
   ]
  },
  {
   "cell_type": "markdown",
   "metadata": {},
   "source": [
    "## Plotting the metrics"
   ]
  },
  {
   "cell_type": "code",
   "execution_count": 26,
   "metadata": {},
   "outputs": [
    {
     "data": {
      "application/vnd.plotly.v1+json": {
       "config": {
        "plotlyServerURL": "https://plot.ly"
       },
       "data": [
        {
         "mode": "lines",
         "name": "Training accuracy on GT",
         "type": "scatter",
         "x": [
          0,
          1,
          2,
          3,
          4,
          5,
          6,
          7,
          8,
          9,
          10,
          11,
          12,
          13,
          14,
          15,
          16,
          17,
          18,
          19,
          20,
          21,
          22,
          23,
          24,
          25,
          26,
          27,
          28,
          29,
          30,
          31,
          32,
          33,
          34,
          35,
          36,
          37,
          38,
          39
         ],
         "y": [
          0.23117839978769517,
          0.24884363892196945,
          0.28426138933459505,
          0.3549967622837141,
          0.3432571484196023,
          0.4115585066138936,
          0.4364102887072376,
          0.4153521601064141,
          0.45342226516094297,
          0.4264490028750422,
          0.4210816856924448,
          0.484863213522848,
          0.4527528270747377,
          0.4672831913179808,
          0.4812814041285008,
          0.48243588965189205,
          0.47175202701381597,
          0.4731012584495811,
          0.4845555914886195,
          0.4881611395225079,
          0.48300685847600594,
          0.4835162455089626,
          0.4893336015416341,
          0.487525583810413,
          0.4807407514733611,
          0.48349887016319026,
          0.48600466153605604,
          0.4875020078038358,
          0.48770343947928435,
          0.48986263351531517,
          0.49268535469060115,
          0.47366667402284485,
          0.48584092044292215,
          0.4875258306386011,
          0.4824868193303399,
          0.4943835961762752,
          0.4894543854510849,
          0.4789379047871886,
          0.48293133997541915,
          0.47078116569207057
         ]
        },
        {
         "mode": "lines",
         "name": "Validation accuracy on AGT",
         "type": "scatter",
         "x": [
          0,
          1,
          2,
          3,
          4,
          5,
          6,
          7,
          8,
          9,
          10,
          11,
          12,
          13,
          14,
          15,
          16,
          17,
          18,
          19,
          20,
          21,
          22,
          23,
          24,
          25,
          26,
          27,
          28,
          29,
          30,
          31,
          32,
          33,
          34,
          35,
          36,
          37,
          38,
          39
         ],
         "y": [
          0.32754515698867404,
          0.3476575019946938,
          0.2871214846747432,
          0.33082883237595007,
          0.373731163064284,
          0.39043826416395055,
          0.3951617273831379,
          0.4206493443763647,
          0.47582980967935523,
          0.46329194332209933,
          0.505286610189755,
          0.49246349680133195,
          0.4869814889677388,
          0.5060567548624123,
          0.4734594274020078,
          0.48670612979109884,
          0.4874603245682272,
          0.46778355179319403,
          0.4851611282037837,
          0.5020953689365777,
          0.49301611454531885,
          0.5169002951701002,
          0.5064222193844274,
          0.5183115406805399,
          0.5191410732509542,
          0.5303366654467854,
          0.5112223152805216,
          0.5172565113268377,
          0.503243954247291,
          0.5050369174631666,
          0.5167568399558651,
          0.5086452712515189,
          0.5145047021143645,
          0.4874103121596192,
          0.5306646239490772,
          0.5003994085159698,
          0.5101730765716531,
          0.5151896181255579,
          0.5226826408038368,
          0.5073978015417251
         ]
        },
        {
         "mode": "lines",
         "name": "Training accuracy on GT",
         "type": "scatter",
         "x": [
          0,
          1,
          2,
          3,
          4,
          5,
          6,
          7,
          8,
          9,
          10,
          11,
          12,
          13,
          14,
          15,
          16,
          17,
          18,
          19,
          20,
          21,
          22,
          23,
          24,
          25,
          26,
          27,
          28,
          29,
          30,
          31,
          32,
          33,
          34,
          35,
          36,
          37,
          38,
          39
         ],
         "y": [
          0.4802257083252685,
          0.34366154202569,
          0.34762561981111073,
          0.3827656763378685,
          0.4069590361998118,
          0.44321775318809425,
          0.4491950500566233,
          0.45226934114100786,
          0.46951269518252764,
          0.4613680295630988,
          0.46467496325039553,
          0.4877002552621758,
          0.48413122584460894,
          0.4916424824288091,
          0.5041734090318148,
          0.5056494330146089,
          0.5037910309484753,
          0.5054062742129077,
          0.51272725976431,
          0.5073630793821708,
          0.507406426450967,
          0.5075676371859885,
          0.50751139940711,
          0.5112111790226516,
          0.5112246212549542,
          0.5085067046224152,
          0.5100426009099835,
          0.5115206584185564,
          0.5086925428401606,
          0.5109083773313097,
          0.5113400643950495,
          0.5125844362944925,
          0.5102615046142811,
          0.5105321028298744,
          0.5076164813485287,
          0.5103519780796387,
          0.5123883609767769,
          0.5081365404570847,
          0.5112715656015058,
          0.5074208356526249
         ]
        },
        {
         "mode": "lines",
         "name": "Validation accuracy on AGT",
         "type": "scatter",
         "x": [
          0,
          1,
          2,
          3,
          4,
          5,
          6,
          7,
          8,
          9,
          10,
          11,
          12,
          13,
          14,
          15,
          16,
          17,
          18,
          19,
          20,
          21,
          22,
          23,
          24,
          25,
          26,
          27,
          28,
          29,
          30,
          31,
          32,
          33,
          34,
          35,
          36,
          37,
          38,
          39
         ],
         "y": [
          0.2947134882806932,
          0.30098574539839884,
          0.3760111040655733,
          0.3968087010944231,
          0.43494741733082715,
          0.43909841285687173,
          0.4506210296352593,
          0.45129509476326835,
          0.5068929219724495,
          0.480447388196171,
          0.5018308226370026,
          0.5147043589329179,
          0.49308552727945165,
          0.5265354370327506,
          0.5297416355924532,
          0.5123592149025795,
          0.5325444090586053,
          0.5249989064879024,
          0.537711889675195,
          0.5381112993588669,
          0.5365320369601932,
          0.5380368638807957,
          0.5424696239952773,
          0.5401960475483598,
          0.539380982701656,
          0.5398815579052192,
          0.5402024494788957,
          0.5356587153536942,
          0.5408908706036792,
          0.53921263404717,
          0.5449755602123656,
          0.5448673980374151,
          0.5381926529513008,
          0.5331613081710498,
          0.5352419912160599,
          0.5293443893104489,
          0.5325030849220621,
          0.5362377277678956,
          0.5357237832389342,
          0.5449133671521542
         ]
        }
       ],
       "layout": {
        "template": {
         "data": {
          "bar": [
           {
            "error_x": {
             "color": "#2a3f5f"
            },
            "error_y": {
             "color": "#2a3f5f"
            },
            "marker": {
             "line": {
              "color": "#E5ECF6",
              "width": 0.5
             }
            },
            "type": "bar"
           }
          ],
          "barpolar": [
           {
            "marker": {
             "line": {
              "color": "#E5ECF6",
              "width": 0.5
             }
            },
            "type": "barpolar"
           }
          ],
          "carpet": [
           {
            "aaxis": {
             "endlinecolor": "#2a3f5f",
             "gridcolor": "white",
             "linecolor": "white",
             "minorgridcolor": "white",
             "startlinecolor": "#2a3f5f"
            },
            "baxis": {
             "endlinecolor": "#2a3f5f",
             "gridcolor": "white",
             "linecolor": "white",
             "minorgridcolor": "white",
             "startlinecolor": "#2a3f5f"
            },
            "type": "carpet"
           }
          ],
          "choropleth": [
           {
            "colorbar": {
             "outlinewidth": 0,
             "ticks": ""
            },
            "type": "choropleth"
           }
          ],
          "contour": [
           {
            "colorbar": {
             "outlinewidth": 0,
             "ticks": ""
            },
            "colorscale": [
             [
              0,
              "#0d0887"
             ],
             [
              0.1111111111111111,
              "#46039f"
             ],
             [
              0.2222222222222222,
              "#7201a8"
             ],
             [
              0.3333333333333333,
              "#9c179e"
             ],
             [
              0.4444444444444444,
              "#bd3786"
             ],
             [
              0.5555555555555556,
              "#d8576b"
             ],
             [
              0.6666666666666666,
              "#ed7953"
             ],
             [
              0.7777777777777778,
              "#fb9f3a"
             ],
             [
              0.8888888888888888,
              "#fdca26"
             ],
             [
              1,
              "#f0f921"
             ]
            ],
            "type": "contour"
           }
          ],
          "contourcarpet": [
           {
            "colorbar": {
             "outlinewidth": 0,
             "ticks": ""
            },
            "type": "contourcarpet"
           }
          ],
          "heatmap": [
           {
            "colorbar": {
             "outlinewidth": 0,
             "ticks": ""
            },
            "colorscale": [
             [
              0,
              "#0d0887"
             ],
             [
              0.1111111111111111,
              "#46039f"
             ],
             [
              0.2222222222222222,
              "#7201a8"
             ],
             [
              0.3333333333333333,
              "#9c179e"
             ],
             [
              0.4444444444444444,
              "#bd3786"
             ],
             [
              0.5555555555555556,
              "#d8576b"
             ],
             [
              0.6666666666666666,
              "#ed7953"
             ],
             [
              0.7777777777777778,
              "#fb9f3a"
             ],
             [
              0.8888888888888888,
              "#fdca26"
             ],
             [
              1,
              "#f0f921"
             ]
            ],
            "type": "heatmap"
           }
          ],
          "heatmapgl": [
           {
            "colorbar": {
             "outlinewidth": 0,
             "ticks": ""
            },
            "colorscale": [
             [
              0,
              "#0d0887"
             ],
             [
              0.1111111111111111,
              "#46039f"
             ],
             [
              0.2222222222222222,
              "#7201a8"
             ],
             [
              0.3333333333333333,
              "#9c179e"
             ],
             [
              0.4444444444444444,
              "#bd3786"
             ],
             [
              0.5555555555555556,
              "#d8576b"
             ],
             [
              0.6666666666666666,
              "#ed7953"
             ],
             [
              0.7777777777777778,
              "#fb9f3a"
             ],
             [
              0.8888888888888888,
              "#fdca26"
             ],
             [
              1,
              "#f0f921"
             ]
            ],
            "type": "heatmapgl"
           }
          ],
          "histogram": [
           {
            "marker": {
             "colorbar": {
              "outlinewidth": 0,
              "ticks": ""
             }
            },
            "type": "histogram"
           }
          ],
          "histogram2d": [
           {
            "colorbar": {
             "outlinewidth": 0,
             "ticks": ""
            },
            "colorscale": [
             [
              0,
              "#0d0887"
             ],
             [
              0.1111111111111111,
              "#46039f"
             ],
             [
              0.2222222222222222,
              "#7201a8"
             ],
             [
              0.3333333333333333,
              "#9c179e"
             ],
             [
              0.4444444444444444,
              "#bd3786"
             ],
             [
              0.5555555555555556,
              "#d8576b"
             ],
             [
              0.6666666666666666,
              "#ed7953"
             ],
             [
              0.7777777777777778,
              "#fb9f3a"
             ],
             [
              0.8888888888888888,
              "#fdca26"
             ],
             [
              1,
              "#f0f921"
             ]
            ],
            "type": "histogram2d"
           }
          ],
          "histogram2dcontour": [
           {
            "colorbar": {
             "outlinewidth": 0,
             "ticks": ""
            },
            "colorscale": [
             [
              0,
              "#0d0887"
             ],
             [
              0.1111111111111111,
              "#46039f"
             ],
             [
              0.2222222222222222,
              "#7201a8"
             ],
             [
              0.3333333333333333,
              "#9c179e"
             ],
             [
              0.4444444444444444,
              "#bd3786"
             ],
             [
              0.5555555555555556,
              "#d8576b"
             ],
             [
              0.6666666666666666,
              "#ed7953"
             ],
             [
              0.7777777777777778,
              "#fb9f3a"
             ],
             [
              0.8888888888888888,
              "#fdca26"
             ],
             [
              1,
              "#f0f921"
             ]
            ],
            "type": "histogram2dcontour"
           }
          ],
          "mesh3d": [
           {
            "colorbar": {
             "outlinewidth": 0,
             "ticks": ""
            },
            "type": "mesh3d"
           }
          ],
          "parcoords": [
           {
            "line": {
             "colorbar": {
              "outlinewidth": 0,
              "ticks": ""
             }
            },
            "type": "parcoords"
           }
          ],
          "pie": [
           {
            "automargin": true,
            "type": "pie"
           }
          ],
          "scatter": [
           {
            "marker": {
             "colorbar": {
              "outlinewidth": 0,
              "ticks": ""
             }
            },
            "type": "scatter"
           }
          ],
          "scatter3d": [
           {
            "line": {
             "colorbar": {
              "outlinewidth": 0,
              "ticks": ""
             }
            },
            "marker": {
             "colorbar": {
              "outlinewidth": 0,
              "ticks": ""
             }
            },
            "type": "scatter3d"
           }
          ],
          "scattercarpet": [
           {
            "marker": {
             "colorbar": {
              "outlinewidth": 0,
              "ticks": ""
             }
            },
            "type": "scattercarpet"
           }
          ],
          "scattergeo": [
           {
            "marker": {
             "colorbar": {
              "outlinewidth": 0,
              "ticks": ""
             }
            },
            "type": "scattergeo"
           }
          ],
          "scattergl": [
           {
            "marker": {
             "colorbar": {
              "outlinewidth": 0,
              "ticks": ""
             }
            },
            "type": "scattergl"
           }
          ],
          "scattermapbox": [
           {
            "marker": {
             "colorbar": {
              "outlinewidth": 0,
              "ticks": ""
             }
            },
            "type": "scattermapbox"
           }
          ],
          "scatterpolar": [
           {
            "marker": {
             "colorbar": {
              "outlinewidth": 0,
              "ticks": ""
             }
            },
            "type": "scatterpolar"
           }
          ],
          "scatterpolargl": [
           {
            "marker": {
             "colorbar": {
              "outlinewidth": 0,
              "ticks": ""
             }
            },
            "type": "scatterpolargl"
           }
          ],
          "scatterternary": [
           {
            "marker": {
             "colorbar": {
              "outlinewidth": 0,
              "ticks": ""
             }
            },
            "type": "scatterternary"
           }
          ],
          "surface": [
           {
            "colorbar": {
             "outlinewidth": 0,
             "ticks": ""
            },
            "colorscale": [
             [
              0,
              "#0d0887"
             ],
             [
              0.1111111111111111,
              "#46039f"
             ],
             [
              0.2222222222222222,
              "#7201a8"
             ],
             [
              0.3333333333333333,
              "#9c179e"
             ],
             [
              0.4444444444444444,
              "#bd3786"
             ],
             [
              0.5555555555555556,
              "#d8576b"
             ],
             [
              0.6666666666666666,
              "#ed7953"
             ],
             [
              0.7777777777777778,
              "#fb9f3a"
             ],
             [
              0.8888888888888888,
              "#fdca26"
             ],
             [
              1,
              "#f0f921"
             ]
            ],
            "type": "surface"
           }
          ],
          "table": [
           {
            "cells": {
             "fill": {
              "color": "#EBF0F8"
             },
             "line": {
              "color": "white"
             }
            },
            "header": {
             "fill": {
              "color": "#C8D4E3"
             },
             "line": {
              "color": "white"
             }
            },
            "type": "table"
           }
          ]
         },
         "layout": {
          "annotationdefaults": {
           "arrowcolor": "#2a3f5f",
           "arrowhead": 0,
           "arrowwidth": 1
          },
          "coloraxis": {
           "colorbar": {
            "outlinewidth": 0,
            "ticks": ""
           }
          },
          "colorscale": {
           "diverging": [
            [
             0,
             "#8e0152"
            ],
            [
             0.1,
             "#c51b7d"
            ],
            [
             0.2,
             "#de77ae"
            ],
            [
             0.3,
             "#f1b6da"
            ],
            [
             0.4,
             "#fde0ef"
            ],
            [
             0.5,
             "#f7f7f7"
            ],
            [
             0.6,
             "#e6f5d0"
            ],
            [
             0.7,
             "#b8e186"
            ],
            [
             0.8,
             "#7fbc41"
            ],
            [
             0.9,
             "#4d9221"
            ],
            [
             1,
             "#276419"
            ]
           ],
           "sequential": [
            [
             0,
             "#0d0887"
            ],
            [
             0.1111111111111111,
             "#46039f"
            ],
            [
             0.2222222222222222,
             "#7201a8"
            ],
            [
             0.3333333333333333,
             "#9c179e"
            ],
            [
             0.4444444444444444,
             "#bd3786"
            ],
            [
             0.5555555555555556,
             "#d8576b"
            ],
            [
             0.6666666666666666,
             "#ed7953"
            ],
            [
             0.7777777777777778,
             "#fb9f3a"
            ],
            [
             0.8888888888888888,
             "#fdca26"
            ],
            [
             1,
             "#f0f921"
            ]
           ],
           "sequentialminus": [
            [
             0,
             "#0d0887"
            ],
            [
             0.1111111111111111,
             "#46039f"
            ],
            [
             0.2222222222222222,
             "#7201a8"
            ],
            [
             0.3333333333333333,
             "#9c179e"
            ],
            [
             0.4444444444444444,
             "#bd3786"
            ],
            [
             0.5555555555555556,
             "#d8576b"
            ],
            [
             0.6666666666666666,
             "#ed7953"
            ],
            [
             0.7777777777777778,
             "#fb9f3a"
            ],
            [
             0.8888888888888888,
             "#fdca26"
            ],
            [
             1,
             "#f0f921"
            ]
           ]
          },
          "colorway": [
           "#636efa",
           "#EF553B",
           "#00cc96",
           "#ab63fa",
           "#FFA15A",
           "#19d3f3",
           "#FF6692",
           "#B6E880",
           "#FF97FF",
           "#FECB52"
          ],
          "font": {
           "color": "#2a3f5f"
          },
          "geo": {
           "bgcolor": "white",
           "lakecolor": "white",
           "landcolor": "#E5ECF6",
           "showlakes": true,
           "showland": true,
           "subunitcolor": "white"
          },
          "hoverlabel": {
           "align": "left"
          },
          "hovermode": "closest",
          "mapbox": {
           "style": "light"
          },
          "paper_bgcolor": "white",
          "plot_bgcolor": "#E5ECF6",
          "polar": {
           "angularaxis": {
            "gridcolor": "white",
            "linecolor": "white",
            "ticks": ""
           },
           "bgcolor": "#E5ECF6",
           "radialaxis": {
            "gridcolor": "white",
            "linecolor": "white",
            "ticks": ""
           }
          },
          "scene": {
           "xaxis": {
            "backgroundcolor": "#E5ECF6",
            "gridcolor": "white",
            "gridwidth": 2,
            "linecolor": "white",
            "showbackground": true,
            "ticks": "",
            "zerolinecolor": "white"
           },
           "yaxis": {
            "backgroundcolor": "#E5ECF6",
            "gridcolor": "white",
            "gridwidth": 2,
            "linecolor": "white",
            "showbackground": true,
            "ticks": "",
            "zerolinecolor": "white"
           },
           "zaxis": {
            "backgroundcolor": "#E5ECF6",
            "gridcolor": "white",
            "gridwidth": 2,
            "linecolor": "white",
            "showbackground": true,
            "ticks": "",
            "zerolinecolor": "white"
           }
          },
          "shapedefaults": {
           "line": {
            "color": "#2a3f5f"
           }
          },
          "ternary": {
           "aaxis": {
            "gridcolor": "white",
            "linecolor": "white",
            "ticks": ""
           },
           "baxis": {
            "gridcolor": "white",
            "linecolor": "white",
            "ticks": ""
           },
           "bgcolor": "#E5ECF6",
           "caxis": {
            "gridcolor": "white",
            "linecolor": "white",
            "ticks": ""
           }
          },
          "title": {
           "x": 0.05
          },
          "xaxis": {
           "automargin": true,
           "gridcolor": "white",
           "linecolor": "white",
           "ticks": "",
           "title": {
            "standoff": 15
           },
           "zerolinecolor": "white",
           "zerolinewidth": 2
          },
          "yaxis": {
           "automargin": true,
           "gridcolor": "white",
           "linecolor": "white",
           "ticks": "",
           "title": {
            "standoff": 15
           },
           "zerolinecolor": "white",
           "zerolinewidth": 2
          }
         }
        },
        "title": {
         "text": "Metrics"
        },
        "xaxis": {
         "range": [
          -1,
          40
         ],
         "title": {
          "text": "Epoch #"
         }
        },
        "yaxis": {
         "range": [
          0,
          1
         ],
         "title": {
          "text": "Accuracy"
         }
        }
       }
      },
      "text/html": [
       "<div>\n",
       "        \n",
       "        \n",
       "            <div id=\"76838c46-84df-483e-9b73-66a8fc2d3853\" class=\"plotly-graph-div\" style=\"height:525px; width:100%;\"></div>\n",
       "            <script type=\"text/javascript\">\n",
       "                require([\"plotly\"], function(Plotly) {\n",
       "                    window.PLOTLYENV=window.PLOTLYENV || {};\n",
       "                    \n",
       "                if (document.getElementById(\"76838c46-84df-483e-9b73-66a8fc2d3853\")) {\n",
       "                    Plotly.newPlot(\n",
       "                        '76838c46-84df-483e-9b73-66a8fc2d3853',\n",
       "                        [{\"mode\": \"lines\", \"name\": \"Training accuracy on GT\", \"type\": \"scatter\", \"x\": [0, 1, 2, 3, 4, 5, 6, 7, 8, 9, 10, 11, 12, 13, 14, 15, 16, 17, 18, 19, 20, 21, 22, 23, 24, 25, 26, 27, 28, 29, 30, 31, 32, 33, 34, 35, 36, 37, 38, 39], \"y\": [0.23117839978769517, 0.24884363892196945, 0.28426138933459505, 0.3549967622837141, 0.3432571484196023, 0.4115585066138936, 0.4364102887072376, 0.4153521601064141, 0.45342226516094297, 0.4264490028750422, 0.4210816856924448, 0.484863213522848, 0.4527528270747377, 0.4672831913179808, 0.4812814041285008, 0.48243588965189205, 0.47175202701381597, 0.4731012584495811, 0.4845555914886195, 0.4881611395225079, 0.48300685847600594, 0.4835162455089626, 0.4893336015416341, 0.487525583810413, 0.4807407514733611, 0.48349887016319026, 0.48600466153605604, 0.4875020078038358, 0.48770343947928435, 0.48986263351531517, 0.49268535469060115, 0.47366667402284485, 0.48584092044292215, 0.4875258306386011, 0.4824868193303399, 0.4943835961762752, 0.4894543854510849, 0.4789379047871886, 0.48293133997541915, 0.47078116569207057]}, {\"mode\": \"lines\", \"name\": \"Validation accuracy on AGT\", \"type\": \"scatter\", \"x\": [0, 1, 2, 3, 4, 5, 6, 7, 8, 9, 10, 11, 12, 13, 14, 15, 16, 17, 18, 19, 20, 21, 22, 23, 24, 25, 26, 27, 28, 29, 30, 31, 32, 33, 34, 35, 36, 37, 38, 39], \"y\": [0.32754515698867404, 0.3476575019946938, 0.2871214846747432, 0.33082883237595007, 0.373731163064284, 0.39043826416395055, 0.3951617273831379, 0.4206493443763647, 0.47582980967935523, 0.46329194332209933, 0.505286610189755, 0.49246349680133195, 0.4869814889677388, 0.5060567548624123, 0.4734594274020078, 0.48670612979109884, 0.4874603245682272, 0.46778355179319403, 0.4851611282037837, 0.5020953689365777, 0.49301611454531885, 0.5169002951701002, 0.5064222193844274, 0.5183115406805399, 0.5191410732509542, 0.5303366654467854, 0.5112223152805216, 0.5172565113268377, 0.503243954247291, 0.5050369174631666, 0.5167568399558651, 0.5086452712515189, 0.5145047021143645, 0.4874103121596192, 0.5306646239490772, 0.5003994085159698, 0.5101730765716531, 0.5151896181255579, 0.5226826408038368, 0.5073978015417251]}, {\"mode\": \"lines\", \"name\": \"Training accuracy on GT\", \"type\": \"scatter\", \"x\": [0, 1, 2, 3, 4, 5, 6, 7, 8, 9, 10, 11, 12, 13, 14, 15, 16, 17, 18, 19, 20, 21, 22, 23, 24, 25, 26, 27, 28, 29, 30, 31, 32, 33, 34, 35, 36, 37, 38, 39], \"y\": [0.4802257083252685, 0.34366154202569, 0.34762561981111073, 0.3827656763378685, 0.4069590361998118, 0.44321775318809425, 0.4491950500566233, 0.45226934114100786, 0.46951269518252764, 0.4613680295630988, 0.46467496325039553, 0.4877002552621758, 0.48413122584460894, 0.4916424824288091, 0.5041734090318148, 0.5056494330146089, 0.5037910309484753, 0.5054062742129077, 0.51272725976431, 0.5073630793821708, 0.507406426450967, 0.5075676371859885, 0.50751139940711, 0.5112111790226516, 0.5112246212549542, 0.5085067046224152, 0.5100426009099835, 0.5115206584185564, 0.5086925428401606, 0.5109083773313097, 0.5113400643950495, 0.5125844362944925, 0.5102615046142811, 0.5105321028298744, 0.5076164813485287, 0.5103519780796387, 0.5123883609767769, 0.5081365404570847, 0.5112715656015058, 0.5074208356526249]}, {\"mode\": \"lines\", \"name\": \"Validation accuracy on AGT\", \"type\": \"scatter\", \"x\": [0, 1, 2, 3, 4, 5, 6, 7, 8, 9, 10, 11, 12, 13, 14, 15, 16, 17, 18, 19, 20, 21, 22, 23, 24, 25, 26, 27, 28, 29, 30, 31, 32, 33, 34, 35, 36, 37, 38, 39], \"y\": [0.2947134882806932, 0.30098574539839884, 0.3760111040655733, 0.3968087010944231, 0.43494741733082715, 0.43909841285687173, 0.4506210296352593, 0.45129509476326835, 0.5068929219724495, 0.480447388196171, 0.5018308226370026, 0.5147043589329179, 0.49308552727945165, 0.5265354370327506, 0.5297416355924532, 0.5123592149025795, 0.5325444090586053, 0.5249989064879024, 0.537711889675195, 0.5381112993588669, 0.5365320369601932, 0.5380368638807957, 0.5424696239952773, 0.5401960475483598, 0.539380982701656, 0.5398815579052192, 0.5402024494788957, 0.5356587153536942, 0.5408908706036792, 0.53921263404717, 0.5449755602123656, 0.5448673980374151, 0.5381926529513008, 0.5331613081710498, 0.5352419912160599, 0.5293443893104489, 0.5325030849220621, 0.5362377277678956, 0.5357237832389342, 0.5449133671521542]}],\n",
       "                        {\"template\": {\"data\": {\"bar\": [{\"error_x\": {\"color\": \"#2a3f5f\"}, \"error_y\": {\"color\": \"#2a3f5f\"}, \"marker\": {\"line\": {\"color\": \"#E5ECF6\", \"width\": 0.5}}, \"type\": \"bar\"}], \"barpolar\": [{\"marker\": {\"line\": {\"color\": \"#E5ECF6\", \"width\": 0.5}}, \"type\": \"barpolar\"}], \"carpet\": [{\"aaxis\": {\"endlinecolor\": \"#2a3f5f\", \"gridcolor\": \"white\", \"linecolor\": \"white\", \"minorgridcolor\": \"white\", \"startlinecolor\": \"#2a3f5f\"}, \"baxis\": {\"endlinecolor\": \"#2a3f5f\", \"gridcolor\": \"white\", \"linecolor\": \"white\", \"minorgridcolor\": \"white\", \"startlinecolor\": \"#2a3f5f\"}, \"type\": \"carpet\"}], \"choropleth\": [{\"colorbar\": {\"outlinewidth\": 0, \"ticks\": \"\"}, \"type\": \"choropleth\"}], \"contour\": [{\"colorbar\": {\"outlinewidth\": 0, \"ticks\": \"\"}, \"colorscale\": [[0.0, \"#0d0887\"], [0.1111111111111111, \"#46039f\"], [0.2222222222222222, \"#7201a8\"], [0.3333333333333333, \"#9c179e\"], [0.4444444444444444, \"#bd3786\"], [0.5555555555555556, \"#d8576b\"], [0.6666666666666666, \"#ed7953\"], [0.7777777777777778, \"#fb9f3a\"], [0.8888888888888888, \"#fdca26\"], [1.0, \"#f0f921\"]], \"type\": \"contour\"}], \"contourcarpet\": [{\"colorbar\": {\"outlinewidth\": 0, \"ticks\": \"\"}, \"type\": \"contourcarpet\"}], \"heatmap\": [{\"colorbar\": {\"outlinewidth\": 0, \"ticks\": \"\"}, \"colorscale\": [[0.0, \"#0d0887\"], [0.1111111111111111, \"#46039f\"], [0.2222222222222222, \"#7201a8\"], [0.3333333333333333, \"#9c179e\"], [0.4444444444444444, \"#bd3786\"], [0.5555555555555556, \"#d8576b\"], [0.6666666666666666, \"#ed7953\"], [0.7777777777777778, \"#fb9f3a\"], [0.8888888888888888, \"#fdca26\"], [1.0, \"#f0f921\"]], \"type\": \"heatmap\"}], \"heatmapgl\": [{\"colorbar\": {\"outlinewidth\": 0, \"ticks\": \"\"}, \"colorscale\": [[0.0, \"#0d0887\"], [0.1111111111111111, \"#46039f\"], [0.2222222222222222, \"#7201a8\"], [0.3333333333333333, \"#9c179e\"], [0.4444444444444444, \"#bd3786\"], [0.5555555555555556, \"#d8576b\"], [0.6666666666666666, \"#ed7953\"], [0.7777777777777778, \"#fb9f3a\"], [0.8888888888888888, \"#fdca26\"], [1.0, \"#f0f921\"]], \"type\": \"heatmapgl\"}], \"histogram\": [{\"marker\": {\"colorbar\": {\"outlinewidth\": 0, \"ticks\": \"\"}}, \"type\": \"histogram\"}], \"histogram2d\": [{\"colorbar\": {\"outlinewidth\": 0, \"ticks\": \"\"}, \"colorscale\": [[0.0, \"#0d0887\"], [0.1111111111111111, \"#46039f\"], [0.2222222222222222, \"#7201a8\"], [0.3333333333333333, \"#9c179e\"], [0.4444444444444444, \"#bd3786\"], [0.5555555555555556, \"#d8576b\"], [0.6666666666666666, \"#ed7953\"], [0.7777777777777778, \"#fb9f3a\"], [0.8888888888888888, \"#fdca26\"], [1.0, \"#f0f921\"]], \"type\": \"histogram2d\"}], \"histogram2dcontour\": [{\"colorbar\": {\"outlinewidth\": 0, \"ticks\": \"\"}, \"colorscale\": [[0.0, \"#0d0887\"], [0.1111111111111111, \"#46039f\"], [0.2222222222222222, \"#7201a8\"], [0.3333333333333333, \"#9c179e\"], [0.4444444444444444, \"#bd3786\"], [0.5555555555555556, \"#d8576b\"], [0.6666666666666666, \"#ed7953\"], [0.7777777777777778, \"#fb9f3a\"], [0.8888888888888888, \"#fdca26\"], [1.0, \"#f0f921\"]], \"type\": \"histogram2dcontour\"}], \"mesh3d\": [{\"colorbar\": {\"outlinewidth\": 0, \"ticks\": \"\"}, \"type\": \"mesh3d\"}], \"parcoords\": [{\"line\": {\"colorbar\": {\"outlinewidth\": 0, \"ticks\": \"\"}}, \"type\": \"parcoords\"}], \"pie\": [{\"automargin\": true, \"type\": \"pie\"}], \"scatter\": [{\"marker\": {\"colorbar\": {\"outlinewidth\": 0, \"ticks\": \"\"}}, \"type\": \"scatter\"}], \"scatter3d\": [{\"line\": {\"colorbar\": {\"outlinewidth\": 0, \"ticks\": \"\"}}, \"marker\": {\"colorbar\": {\"outlinewidth\": 0, \"ticks\": \"\"}}, \"type\": \"scatter3d\"}], \"scattercarpet\": [{\"marker\": {\"colorbar\": {\"outlinewidth\": 0, \"ticks\": \"\"}}, \"type\": \"scattercarpet\"}], \"scattergeo\": [{\"marker\": {\"colorbar\": {\"outlinewidth\": 0, \"ticks\": \"\"}}, \"type\": \"scattergeo\"}], \"scattergl\": [{\"marker\": {\"colorbar\": {\"outlinewidth\": 0, \"ticks\": \"\"}}, \"type\": \"scattergl\"}], \"scattermapbox\": [{\"marker\": {\"colorbar\": {\"outlinewidth\": 0, \"ticks\": \"\"}}, \"type\": \"scattermapbox\"}], \"scatterpolar\": [{\"marker\": {\"colorbar\": {\"outlinewidth\": 0, \"ticks\": \"\"}}, \"type\": \"scatterpolar\"}], \"scatterpolargl\": [{\"marker\": {\"colorbar\": {\"outlinewidth\": 0, \"ticks\": \"\"}}, \"type\": \"scatterpolargl\"}], \"scatterternary\": [{\"marker\": {\"colorbar\": {\"outlinewidth\": 0, \"ticks\": \"\"}}, \"type\": \"scatterternary\"}], \"surface\": [{\"colorbar\": {\"outlinewidth\": 0, \"ticks\": \"\"}, \"colorscale\": [[0.0, \"#0d0887\"], [0.1111111111111111, \"#46039f\"], [0.2222222222222222, \"#7201a8\"], [0.3333333333333333, \"#9c179e\"], [0.4444444444444444, \"#bd3786\"], [0.5555555555555556, \"#d8576b\"], [0.6666666666666666, \"#ed7953\"], [0.7777777777777778, \"#fb9f3a\"], [0.8888888888888888, \"#fdca26\"], [1.0, \"#f0f921\"]], \"type\": \"surface\"}], \"table\": [{\"cells\": {\"fill\": {\"color\": \"#EBF0F8\"}, \"line\": {\"color\": \"white\"}}, \"header\": {\"fill\": {\"color\": \"#C8D4E3\"}, \"line\": {\"color\": \"white\"}}, \"type\": \"table\"}]}, \"layout\": {\"annotationdefaults\": {\"arrowcolor\": \"#2a3f5f\", \"arrowhead\": 0, \"arrowwidth\": 1}, \"coloraxis\": {\"colorbar\": {\"outlinewidth\": 0, \"ticks\": \"\"}}, \"colorscale\": {\"diverging\": [[0, \"#8e0152\"], [0.1, \"#c51b7d\"], [0.2, \"#de77ae\"], [0.3, \"#f1b6da\"], [0.4, \"#fde0ef\"], [0.5, \"#f7f7f7\"], [0.6, \"#e6f5d0\"], [0.7, \"#b8e186\"], [0.8, \"#7fbc41\"], [0.9, \"#4d9221\"], [1, \"#276419\"]], \"sequential\": [[0.0, \"#0d0887\"], [0.1111111111111111, \"#46039f\"], [0.2222222222222222, \"#7201a8\"], [0.3333333333333333, \"#9c179e\"], [0.4444444444444444, \"#bd3786\"], [0.5555555555555556, \"#d8576b\"], [0.6666666666666666, \"#ed7953\"], [0.7777777777777778, \"#fb9f3a\"], [0.8888888888888888, \"#fdca26\"], [1.0, \"#f0f921\"]], \"sequentialminus\": [[0.0, \"#0d0887\"], [0.1111111111111111, \"#46039f\"], [0.2222222222222222, \"#7201a8\"], [0.3333333333333333, \"#9c179e\"], [0.4444444444444444, \"#bd3786\"], [0.5555555555555556, \"#d8576b\"], [0.6666666666666666, \"#ed7953\"], [0.7777777777777778, \"#fb9f3a\"], [0.8888888888888888, \"#fdca26\"], [1.0, \"#f0f921\"]]}, \"colorway\": [\"#636efa\", \"#EF553B\", \"#00cc96\", \"#ab63fa\", \"#FFA15A\", \"#19d3f3\", \"#FF6692\", \"#B6E880\", \"#FF97FF\", \"#FECB52\"], \"font\": {\"color\": \"#2a3f5f\"}, \"geo\": {\"bgcolor\": \"white\", \"lakecolor\": \"white\", \"landcolor\": \"#E5ECF6\", \"showlakes\": true, \"showland\": true, \"subunitcolor\": \"white\"}, \"hoverlabel\": {\"align\": \"left\"}, \"hovermode\": \"closest\", \"mapbox\": {\"style\": \"light\"}, \"paper_bgcolor\": \"white\", \"plot_bgcolor\": \"#E5ECF6\", \"polar\": {\"angularaxis\": {\"gridcolor\": \"white\", \"linecolor\": \"white\", \"ticks\": \"\"}, \"bgcolor\": \"#E5ECF6\", \"radialaxis\": {\"gridcolor\": \"white\", \"linecolor\": \"white\", \"ticks\": \"\"}}, \"scene\": {\"xaxis\": {\"backgroundcolor\": \"#E5ECF6\", \"gridcolor\": \"white\", \"gridwidth\": 2, \"linecolor\": \"white\", \"showbackground\": true, \"ticks\": \"\", \"zerolinecolor\": \"white\"}, \"yaxis\": {\"backgroundcolor\": \"#E5ECF6\", \"gridcolor\": \"white\", \"gridwidth\": 2, \"linecolor\": \"white\", \"showbackground\": true, \"ticks\": \"\", \"zerolinecolor\": \"white\"}, \"zaxis\": {\"backgroundcolor\": \"#E5ECF6\", \"gridcolor\": \"white\", \"gridwidth\": 2, \"linecolor\": \"white\", \"showbackground\": true, \"ticks\": \"\", \"zerolinecolor\": \"white\"}}, \"shapedefaults\": {\"line\": {\"color\": \"#2a3f5f\"}}, \"ternary\": {\"aaxis\": {\"gridcolor\": \"white\", \"linecolor\": \"white\", \"ticks\": \"\"}, \"baxis\": {\"gridcolor\": \"white\", \"linecolor\": \"white\", \"ticks\": \"\"}, \"bgcolor\": \"#E5ECF6\", \"caxis\": {\"gridcolor\": \"white\", \"linecolor\": \"white\", \"ticks\": \"\"}}, \"title\": {\"x\": 0.05}, \"xaxis\": {\"automargin\": true, \"gridcolor\": \"white\", \"linecolor\": \"white\", \"ticks\": \"\", \"title\": {\"standoff\": 15}, \"zerolinecolor\": \"white\", \"zerolinewidth\": 2}, \"yaxis\": {\"automargin\": true, \"gridcolor\": \"white\", \"linecolor\": \"white\", \"ticks\": \"\", \"title\": {\"standoff\": 15}, \"zerolinecolor\": \"white\", \"zerolinewidth\": 2}}}, \"title\": {\"text\": \"Metrics\"}, \"xaxis\": {\"range\": [-1, 40], \"title\": {\"text\": \"Epoch #\"}}, \"yaxis\": {\"range\": [0, 1], \"title\": {\"text\": \"Accuracy\"}}},\n",
       "                        {\"responsive\": true}\n",
       "                    ).then(function(){\n",
       "                            \n",
       "var gd = document.getElementById('76838c46-84df-483e-9b73-66a8fc2d3853');\n",
       "var x = new MutationObserver(function (mutations, observer) {{\n",
       "        var display = window.getComputedStyle(gd).display;\n",
       "        if (!display || display === 'none') {{\n",
       "            console.log([gd, 'removed!']);\n",
       "            Plotly.purge(gd);\n",
       "            observer.disconnect();\n",
       "        }}\n",
       "}});\n",
       "\n",
       "// Listen for the removal of the full notebook cells\n",
       "var notebookContainer = gd.closest('#notebook-container');\n",
       "if (notebookContainer) {{\n",
       "    x.observe(notebookContainer, {childList: true});\n",
       "}}\n",
       "\n",
       "// Listen for the clearing of the current output cell\n",
       "var outputEl = gd.closest('.output');\n",
       "if (outputEl) {{\n",
       "    x.observe(outputEl, {childList: true});\n",
       "}}\n",
       "\n",
       "                        })\n",
       "                };\n",
       "                });\n",
       "            </script>\n",
       "        </div>"
      ]
     },
     "metadata": {},
     "output_type": "display_data"
    }
   ],
   "source": [
    "metrics = pd.DataFrame(metrics)\n",
    "\n",
    "# create figure\n",
    "fig = go.Figure()\n",
    "fig.add_trace(go.Scatter(x=metrics.index, y=metrics['train_accuracyGT'],\n",
    "                    mode='lines',\n",
    "                    name='Training accuracy on GT'))\n",
    "fig.add_trace(go.Scatter(x=metrics.index, y=metrics['val_accuracyGT'],\n",
    "                    mode='lines',\n",
    "                    name='Validation accuracy on AGT'))\n",
    "fig.add_trace(go.Scatter(x=metrics.index, y=metrics['train_accuracyAGT'],\n",
    "                    mode='lines',\n",
    "                    name='Training accuracy on GT'))\n",
    "fig.add_trace(go.Scatter(x=metrics.index, y=metrics['val_accuracyAGT'],\n",
    "                    mode='lines',\n",
    "                    name='Validation accuracy on AGT'))\n",
    "\n",
    "fig.update_layout(title='Metrics',\n",
    "                   xaxis_title='Epoch #',\n",
    "                   yaxis_title='Accuracy')\n",
    "\n",
    "fig.update_xaxes(range = [-1,40])\n",
    "fig.update_yaxes(range = [0,1])\n",
    "\n",
    "fig.show()"
   ]
  },
  {
   "cell_type": "markdown",
   "metadata": {},
   "source": [
    "# Save model"
   ]
  },
  {
   "cell_type": "code",
   "execution_count": 24,
   "metadata": {},
   "outputs": [
    {
     "name": "stdout",
     "output_type": "stream",
     "text": [
      "[INFO] model saved !\n"
     ]
    }
   ],
   "source": [
    "# serialize the model to disk\n",
    "torch.save(unet, \"/data/jantina/CoralNet/dataset/output/unet2.pth\")\n",
    "print(\"[INFO] model saved !\")"
   ]
  }
 ],
 "metadata": {
  "kernelspec": {
   "display_name": "Python 3 (ipykernel)",
   "language": "python",
   "name": "python3"
  },
  "language_info": {
   "codemirror_mode": {
    "name": "ipython",
    "version": 3
   },
   "file_extension": ".py",
   "mimetype": "text/x-python",
   "name": "python",
   "nbconvert_exporter": "python",
   "pygments_lexer": "ipython3",
   "version": "3.8.10"
  }
 },
 "nbformat": 4,
 "nbformat_minor": 4
}
