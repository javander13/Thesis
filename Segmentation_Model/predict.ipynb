{
 "cells": [
  {
   "cell_type": "markdown",
   "metadata": {},
   "source": [
    "# Predictions"
   ]
  },
  {
   "cell_type": "markdown",
   "metadata": {},
   "source": [
    "## Imports"
   ]
  },
  {
   "cell_type": "code",
   "execution_count": 1,
   "metadata": {},
   "outputs": [],
   "source": [
    "# load custom scripts\n",
    "import config\n",
    "\n",
    "# import the necessary packages\n",
    "from skimage import io\n",
    "from torchvision import transforms\n",
    "\n",
    "import cv2\n",
    "import matplotlib.pyplot as plt\n",
    "import numpy as np\n",
    "import os\n",
    "import torch\n",
    "import torchvision.transforms.functional as TF"
   ]
  },
  {
   "cell_type": "markdown",
   "metadata": {},
   "source": [
    "## Plot function"
   ]
  },
  {
   "cell_type": "code",
   "execution_count": 2,
   "metadata": {},
   "outputs": [],
   "source": [
    "def prepare_plot(image, gtMask, predMask):\n",
    "    # initialize our figure\n",
    "    figure, ax = plt.subplots(nrows=1, ncols=3, figsize=(10, 10))\n",
    "    \n",
    "    unnormalize = transforms.Compose([transforms.Normalize(mean = [ 0., 0., 0. ],\n",
    "                                                     std = [ 1/0.229, 1/0.224, 1/0.225 ]),\n",
    "                                  transforms.Normalize(mean = [ -0.485, -0.456, -0.406 ],\n",
    "                                                     std = [ 1., 1., 1. ])])\n",
    "\n",
    "    # plot the original image, its mask, and the predicted mask\n",
    "    ax[0].imshow(unnormalize(image[0]).cpu().detach().permute(1, 2, 0))\n",
    "    ax[1].imshow(gtMask.numpy(), cmap = \"tab20\", vmin=0, vmax=255)\n",
    "    ax[2].imshow(predMask, cmap = \"tab20\", vmin=0, vmax=255)\n",
    "    \n",
    "    # set the titles of the subplots\n",
    "    ax[0].set_title(\"Image\")\n",
    "    ax[1].set_title(\"Original Mask\")\n",
    "    ax[2].set_title(\"Predicted Mask\")\n",
    "    \n",
    "    # set the layout of the figure and display it\n",
    "    figure.tight_layout()\n",
    "    figure.show()"
   ]
  },
  {
   "cell_type": "markdown",
   "metadata": {},
   "source": [
    "## Testing loop"
   ]
  },
  {
   "cell_type": "code",
   "execution_count": 3,
   "metadata": {},
   "outputs": [],
   "source": [
    "def make_predictions(model, imagePath):\n",
    "    # set model to evaluation mode\n",
    "    model.eval()\n",
    "    \n",
    "    # turn off gradient tracking\n",
    "    with torch.no_grad():\n",
    "        # load the image from disk, cast it to float data type, \n",
    "        # and scale its pixel values\n",
    "        image = io.imread(imagePath)\n",
    "        image = image.astype(\"float32\") / 255.0\n",
    "        \n",
    "        # make the channel axis to be the leading one, add a batch\n",
    "        # dimension and create a PyTorch tensor\n",
    "        image = np.transpose(image, (2, 0, 1))\n",
    "        image = np.expand_dims(image, 0)\n",
    "        image = torch.from_numpy(image)\n",
    "        \n",
    "        # random crop\n",
    "        crop = transforms.RandomResizedCrop(128)\n",
    "        i, j, h, w = crop.get_params(image, scale=(0.08, 1.0), ratio=(0.75, 1.33))\n",
    "        # apply crop to the image \n",
    "        image = TF.resized_crop(image, i, j, h, w, (128, 128), transforms.InterpolationMode.BILINEAR)\n",
    "        \n",
    "        # normalize the image\n",
    "        normalize = transforms.Normalize(mean=[0.485, 0.456, 0.406],\n",
    "                                         std=[0.229, 0.224, 0.225])\n",
    "        image = normalize(image)\n",
    "        \n",
    "        # flash to device\n",
    "        image = image.to(config.DEVICE)\n",
    "        \n",
    "        # find the filename and generate the path to ground truth mask\n",
    "        filename = imagePath.split(os.path.sep)[-1].replace(\"JPG\",\"png\")\n",
    "        groundTruthPath = os.path.join(config.MASK_DATASET_PATH, filename)\n",
    "        \n",
    "        # load the ground-truth segmentation mask, make a tensor \n",
    "        # and crop it\n",
    "        gtMask = io.imread(groundTruthPath)\n",
    "        asarray = lambda x: torch.tensor(np.array(x), dtype=torch.long)\n",
    "        gtMask = asarray(np.expand_dims(gtMask, 0))\n",
    "        gtMask = TF.resized_crop(gtMask, i, j, h, w, (128, 128),\n",
    "                                 transforms.InterpolationMode.BILINEAR).squeeze()\n",
    "    \n",
    "        \n",
    "        # make the prediction, pass the results through the argmax\n",
    "        # function, and convert the result to a NumPy array\n",
    "        predMask = model(image).squeeze()\n",
    "        predMask = torch.argmax(predMask, 0)\n",
    "        predMask = predMask.cpu().numpy()\n",
    "        \n",
    "        # convert the predictions to integers\n",
    "        predMask = predMask.astype(np.uint8)\n",
    "        \n",
    "        # prepare a plot for visualization\n",
    "        prepare_plot(image, gtMask, predMask)"
   ]
  },
  {
   "cell_type": "markdown",
   "metadata": {},
   "source": [
    "## Make predictions"
   ]
  },
  {
   "cell_type": "code",
   "execution_count": null,
   "metadata": {},
   "outputs": [],
   "source": [
    "# load the image paths in our testing file and randomly select 10 image paths\n",
    "print(\"[INFO] loading up test image paths...\")\n",
    "imagePaths = open(config.TEST_PATHS).read().strip().split(\"\\n\")\n",
    "imagePaths = np.random.choice(imagePaths, size=10)\n",
    "\n",
    "# load our model from disk and flash it to the current device\n",
    "print(\"[INFO] load up model...\")\n",
    "unet = torch.load(config.MODEL_PATH).to(config.DEVICE)\n",
    "\n",
    "# iterate over the randomly selected test image paths\n",
    "for path in imagePaths:\n",
    "    make_predictions(unet, path)"
   ]
  }
 ],
 "metadata": {
  "kernelspec": {
   "display_name": "Python 3 (ipykernel)",
   "language": "python",
   "name": "python3"
  },
  "language_info": {
   "codemirror_mode": {
    "name": "ipython",
    "version": 3
   },
   "file_extension": ".py",
   "mimetype": "text/x-python",
   "name": "python",
   "nbconvert_exporter": "python",
   "pygments_lexer": "ipython3",
   "version": "3.8.10"
  }
 },
 "nbformat": 4,
 "nbformat_minor": 4
}
