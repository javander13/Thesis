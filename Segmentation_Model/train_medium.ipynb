{
 "cells": [
  {
   "cell_type": "markdown",
   "metadata": {},
   "source": [
    "# Training the model on images"
   ]
  },
  {
   "cell_type": "markdown",
   "metadata": {},
   "source": [
    "## Imports"
   ]
  },
  {
   "cell_type": "code",
   "execution_count": 1,
   "metadata": {},
   "outputs": [],
   "source": [
    "# load custom scripts\n",
    "from dataset import Dataset\n",
    "from utils import *\n",
    "import config \n",
    "\n",
    "# import the necessary packages\n",
    "from albumentations.pytorch import ToTensorV2\n",
    "from imutils import paths\n",
    "from skimage import io\n",
    "from sklearn.model_selection import train_test_split\n",
    "from torch import optim\n",
    "from torch.nn import CrossEntropyLoss \n",
    "from torch.optim import Adam\n",
    "from torch.utils.data import DataLoader, WeightedRandomSampler\n",
    "from torchvision import transforms, models\n",
    "from tqdm import tqdm\n",
    "from utils import EarlyStopping\n",
    "import albumentations as A\n",
    "import cv2\n",
    "import matplotlib.pyplot as plt\n",
    "import numpy as np\n",
    "import pandas as pd\n",
    "import plotly.express as px\n",
    "import plotly.graph_objects as go\n",
    "import random\n",
    "import segmentation_models_pytorch as smp\n",
    "import time\n",
    "import torch\n",
    "import torchmetrics\n",
    "import os"
   ]
  },
  {
   "cell_type": "markdown",
   "metadata": {},
   "source": [
    "## Controlling sources of randomness"
   ]
  },
  {
   "cell_type": "code",
   "execution_count": 2,
   "metadata": {},
   "outputs": [],
   "source": [
    "# Set seed\n",
    "SEED = 42\n",
    "seed_all(SEED)"
   ]
  },
  {
   "cell_type": "markdown",
   "metadata": {},
   "source": [
    "## Setup CUDA"
   ]
  },
  {
   "cell_type": "code",
   "execution_count": 3,
   "metadata": {},
   "outputs": [
    {
     "name": "stdout",
     "output_type": "stream",
     "text": [
      "Is CUDA supported by this system? True\n",
      "[INFO] CUDA version: 11.1\n",
      "[INFO] ID of current CUDA device:0\n",
      "[INFO] Name of current CUDA device:NVIDIA GeForce RTX 3090\n"
     ]
    }
   ],
   "source": [
    "print(f\"Is CUDA supported by this system? {torch.cuda.is_available()}\")\n",
    "print(f\"[INFO] CUDA version: {torch.version.cuda}\")\n",
    "  \n",
    "# storing ID of current CUDA device\n",
    "cuda_id = torch.cuda.current_device()\n",
    "print(f\"[INFO] ID of current CUDA device:{torch.cuda.current_device()}\")\n",
    "        \n",
    "print(f\"[INFO] Name of current CUDA device:{torch.cuda.get_device_name(cuda_id)}\")\n",
    "\n",
    "DEVICE = torch.device(\"cuda\" if torch.cuda.is_available() else \"cpu\")"
   ]
  },
  {
   "cell_type": "markdown",
   "metadata": {},
   "source": [
    "## Load images"
   ]
  },
  {
   "cell_type": "code",
   "execution_count": 4,
   "metadata": {},
   "outputs": [
    {
     "name": "stdout",
     "output_type": "stream",
     "text": [
      "[INFO] saving testing image paths...\n"
     ]
    }
   ],
   "source": [
    "# load the image and label filepaths in a sorted manner\n",
    "imagePaths = sorted(list(paths.list_images(\"/data/jantina/CoralNet/dataset/medium/images\")))\n",
    "labelPaths = sorted(list(paths.list_images(\"/data/jantina/CoralNet/dataset/medium/labels\")))\n",
    "\n",
    "\n",
    "trainImages, testImages, trainLabels, testLabels = train_test_split(imagePaths,\n",
    "                                                                    labelPaths,\n",
    "                                                                    test_size=0.2,\n",
    "                                                                    train_size=0.8,\n",
    "                                                                    random_state=SEED)\n",
    "testImages, valImages, testLabels, valLabels = train_test_split(testImages, \n",
    "                                                                  testLabels,\n",
    "                                                                  test_size=0.5,\n",
    "                                                                  train_size=0.5,\n",
    "                                                                  random_state=SEED)\n",
    "\n",
    "# get the masks corresponding to the labels\n",
    "trainMasks = [s.replace('labels', 'masks_9x9') for s in trainLabels]\n",
    "valMasks = [s.replace('labels', 'masks_9x9') for s in valLabels]\n",
    "\n",
    "# save testing images to disk\n",
    "print(\"[INFO] saving testing image paths...\")\n",
    "f = open(\"/data/jantina/CoralNet/dataset/medium/output/test_paths.txt\", \"w\")\n",
    "f.write(\"\\n\".join(testImages))\n",
    "f.close()"
   ]
  },
  {
   "cell_type": "markdown",
   "metadata": {},
   "source": [
    "## Example"
   ]
  },
  {
   "cell_type": "code",
   "execution_count": 5,
   "metadata": {},
   "outputs": [],
   "source": [
    "# new label classes\n",
    "classes = {1: 'hard coral',\n",
    "           2: 'hard coral bleached',\n",
    "           3: 'dead coral',\n",
    "           4: 'other invertebrates',\n",
    "           5: 'sand/rubble',\n",
    "           6: 'other',\n",
    "           7: 'algae',\n",
    "           8: 'seagrass',\n",
    "           9: 'unknown',\n",
    "           0: 'no label'\n",
    "          }"
   ]
  },
  {
   "cell_type": "code",
   "execution_count": 6,
   "metadata": {},
   "outputs": [
    {
     "name": "stdout",
     "output_type": "stream",
     "text": [
      "Image name: 2020-06-23-ADELUP-A-T1 12.5-B (P6230581).JPG\n",
      "Image dtype: uint8, Label dtype: uint8\n"
     ]
    }
   ],
   "source": [
    "a=random.randrange(len(trainImages))\n",
    "image = io.imread(trainImages[a])\n",
    "label = io.imread(trainLabels[a])\n",
    "mask = io.imread(trainMasks[a])\n",
    "\n",
    "print(f\"Image name: {trainImages[a].split('/')[-1]}\")\n",
    "print(f\"Image dtype: {image.dtype}, Label dtype: {label.dtype}\")"
   ]
  },
  {
   "cell_type": "code",
   "execution_count": 7,
   "metadata": {},
   "outputs": [
    {
     "data": {
      "image/png": "[encoded data removed]",
      "text/plain": [
       "<Figure size 1080x1080 with 3 Axes>"
      ]
     },
     "metadata": {
      "needs_background": "light"
     },
     "output_type": "display_data"
    }
   ],
   "source": [
    "fig, ax = plt.subplots(ncols=2, figsize=(15, 15))\n",
    "ax[0].imshow(image)\n",
    "ax[0].scatter(np.nonzero(mask)[1], np.nonzero(mask)[0], s=20, marker='.', c='r')\n",
    "\n",
    "cax = ax[1].imshow(label, cmap = plt.cm.get_cmap('tab20', 10), vmin=0, vmax=9)\n",
    "ax[1].scatter(np.nonzero(mask)[1], np.nonzero(mask)[0], s=20, marker='.', c='r')\n",
    "\n",
    "cbar = fig.colorbar(cax, ticks=list(classes.keys()), fraction=0.035, pad=0.05)\n",
    "cbar.ax.set_yticklabels(list(classes.values()))\n",
    "plt.show()"
   ]
  },
  {
   "cell_type": "markdown",
   "metadata": {},
   "source": [
    "## Transforms"
   ]
  },
  {
   "cell_type": "code",
   "execution_count": 8,
   "metadata": {},
   "outputs": [],
   "source": [
    "train_transform = A.Compose([\n",
    "    A.RandomResizedCrop(width=128, height=128, scale=(0.08, 1.0), ratio=(0.75, 1.33), \n",
    "                        interpolation=cv2.INTER_NEAREST),    \n",
    "    A.HorizontalFlip(p=0.5),              \n",
    "    A.RandomRotate90(p=0.5),\n",
    "    A.ColorJitter(brightness=0.1, contrast=0.1, saturation=0.1, hue=0.1, p=0.5),\n",
    "    A.GaussianBlur(blur_limit=(3, 7), sigma_limit=0, always_apply=False, p=0.5),\n",
    "    A.CLAHE(p=0.8),\n",
    "    A.RandomBrightnessContrast(p=0.8),    \n",
    "    A.RandomGamma(p=0.8),\n",
    "    A.Normalize(mean=(0.485, 0.456, 0.406), std=(0.229, 0.224, 0.225)),\n",
    "    ToTensorV2()],\n",
    "    additional_targets={'mask2': 'mask'}\n",
    ")"
   ]
  },
  {
   "cell_type": "code",
   "execution_count": 9,
   "metadata": {},
   "outputs": [],
   "source": [
    "val_transform = A.Compose([\n",
    "    A.RandomResizedCrop(width=128, height=128, scale=(0.08, 1.0), ratio=(0.75, 1.33), \n",
    "                        interpolation=cv2.INTER_NEAREST),    \n",
    "    A.Normalize(mean=(0.485, 0.456, 0.406), std=(0.229, 0.224, 0.225)),\n",
    "    ToTensorV2()],\n",
    "    additional_targets={'mask2': 'mask'}\n",
    ")"
   ]
  },
  {
   "cell_type": "markdown",
   "metadata": {},
   "source": [
    "## Example Transforms"
   ]
  },
  {
   "cell_type": "code",
   "execution_count": 10,
   "metadata": {},
   "outputs": [],
   "source": [
    "image = io.imread(trainImages[a])\n",
    "label = io.imread(trainLabels[a])\n",
    "mask = io.imread(trainMasks[a])\n",
    "transformed = train_transform(image=image, mask=label, mask2=mask)\n",
    "image = transformed[\"image\"]\n",
    "label = transformed[\"mask\"]\n",
    "mask = transformed[\"mask2\"]\n",
    "            \n",
    "# convert label and mask to long tensor\n",
    "label = label.type(torch.LongTensor)\n",
    "mask = mask.type(torch.LongTensor)"
   ]
  },
  {
   "cell_type": "code",
   "execution_count": 11,
   "metadata": {},
   "outputs": [
    {
     "name": "stderr",
     "output_type": "stream",
     "text": [
      "/tmp/ipykernel_329655/1473477371.py:10: MatplotlibDeprecationWarning:\n",
      "\n",
      "Starting from Matplotlib 3.6, colorbar() will steal space from the mappable's axes, rather than from the current axes, to place the colorbar.  To silence this warning, explicitly pass the 'ax' argument to colorbar().\n",
      "\n"
     ]
    },
    {
     "data": {
      "image/png": "[encoded data removed]",
      "text/plain": [
       "<Figure size 720x720 with 3 Axes>"
      ]
     },
     "metadata": {
      "needs_background": "light"
     },
     "output_type": "display_data"
    }
   ],
   "source": [
    "fig, ax = plt.subplots(ncols=2, figsize=(10, 10))\n",
    "ax[0].imshow(unnormalize(image).permute(1, 2, 0))\n",
    "ax[0].scatter(np.nonzero(mask)[:,1], np.nonzero(mask)[:,0], s=20, marker='.', c='r')\n",
    "\n",
    "ax[1].imshow(label,\n",
    "             cmap = plt.cm.get_cmap('tab20', 10), \n",
    "             vmin=0, vmax=9)\n",
    "ax[1].scatter(np.nonzero(mask)[:,1], np.nonzero(mask)[:,0], s=20, marker='.', c='r')\n",
    "\n",
    "cbar = fig.colorbar(cax, ticks=list(classes.keys()), fraction=0.035)\n",
    "cbar.ax.set_yticklabels(list(classes.values()))\n",
    "plt.show()"
   ]
  },
  {
   "cell_type": "markdown",
   "metadata": {},
   "source": [
    "## Create dataset"
   ]
  },
  {
   "cell_type": "code",
   "execution_count": 12,
   "metadata": {},
   "outputs": [
    {
     "name": "stdout",
     "output_type": "stream",
     "text": [
      "[INFO] found 3726 examples in the training set\n",
      "[INFO] found 466 examples in the validation set\n",
      "[INFO] found 466 examples in the test set\n",
      "[INFO] total time taken to load the data: 0.00s\n"
     ]
    }
   ],
   "source": [
    "# create the train and validation datasets\n",
    "startTime = time.time()\n",
    "trainDS = Dataset(imagePaths=trainImages, labelPaths = trainLabels, maskPaths=trainMasks, transform=train_transform)\n",
    "valDS = Dataset(imagePaths=valImages, labelPaths = valLabels, maskPaths=valMasks, transform=val_transform)\n",
    "print(f\"[INFO] found {len(trainDS)} examples in the training set\")\n",
    "print(f\"[INFO] found {len(valDS)} examples in the validation set\")\n",
    "print(f\"[INFO] found {len(testImages)} examples in the test set\")\n",
    "endTime = time.time()\n",
    "print(\"[INFO] total time taken to load the data: {:.2f}s\".format(endTime - startTime))"
   ]
  },
  {
   "cell_type": "code",
   "execution_count": 13,
   "metadata": {},
   "outputs": [
    {
     "name": "stdout",
     "output_type": "stream",
     "text": [
      "Feature shape: torch.Size([3, 128, 128]), Feature type: torch.float32\n",
      "Label shape: torch.Size([128, 128]), Label type: torch.int64\n",
      "Mask shape: torch.Size([128, 128]), Mask type: torch.int64\n"
     ]
    }
   ],
   "source": [
    "sample = valDS[0]\n",
    "print(f\"Feature shape: {sample[0].shape}, Feature type: {sample[0].dtype}\")\n",
    "print(f\"Label shape: {sample[1].shape}, Label type: {sample[1].dtype}\")\n",
    "print(f\"Mask shape: {sample[2].shape}, Mask type: {sample[2].dtype}\")"
   ]
  },
  {
   "cell_type": "code",
   "execution_count": 14,
   "metadata": {},
   "outputs": [],
   "source": [
    "config.BATCH_SIZE = 466"
   ]
  },
  {
   "cell_type": "code",
   "execution_count": 15,
   "metadata": {},
   "outputs": [],
   "source": [
    "# create the training and validation data loaders\n",
    "trainLoader = DataLoader(trainDS, shuffle=True, \n",
    "                         batch_size=config.BATCH_SIZE, \n",
    "                         pin_memory=config.PIN_MEMORY, \n",
    "                         num_workers=os.cpu_count(),\n",
    "                         persistent_workers=True,\n",
    "                         worker_init_fn=seed_worker)\n",
    "\n",
    "valLoader = DataLoader(valDS, shuffle=False, \n",
    "                       batch_size=config.BATCH_SIZE, \n",
    "                       pin_memory=config.PIN_MEMORY, \n",
    "                       num_workers=os.cpu_count(),\n",
    "                       persistent_workers=True,\n",
    "                       worker_init_fn=seed_worker)"
   ]
  },
  {
   "cell_type": "code",
   "execution_count": 16,
   "metadata": {},
   "outputs": [
    {
     "name": "stdout",
     "output_type": "stream",
     "text": [
      "[INFO] batch_size:466\n",
      "[INFO] num_workers:32\n"
     ]
    }
   ],
   "source": [
    "print(f\"[INFO] batch_size:{config.BATCH_SIZE}\")\n",
    "print(f\"[INFO] num_workers:{os.cpu_count()}\")"
   ]
  },
  {
   "cell_type": "markdown",
   "metadata": {},
   "source": [
    "## Model initialization"
   ]
  },
  {
   "cell_type": "code",
   "execution_count": 17,
   "metadata": {},
   "outputs": [],
   "source": [
    "# import a pretrained model\n",
    "model = smp.Unet(\n",
    "    encoder_name=\"resnet18\",\n",
    "    encoder_weights=\"imagenet\",\n",
    "    in_channels=3,      \n",
    "    classes=len(classes)\n",
    ")"
   ]
  },
  {
   "cell_type": "code",
   "execution_count": 18,
   "metadata": {},
   "outputs": [],
   "source": [
    "# initialize model\n",
    "unet = model.to(config.DEVICE)\n",
    "\n",
    "# class weights\n",
    "#w = np.array([0, 0.83332256, 0.99374076, 0.55343069, 0.97986531, 0.79508821, 0.98954279, 0.85796154, 0.99934462, 0.9977035])\n",
    "#cw = torch.tensor([w[0], w[1], w[2], w[3], w[4], w[5], w[6], w[7], w[8], w[9]], dtype=torch.float32).to(config.DEVICE) \n",
    "#lossFunc = CrossEntropyLoss(ignore_index=0, weight=cw)\n",
    "\n",
    "# initialize loss function\n",
    "lossFunc = CrossEntropyLoss(ignore_index=0)\n",
    "\n",
    "config.INIT_LR = 10*(1e-4 * config.BATCH_SIZE / 10)\n",
    "\n",
    "# initialize optimizer\n",
    "opt = Adam(unet.parameters(), lr=config.INIT_LR)\n",
    "\n",
    "# calculate steps per epoch for training and validation set\n",
    "trainSteps = len(trainDS) // config.BATCH_SIZE\n",
    "valSteps = len(valDS) // config.BATCH_SIZE\n",
    "\n",
    "# initialize a dictionary to store training history\n",
    "H = {\"train_loss\": [], \"validation_loss\": []}"
   ]
  },
  {
   "cell_type": "code",
   "execution_count": 19,
   "metadata": {},
   "outputs": [],
   "source": [
    "# initialize metrics\n",
    "acc = torchmetrics.Accuracy(ignore_index=0)\n",
    "\n",
    "# move the metrics to device\n",
    "acc.to(config.DEVICE)\n",
    "\n",
    "# initialize a dictionary to store metrics history\n",
    "metrics = {\"train_accuracyGT\": [], \"val_accuracyGT\": [],\n",
    "          \"train_accuracyAGT\": [], \"val_accuracyAGT\": [],\n",
    "          \"train_accuracyAGT2\": [], \"val_accuracyAGT2\": []}"
   ]
  },
  {
   "cell_type": "code",
   "execution_count": 20,
   "metadata": {},
   "outputs": [],
   "source": [
    "# initialize the early_stopping object\n",
    "early_stopping = EarlyStopping(patience=10, verbose=True, \n",
    "                               path=\"/data/jantina/CoralNet/dataset/medium/output/checkpoint.pt\")"
   ]
  },
  {
   "cell_type": "code",
   "execution_count": 21,
   "metadata": {},
   "outputs": [],
   "source": [
    "#initialize scheduler\n",
    "scheduler = optim.lr_scheduler.ReduceLROnPlateau(opt, \"min\", patience=4, verbose=1)\n",
    "grad_scaler = torch.cuda.amp.GradScaler(enabled=False)"
   ]
  },
  {
   "cell_type": "markdown",
   "metadata": {},
   "source": [
    "## Training loop"
   ]
  },
  {
   "cell_type": "code",
   "execution_count": 22,
   "metadata": {
    "scrolled": true
   },
   "outputs": [
    {
     "name": "stdout",
     "output_type": "stream",
     "text": [
      "[INFO] training the network...\n"
     ]
    },
    {
     "name": "stderr",
     "output_type": "stream",
     "text": [
      "  1%|█▎                                                                                                                            | 1/100 [02:52<4:45:03, 172.76s/it]"
     ]
    },
    {
     "name": "stdout",
     "output_type": "stream",
     "text": [
      "Validation loss decreased (inf --> 1549765760.000000).  Saving model ...\n",
      "[INFO] EPOCH: 1/100\n",
      "Train loss: 1.954959, Validation loss: 1549765760.0000\n",
      "GT Train Accuracy: 0.2818\n",
      "AGT Train Accuracy: inf\n",
      "AGT 2 Train Accuracy: 0.2940\n",
      "GT Val Accuracy: 0.1027\n",
      "AGT Val Accuracy: 0.1087\n",
      "AGT 2 Val Accuracy: 0.1072\n"
     ]
    },
    {
     "name": "stderr",
     "output_type": "stream",
     "text": [
      "\r",
      "  2%|██▌                                                                                                                           | 2/100 [05:39<4:36:26, 169.25s/it]"
     ]
    },
    {
     "name": "stdout",
     "output_type": "stream",
     "text": [
      "Validation loss decreased (1549765760.000000 --> 80467.195312).  Saving model ...\n",
      "[INFO] EPOCH: 2/100\n",
      "Train loss: 1.700040, Validation loss: 80467.1953\n",
      "GT Train Accuracy: 0.3065\n",
      "AGT Train Accuracy: 0.3222\n",
      "AGT 2 Train Accuracy: 0.3204\n",
      "GT Val Accuracy: 0.1791\n",
      "AGT Val Accuracy: 0.1871\n",
      "AGT 2 Val Accuracy: 0.1848\n"
     ]
    },
    {
     "name": "stderr",
     "output_type": "stream",
     "text": [
      "\r",
      "  3%|███▊                                                                                                                          | 3/100 [08:27<4:32:30, 168.56s/it]"
     ]
    },
    {
     "name": "stdout",
     "output_type": "stream",
     "text": [
      "Validation loss decreased (80467.195312 --> 62.842014).  Saving model ...\n",
      "[INFO] EPOCH: 3/100\n",
      "Train loss: 1.678748, Validation loss: 62.8420\n",
      "GT Train Accuracy: 0.3059\n",
      "AGT Train Accuracy: 0.3240\n",
      "AGT 2 Train Accuracy: 0.3222\n",
      "GT Val Accuracy: 0.2976\n",
      "AGT Val Accuracy: 0.2854\n",
      "AGT 2 Val Accuracy: 0.2839\n"
     ]
    },
    {
     "name": "stderr",
     "output_type": "stream",
     "text": [
      "\r",
      "  4%|█████                                                                                                                         | 4/100 [11:14<4:28:40, 167.92s/it]"
     ]
    },
    {
     "name": "stdout",
     "output_type": "stream",
     "text": [
      "Validation loss decreased (62.842014 --> 1.411309).  Saving model ...\n",
      "[INFO] EPOCH: 4/100\n",
      "Train loss: 1.609477, Validation loss: 1.4113\n",
      "GT Train Accuracy: 0.4056\n",
      "AGT Train Accuracy: 0.4097\n",
      "AGT 2 Train Accuracy: 0.4078\n",
      "GT Val Accuracy: 0.4837\n",
      "AGT Val Accuracy: 0.4890\n",
      "AGT 2 Val Accuracy: 0.4875\n"
     ]
    },
    {
     "name": "stderr",
     "output_type": "stream",
     "text": [
      "\r",
      "  5%|██████▎                                                                                                                       | 5/100 [13:58<4:23:32, 166.45s/it]"
     ]
    },
    {
     "name": "stdout",
     "output_type": "stream",
     "text": [
      "EarlyStopping counter: 1 out of 10\n",
      "[INFO] EPOCH: 5/100\n",
      "Train loss: 1.529838, Validation loss: 3.3129\n",
      "GT Train Accuracy: 0.5002\n",
      "AGT Train Accuracy: 0.4999\n",
      "AGT 2 Train Accuracy: 0.4981\n",
      "GT Val Accuracy: 0.3791\n",
      "AGT Val Accuracy: 0.4157\n",
      "AGT 2 Val Accuracy: 0.4142\n"
     ]
    },
    {
     "name": "stderr",
     "output_type": "stream",
     "text": [
      "\r",
      "  6%|███████▌                                                                                                                      | 6/100 [16:38<4:17:19, 164.25s/it]"
     ]
    },
    {
     "name": "stdout",
     "output_type": "stream",
     "text": [
      "EarlyStopping counter: 2 out of 10\n",
      "[INFO] EPOCH: 6/100\n",
      "Train loss: 1.485767, Validation loss: 3.1179\n",
      "GT Train Accuracy: 0.5217\n",
      "AGT Train Accuracy: 0.5198\n",
      "AGT 2 Train Accuracy: 0.5174\n",
      "GT Val Accuracy: 0.5586\n",
      "AGT Val Accuracy: 0.5284\n",
      "AGT 2 Val Accuracy: 0.5257\n"
     ]
    },
    {
     "name": "stderr",
     "output_type": "stream",
     "text": [
      "\r",
      "  7%|████████▊                                                                                                                     | 7/100 [19:16<4:11:44, 162.42s/it]"
     ]
    },
    {
     "name": "stdout",
     "output_type": "stream",
     "text": [
      "EarlyStopping counter: 3 out of 10\n",
      "[INFO] EPOCH: 7/100\n",
      "Train loss: 1.458749, Validation loss: 1.4158\n",
      "GT Train Accuracy: 0.5291\n",
      "AGT Train Accuracy: 0.5236\n",
      "AGT 2 Train Accuracy: 0.5218\n",
      "GT Val Accuracy: 0.5258\n",
      "AGT Val Accuracy: 0.5187\n",
      "AGT 2 Val Accuracy: 0.5172\n"
     ]
    },
    {
     "name": "stderr",
     "output_type": "stream",
     "text": [
      "\r",
      "  8%|██████████                                                                                                                    | 8/100 [21:56<4:07:38, 161.51s/it]"
     ]
    },
    {
     "name": "stdout",
     "output_type": "stream",
     "text": [
      "Validation loss decreased (1.411309 --> 1.368205).  Saving model ...\n",
      "[INFO] EPOCH: 8/100\n",
      "Train loss: 1.440604, Validation loss: 1.3682\n",
      "GT Train Accuracy: 0.5532\n",
      "AGT Train Accuracy: 0.5361\n",
      "AGT 2 Train Accuracy: 0.5342\n",
      "GT Val Accuracy: 0.5998\n",
      "AGT Val Accuracy: 0.5559\n",
      "AGT 2 Val Accuracy: 0.5543\n"
     ]
    },
    {
     "name": "stderr",
     "output_type": "stream",
     "text": [
      "\r",
      "  9%|███████████▎                                                                                                                  | 9/100 [24:36<4:04:22, 161.12s/it]"
     ]
    },
    {
     "name": "stdout",
     "output_type": "stream",
     "text": [
      "Validation loss decreased (1.368205 --> 1.303617).  Saving model ...\n",
      "[INFO] EPOCH: 9/100\n",
      "Train loss: 1.425876, Validation loss: 1.3036\n",
      "GT Train Accuracy: 0.5527\n",
      "AGT Train Accuracy: 0.5436\n",
      "AGT 2 Train Accuracy: 0.5418\n",
      "GT Val Accuracy: 0.5778\n",
      "AGT Val Accuracy: 0.5608\n",
      "AGT 2 Val Accuracy: 0.5592\n"
     ]
    },
    {
     "name": "stderr",
     "output_type": "stream",
     "text": [
      "\r",
      " 10%|████████████▌                                                                                                                | 10/100 [27:16<4:01:20, 160.89s/it]"
     ]
    },
    {
     "name": "stdout",
     "output_type": "stream",
     "text": [
      "Validation loss decreased (1.303617 --> 1.253532).  Saving model ...\n",
      "[INFO] EPOCH: 10/100\n",
      "Train loss: 1.433931, Validation loss: 1.2535\n",
      "GT Train Accuracy: 0.5543\n",
      "AGT Train Accuracy: 0.5460\n",
      "AGT 2 Train Accuracy: 0.5440\n",
      "GT Val Accuracy: 0.5603\n",
      "AGT Val Accuracy: 0.5673\n",
      "AGT 2 Val Accuracy: 0.5658\n"
     ]
    },
    {
     "name": "stderr",
     "output_type": "stream",
     "text": [
      "\r",
      " 11%|█████████████▊                                                                                                               | 11/100 [30:00<3:59:50, 161.69s/it]"
     ]
    },
    {
     "name": "stdout",
     "output_type": "stream",
     "text": [
      "Validation loss decreased (1.253532 --> 1.239264).  Saving model ...\n",
      "[INFO] EPOCH: 11/100\n",
      "Train loss: 1.415248, Validation loss: 1.2393\n",
      "GT Train Accuracy: 0.5588\n",
      "AGT Train Accuracy: 0.5518\n",
      "AGT 2 Train Accuracy: 0.5498\n",
      "GT Val Accuracy: 0.6010\n",
      "AGT Val Accuracy: 0.5798\n",
      "AGT 2 Val Accuracy: 0.5784\n"
     ]
    },
    {
     "name": "stderr",
     "output_type": "stream",
     "text": [
      "\r",
      " 12%|███████████████                                                                                                              | 12/100 [32:40<3:56:28, 161.24s/it]"
     ]
    },
    {
     "name": "stdout",
     "output_type": "stream",
     "text": [
      "Validation loss decreased (1.239264 --> 1.193121).  Saving model ...\n",
      "[INFO] EPOCH: 12/100\n",
      "Train loss: 1.400517, Validation loss: 1.1931\n",
      "GT Train Accuracy: 0.5700\n",
      "AGT Train Accuracy: 0.5593\n",
      "AGT 2 Train Accuracy: 0.5573\n",
      "GT Val Accuracy: 0.5963\n",
      "AGT Val Accuracy: 0.5792\n",
      "AGT 2 Val Accuracy: 0.5778\n"
     ]
    },
    {
     "name": "stderr",
     "output_type": "stream",
     "text": [
      "\r",
      " 13%|████████████████▎                                                                                                            | 13/100 [35:21<3:53:50, 161.27s/it]"
     ]
    },
    {
     "name": "stdout",
     "output_type": "stream",
     "text": [
      "Validation loss decreased (1.193121 --> 1.183660).  Saving model ...\n",
      "[INFO] EPOCH: 13/100\n",
      "Train loss: 1.397089, Validation loss: 1.1837\n",
      "GT Train Accuracy: 0.5658\n",
      "AGT Train Accuracy: 0.5611\n",
      "AGT 2 Train Accuracy: 0.5588\n",
      "GT Val Accuracy: 0.6101\n",
      "AGT Val Accuracy: 0.5765\n",
      "AGT 2 Val Accuracy: 0.5750\n"
     ]
    },
    {
     "name": "stderr",
     "output_type": "stream",
     "text": [
      "\r",
      " 14%|█████████████████▌                                                                                                           | 14/100 [38:03<3:51:19, 161.39s/it]"
     ]
    },
    {
     "name": "stdout",
     "output_type": "stream",
     "text": [
      "EarlyStopping counter: 1 out of 10\n",
      "[INFO] EPOCH: 14/100\n",
      "Train loss: 1.385271, Validation loss: 1.2093\n",
      "GT Train Accuracy: 0.5668\n",
      "AGT Train Accuracy: 0.5642\n",
      "AGT 2 Train Accuracy: 0.5623\n",
      "GT Val Accuracy: 0.5782\n",
      "AGT Val Accuracy: 0.5708\n",
      "AGT 2 Val Accuracy: 0.5693\n"
     ]
    },
    {
     "name": "stderr",
     "output_type": "stream",
     "text": [
      "\r",
      " 15%|██████████████████▊                                                                                                          | 15/100 [40:46<3:49:13, 161.81s/it]"
     ]
    },
    {
     "name": "stdout",
     "output_type": "stream",
     "text": [
      "EarlyStopping counter: 2 out of 10\n",
      "[INFO] EPOCH: 15/100\n",
      "Train loss: 1.401094, Validation loss: 1.1862\n",
      "GT Train Accuracy: 0.5828\n",
      "AGT Train Accuracy: 0.5596\n",
      "AGT 2 Train Accuracy: 0.5578\n",
      "GT Val Accuracy: 0.5538\n",
      "AGT Val Accuracy: 0.5588\n",
      "AGT 2 Val Accuracy: 0.5573\n"
     ]
    },
    {
     "name": "stderr",
     "output_type": "stream",
     "text": [
      "\r",
      " 16%|████████████████████                                                                                                         | 16/100 [43:29<3:47:06, 162.22s/it]"
     ]
    },
    {
     "name": "stdout",
     "output_type": "stream",
     "text": [
      "Validation loss decreased (1.183660 --> 1.159188).  Saving model ...\n",
      "[INFO] EPOCH: 16/100\n",
      "Train loss: 1.381272, Validation loss: 1.1592\n",
      "GT Train Accuracy: 0.5741\n",
      "AGT Train Accuracy: 0.5636\n",
      "AGT 2 Train Accuracy: 0.5619\n",
      "GT Val Accuracy: 0.6065\n",
      "AGT Val Accuracy: 0.5925\n",
      "AGT 2 Val Accuracy: 0.5909\n"
     ]
    },
    {
     "name": "stderr",
     "output_type": "stream",
     "text": [
      "\r",
      " 17%|█████████████████████▎                                                                                                       | 17/100 [46:14<3:45:22, 162.92s/it]"
     ]
    },
    {
     "name": "stdout",
     "output_type": "stream",
     "text": [
      "EarlyStopping counter: 1 out of 10\n",
      "[INFO] EPOCH: 17/100\n",
      "Train loss: 1.393810, Validation loss: 1.2208\n",
      "GT Train Accuracy: 0.5753\n",
      "AGT Train Accuracy: 0.5586\n",
      "AGT 2 Train Accuracy: 0.5568\n",
      "GT Val Accuracy: 0.5548\n",
      "AGT Val Accuracy: 0.5620\n",
      "AGT 2 Val Accuracy: 0.5605\n"
     ]
    },
    {
     "name": "stderr",
     "output_type": "stream",
     "text": [
      "\r",
      " 18%|██████████████████████▌                                                                                                      | 18/100 [48:56<3:42:23, 162.73s/it]"
     ]
    },
    {
     "name": "stdout",
     "output_type": "stream",
     "text": [
      "EarlyStopping counter: 2 out of 10\n",
      "[INFO] EPOCH: 18/100\n",
      "Train loss: 1.380093, Validation loss: 1.1872\n",
      "GT Train Accuracy: 0.5719\n",
      "AGT Train Accuracy: 0.5653\n",
      "AGT 2 Train Accuracy: 0.5635\n",
      "GT Val Accuracy: 0.5832\n",
      "AGT Val Accuracy: 0.5863\n",
      "AGT 2 Val Accuracy: 0.5847\n"
     ]
    },
    {
     "name": "stderr",
     "output_type": "stream",
     "text": [
      "\r",
      " 19%|███████████████████████▊                                                                                                     | 19/100 [51:39<3:39:55, 162.91s/it]"
     ]
    },
    {
     "name": "stdout",
     "output_type": "stream",
     "text": [
      "EarlyStopping counter: 3 out of 10\n",
      "[INFO] EPOCH: 19/100\n",
      "Train loss: 1.378456, Validation loss: 1.1792\n",
      "GT Train Accuracy: 0.5800\n",
      "AGT Train Accuracy: 0.5674\n",
      "AGT 2 Train Accuracy: 0.5648\n",
      "GT Val Accuracy: 0.6185\n",
      "AGT Val Accuracy: 0.5843\n",
      "AGT 2 Val Accuracy: 0.5828\n"
     ]
    },
    {
     "name": "stderr",
     "output_type": "stream",
     "text": [
      "\r",
      " 20%|█████████████████████████                                                                                                    | 20/100 [54:21<3:36:40, 162.51s/it]"
     ]
    },
    {
     "name": "stdout",
     "output_type": "stream",
     "text": [
      "EarlyStopping counter: 4 out of 10\n",
      "[INFO] EPOCH: 20/100\n",
      "Train loss: 1.377650, Validation loss: 1.2606\n",
      "GT Train Accuracy: 0.5768\n",
      "AGT Train Accuracy: 0.5635\n",
      "AGT 2 Train Accuracy: 0.5614\n",
      "GT Val Accuracy: 0.5353\n",
      "AGT Val Accuracy: 0.5314\n",
      "AGT 2 Val Accuracy: 0.5299\n"
     ]
    },
    {
     "name": "stderr",
     "output_type": "stream",
     "text": [
      "\r",
      " 21%|██████████████████████████▎                                                                                                  | 21/100 [57:05<3:34:42, 163.07s/it]"
     ]
    },
    {
     "name": "stdout",
     "output_type": "stream",
     "text": [
      "Validation loss decreased (1.159188 --> 1.135679).  Saving model ...\n",
      "[INFO] EPOCH: 21/100\n",
      "Train loss: 1.369000, Validation loss: 1.1357\n",
      "GT Train Accuracy: 0.5761\n",
      "AGT Train Accuracy: 0.5667\n",
      "AGT 2 Train Accuracy: 0.5649\n",
      "GT Val Accuracy: 0.6043\n",
      "AGT Val Accuracy: 0.5968\n",
      "AGT 2 Val Accuracy: 0.5953\n"
     ]
    },
    {
     "name": "stderr",
     "output_type": "stream",
     "text": [
      "\r",
      " 22%|███████████████████████████▌                                                                                                 | 22/100 [59:48<3:31:43, 162.87s/it]"
     ]
    },
    {
     "name": "stdout",
     "output_type": "stream",
     "text": [
      "EarlyStopping counter: 1 out of 10\n",
      "[INFO] EPOCH: 22/100\n",
      "Train loss: 1.355080, Validation loss: 1.2199\n",
      "GT Train Accuracy: 0.5832\n",
      "AGT Train Accuracy: 0.5720\n",
      "AGT 2 Train Accuracy: 0.5700\n",
      "GT Val Accuracy: 0.5344\n",
      "AGT Val Accuracy: 0.5364\n",
      "AGT 2 Val Accuracy: 0.5349\n"
     ]
    },
    {
     "name": "stderr",
     "output_type": "stream",
     "text": [
      "\r",
      " 23%|████████████████████████████▎                                                                                              | 23/100 [1:02:33<3:29:53, 163.55s/it]"
     ]
    },
    {
     "name": "stdout",
     "output_type": "stream",
     "text": [
      "EarlyStopping counter: 2 out of 10\n",
      "[INFO] EPOCH: 23/100\n",
      "Train loss: 1.346751, Validation loss: 1.2284\n",
      "GT Train Accuracy: 0.5836\n",
      "AGT Train Accuracy: 0.5680\n",
      "AGT 2 Train Accuracy: 0.5659\n",
      "GT Val Accuracy: 0.5418\n",
      "AGT Val Accuracy: 0.5497\n",
      "AGT 2 Val Accuracy: 0.5482\n"
     ]
    },
    {
     "name": "stderr",
     "output_type": "stream",
     "text": [
      "\r",
      " 24%|█████████████████████████████▌                                                                                             | 24/100 [1:05:15<3:26:43, 163.20s/it]"
     ]
    },
    {
     "name": "stdout",
     "output_type": "stream",
     "text": [
      "Validation loss decreased (1.135679 --> 1.135648).  Saving model ...\n",
      "[INFO] EPOCH: 24/100\n",
      "Train loss: 1.335333, Validation loss: 1.1356\n",
      "GT Train Accuracy: 0.5920\n",
      "AGT Train Accuracy: 0.5776\n",
      "AGT 2 Train Accuracy: 0.5755\n",
      "GT Val Accuracy: 0.6122\n",
      "AGT Val Accuracy: 0.5948\n",
      "AGT 2 Val Accuracy: 0.5933\n"
     ]
    },
    {
     "name": "stderr",
     "output_type": "stream",
     "text": [
      "\r",
      " 25%|██████████████████████████████▊                                                                                            | 25/100 [1:08:00<3:24:31, 163.61s/it]"
     ]
    },
    {
     "name": "stdout",
     "output_type": "stream",
     "text": [
      "EarlyStopping counter: 1 out of 10\n",
      "[INFO] EPOCH: 25/100\n",
      "Train loss: 1.326521, Validation loss: 1.3258\n",
      "GT Train Accuracy: 0.5884\n",
      "AGT Train Accuracy: 0.5768\n",
      "AGT 2 Train Accuracy: 0.5747\n",
      "GT Val Accuracy: 0.4937\n",
      "AGT Val Accuracy: 0.4895\n",
      "AGT 2 Val Accuracy: 0.4880\n",
      "Epoch    26: reducing learning rate of group 0 to 4.6600e-03.\n"
     ]
    },
    {
     "name": "stderr",
     "output_type": "stream",
     "text": [
      "\r",
      " 26%|███████████████████████████████▉                                                                                           | 26/100 [1:10:43<3:21:45, 163.59s/it]"
     ]
    },
    {
     "name": "stdout",
     "output_type": "stream",
     "text": [
      "EarlyStopping counter: 2 out of 10\n",
      "[INFO] EPOCH: 26/100\n",
      "Train loss: 1.327631, Validation loss: 1.1644\n",
      "GT Train Accuracy: 0.5922\n",
      "AGT Train Accuracy: 0.5773\n",
      "AGT 2 Train Accuracy: 0.5755\n",
      "GT Val Accuracy: 0.5657\n",
      "AGT Val Accuracy: 0.5749\n",
      "AGT 2 Val Accuracy: 0.5733\n"
     ]
    },
    {
     "name": "stderr",
     "output_type": "stream",
     "text": [
      "\r",
      " 27%|█████████████████████████████████▏                                                                                         | 27/100 [1:13:27<3:19:13, 163.74s/it]"
     ]
    },
    {
     "name": "stdout",
     "output_type": "stream",
     "text": [
      "Validation loss decreased (1.135648 --> 1.107558).  Saving model ...\n",
      "[INFO] EPOCH: 27/100\n",
      "Train loss: 1.307561, Validation loss: 1.1076\n",
      "GT Train Accuracy: 0.6012\n",
      "AGT Train Accuracy: 0.5848\n",
      "AGT 2 Train Accuracy: 0.5828\n",
      "GT Val Accuracy: 0.6046\n",
      "AGT Val Accuracy: 0.6000\n",
      "AGT 2 Val Accuracy: 0.5985\n"
     ]
    },
    {
     "name": "stderr",
     "output_type": "stream",
     "text": [
      "\r",
      " 28%|██████████████████████████████████▍                                                                                        | 28/100 [1:16:13<3:17:16, 164.40s/it]"
     ]
    },
    {
     "name": "stdout",
     "output_type": "stream",
     "text": [
      "Validation loss decreased (1.107558 --> 1.092509).  Saving model ...\n",
      "[INFO] EPOCH: 28/100\n",
      "Train loss: 1.292739, Validation loss: 1.0925\n",
      "GT Train Accuracy: 0.5977\n",
      "AGT Train Accuracy: 0.5864\n",
      "AGT 2 Train Accuracy: 0.5845\n",
      "GT Val Accuracy: 0.6176\n",
      "AGT Val Accuracy: 0.6057\n",
      "AGT 2 Val Accuracy: 0.6043\n"
     ]
    },
    {
     "name": "stderr",
     "output_type": "stream",
     "text": [
      "\r",
      " 29%|███████████████████████████████████▋                                                                                       | 29/100 [1:18:57<3:14:24, 164.29s/it]"
     ]
    },
    {
     "name": "stdout",
     "output_type": "stream",
     "text": [
      "EarlyStopping counter: 1 out of 10\n",
      "[INFO] EPOCH: 29/100\n",
      "Train loss: 1.297895, Validation loss: 1.1153\n",
      "GT Train Accuracy: 0.5952\n",
      "AGT Train Accuracy: 0.5837\n",
      "AGT 2 Train Accuracy: 0.5819\n",
      "GT Val Accuracy: 0.5953\n",
      "AGT Val Accuracy: 0.5978\n",
      "AGT 2 Val Accuracy: 0.5963\n"
     ]
    },
    {
     "name": "stderr",
     "output_type": "stream",
     "text": [
      "\r",
      " 30%|████████████████████████████████████▉                                                                                      | 30/100 [1:21:39<3:10:51, 163.59s/it]"
     ]
    },
    {
     "name": "stdout",
     "output_type": "stream",
     "text": [
      "Validation loss decreased (1.092509 --> 1.080277).  Saving model ...\n",
      "[INFO] EPOCH: 30/100\n",
      "Train loss: 1.287293, Validation loss: 1.0803\n",
      "GT Train Accuracy: 0.6080\n",
      "AGT Train Accuracy: 0.5899\n",
      "AGT 2 Train Accuracy: 0.5882\n",
      "GT Val Accuracy: 0.6215\n",
      "AGT Val Accuracy: 0.6131\n",
      "AGT 2 Val Accuracy: 0.6116\n"
     ]
    },
    {
     "name": "stderr",
     "output_type": "stream",
     "text": [
      "\r",
      " 31%|██████████████████████████████████████▏                                                                                    | 31/100 [1:24:23<3:08:03, 163.54s/it]"
     ]
    },
    {
     "name": "stdout",
     "output_type": "stream",
     "text": [
      "Validation loss decreased (1.080277 --> 1.068889).  Saving model ...\n",
      "[INFO] EPOCH: 31/100\n",
      "Train loss: 1.291915, Validation loss: 1.0689\n",
      "GT Train Accuracy: 0.6090\n",
      "AGT Train Accuracy: 0.5875\n",
      "AGT 2 Train Accuracy: 0.5854\n",
      "GT Val Accuracy: 0.6401\n",
      "AGT Val Accuracy: 0.6253\n",
      "AGT 2 Val Accuracy: 0.6238\n"
     ]
    },
    {
     "name": "stderr",
     "output_type": "stream",
     "text": [
      "\r",
      " 32%|███████████████████████████████████████▎                                                                                   | 32/100 [1:27:02<3:03:52, 162.25s/it]"
     ]
    },
    {
     "name": "stdout",
     "output_type": "stream",
     "text": [
      "EarlyStopping counter: 1 out of 10\n",
      "[INFO] EPOCH: 32/100\n",
      "Train loss: 1.296050, Validation loss: 1.1071\n",
      "GT Train Accuracy: 0.6003\n",
      "AGT Train Accuracy: 0.5862\n",
      "AGT 2 Train Accuracy: 0.5842\n",
      "GT Val Accuracy: 0.6480\n",
      "AGT Val Accuracy: 0.6078\n",
      "AGT 2 Val Accuracy: 0.6063\n"
     ]
    },
    {
     "name": "stderr",
     "output_type": "stream",
     "text": [
      "\r",
      " 33%|████████████████████████████████████████▌                                                                                  | 33/100 [1:29:36<2:58:20, 159.71s/it]"
     ]
    },
    {
     "name": "stdout",
     "output_type": "stream",
     "text": [
      "EarlyStopping counter: 2 out of 10\n",
      "[INFO] EPOCH: 33/100\n",
      "Train loss: 1.285405, Validation loss: 1.0932\n",
      "GT Train Accuracy: 0.5940\n",
      "AGT Train Accuracy: 0.5893\n",
      "AGT 2 Train Accuracy: 0.5873\n",
      "GT Val Accuracy: 0.6205\n",
      "AGT Val Accuracy: 0.6090\n",
      "AGT 2 Val Accuracy: 0.6061\n"
     ]
    },
    {
     "name": "stderr",
     "output_type": "stream",
     "text": [
      "\r",
      " 34%|█████████████████████████████████████████▊                                                                                 | 34/100 [1:32:11<2:54:08, 158.31s/it]"
     ]
    },
    {
     "name": "stdout",
     "output_type": "stream",
     "text": [
      "EarlyStopping counter: 3 out of 10\n",
      "[INFO] EPOCH: 34/100\n",
      "Train loss: 1.287199, Validation loss: 1.0767\n",
      "GT Train Accuracy: 0.5995\n",
      "AGT Train Accuracy: 0.5892\n",
      "AGT 2 Train Accuracy: 0.5873\n",
      "GT Val Accuracy: 0.6371\n",
      "AGT Val Accuracy: 0.6191\n",
      "AGT 2 Val Accuracy: 0.6177\n"
     ]
    },
    {
     "name": "stderr",
     "output_type": "stream",
     "text": [
      "\r",
      " 35%|███████████████████████████████████████████                                                                                | 35/100 [1:34:50<2:51:50, 158.62s/it]"
     ]
    },
    {
     "name": "stdout",
     "output_type": "stream",
     "text": [
      "EarlyStopping counter: 4 out of 10\n",
      "[INFO] EPOCH: 35/100\n",
      "Train loss: 1.274367, Validation loss: 1.1015\n",
      "GT Train Accuracy: 0.6027\n",
      "AGT Train Accuracy: 0.5918\n",
      "AGT 2 Train Accuracy: 0.5898\n",
      "GT Val Accuracy: 0.6031\n",
      "AGT Val Accuracy: 0.5965\n",
      "AGT 2 Val Accuracy: 0.5950\n",
      "Epoch    36: reducing learning rate of group 0 to 4.6600e-04.\n"
     ]
    },
    {
     "name": "stderr",
     "output_type": "stream",
     "text": [
      "\r",
      " 36%|████████████████████████████████████████████▎                                                                              | 36/100 [1:37:25<2:47:58, 157.48s/it]"
     ]
    },
    {
     "name": "stdout",
     "output_type": "stream",
     "text": [
      "EarlyStopping counter: 5 out of 10\n",
      "[INFO] EPOCH: 36/100\n",
      "Train loss: 1.283690, Validation loss: 1.1268\n",
      "GT Train Accuracy: 0.5972\n",
      "AGT Train Accuracy: 0.5911\n",
      "AGT 2 Train Accuracy: 0.5891\n",
      "GT Val Accuracy: 0.6065\n",
      "AGT Val Accuracy: 0.5953\n",
      "AGT 2 Val Accuracy: 0.5938\n"
     ]
    },
    {
     "name": "stderr",
     "output_type": "stream",
     "text": [
      "\r",
      " 37%|█████████████████████████████████████████████▌                                                                             | 37/100 [1:39:58<2:43:54, 156.10s/it]"
     ]
    },
    {
     "name": "stdout",
     "output_type": "stream",
     "text": [
      "EarlyStopping counter: 6 out of 10\n",
      "[INFO] EPOCH: 37/100\n",
      "Train loss: 1.282990, Validation loss: 1.0720\n",
      "GT Train Accuracy: 0.5953\n",
      "AGT Train Accuracy: 0.5876\n",
      "AGT 2 Train Accuracy: 0.5856\n",
      "GT Val Accuracy: 0.6373\n",
      "AGT Val Accuracy: 0.6134\n",
      "AGT 2 Val Accuracy: 0.6106\n"
     ]
    },
    {
     "name": "stderr",
     "output_type": "stream",
     "text": [
      "\r",
      " 38%|██████████████████████████████████████████████▋                                                                            | 38/100 [1:42:33<2:41:06, 155.92s/it]"
     ]
    },
    {
     "name": "stdout",
     "output_type": "stream",
     "text": [
      "EarlyStopping counter: 7 out of 10\n",
      "[INFO] EPOCH: 38/100\n",
      "Train loss: 1.277927, Validation loss: 1.0855\n",
      "GT Train Accuracy: 0.6066\n",
      "AGT Train Accuracy: 0.5922\n",
      "AGT 2 Train Accuracy: 0.5902\n",
      "GT Val Accuracy: 0.5837\n",
      "AGT Val Accuracy: 0.6065\n",
      "AGT 2 Val Accuracy: 0.6037\n"
     ]
    },
    {
     "name": "stderr",
     "output_type": "stream",
     "text": [
      "\r",
      " 39%|███████████████████████████████████████████████▉                                                                           | 39/100 [1:45:14<2:39:50, 157.23s/it]"
     ]
    },
    {
     "name": "stdout",
     "output_type": "stream",
     "text": [
      "EarlyStopping counter: 8 out of 10\n",
      "[INFO] EPOCH: 39/100\n",
      "Train loss: 1.278440, Validation loss: 1.0847\n",
      "GT Train Accuracy: 0.6134\n",
      "AGT Train Accuracy: 0.5938\n",
      "AGT 2 Train Accuracy: 0.5918\n",
      "GT Val Accuracy: 0.6510\n",
      "AGT Val Accuracy: 0.6183\n",
      "AGT 2 Val Accuracy: 0.6168\n"
     ]
    },
    {
     "name": "stderr",
     "output_type": "stream",
     "text": [
      "\r",
      " 40%|█████████████████████████████████████████████████▏                                                                         | 40/100 [1:47:48<2:36:16, 156.27s/it]"
     ]
    },
    {
     "name": "stdout",
     "output_type": "stream",
     "text": [
      "Validation loss decreased (1.068889 --> 1.068662).  Saving model ...\n",
      "[INFO] EPOCH: 40/100\n",
      "Train loss: 1.272442, Validation loss: 1.0687\n",
      "GT Train Accuracy: 0.5995\n",
      "AGT Train Accuracy: 0.5944\n",
      "AGT 2 Train Accuracy: 0.5927\n",
      "GT Val Accuracy: 0.6297\n",
      "AGT Val Accuracy: 0.6258\n",
      "AGT 2 Val Accuracy: 0.6242\n"
     ]
    },
    {
     "name": "stderr",
     "output_type": "stream",
     "text": [
      "\r",
      " 41%|██████████████████████████████████████████████████▍                                                                        | 41/100 [1:50:24<2:33:49, 156.43s/it]"
     ]
    },
    {
     "name": "stdout",
     "output_type": "stream",
     "text": [
      "EarlyStopping counter: 1 out of 10\n",
      "[INFO] EPOCH: 41/100\n",
      "Train loss: 1.272516, Validation loss: 1.0824\n",
      "GT Train Accuracy: 0.6180\n",
      "AGT Train Accuracy: 0.5985\n",
      "AGT 2 Train Accuracy: 0.5961\n",
      "GT Val Accuracy: 0.6157\n",
      "AGT Val Accuracy: 0.6154\n",
      "AGT 2 Val Accuracy: 0.6139\n"
     ]
    },
    {
     "name": "stderr",
     "output_type": "stream",
     "text": [
      "\r",
      " 42%|███████████████████████████████████████████████████▋                                                                       | 42/100 [1:53:02<2:31:40, 156.90s/it]"
     ]
    },
    {
     "name": "stdout",
     "output_type": "stream",
     "text": [
      "EarlyStopping counter: 2 out of 10\n",
      "[INFO] EPOCH: 42/100\n",
      "Train loss: 1.268099, Validation loss: 1.0823\n",
      "GT Train Accuracy: 0.6049\n",
      "AGT Train Accuracy: 0.5959\n",
      "AGT 2 Train Accuracy: 0.5939\n",
      "GT Val Accuracy: 0.6346\n",
      "AGT Val Accuracy: 0.6125\n",
      "AGT 2 Val Accuracy: 0.6109\n"
     ]
    },
    {
     "name": "stderr",
     "output_type": "stream",
     "text": [
      "\r",
      " 43%|████████████████████████████████████████████████████▉                                                                      | 43/100 [1:55:39<2:29:05, 156.94s/it]"
     ]
    },
    {
     "name": "stdout",
     "output_type": "stream",
     "text": [
      "EarlyStopping counter: 3 out of 10\n",
      "[INFO] EPOCH: 43/100\n",
      "Train loss: 1.278371, Validation loss: 1.0998\n",
      "GT Train Accuracy: 0.6122\n",
      "AGT Train Accuracy: 0.5974\n",
      "AGT 2 Train Accuracy: 0.5952\n",
      "GT Val Accuracy: 0.6501\n",
      "AGT Val Accuracy: 0.6039\n",
      "AGT 2 Val Accuracy: 0.6023\n"
     ]
    },
    {
     "name": "stderr",
     "output_type": "stream",
     "text": [
      "\r",
      " 44%|██████████████████████████████████████████████████████                                                                     | 44/100 [1:58:17<2:26:40, 157.14s/it]"
     ]
    },
    {
     "name": "stdout",
     "output_type": "stream",
     "text": [
      "Validation loss decreased (1.068662 --> 1.058039).  Saving model ...\n",
      "[INFO] EPOCH: 44/100\n",
      "Train loss: 1.269545, Validation loss: 1.0580\n",
      "GT Train Accuracy: 0.6062\n",
      "AGT Train Accuracy: 0.5954\n",
      "AGT 2 Train Accuracy: 0.5937\n",
      "GT Val Accuracy: 0.6293\n",
      "AGT Val Accuracy: 0.6147\n",
      "AGT 2 Val Accuracy: 0.6132\n"
     ]
    },
    {
     "name": "stderr",
     "output_type": "stream",
     "text": [
      "\r",
      " 45%|███████████████████████████████████████████████████████▎                                                                   | 45/100 [2:00:56<2:24:26, 157.58s/it]"
     ]
    },
    {
     "name": "stdout",
     "output_type": "stream",
     "text": [
      "EarlyStopping counter: 1 out of 10\n",
      "[INFO] EPOCH: 45/100\n",
      "Train loss: 1.278792, Validation loss: 1.0749\n",
      "GT Train Accuracy: 0.6078\n",
      "AGT Train Accuracy: 0.5917\n",
      "AGT 2 Train Accuracy: 0.5895\n",
      "GT Val Accuracy: 0.6046\n",
      "AGT Val Accuracy: 0.6199\n",
      "AGT 2 Val Accuracy: 0.6184\n"
     ]
    },
    {
     "name": "stderr",
     "output_type": "stream",
     "text": [
      "\r",
      " 46%|████████████████████████████████████████████████████████▌                                                                  | 46/100 [2:03:32<2:21:25, 157.15s/it]"
     ]
    },
    {
     "name": "stdout",
     "output_type": "stream",
     "text": [
      "Validation loss decreased (1.058039 --> 1.055804).  Saving model ...\n",
      "[INFO] EPOCH: 46/100\n",
      "Train loss: 1.272707, Validation loss: 1.0558\n",
      "GT Train Accuracy: 0.6015\n",
      "AGT Train Accuracy: 0.5940\n",
      "AGT 2 Train Accuracy: 0.5918\n",
      "GT Val Accuracy: 0.6169\n",
      "AGT Val Accuracy: 0.6160\n",
      "AGT 2 Val Accuracy: 0.6131\n"
     ]
    },
    {
     "name": "stderr",
     "output_type": "stream",
     "text": [
      "\r",
      " 47%|█████████████████████████████████████████████████████████▊                                                                 | 47/100 [2:06:08<2:18:32, 156.84s/it]"
     ]
    },
    {
     "name": "stdout",
     "output_type": "stream",
     "text": [
      "EarlyStopping counter: 1 out of 10\n",
      "[INFO] EPOCH: 47/100\n",
      "Train loss: 1.269959, Validation loss: 1.0828\n",
      "GT Train Accuracy: 0.6055\n",
      "AGT Train Accuracy: 0.5978\n",
      "AGT 2 Train Accuracy: 0.5956\n",
      "GT Val Accuracy: 0.6132\n",
      "AGT Val Accuracy: 0.6171\n",
      "AGT 2 Val Accuracy: 0.6156\n"
     ]
    },
    {
     "name": "stderr",
     "output_type": "stream",
     "text": [
      "\r",
      " 48%|███████████████████████████████████████████████████████████                                                                | 48/100 [2:08:45<2:16:07, 157.06s/it]"
     ]
    },
    {
     "name": "stdout",
     "output_type": "stream",
     "text": [
      "EarlyStopping counter: 2 out of 10\n",
      "[INFO] EPOCH: 48/100\n",
      "Train loss: 1.275333, Validation loss: 1.0680\n",
      "GT Train Accuracy: 0.6080\n",
      "AGT Train Accuracy: 0.5927\n",
      "AGT 2 Train Accuracy: 0.5906\n",
      "GT Val Accuracy: 0.5940\n",
      "AGT Val Accuracy: 0.6140\n",
      "AGT 2 Val Accuracy: 0.6112\n"
     ]
    },
    {
     "name": "stderr",
     "output_type": "stream",
     "text": [
      "\r",
      " 49%|████████████████████████████████████████████████████████████▎                                                              | 49/100 [2:11:21<2:13:06, 156.59s/it]"
     ]
    },
    {
     "name": "stdout",
     "output_type": "stream",
     "text": [
      "EarlyStopping counter: 3 out of 10\n",
      "[INFO] EPOCH: 49/100\n",
      "Train loss: 1.286131, Validation loss: 1.0809\n",
      "GT Train Accuracy: 0.6060\n",
      "AGT Train Accuracy: 0.5901\n",
      "AGT 2 Train Accuracy: 0.5878\n",
      "GT Val Accuracy: 0.6257\n",
      "AGT Val Accuracy: 0.6166\n",
      "AGT 2 Val Accuracy: 0.6138\n"
     ]
    },
    {
     "name": "stderr",
     "output_type": "stream",
     "text": [
      "\r",
      " 50%|█████████████████████████████████████████████████████████████▌                                                             | 50/100 [2:13:57<2:10:25, 156.52s/it]"
     ]
    },
    {
     "name": "stdout",
     "output_type": "stream",
     "text": [
      "EarlyStopping counter: 4 out of 10\n",
      "[INFO] EPOCH: 50/100\n",
      "Train loss: 1.274329, Validation loss: 1.0739\n",
      "GT Train Accuracy: 0.5984\n",
      "AGT Train Accuracy: 0.5955\n",
      "AGT 2 Train Accuracy: 0.5934\n",
      "GT Val Accuracy: 0.6256\n",
      "AGT Val Accuracy: 0.6081\n",
      "AGT 2 Val Accuracy: 0.6067\n",
      "Epoch    51: reducing learning rate of group 0 to 4.6600e-05.\n"
     ]
    },
    {
     "name": "stderr",
     "output_type": "stream",
     "text": [
      "\r",
      " 51%|██████████████████████████████████████████████████████████████▋                                                            | 51/100 [2:16:32<2:07:18, 155.89s/it]"
     ]
    },
    {
     "name": "stdout",
     "output_type": "stream",
     "text": [
      "EarlyStopping counter: 5 out of 10\n",
      "[INFO] EPOCH: 51/100\n",
      "Train loss: 1.280020, Validation loss: 1.0732\n",
      "GT Train Accuracy: 0.6064\n",
      "AGT Train Accuracy: 0.5910\n",
      "AGT 2 Train Accuracy: 0.5892\n",
      "GT Val Accuracy: 0.6414\n",
      "AGT Val Accuracy: 0.6121\n",
      "AGT 2 Val Accuracy: 0.6106\n"
     ]
    },
    {
     "name": "stderr",
     "output_type": "stream",
     "text": [
      "\r",
      " 52%|███████████████████████████████████████████████████████████████▉                                                           | 52/100 [2:19:06<2:04:16, 155.35s/it]"
     ]
    },
    {
     "name": "stdout",
     "output_type": "stream",
     "text": [
      "Validation loss decreased (1.055804 --> 1.046613).  Saving model ...\n",
      "[INFO] EPOCH: 52/100\n",
      "Train loss: 1.274222, Validation loss: 1.0466\n",
      "GT Train Accuracy: 0.6069\n",
      "AGT Train Accuracy: 0.5965\n",
      "AGT 2 Train Accuracy: 0.5938\n",
      "GT Val Accuracy: 0.6402\n",
      "AGT Val Accuracy: 0.6214\n",
      "AGT 2 Val Accuracy: 0.6199\n"
     ]
    },
    {
     "name": "stderr",
     "output_type": "stream",
     "text": [
      "\r",
      " 53%|█████████████████████████████████████████████████████████████████▏                                                         | 53/100 [2:21:42<2:01:55, 155.64s/it]"
     ]
    },
    {
     "name": "stdout",
     "output_type": "stream",
     "text": [
      "EarlyStopping counter: 1 out of 10\n",
      "[INFO] EPOCH: 53/100\n",
      "Train loss: 1.267584, Validation loss: 1.0732\n",
      "GT Train Accuracy: 0.6139\n",
      "AGT Train Accuracy: 0.6013\n",
      "AGT 2 Train Accuracy: 0.5993\n",
      "GT Val Accuracy: 0.6088\n",
      "AGT Val Accuracy: 0.6104\n",
      "AGT 2 Val Accuracy: 0.6089\n"
     ]
    },
    {
     "name": "stderr",
     "output_type": "stream",
     "text": [
      "\r",
      " 54%|██████████████████████████████████████████████████████████████████▍                                                        | 54/100 [2:24:19<1:59:36, 156.00s/it]"
     ]
    },
    {
     "name": "stdout",
     "output_type": "stream",
     "text": [
      "EarlyStopping counter: 2 out of 10\n",
      "[INFO] EPOCH: 54/100\n",
      "Train loss: 1.276344, Validation loss: 1.0757\n",
      "GT Train Accuracy: 0.6078\n",
      "AGT Train Accuracy: 0.5960\n",
      "AGT 2 Train Accuracy: 0.5942\n",
      "GT Val Accuracy: 0.6286\n",
      "AGT Val Accuracy: 0.6065\n",
      "AGT 2 Val Accuracy: 0.6050\n"
     ]
    },
    {
     "name": "stderr",
     "output_type": "stream",
     "text": [
      "\r",
      " 55%|███████████████████████████████████████████████████████████████████▋                                                       | 55/100 [2:26:56<1:57:08, 156.19s/it]"
     ]
    },
    {
     "name": "stdout",
     "output_type": "stream",
     "text": [
      "EarlyStopping counter: 3 out of 10\n",
      "[INFO] EPOCH: 55/100\n",
      "Train loss: 1.265587, Validation loss: 1.0767\n",
      "GT Train Accuracy: 0.6096\n",
      "AGT Train Accuracy: 0.5943\n",
      "AGT 2 Train Accuracy: 0.5923\n",
      "GT Val Accuracy: 0.6220\n",
      "AGT Val Accuracy: 0.6157\n",
      "AGT 2 Val Accuracy: 0.6142\n"
     ]
    },
    {
     "name": "stderr",
     "output_type": "stream",
     "text": [
      "\r",
      " 56%|████████████████████████████████████████████████████████████████████▉                                                      | 56/100 [2:29:31<1:54:17, 155.84s/it]"
     ]
    },
    {
     "name": "stdout",
     "output_type": "stream",
     "text": [
      "EarlyStopping counter: 4 out of 10\n",
      "[INFO] EPOCH: 56/100\n",
      "Train loss: 1.258866, Validation loss: 1.0716\n",
      "GT Train Accuracy: 0.6128\n",
      "AGT Train Accuracy: 0.6019\n",
      "AGT 2 Train Accuracy: 0.5997\n",
      "GT Val Accuracy: 0.6431\n",
      "AGT Val Accuracy: 0.6179\n",
      "AGT 2 Val Accuracy: 0.6164\n",
      "Epoch    57: reducing learning rate of group 0 to 4.6600e-06.\n"
     ]
    },
    {
     "name": "stderr",
     "output_type": "stream",
     "text": [
      "\r",
      " 57%|██████████████████████████████████████████████████████████████████████                                                     | 57/100 [2:32:03<1:50:53, 154.72s/it]"
     ]
    },
    {
     "name": "stdout",
     "output_type": "stream",
     "text": [
      "EarlyStopping counter: 5 out of 10\n",
      "[INFO] EPOCH: 57/100\n",
      "Train loss: 1.263449, Validation loss: 1.0563\n",
      "GT Train Accuracy: 0.6109\n",
      "AGT Train Accuracy: 0.6009\n",
      "AGT 2 Train Accuracy: 0.5989\n",
      "GT Val Accuracy: 0.6364\n",
      "AGT Val Accuracy: 0.6181\n",
      "AGT 2 Val Accuracy: 0.6166\n"
     ]
    },
    {
     "name": "stderr",
     "output_type": "stream",
     "text": [
      "\r",
      " 58%|███████████████████████████████████████████████████████████████████████▎                                                   | 58/100 [2:34:39<1:48:42, 155.31s/it]"
     ]
    },
    {
     "name": "stdout",
     "output_type": "stream",
     "text": [
      "EarlyStopping counter: 6 out of 10\n",
      "[INFO] EPOCH: 58/100\n",
      "Train loss: 1.270135, Validation loss: 1.0728\n",
      "GT Train Accuracy: 0.6090\n",
      "AGT Train Accuracy: 0.5979\n",
      "AGT 2 Train Accuracy: 0.5960\n",
      "GT Val Accuracy: 0.6372\n",
      "AGT Val Accuracy: 0.6178\n",
      "AGT 2 Val Accuracy: 0.6163\n"
     ]
    },
    {
     "name": "stderr",
     "output_type": "stream",
     "text": [
      "\r",
      " 59%|████████████████████████████████████████████████████████████████████████▌                                                  | 59/100 [2:37:17<1:46:30, 155.87s/it]"
     ]
    },
    {
     "name": "stdout",
     "output_type": "stream",
     "text": [
      "EarlyStopping counter: 7 out of 10\n",
      "[INFO] EPOCH: 59/100\n",
      "Train loss: 1.272835, Validation loss: 1.0779\n",
      "GT Train Accuracy: 0.6055\n",
      "AGT Train Accuracy: 0.5951\n",
      "AGT 2 Train Accuracy: 0.5929\n",
      "GT Val Accuracy: 0.6202\n",
      "AGT Val Accuracy: 0.6127\n",
      "AGT 2 Val Accuracy: 0.6111\n"
     ]
    },
    {
     "name": "stderr",
     "output_type": "stream",
     "text": [
      "\r",
      " 60%|█████████████████████████████████████████████████████████████████████████▊                                                 | 60/100 [2:39:50<1:43:31, 155.28s/it]"
     ]
    },
    {
     "name": "stdout",
     "output_type": "stream",
     "text": [
      "EarlyStopping counter: 8 out of 10\n",
      "[INFO] EPOCH: 60/100\n",
      "Train loss: 1.274097, Validation loss: 1.0934\n",
      "GT Train Accuracy: 0.6103\n",
      "AGT Train Accuracy: 0.5949\n",
      "AGT 2 Train Accuracy: 0.5933\n",
      "GT Val Accuracy: 0.6539\n",
      "AGT Val Accuracy: 0.6104\n",
      "AGT 2 Val Accuracy: 0.6089\n"
     ]
    },
    {
     "name": "stderr",
     "output_type": "stream",
     "text": [
      "\r",
      " 61%|███████████████████████████████████████████████████████████████████████████                                                | 61/100 [2:42:25<1:40:44, 154.98s/it]"
     ]
    },
    {
     "name": "stdout",
     "output_type": "stream",
     "text": [
      "EarlyStopping counter: 9 out of 10\n",
      "[INFO] EPOCH: 61/100\n",
      "Train loss: 1.279144, Validation loss: 1.0737\n",
      "GT Train Accuracy: 0.6027\n",
      "AGT Train Accuracy: 0.5917\n",
      "AGT 2 Train Accuracy: 0.5896\n",
      "GT Val Accuracy: 0.6298\n",
      "AGT Val Accuracy: 0.6186\n",
      "AGT 2 Val Accuracy: 0.6171\n",
      "Epoch    62: reducing learning rate of group 0 to 4.6600e-07.\n"
     ]
    },
    {
     "name": "stderr",
     "output_type": "stream",
     "text": [
      "\r",
      " 61%|███████████████████████████████████████████████████████████████████████████                                                | 61/100 [2:45:02<1:45:31, 162.34s/it]"
     ]
    },
    {
     "name": "stdout",
     "output_type": "stream",
     "text": [
      "EarlyStopping counter: 10 out of 10\n",
      "Early stopping\n",
      "[INFO] total time taken to train the model: 9902.55s\n"
     ]
    },
    {
     "name": "stderr",
     "output_type": "stream",
     "text": [
      "\n"
     ]
    }
   ],
   "source": [
    "# loop over epochs\n",
    "print(\"[INFO] training the network...\")\n",
    "startTime = time.time()\n",
    "for e in tqdm(range(config.NUM_EPOCHS)):\n",
    "    #fix seed\n",
    "    seed_all(SEED)\n",
    "    \n",
    "    ###################\n",
    "    # train the model #\n",
    "    ###################\n",
    "    unet.train() # prep model for training\n",
    "\n",
    "    # initialize the total training and validation loss\n",
    "    totalTrainLoss, totalValLoss = 0, 0\n",
    "    \n",
    "    # initialize the accuracy\n",
    "    accTrainGT = 0\n",
    "    accTrainAGT = 0\n",
    "    accTrainAGT2 = 0\n",
    "    accValGT = 0\n",
    "    accValAGT = 0\n",
    "    accValAGT2 = 0\n",
    "    countTrainGT = 0\n",
    "    countTrainAGT = 0\n",
    "    countTrainAGT2 = 0\n",
    "    countValGT = 0\n",
    "    countValAGT = 0\n",
    "    countValAGT2 = 0\n",
    "    \n",
    "    # loop over the training set\n",
    "    for batch, (data, target, mask) in enumerate(trainLoader, 1):\n",
    "        #fix seed\n",
    "        seed_all(SEED)\n",
    "        \n",
    "        # send the input to the device\n",
    "        (data, target, mask) = (data.to(config.DEVICE), target.to(config.DEVICE), mask.to(config.DEVICE))\n",
    "        \n",
    "        # perform a forward pass \n",
    "        pred = unet(data)\n",
    "\n",
    "        # calculate the training loss\n",
    "        loss = lossFunc(pred, target)\n",
    "        \n",
    "        # for each input\n",
    "        for i in range(len(target)):\n",
    "            if torch.sum(mask[i])!=0: # GT and AGT\n",
    "                # update the accuracy count\n",
    "                countTrainGT = countTrainGT + 1\n",
    "                countTrainAGT = countTrainAGT + 1\n",
    "                countTrainAGT2 = countTrainAGT2 + 1\n",
    "                # extract the GT label positions in the prediction\n",
    "                pixel_predGT = torch.mul(mask[i], torch.argmax(pred[i],dim=0))\n",
    "                # extract the GT label positions in the target\n",
    "                pixel_targGT = torch.mul(mask[i], target[i])\n",
    "                # metrics on current element\n",
    "                accTrainGT += acc(pixel_predGT, pixel_targGT).item()\n",
    "                \n",
    "                # extract the AGT label positions in the prediction\n",
    "                pixel_predAGT = torch.argmax(pred[i],dim=0)-pixel_predGT\n",
    "                # extract the AGT label positions in the target\n",
    "                pixel_targAGT = target[i]-pixel_targGT\n",
    "                # metrics on current element\n",
    "                accTrainAGT2 += acc(pixel_predAGT, pixel_targAGT).item()\n",
    "                if np.isnan(accuracyAGT(pixel_predAGT, pixel_targAGT).item()):\n",
    "                    countTrainAGT = countTrainAGT - 1\n",
    "                else:\n",
    "                    accTrainAGT += accuracyAGT(pixel_predAGT, pixel_targAGT).item()\n",
    "                \n",
    "            else: # only AGT\n",
    "                # update the accuracy count\n",
    "                countTrainAGT = countTrainAGT + 1\n",
    "                countTrainAGT2 = countTrainAGT2 + 1\n",
    "                # metrics on current element\n",
    "                accTrainAGT2 += acc(torch.argmax(pred[i],dim=0), target[i]).item()\n",
    "                if np.isnan(accuracyAGT(torch.argmax(pred[i],dim=0), target[i]).item()):\n",
    "                    countTrainAGT = countTrainAGT - 1\n",
    "                else:\n",
    "                    accTrainAGT += accuracyAGT(torch.argmax(pred[i],dim=0), target[i]).item()\n",
    "            \n",
    "        # Gradient descent with optimizer:\n",
    "        opt.zero_grad(set_to_none=True)\n",
    "        grad_scaler.scale(loss).backward()\n",
    "        grad_scaler.step(opt)\n",
    "        grad_scaler.update()\n",
    "\n",
    "        # add the loss to the total training loss so far\n",
    "        totalTrainLoss += loss.item()\n",
    "        \n",
    "    ######################    \n",
    "    # validate the model #\n",
    "    ######################\n",
    "    # switch off autograd\n",
    "    with torch.no_grad():        \n",
    "        unet.eval() # prep model for evaluation\n",
    "        \n",
    "        # loop over the validation set\n",
    "        for data, target, mask in valLoader:\n",
    "            #fix seed\n",
    "            seed_all(SEED)\n",
    "            \n",
    "            # send the input to the device\n",
    "            (data, target, mask) = (data.to(config.DEVICE), target.to(config.DEVICE), mask.to(config.DEVICE))\n",
    "        \n",
    "            # make the predictions \n",
    "            pred = unet(data)\n",
    "            \n",
    "            # calculate the validation loss\n",
    "            totalValLoss += lossFunc(pred, target).item()\n",
    "            \n",
    "            # scheduler step\n",
    "            scheduler.step(lossFunc(pred, target))\n",
    "            \n",
    "            # for each input\n",
    "            for i in range(len(target)):\n",
    "                if torch.sum(mask[i])!=0: # GT and AGT\n",
    "                    # update the accuracy count\n",
    "                    countValGT = countValGT + 1\n",
    "                    countValAGT = countValAGT + 1\n",
    "                    countValAGT2 = countValAGT2 + 1\n",
    "                    # extract the GT label positions in the prediction\n",
    "                    pixel_predGT = torch.mul(mask[i], torch.argmax(pred[i],dim=0))\n",
    "                    # extract the GT label positions in the target\n",
    "                    pixel_targGT = torch.mul(mask[i], target[i])\n",
    "                    # metrics on current element\n",
    "                    accValGT += acc(pixel_predGT, pixel_targGT).item()\n",
    "\n",
    "                    # extract the AGT label positions in the prediction\n",
    "                    pixel_predAGT = torch.argmax(pred[i],dim=0)-pixel_predGT\n",
    "                    # extract the AGT label positions in the target\n",
    "                    pixel_targAGT = target[i]-pixel_targGT\n",
    "                    # metrics on current element\n",
    "                    accValAGT2 += acc(pixel_predAGT, pixel_targAGT).item()\n",
    "                    if np.isnan(accuracyAGT(pixel_predAGT, pixel_targAGT).item()):\n",
    "                        countValAGT = countValAGT - 1\n",
    "                    else:\n",
    "                        accValAGT += accuracyAGT(pixel_predAGT, pixel_targAGT).item()\n",
    "                    \n",
    "                    '''                                    \n",
    "                    # show the validation results\n",
    "                    fig, ax = plt.subplots(ncols=3, figsize=(10, 10))\n",
    "                    ax[0].imshow(unnormalize(data[i]).cpu().detach().permute(1, 2, 0))\n",
    "                    ax[0].scatter(np.nonzero(mask[i])[:,1].cpu(), np.nonzero(mask[i])[:,0].cpu(), s=20, marker='.', c='r')\n",
    "\n",
    "                    ax[1].imshow(target[i].cpu(),\n",
    "                                 cmap = plt.cm.get_cmap('tab20', 10), \n",
    "                                 vmin=0, vmax=9)\n",
    "                    ax[1].scatter(np.nonzero(mask[i])[:,1].cpu(), np.nonzero(mask[i])[:,0].cpu(), s=20, marker='.', c='r')\n",
    "\n",
    "\n",
    "\n",
    "                    cax = ax[2].imshow(torch.argmax(pred[i],dim=0).cpu(),\n",
    "                                       cmap = plt.cm.get_cmap('tab20', 10),\n",
    "                                       vmin=0, vmax=9)\n",
    "\n",
    "\n",
    "                    cax = ax[2].imshow(torch.softmax(pred[i],dim=1)[3].cpu())\n",
    "                    \n",
    "                    ax[2].scatter(np.nonzero(mask[i])[:,1].cpu(), np.nonzero(mask[i])[:,0].cpu(), s=20, marker='.', c='r')\n",
    "\n",
    "                    cbar = fig.colorbar(cax, fraction=0.035)\n",
    "                    #cbar = fig.colorbar(cax, ticks=list(classes.keys()), fraction=0.035)\n",
    "                    #cbar.ax.set_yticklabels(list(classes.values()))\n",
    "                    plt.show()\n",
    "                    '''\n",
    "                    \n",
    "                else: # only AGT\n",
    "                    # update the accuracy count\n",
    "                    countValAGT = countValAGT + 1\n",
    "                    countValAGT2 = countValAGT2 + 1\n",
    "                    # metrics on current element\n",
    "                    accValAGT2 += acc(torch.argmax(pred[i],dim=0), target[i]).item()\n",
    "                    if np.isnan(accuracyAGT(torch.argmax(pred[i],dim=0), target[i]).item()):\n",
    "                        countValAGT = countValAGT - 1\n",
    "                    else:\n",
    "                        accValAGT += accuracyAGT(torch.argmax(pred[i],dim=0), target[i]).item()\n",
    "            \n",
    "    # calculate the average training and validation loss\n",
    "    avgTrainLoss = totalTrainLoss / trainSteps\n",
    "    avgValLoss = totalValLoss / valSteps\n",
    "    \n",
    "    # update our training history\n",
    "    H[\"train_loss\"].append(avgTrainLoss)\n",
    "    H[\"validation_loss\"].append(avgValLoss)\n",
    "    \n",
    "    # calculate the average metrics\n",
    "    avgaccTrainGT = accTrainGT / countTrainGT\n",
    "    avgaccTrainAGT = accTrainAGT / countTrainAGT\n",
    "    avgaccValGT = accValGT / countValGT\n",
    "    avgaccValAGT = accValAGT / countValAGT \n",
    "    avgaccTrainAGT2 = accTrainAGT2 / countTrainAGT2\n",
    "    avgaccValAGT2 = accValAGT2 / countValAGT2\n",
    "    \n",
    "    # update our metrics history\n",
    "    metrics[\"train_accuracyGT\"].append(avgaccTrainGT)\n",
    "    metrics[\"val_accuracyGT\"].append(avgaccValGT)\n",
    "    metrics[\"train_accuracyAGT\"].append(avgaccTrainAGT)\n",
    "    metrics[\"val_accuracyAGT\"].append(avgaccValAGT)\n",
    "    metrics[\"train_accuracyAGT2\"].append(avgaccTrainAGT2)\n",
    "    metrics[\"val_accuracyAGT2\"].append(avgaccValAGT2)\n",
    "    \n",
    "    # check early stopping\n",
    "    early_stopping(avgValLoss, unet)\n",
    "    if early_stopping.early_stop:\n",
    "        print(\"Early stopping\")\n",
    "        break\n",
    "    \n",
    "    # print the model training and validation information\n",
    "    print(\"[INFO] EPOCH: {}/{}\".format(e + 1, config.NUM_EPOCHS))\n",
    "    print(\"Train loss: {:.6f}, Validation loss: {:.4f}\".format(avgTrainLoss, avgValLoss))\n",
    "    \n",
    "    # print the model metrics information\n",
    "    print(\"GT Train Accuracy: {:.4f}\".format(avgaccTrainGT))\n",
    "    print(\"AGT Train Accuracy: {:.4f}\".format(avgaccTrainAGT))\n",
    "    print(\"AGT 2 Train Accuracy: {:.4f}\".format(avgaccTrainAGT2))\n",
    "    print(\"GT Val Accuracy: {:.4f}\".format(avgaccValGT))\n",
    "    print(\"AGT Val Accuracy: {:.4f}\".format(avgaccValAGT))\n",
    "    print(\"AGT 2 Val Accuracy: {:.4f}\".format(avgaccValAGT2))\n",
    "    \n",
    "# load the last checkpoint with the best model\n",
    "unet.load_state_dict(torch.load(\"/data/jantina/CoralNet/dataset/medium/output/checkpoint.pt\"))\n",
    "\n",
    "# display the total time needed to perform the training\n",
    "endTime = time.time()\n",
    "print(\"[INFO] total time taken to train the model: {:.2f}s\".format(endTime - startTime))"
   ]
  },
  {
   "cell_type": "markdown",
   "metadata": {},
   "source": [
    "## Plotting the loss"
   ]
  },
  {
   "cell_type": "code",
   "execution_count": 26,
   "metadata": {},
   "outputs": [
    {
     "data": {
      "application/vnd.plotly.v1+json": {
       "config": {
        "plotlyServerURL": "https://plot.ly"
       },
       "data": [
        {
         "mode": "lines",
         "name": "Training Loss",
         "type": "scatter",
         "x": [
          0,
          1,
          2,
          3,
          4,
          5,
          6,
          7,
          8,
          9,
          10,
          11,
          12,
          13,
          14,
          15,
          16,
          17,
          18,
          19,
          20,
          21,
          22,
          23,
          24,
          25,
          26,
          27,
          28,
          29,
          30,
          31,
          32,
          33,
          34,
          35,
          36,
          37,
          38,
          39,
          40,
          41,
          42,
          43,
          44,
          45,
          46,
          47,
          48,
          49,
          50,
          51,
          52,
          53,
          54,
          55,
          56,
          57,
          58,
          59,
          60,
          61
         ],
         "y": [
          1.9549593244280135,
          1.700040033885411,
          1.678748267037528,
          1.6094773496900285,
          1.52983786378588,
          1.4857665640967233,
          1.4587490558624268,
          1.440603528703962,
          1.4258761235645838,
          1.43393075466156,
          1.415248019354684,
          1.400517429624285,
          1.3970885957990373,
          1.385270629610334,
          1.401093806539263,
          1.3812721116202218,
          1.393810204097203,
          1.380092910357884,
          1.3784558943339758,
          1.3776497840881348,
          1.3689997025898524,
          1.3550795657294137,
          1.346751434462411,
          1.335333296230861,
          1.3265205451420374,
          1.327631149973188,
          1.30756071635655,
          1.2927392721176147,
          1.2978946822030204,
          1.2872929913657052,
          1.2919154848371233,
          1.2960501228060042,
          1.2854051419666834,
          1.287198645727975,
          1.2743671791894096,
          1.2836900097983224,
          1.2829903193882533,
          1.2779267856052943,
          1.278440271105085,
          1.2724415063858032,
          1.2725155183247157,
          1.2680987630571638,
          1.2783706869397844,
          1.2695451293672835,
          1.2787915808813912,
          1.2727065767560686,
          1.2699594497680664,
          1.2753328766141618,
          1.2861307178224837,
          1.2743290492466517,
          1.2800204924174718,
          1.2742218800953455,
          1.267584034374782,
          1.2763441801071167,
          1.2655869722366333,
          1.2588658673422677,
          1.2634494815553938,
          1.2701349599020821,
          1.2728347267423357,
          1.2740970849990845,
          1.2791443041392736,
          1.2766979932785034
         ]
        },
        {
         "mode": "lines",
         "name": "Validation Loss",
         "type": "scatter",
         "x": [
          0,
          1,
          2,
          3,
          4,
          5,
          6,
          7,
          8,
          9,
          10,
          11,
          12,
          13,
          14,
          15,
          16,
          17,
          18,
          19,
          20,
          21,
          22,
          23,
          24,
          25,
          26,
          27,
          28,
          29,
          30,
          31,
          32,
          33,
          34,
          35,
          36,
          37,
          38,
          39,
          40,
          41,
          42,
          43,
          44,
          45,
          46,
          47,
          48,
          49,
          50,
          51,
          52,
          53,
          54,
          55,
          56,
          57,
          58,
          59,
          60,
          61
         ],
         "y": [
          1549765760,
          80467.1953125,
          62.84201431274414,
          1.4113091230392456,
          3.312870740890503,
          3.1178526878356934,
          1.4157994985580444,
          1.3682053089141846,
          1.3036168813705444,
          1.253531575202942,
          1.2392640113830566,
          1.1931208372116089,
          1.183659553527832,
          1.2092525959014893,
          1.186166524887085,
          1.1591877937316895,
          1.220824956893921,
          1.187198519706726,
          1.1791722774505615,
          1.2606072425842285,
          1.1356791257858276,
          1.2199259996414185,
          1.2283817529678345,
          1.1356481313705444,
          1.3258042335510254,
          1.1643977165222168,
          1.1075575351715088,
          1.0925089120864868,
          1.1152939796447754,
          1.0802768468856812,
          1.0688894987106323,
          1.1071146726608276,
          1.093231439590454,
          1.0766690969467163,
          1.1014516353607178,
          1.12682044506073,
          1.0720019340515137,
          1.0855244398117065,
          1.0846898555755615,
          1.0686619281768799,
          1.0823675394058228,
          1.0822522640228271,
          1.0998399257659912,
          1.0580394268035889,
          1.0749034881591797,
          1.0558035373687744,
          1.0828105211257935,
          1.0679782629013062,
          1.0809307098388672,
          1.0739068984985352,
          1.0732007026672363,
          1.046613097190857,
          1.0731700658798218,
          1.0757198333740234,
          1.0767205953598022,
          1.071568250656128,
          1.0562509298324585,
          1.0728464126586914,
          1.0779197216033936,
          1.0933529138565063,
          1.0736724138259888,
          1.0762019157409668
         ]
        }
       ],
       "layout": {
        "template": {
         "data": {
          "bar": [
           {
            "error_x": {
             "color": "#2a3f5f"
            },
            "error_y": {
             "color": "#2a3f5f"
            },
            "marker": {
             "line": {
              "color": "#E5ECF6",
              "width": 0.5
             }
            },
            "type": "bar"
           }
          ],
          "barpolar": [
           {
            "marker": {
             "line": {
              "color": "#E5ECF6",
              "width": 0.5
             }
            },
            "type": "barpolar"
           }
          ],
          "carpet": [
           {
            "aaxis": {
             "endlinecolor": "#2a3f5f",
             "gridcolor": "white",
             "linecolor": "white",
             "minorgridcolor": "white",
             "startlinecolor": "#2a3f5f"
            },
            "baxis": {
             "endlinecolor": "#2a3f5f",
             "gridcolor": "white",
             "linecolor": "white",
             "minorgridcolor": "white",
             "startlinecolor": "#2a3f5f"
            },
            "type": "carpet"
           }
          ],
          "choropleth": [
           {
            "colorbar": {
             "outlinewidth": 0,
             "ticks": ""
            },
            "type": "choropleth"
           }
          ],
          "contour": [
           {
            "colorbar": {
             "outlinewidth": 0,
             "ticks": ""
            },
            "colorscale": [
             [
              0,
              "#0d0887"
             ],
             [
              0.1111111111111111,
              "#46039f"
             ],
             [
              0.2222222222222222,
              "#7201a8"
             ],
             [
              0.3333333333333333,
              "#9c179e"
             ],
             [
              0.4444444444444444,
              "#bd3786"
             ],
             [
              0.5555555555555556,
              "#d8576b"
             ],
             [
              0.6666666666666666,
              "#ed7953"
             ],
             [
              0.7777777777777778,
              "#fb9f3a"
             ],
             [
              0.8888888888888888,
              "#fdca26"
             ],
             [
              1,
              "#f0f921"
             ]
            ],
            "type": "contour"
           }
          ],
          "contourcarpet": [
           {
            "colorbar": {
             "outlinewidth": 0,
             "ticks": ""
            },
            "type": "contourcarpet"
           }
          ],
          "heatmap": [
           {
            "colorbar": {
             "outlinewidth": 0,
             "ticks": ""
            },
            "colorscale": [
             [
              0,
              "#0d0887"
             ],
             [
              0.1111111111111111,
              "#46039f"
             ],
             [
              0.2222222222222222,
              "#7201a8"
             ],
             [
              0.3333333333333333,
              "#9c179e"
             ],
             [
              0.4444444444444444,
              "#bd3786"
             ],
             [
              0.5555555555555556,
              "#d8576b"
             ],
             [
              0.6666666666666666,
              "#ed7953"
             ],
             [
              0.7777777777777778,
              "#fb9f3a"
             ],
             [
              0.8888888888888888,
              "#fdca26"
             ],
             [
              1,
              "#f0f921"
             ]
            ],
            "type": "heatmap"
           }
          ],
          "heatmapgl": [
           {
            "colorbar": {
             "outlinewidth": 0,
             "ticks": ""
            },
            "colorscale": [
             [
              0,
              "#0d0887"
             ],
             [
              0.1111111111111111,
              "#46039f"
             ],
             [
              0.2222222222222222,
              "#7201a8"
             ],
             [
              0.3333333333333333,
              "#9c179e"
             ],
             [
              0.4444444444444444,
              "#bd3786"
             ],
             [
              0.5555555555555556,
              "#d8576b"
             ],
             [
              0.6666666666666666,
              "#ed7953"
             ],
             [
              0.7777777777777778,
              "#fb9f3a"
             ],
             [
              0.8888888888888888,
              "#fdca26"
             ],
             [
              1,
              "#f0f921"
             ]
            ],
            "type": "heatmapgl"
           }
          ],
          "histogram": [
           {
            "marker": {
             "colorbar": {
              "outlinewidth": 0,
              "ticks": ""
             }
            },
            "type": "histogram"
           }
          ],
          "histogram2d": [
           {
            "colorbar": {
             "outlinewidth": 0,
             "ticks": ""
            },
            "colorscale": [
             [
              0,
              "#0d0887"
             ],
             [
              0.1111111111111111,
              "#46039f"
             ],
             [
              0.2222222222222222,
              "#7201a8"
             ],
             [
              0.3333333333333333,
              "#9c179e"
             ],
             [
              0.4444444444444444,
              "#bd3786"
             ],
             [
              0.5555555555555556,
              "#d8576b"
             ],
             [
              0.6666666666666666,
              "#ed7953"
             ],
             [
              0.7777777777777778,
              "#fb9f3a"
             ],
             [
              0.8888888888888888,
              "#fdca26"
             ],
             [
              1,
              "#f0f921"
             ]
            ],
            "type": "histogram2d"
           }
          ],
          "histogram2dcontour": [
           {
            "colorbar": {
             "outlinewidth": 0,
             "ticks": ""
            },
            "colorscale": [
             [
              0,
              "#0d0887"
             ],
             [
              0.1111111111111111,
              "#46039f"
             ],
             [
              0.2222222222222222,
              "#7201a8"
             ],
             [
              0.3333333333333333,
              "#9c179e"
             ],
             [
              0.4444444444444444,
              "#bd3786"
             ],
             [
              0.5555555555555556,
              "#d8576b"
             ],
             [
              0.6666666666666666,
              "#ed7953"
             ],
             [
              0.7777777777777778,
              "#fb9f3a"
             ],
             [
              0.8888888888888888,
              "#fdca26"
             ],
             [
              1,
              "#f0f921"
             ]
            ],
            "type": "histogram2dcontour"
           }
          ],
          "mesh3d": [
           {
            "colorbar": {
             "outlinewidth": 0,
             "ticks": ""
            },
            "type": "mesh3d"
           }
          ],
          "parcoords": [
           {
            "line": {
             "colorbar": {
              "outlinewidth": 0,
              "ticks": ""
             }
            },
            "type": "parcoords"
           }
          ],
          "pie": [
           {
            "automargin": true,
            "type": "pie"
           }
          ],
          "scatter": [
           {
            "marker": {
             "colorbar": {
              "outlinewidth": 0,
              "ticks": ""
             }
            },
            "type": "scatter"
           }
          ],
          "scatter3d": [
           {
            "line": {
             "colorbar": {
              "outlinewidth": 0,
              "ticks": ""
             }
            },
            "marker": {
             "colorbar": {
              "outlinewidth": 0,
              "ticks": ""
             }
            },
            "type": "scatter3d"
           }
          ],
          "scattercarpet": [
           {
            "marker": {
             "colorbar": {
              "outlinewidth": 0,
              "ticks": ""
             }
            },
            "type": "scattercarpet"
           }
          ],
          "scattergeo": [
           {
            "marker": {
             "colorbar": {
              "outlinewidth": 0,
              "ticks": ""
             }
            },
            "type": "scattergeo"
           }
          ],
          "scattergl": [
           {
            "marker": {
             "colorbar": {
              "outlinewidth": 0,
              "ticks": ""
             }
            },
            "type": "scattergl"
           }
          ],
          "scattermapbox": [
           {
            "marker": {
             "colorbar": {
              "outlinewidth": 0,
              "ticks": ""
             }
            },
            "type": "scattermapbox"
           }
          ],
          "scatterpolar": [
           {
            "marker": {
             "colorbar": {
              "outlinewidth": 0,
              "ticks": ""
             }
            },
            "type": "scatterpolar"
           }
          ],
          "scatterpolargl": [
           {
            "marker": {
             "colorbar": {
              "outlinewidth": 0,
              "ticks": ""
             }
            },
            "type": "scatterpolargl"
           }
          ],
          "scatterternary": [
           {
            "marker": {
             "colorbar": {
              "outlinewidth": 0,
              "ticks": ""
             }
            },
            "type": "scatterternary"
           }
          ],
          "surface": [
           {
            "colorbar": {
             "outlinewidth": 0,
             "ticks": ""
            },
            "colorscale": [
             [
              0,
              "#0d0887"
             ],
             [
              0.1111111111111111,
              "#46039f"
             ],
             [
              0.2222222222222222,
              "#7201a8"
             ],
             [
              0.3333333333333333,
              "#9c179e"
             ],
             [
              0.4444444444444444,
              "#bd3786"
             ],
             [
              0.5555555555555556,
              "#d8576b"
             ],
             [
              0.6666666666666666,
              "#ed7953"
             ],
             [
              0.7777777777777778,
              "#fb9f3a"
             ],
             [
              0.8888888888888888,
              "#fdca26"
             ],
             [
              1,
              "#f0f921"
             ]
            ],
            "type": "surface"
           }
          ],
          "table": [
           {
            "cells": {
             "fill": {
              "color": "#EBF0F8"
             },
             "line": {
              "color": "white"
             }
            },
            "header": {
             "fill": {
              "color": "#C8D4E3"
             },
             "line": {
              "color": "white"
             }
            },
            "type": "table"
           }
          ]
         },
         "layout": {
          "annotationdefaults": {
           "arrowcolor": "#2a3f5f",
           "arrowhead": 0,
           "arrowwidth": 1
          },
          "coloraxis": {
           "colorbar": {
            "outlinewidth": 0,
            "ticks": ""
           }
          },
          "colorscale": {
           "diverging": [
            [
             0,
             "#8e0152"
            ],
            [
             0.1,
             "#c51b7d"
            ],
            [
             0.2,
             "#de77ae"
            ],
            [
             0.3,
             "#f1b6da"
            ],
            [
             0.4,
             "#fde0ef"
            ],
            [
             0.5,
             "#f7f7f7"
            ],
            [
             0.6,
             "#e6f5d0"
            ],
            [
             0.7,
             "#b8e186"
            ],
            [
             0.8,
             "#7fbc41"
            ],
            [
             0.9,
             "#4d9221"
            ],
            [
             1,
             "#276419"
            ]
           ],
           "sequential": [
            [
             0,
             "#0d0887"
            ],
            [
             0.1111111111111111,
             "#46039f"
            ],
            [
             0.2222222222222222,
             "#7201a8"
            ],
            [
             0.3333333333333333,
             "#9c179e"
            ],
            [
             0.4444444444444444,
             "#bd3786"
            ],
            [
             0.5555555555555556,
             "#d8576b"
            ],
            [
             0.6666666666666666,
             "#ed7953"
            ],
            [
             0.7777777777777778,
             "#fb9f3a"
            ],
            [
             0.8888888888888888,
             "#fdca26"
            ],
            [
             1,
             "#f0f921"
            ]
           ],
           "sequentialminus": [
            [
             0,
             "#0d0887"
            ],
            [
             0.1111111111111111,
             "#46039f"
            ],
            [
             0.2222222222222222,
             "#7201a8"
            ],
            [
             0.3333333333333333,
             "#9c179e"
            ],
            [
             0.4444444444444444,
             "#bd3786"
            ],
            [
             0.5555555555555556,
             "#d8576b"
            ],
            [
             0.6666666666666666,
             "#ed7953"
            ],
            [
             0.7777777777777778,
             "#fb9f3a"
            ],
            [
             0.8888888888888888,
             "#fdca26"
            ],
            [
             1,
             "#f0f921"
            ]
           ]
          },
          "colorway": [
           "#636efa",
           "#EF553B",
           "#00cc96",
           "#ab63fa",
           "#FFA15A",
           "#19d3f3",
           "#FF6692",
           "#B6E880",
           "#FF97FF",
           "#FECB52"
          ],
          "font": {
           "color": "#2a3f5f"
          },
          "geo": {
           "bgcolor": "white",
           "lakecolor": "white",
           "landcolor": "#E5ECF6",
           "showlakes": true,
           "showland": true,
           "subunitcolor": "white"
          },
          "hoverlabel": {
           "align": "left"
          },
          "hovermode": "closest",
          "mapbox": {
           "style": "light"
          },
          "paper_bgcolor": "white",
          "plot_bgcolor": "#E5ECF6",
          "polar": {
           "angularaxis": {
            "gridcolor": "white",
            "linecolor": "white",
            "ticks": ""
           },
           "bgcolor": "#E5ECF6",
           "radialaxis": {
            "gridcolor": "white",
            "linecolor": "white",
            "ticks": ""
           }
          },
          "scene": {
           "xaxis": {
            "backgroundcolor": "#E5ECF6",
            "gridcolor": "white",
            "gridwidth": 2,
            "linecolor": "white",
            "showbackground": true,
            "ticks": "",
            "zerolinecolor": "white"
           },
           "yaxis": {
            "backgroundcolor": "#E5ECF6",
            "gridcolor": "white",
            "gridwidth": 2,
            "linecolor": "white",
            "showbackground": true,
            "ticks": "",
            "zerolinecolor": "white"
           },
           "zaxis": {
            "backgroundcolor": "#E5ECF6",
            "gridcolor": "white",
            "gridwidth": 2,
            "linecolor": "white",
            "showbackground": true,
            "ticks": "",
            "zerolinecolor": "white"
           }
          },
          "shapedefaults": {
           "line": {
            "color": "#2a3f5f"
           }
          },
          "ternary": {
           "aaxis": {
            "gridcolor": "white",
            "linecolor": "white",
            "ticks": ""
           },
           "baxis": {
            "gridcolor": "white",
            "linecolor": "white",
            "ticks": ""
           },
           "bgcolor": "#E5ECF6",
           "caxis": {
            "gridcolor": "white",
            "linecolor": "white",
            "ticks": ""
           }
          },
          "title": {
           "x": 0.05
          },
          "xaxis": {
           "automargin": true,
           "gridcolor": "white",
           "linecolor": "white",
           "ticks": "",
           "title": {
            "standoff": 15
           },
           "zerolinecolor": "white",
           "zerolinewidth": 2
          },
          "yaxis": {
           "automargin": true,
           "gridcolor": "white",
           "linecolor": "white",
           "ticks": "",
           "title": {
            "standoff": 15
           },
           "zerolinecolor": "white",
           "zerolinewidth": 2
          }
         }
        },
        "title": {
         "text": "Training and Testing Loss on Dataset"
        },
        "xaxis": {
         "range": [
          -1,
          62
         ],
         "title": {
          "text": "Epoch #"
         }
        },
        "yaxis": {
         "range": [
          0,
          4
         ],
         "title": {
          "text": "Loss"
         }
        }
       }
      },
      "text/html": [
       "<div>\n",
       "        \n",
       "        \n",
       "            <div id=\"c73160ef-0338-430f-af3a-a1e44b49bf6a\" class=\"plotly-graph-div\" style=\"height:525px; width:100%;\"></div>\n",
       "            <script type=\"text/javascript\">\n",
       "                require([\"plotly\"], function(Plotly) {\n",
       "                    window.PLOTLYENV=window.PLOTLYENV || {};\n",
       "                    \n",
       "                if (document.getElementById(\"c73160ef-0338-430f-af3a-a1e44b49bf6a\")) {\n",
       "                    Plotly.newPlot(\n",
       "                        'c73160ef-0338-430f-af3a-a1e44b49bf6a',\n",
       "                        [{\"mode\": \"lines\", \"name\": \"Training Loss\", \"type\": \"scatter\", \"x\": [0, 1, 2, 3, 4, 5, 6, 7, 8, 9, 10, 11, 12, 13, 14, 15, 16, 17, 18, 19, 20, 21, 22, 23, 24, 25, 26, 27, 28, 29, 30, 31, 32, 33, 34, 35, 36, 37, 38, 39, 40, 41, 42, 43, 44, 45, 46, 47, 48, 49, 50, 51, 52, 53, 54, 55, 56, 57, 58, 59, 60, 61], \"y\": [1.9549593244280135, 1.700040033885411, 1.678748267037528, 1.6094773496900285, 1.52983786378588, 1.4857665640967233, 1.4587490558624268, 1.440603528703962, 1.4258761235645838, 1.43393075466156, 1.415248019354684, 1.400517429624285, 1.3970885957990373, 1.385270629610334, 1.401093806539263, 1.3812721116202218, 1.393810204097203, 1.380092910357884, 1.3784558943339758, 1.3776497840881348, 1.3689997025898524, 1.3550795657294137, 1.346751434462411, 1.335333296230861, 1.3265205451420374, 1.327631149973188, 1.30756071635655, 1.2927392721176147, 1.2978946822030204, 1.2872929913657052, 1.2919154848371233, 1.2960501228060042, 1.2854051419666834, 1.287198645727975, 1.2743671791894096, 1.2836900097983224, 1.2829903193882533, 1.2779267856052943, 1.278440271105085, 1.2724415063858032, 1.2725155183247157, 1.2680987630571638, 1.2783706869397844, 1.2695451293672835, 1.2787915808813912, 1.2727065767560686, 1.2699594497680664, 1.2753328766141618, 1.2861307178224837, 1.2743290492466517, 1.2800204924174718, 1.2742218800953455, 1.267584034374782, 1.2763441801071167, 1.2655869722366333, 1.2588658673422677, 1.2634494815553938, 1.2701349599020821, 1.2728347267423357, 1.2740970849990845, 1.2791443041392736, 1.2766979932785034]}, {\"mode\": \"lines\", \"name\": \"Validation Loss\", \"type\": \"scatter\", \"x\": [0, 1, 2, 3, 4, 5, 6, 7, 8, 9, 10, 11, 12, 13, 14, 15, 16, 17, 18, 19, 20, 21, 22, 23, 24, 25, 26, 27, 28, 29, 30, 31, 32, 33, 34, 35, 36, 37, 38, 39, 40, 41, 42, 43, 44, 45, 46, 47, 48, 49, 50, 51, 52, 53, 54, 55, 56, 57, 58, 59, 60, 61], \"y\": [1549765760.0, 80467.1953125, 62.84201431274414, 1.4113091230392456, 3.312870740890503, 3.1178526878356934, 1.4157994985580444, 1.3682053089141846, 1.3036168813705444, 1.253531575202942, 1.2392640113830566, 1.1931208372116089, 1.183659553527832, 1.2092525959014893, 1.186166524887085, 1.1591877937316895, 1.220824956893921, 1.187198519706726, 1.1791722774505615, 1.2606072425842285, 1.1356791257858276, 1.2199259996414185, 1.2283817529678345, 1.1356481313705444, 1.3258042335510254, 1.1643977165222168, 1.1075575351715088, 1.0925089120864868, 1.1152939796447754, 1.0802768468856812, 1.0688894987106323, 1.1071146726608276, 1.093231439590454, 1.0766690969467163, 1.1014516353607178, 1.12682044506073, 1.0720019340515137, 1.0855244398117065, 1.0846898555755615, 1.0686619281768799, 1.0823675394058228, 1.0822522640228271, 1.0998399257659912, 1.0580394268035889, 1.0749034881591797, 1.0558035373687744, 1.0828105211257935, 1.0679782629013062, 1.0809307098388672, 1.0739068984985352, 1.0732007026672363, 1.046613097190857, 1.0731700658798218, 1.0757198333740234, 1.0767205953598022, 1.071568250656128, 1.0562509298324585, 1.0728464126586914, 1.0779197216033936, 1.0933529138565063, 1.0736724138259888, 1.0762019157409668]}],\n",
       "                        {\"template\": {\"data\": {\"bar\": [{\"error_x\": {\"color\": \"#2a3f5f\"}, \"error_y\": {\"color\": \"#2a3f5f\"}, \"marker\": {\"line\": {\"color\": \"#E5ECF6\", \"width\": 0.5}}, \"type\": \"bar\"}], \"barpolar\": [{\"marker\": {\"line\": {\"color\": \"#E5ECF6\", \"width\": 0.5}}, \"type\": \"barpolar\"}], \"carpet\": [{\"aaxis\": {\"endlinecolor\": \"#2a3f5f\", \"gridcolor\": \"white\", \"linecolor\": \"white\", \"minorgridcolor\": \"white\", \"startlinecolor\": \"#2a3f5f\"}, \"baxis\": {\"endlinecolor\": \"#2a3f5f\", \"gridcolor\": \"white\", \"linecolor\": \"white\", \"minorgridcolor\": \"white\", \"startlinecolor\": \"#2a3f5f\"}, \"type\": \"carpet\"}], \"choropleth\": [{\"colorbar\": {\"outlinewidth\": 0, \"ticks\": \"\"}, \"type\": \"choropleth\"}], \"contour\": [{\"colorbar\": {\"outlinewidth\": 0, \"ticks\": \"\"}, \"colorscale\": [[0.0, \"#0d0887\"], [0.1111111111111111, \"#46039f\"], [0.2222222222222222, \"#7201a8\"], [0.3333333333333333, \"#9c179e\"], [0.4444444444444444, \"#bd3786\"], [0.5555555555555556, \"#d8576b\"], [0.6666666666666666, \"#ed7953\"], [0.7777777777777778, \"#fb9f3a\"], [0.8888888888888888, \"#fdca26\"], [1.0, \"#f0f921\"]], \"type\": \"contour\"}], \"contourcarpet\": [{\"colorbar\": {\"outlinewidth\": 0, \"ticks\": \"\"}, \"type\": \"contourcarpet\"}], \"heatmap\": [{\"colorbar\": {\"outlinewidth\": 0, \"ticks\": \"\"}, \"colorscale\": [[0.0, \"#0d0887\"], [0.1111111111111111, \"#46039f\"], [0.2222222222222222, \"#7201a8\"], [0.3333333333333333, \"#9c179e\"], [0.4444444444444444, \"#bd3786\"], [0.5555555555555556, \"#d8576b\"], [0.6666666666666666, \"#ed7953\"], [0.7777777777777778, \"#fb9f3a\"], [0.8888888888888888, \"#fdca26\"], [1.0, \"#f0f921\"]], \"type\": \"heatmap\"}], \"heatmapgl\": [{\"colorbar\": {\"outlinewidth\": 0, \"ticks\": \"\"}, \"colorscale\": [[0.0, \"#0d0887\"], [0.1111111111111111, \"#46039f\"], [0.2222222222222222, \"#7201a8\"], [0.3333333333333333, \"#9c179e\"], [0.4444444444444444, \"#bd3786\"], [0.5555555555555556, \"#d8576b\"], [0.6666666666666666, \"#ed7953\"], [0.7777777777777778, \"#fb9f3a\"], [0.8888888888888888, \"#fdca26\"], [1.0, \"#f0f921\"]], \"type\": \"heatmapgl\"}], \"histogram\": [{\"marker\": {\"colorbar\": {\"outlinewidth\": 0, \"ticks\": \"\"}}, \"type\": \"histogram\"}], \"histogram2d\": [{\"colorbar\": {\"outlinewidth\": 0, \"ticks\": \"\"}, \"colorscale\": [[0.0, \"#0d0887\"], [0.1111111111111111, \"#46039f\"], [0.2222222222222222, \"#7201a8\"], [0.3333333333333333, \"#9c179e\"], [0.4444444444444444, \"#bd3786\"], [0.5555555555555556, \"#d8576b\"], [0.6666666666666666, \"#ed7953\"], [0.7777777777777778, \"#fb9f3a\"], [0.8888888888888888, \"#fdca26\"], [1.0, \"#f0f921\"]], \"type\": \"histogram2d\"}], \"histogram2dcontour\": [{\"colorbar\": {\"outlinewidth\": 0, \"ticks\": \"\"}, \"colorscale\": [[0.0, \"#0d0887\"], [0.1111111111111111, \"#46039f\"], [0.2222222222222222, \"#7201a8\"], [0.3333333333333333, \"#9c179e\"], [0.4444444444444444, \"#bd3786\"], [0.5555555555555556, \"#d8576b\"], [0.6666666666666666, \"#ed7953\"], [0.7777777777777778, \"#fb9f3a\"], [0.8888888888888888, \"#fdca26\"], [1.0, \"#f0f921\"]], \"type\": \"histogram2dcontour\"}], \"mesh3d\": [{\"colorbar\": {\"outlinewidth\": 0, \"ticks\": \"\"}, \"type\": \"mesh3d\"}], \"parcoords\": [{\"line\": {\"colorbar\": {\"outlinewidth\": 0, \"ticks\": \"\"}}, \"type\": \"parcoords\"}], \"pie\": [{\"automargin\": true, \"type\": \"pie\"}], \"scatter\": [{\"marker\": {\"colorbar\": {\"outlinewidth\": 0, \"ticks\": \"\"}}, \"type\": \"scatter\"}], \"scatter3d\": [{\"line\": {\"colorbar\": {\"outlinewidth\": 0, \"ticks\": \"\"}}, \"marker\": {\"colorbar\": {\"outlinewidth\": 0, \"ticks\": \"\"}}, \"type\": \"scatter3d\"}], \"scattercarpet\": [{\"marker\": {\"colorbar\": {\"outlinewidth\": 0, \"ticks\": \"\"}}, \"type\": \"scattercarpet\"}], \"scattergeo\": [{\"marker\": {\"colorbar\": {\"outlinewidth\": 0, \"ticks\": \"\"}}, \"type\": \"scattergeo\"}], \"scattergl\": [{\"marker\": {\"colorbar\": {\"outlinewidth\": 0, \"ticks\": \"\"}}, \"type\": \"scattergl\"}], \"scattermapbox\": [{\"marker\": {\"colorbar\": {\"outlinewidth\": 0, \"ticks\": \"\"}}, \"type\": \"scattermapbox\"}], \"scatterpolar\": [{\"marker\": {\"colorbar\": {\"outlinewidth\": 0, \"ticks\": \"\"}}, \"type\": \"scatterpolar\"}], \"scatterpolargl\": [{\"marker\": {\"colorbar\": {\"outlinewidth\": 0, \"ticks\": \"\"}}, \"type\": \"scatterpolargl\"}], \"scatterternary\": [{\"marker\": {\"colorbar\": {\"outlinewidth\": 0, \"ticks\": \"\"}}, \"type\": \"scatterternary\"}], \"surface\": [{\"colorbar\": {\"outlinewidth\": 0, \"ticks\": \"\"}, \"colorscale\": [[0.0, \"#0d0887\"], [0.1111111111111111, \"#46039f\"], [0.2222222222222222, \"#7201a8\"], [0.3333333333333333, \"#9c179e\"], [0.4444444444444444, \"#bd3786\"], [0.5555555555555556, \"#d8576b\"], [0.6666666666666666, \"#ed7953\"], [0.7777777777777778, \"#fb9f3a\"], [0.8888888888888888, \"#fdca26\"], [1.0, \"#f0f921\"]], \"type\": \"surface\"}], \"table\": [{\"cells\": {\"fill\": {\"color\": \"#EBF0F8\"}, \"line\": {\"color\": \"white\"}}, \"header\": {\"fill\": {\"color\": \"#C8D4E3\"}, \"line\": {\"color\": \"white\"}}, \"type\": \"table\"}]}, \"layout\": {\"annotationdefaults\": {\"arrowcolor\": \"#2a3f5f\", \"arrowhead\": 0, \"arrowwidth\": 1}, \"coloraxis\": {\"colorbar\": {\"outlinewidth\": 0, \"ticks\": \"\"}}, \"colorscale\": {\"diverging\": [[0, \"#8e0152\"], [0.1, \"#c51b7d\"], [0.2, \"#de77ae\"], [0.3, \"#f1b6da\"], [0.4, \"#fde0ef\"], [0.5, \"#f7f7f7\"], [0.6, \"#e6f5d0\"], [0.7, \"#b8e186\"], [0.8, \"#7fbc41\"], [0.9, \"#4d9221\"], [1, \"#276419\"]], \"sequential\": [[0.0, \"#0d0887\"], [0.1111111111111111, \"#46039f\"], [0.2222222222222222, \"#7201a8\"], [0.3333333333333333, \"#9c179e\"], [0.4444444444444444, \"#bd3786\"], [0.5555555555555556, \"#d8576b\"], [0.6666666666666666, \"#ed7953\"], [0.7777777777777778, \"#fb9f3a\"], [0.8888888888888888, \"#fdca26\"], [1.0, \"#f0f921\"]], \"sequentialminus\": [[0.0, \"#0d0887\"], [0.1111111111111111, \"#46039f\"], [0.2222222222222222, \"#7201a8\"], [0.3333333333333333, \"#9c179e\"], [0.4444444444444444, \"#bd3786\"], [0.5555555555555556, \"#d8576b\"], [0.6666666666666666, \"#ed7953\"], [0.7777777777777778, \"#fb9f3a\"], [0.8888888888888888, \"#fdca26\"], [1.0, \"#f0f921\"]]}, \"colorway\": [\"#636efa\", \"#EF553B\", \"#00cc96\", \"#ab63fa\", \"#FFA15A\", \"#19d3f3\", \"#FF6692\", \"#B6E880\", \"#FF97FF\", \"#FECB52\"], \"font\": {\"color\": \"#2a3f5f\"}, \"geo\": {\"bgcolor\": \"white\", \"lakecolor\": \"white\", \"landcolor\": \"#E5ECF6\", \"showlakes\": true, \"showland\": true, \"subunitcolor\": \"white\"}, \"hoverlabel\": {\"align\": \"left\"}, \"hovermode\": \"closest\", \"mapbox\": {\"style\": \"light\"}, \"paper_bgcolor\": \"white\", \"plot_bgcolor\": \"#E5ECF6\", \"polar\": {\"angularaxis\": {\"gridcolor\": \"white\", \"linecolor\": \"white\", \"ticks\": \"\"}, \"bgcolor\": \"#E5ECF6\", \"radialaxis\": {\"gridcolor\": \"white\", \"linecolor\": \"white\", \"ticks\": \"\"}}, \"scene\": {\"xaxis\": {\"backgroundcolor\": \"#E5ECF6\", \"gridcolor\": \"white\", \"gridwidth\": 2, \"linecolor\": \"white\", \"showbackground\": true, \"ticks\": \"\", \"zerolinecolor\": \"white\"}, \"yaxis\": {\"backgroundcolor\": \"#E5ECF6\", \"gridcolor\": \"white\", \"gridwidth\": 2, \"linecolor\": \"white\", \"showbackground\": true, \"ticks\": \"\", \"zerolinecolor\": \"white\"}, \"zaxis\": {\"backgroundcolor\": \"#E5ECF6\", \"gridcolor\": \"white\", \"gridwidth\": 2, \"linecolor\": \"white\", \"showbackground\": true, \"ticks\": \"\", \"zerolinecolor\": \"white\"}}, \"shapedefaults\": {\"line\": {\"color\": \"#2a3f5f\"}}, \"ternary\": {\"aaxis\": {\"gridcolor\": \"white\", \"linecolor\": \"white\", \"ticks\": \"\"}, \"baxis\": {\"gridcolor\": \"white\", \"linecolor\": \"white\", \"ticks\": \"\"}, \"bgcolor\": \"#E5ECF6\", \"caxis\": {\"gridcolor\": \"white\", \"linecolor\": \"white\", \"ticks\": \"\"}}, \"title\": {\"x\": 0.05}, \"xaxis\": {\"automargin\": true, \"gridcolor\": \"white\", \"linecolor\": \"white\", \"ticks\": \"\", \"title\": {\"standoff\": 15}, \"zerolinecolor\": \"white\", \"zerolinewidth\": 2}, \"yaxis\": {\"automargin\": true, \"gridcolor\": \"white\", \"linecolor\": \"white\", \"ticks\": \"\", \"title\": {\"standoff\": 15}, \"zerolinecolor\": \"white\", \"zerolinewidth\": 2}}}, \"title\": {\"text\": \"Training and Testing Loss on Dataset\"}, \"xaxis\": {\"range\": [-1, 62], \"title\": {\"text\": \"Epoch #\"}}, \"yaxis\": {\"range\": [0, 4], \"title\": {\"text\": \"Loss\"}}},\n",
       "                        {\"responsive\": true}\n",
       "                    ).then(function(){\n",
       "                            \n",
       "var gd = document.getElementById('c73160ef-0338-430f-af3a-a1e44b49bf6a');\n",
       "var x = new MutationObserver(function (mutations, observer) {{\n",
       "        var display = window.getComputedStyle(gd).display;\n",
       "        if (!display || display === 'none') {{\n",
       "            console.log([gd, 'removed!']);\n",
       "            Plotly.purge(gd);\n",
       "            observer.disconnect();\n",
       "        }}\n",
       "}});\n",
       "\n",
       "// Listen for the removal of the full notebook cells\n",
       "var notebookContainer = gd.closest('#notebook-container');\n",
       "if (notebookContainer) {{\n",
       "    x.observe(notebookContainer, {childList: true});\n",
       "}}\n",
       "\n",
       "// Listen for the clearing of the current output cell\n",
       "var outputEl = gd.closest('.output');\n",
       "if (outputEl) {{\n",
       "    x.observe(outputEl, {childList: true});\n",
       "}}\n",
       "\n",
       "                        })\n",
       "                };\n",
       "                });\n",
       "            </script>\n",
       "        </div>"
      ]
     },
     "metadata": {},
     "output_type": "display_data"
    }
   ],
   "source": [
    "H = pd.DataFrame(H)\n",
    "\n",
    "# create figure\n",
    "fig = go.Figure()\n",
    "fig.add_trace(go.Scatter(x=H.index, y=H['train_loss'],\n",
    "                    mode='lines',\n",
    "                    name='Training Loss'))\n",
    "fig.add_trace(go.Scatter(x=H.index, y=H['validation_loss'],\n",
    "                    mode='lines',\n",
    "                    name='Validation Loss'))\n",
    "\n",
    "fig.update_layout(title='Training and Testing Loss on Dataset',\n",
    "                   xaxis_title='Epoch #',\n",
    "                   yaxis_title='Loss')\n",
    "\n",
    "fig.update_xaxes(range = [-1,62])\n",
    "fig.update_yaxes(range = [0,4])\n",
    "\n",
    "fig.show()"
   ]
  },
  {
   "cell_type": "markdown",
   "metadata": {},
   "source": [
    "## Plotting the metrics"
   ]
  },
  {
   "cell_type": "code",
   "execution_count": 27,
   "metadata": {},
   "outputs": [
    {
     "data": {
      "application/vnd.plotly.v1+json": {
       "config": {
        "plotlyServerURL": "https://plot.ly"
       },
       "data": [
        {
         "mode": "lines",
         "name": "Training accuracy on GT",
         "type": "scatter",
         "x": [
          0,
          1,
          2,
          3,
          4,
          5,
          6,
          7,
          8,
          9,
          10,
          11,
          12,
          13,
          14,
          15,
          16,
          17,
          18,
          19,
          20,
          21,
          22,
          23,
          24,
          25,
          26,
          27,
          28,
          29,
          30,
          31,
          32,
          33,
          34,
          35,
          36,
          37,
          38,
          39,
          40,
          41,
          42,
          43,
          44,
          45,
          46,
          47,
          48,
          49,
          50,
          51,
          52,
          53,
          54,
          55,
          56,
          57,
          58,
          59,
          60,
          61
         ],
         "y": [
          0.28183035960022945,
          0.30648249608261147,
          0.3058708896243572,
          0.4056447816726338,
          0.50022475248456,
          0.5216570787621206,
          0.5290826636420425,
          0.5532174194950326,
          0.5527243167161942,
          0.5542932180945156,
          0.5587836103371379,
          0.5700309979866489,
          0.565795579783818,
          0.5668049563313533,
          0.5827714417223914,
          0.5741312329489295,
          0.575300295169377,
          0.5719400869976784,
          0.5799958704693129,
          0.5767708567934746,
          0.5761413300813556,
          0.5832177453354048,
          0.5836243883088479,
          0.5919729407019237,
          0.5884056851614022,
          0.5922002594046689,
          0.6011871569090623,
          0.5977492127857827,
          0.5952275626756678,
          0.6080274217698642,
          0.6090156858410125,
          0.6002833255060681,
          0.5940183903135575,
          0.5994682697959933,
          0.6027499325263401,
          0.5971830606805175,
          0.5953260200401046,
          0.6065559687574258,
          0.6134090766831778,
          0.5995219032990224,
          0.6179879754389838,
          0.6048743700749866,
          0.6121834912248834,
          0.6061907477839097,
          0.6078119066646224,
          0.6014780779400328,
          0.6054792996283365,
          0.6080304217931646,
          0.606040489330739,
          0.5983551960006037,
          0.6063894865943819,
          0.6068795565265817,
          0.613887402489829,
          0.6078128927103018,
          0.6096230134842852,
          0.6128057922409045,
          0.6108975471966218,
          0.6090329122171769,
          0.6055258129822727,
          0.6102596804900939,
          0.6026675023458383,
          0.6054188958460386
         ]
        },
        {
         "mode": "lines",
         "name": "Validation accuracy on AGT",
         "type": "scatter",
         "x": [
          0,
          1,
          2,
          3,
          4,
          5,
          6,
          7,
          8,
          9,
          10,
          11,
          12,
          13,
          14,
          15,
          16,
          17,
          18,
          19,
          20,
          21,
          22,
          23,
          24,
          25,
          26,
          27,
          28,
          29,
          30,
          31,
          32,
          33,
          34,
          35,
          36,
          37,
          38,
          39,
          40,
          41,
          42,
          43,
          44,
          45,
          46,
          47,
          48,
          49,
          50,
          51,
          52,
          53,
          54,
          55,
          56,
          57,
          58,
          59,
          60,
          61
         ],
         "y": [
          0.10265468392216436,
          0.17908825812083257,
          0.29759566750377414,
          0.48372600459347653,
          0.3790841640051826,
          0.5586072442955092,
          0.5258447694223981,
          0.5997742732982044,
          0.5777519283801853,
          0.5602865959405899,
          0.6010466499546193,
          0.5962905219201184,
          0.6100732787183268,
          0.5782174285987963,
          0.5537872552702799,
          0.6065046135194694,
          0.554842339608613,
          0.5831996331169997,
          0.6184999139019938,
          0.5353354149029972,
          0.6042567728490559,
          0.5343868775361496,
          0.54175039421767,
          0.6122236902264816,
          0.4936651138603376,
          0.5656763914932701,
          0.604623129279329,
          0.6175930971772934,
          0.5953475933056325,
          0.6214583858424071,
          0.6401053426432236,
          0.6480079715450605,
          0.6205234857323843,
          0.6370931919274062,
          0.6031401344425878,
          0.6065469290917515,
          0.6372919657400676,
          0.5837084155646153,
          0.6509505479937167,
          0.6297157286146244,
          0.615702185978366,
          0.6346281143614483,
          0.6500691524380213,
          0.6293301914500284,
          0.6045561284606994,
          0.6168906446355276,
          0.6132217069466909,
          0.5940486761812981,
          0.6257070053920701,
          0.6255548116564751,
          0.6414462411680173,
          0.6401836290916433,
          0.6087905080912976,
          0.6286371041842075,
          0.6219539960798545,
          0.6430607960003449,
          0.6363562651228843,
          0.637229762745626,
          0.6202496074692673,
          0.6538975455795738,
          0.6297997573395517,
          0.6032882216737498
         ]
        },
        {
         "mode": "lines",
         "name": "Training accuracy on GT",
         "type": "scatter",
         "x": [
          0,
          1,
          2,
          3,
          4,
          5,
          6,
          7,
          8,
          9,
          10,
          11,
          12,
          13,
          14,
          15,
          16,
          17,
          18,
          19,
          20,
          21,
          22,
          23,
          24,
          25,
          26,
          27,
          28,
          29,
          30,
          31,
          32,
          33,
          34,
          35,
          36,
          37,
          38,
          39,
          40,
          41,
          42,
          43,
          44,
          45,
          46,
          47,
          48,
          49,
          50,
          51,
          52,
          53,
          54,
          55,
          56,
          57,
          58,
          59,
          60,
          61
         ],
         "y": [
          null,
          0.3222374719391055,
          0.32404134576747007,
          0.40972426763713665,
          0.4999381503657455,
          0.5198351879864203,
          0.5235955115458529,
          0.5361304177063513,
          0.5436204334958215,
          0.5460072436943857,
          0.5518102787942957,
          0.5593137164526238,
          0.5610902436097112,
          0.5641923545468512,
          0.5596421774617676,
          0.5636087173247271,
          0.5586095026082667,
          0.5653085392681552,
          0.5674418578714242,
          0.5635268534758642,
          0.5667233958626643,
          0.5720063437203118,
          0.5680128579923455,
          0.5776225235873346,
          0.5768245498088157,
          0.5773124878376764,
          0.5848103901329665,
          0.586353094169066,
          0.5837445802203436,
          0.5898798511405347,
          0.587544468005282,
          0.5861854634830258,
          0.5892527750258775,
          0.589155318273783,
          0.5917692137762033,
          0.5910752958577005,
          0.5875643069569239,
          0.5921533309532377,
          0.5938257221241852,
          0.5943803536694565,
          0.5984774277493172,
          0.5958768368856789,
          0.597358283140643,
          0.5953619601537584,
          0.5917220812418442,
          0.5939547384398339,
          0.5977649717640006,
          0.5927370076959958,
          0.5901372380167412,
          0.5954582717685514,
          0.5909834838266275,
          0.5965024614847695,
          0.6013135268189564,
          0.5960446238858648,
          0.5942529633115209,
          0.6018960600909566,
          0.6009014762298027,
          0.5978530515161079,
          0.5950767708164343,
          0.5949264311318054,
          0.5917191417899935,
          0.591222096260969
         ]
        },
        {
         "mode": "lines",
         "name": "Validation accuracy on AGT",
         "type": "scatter",
         "x": [
          0,
          1,
          2,
          3,
          4,
          5,
          6,
          7,
          8,
          9,
          10,
          11,
          12,
          13,
          14,
          15,
          16,
          17,
          18,
          19,
          20,
          21,
          22,
          23,
          24,
          25,
          26,
          27,
          28,
          29,
          30,
          31,
          32,
          33,
          34,
          35,
          36,
          37,
          38,
          39,
          40,
          41,
          42,
          43,
          44,
          45,
          46,
          47,
          48,
          49,
          50,
          51,
          52,
          53,
          54,
          55,
          56,
          57,
          58,
          59,
          60,
          61
         ],
         "y": [
          0.10867180208473336,
          0.18714805488807856,
          0.28542669696367123,
          0.4890342301481052,
          0.4157395407034056,
          0.528377499608686,
          0.5187040434198708,
          0.5558953689427333,
          0.5608089993988694,
          0.567275409851535,
          0.5798458413480378,
          0.579235849945627,
          0.5764916402257116,
          0.5708284364239304,
          0.5587906278257634,
          0.5925279034248178,
          0.5620190886850069,
          0.5862741733930181,
          0.5843362678222103,
          0.531406990731774,
          0.5968195381133403,
          0.536369181501517,
          0.5497128792552906,
          0.5947882368854125,
          0.4895465946429041,
          0.5748550093109415,
          0.6000183937566373,
          0.6057064358676861,
          0.5978089811296077,
          0.6130748709769047,
          0.6253023960675331,
          0.6078320636671679,
          0.6089587127598333,
          0.6191187674889657,
          0.5965078459743335,
          0.5953141072370717,
          0.6134485768192443,
          0.6065027023825834,
          0.6183392619549261,
          0.6257507128912312,
          0.6153699224044707,
          0.6124759484865329,
          0.6038611743097292,
          0.614737917358,
          0.61991678543857,
          0.6159931149269875,
          0.6171340705730886,
          0.6140038940855878,
          0.6166213869710543,
          0.6081485166777435,
          0.6121205582198874,
          0.6214441111423236,
          0.6104494772161094,
          0.6065132131871503,
          0.6156934841682191,
          0.6179245288591595,
          0.618072738254864,
          0.6178337654347812,
          0.6126677251850977,
          0.6103862571874669,
          0.6186019926661822,
          0.6111456632863079
         ]
        }
       ],
       "layout": {
        "template": {
         "data": {
          "bar": [
           {
            "error_x": {
             "color": "#2a3f5f"
            },
            "error_y": {
             "color": "#2a3f5f"
            },
            "marker": {
             "line": {
              "color": "#E5ECF6",
              "width": 0.5
             }
            },
            "type": "bar"
           }
          ],
          "barpolar": [
           {
            "marker": {
             "line": {
              "color": "#E5ECF6",
              "width": 0.5
             }
            },
            "type": "barpolar"
           }
          ],
          "carpet": [
           {
            "aaxis": {
             "endlinecolor": "#2a3f5f",
             "gridcolor": "white",
             "linecolor": "white",
             "minorgridcolor": "white",
             "startlinecolor": "#2a3f5f"
            },
            "baxis": {
             "endlinecolor": "#2a3f5f",
             "gridcolor": "white",
             "linecolor": "white",
             "minorgridcolor": "white",
             "startlinecolor": "#2a3f5f"
            },
            "type": "carpet"
           }
          ],
          "choropleth": [
           {
            "colorbar": {
             "outlinewidth": 0,
             "ticks": ""
            },
            "type": "choropleth"
           }
          ],
          "contour": [
           {
            "colorbar": {
             "outlinewidth": 0,
             "ticks": ""
            },
            "colorscale": [
             [
              0,
              "#0d0887"
             ],
             [
              0.1111111111111111,
              "#46039f"
             ],
             [
              0.2222222222222222,
              "#7201a8"
             ],
             [
              0.3333333333333333,
              "#9c179e"
             ],
             [
              0.4444444444444444,
              "#bd3786"
             ],
             [
              0.5555555555555556,
              "#d8576b"
             ],
             [
              0.6666666666666666,
              "#ed7953"
             ],
             [
              0.7777777777777778,
              "#fb9f3a"
             ],
             [
              0.8888888888888888,
              "#fdca26"
             ],
             [
              1,
              "#f0f921"
             ]
            ],
            "type": "contour"
           }
          ],
          "contourcarpet": [
           {
            "colorbar": {
             "outlinewidth": 0,
             "ticks": ""
            },
            "type": "contourcarpet"
           }
          ],
          "heatmap": [
           {
            "colorbar": {
             "outlinewidth": 0,
             "ticks": ""
            },
            "colorscale": [
             [
              0,
              "#0d0887"
             ],
             [
              0.1111111111111111,
              "#46039f"
             ],
             [
              0.2222222222222222,
              "#7201a8"
             ],
             [
              0.3333333333333333,
              "#9c179e"
             ],
             [
              0.4444444444444444,
              "#bd3786"
             ],
             [
              0.5555555555555556,
              "#d8576b"
             ],
             [
              0.6666666666666666,
              "#ed7953"
             ],
             [
              0.7777777777777778,
              "#fb9f3a"
             ],
             [
              0.8888888888888888,
              "#fdca26"
             ],
             [
              1,
              "#f0f921"
             ]
            ],
            "type": "heatmap"
           }
          ],
          "heatmapgl": [
           {
            "colorbar": {
             "outlinewidth": 0,
             "ticks": ""
            },
            "colorscale": [
             [
              0,
              "#0d0887"
             ],
             [
              0.1111111111111111,
              "#46039f"
             ],
             [
              0.2222222222222222,
              "#7201a8"
             ],
             [
              0.3333333333333333,
              "#9c179e"
             ],
             [
              0.4444444444444444,
              "#bd3786"
             ],
             [
              0.5555555555555556,
              "#d8576b"
             ],
             [
              0.6666666666666666,
              "#ed7953"
             ],
             [
              0.7777777777777778,
              "#fb9f3a"
             ],
             [
              0.8888888888888888,
              "#fdca26"
             ],
             [
              1,
              "#f0f921"
             ]
            ],
            "type": "heatmapgl"
           }
          ],
          "histogram": [
           {
            "marker": {
             "colorbar": {
              "outlinewidth": 0,
              "ticks": ""
             }
            },
            "type": "histogram"
           }
          ],
          "histogram2d": [
           {
            "colorbar": {
             "outlinewidth": 0,
             "ticks": ""
            },
            "colorscale": [
             [
              0,
              "#0d0887"
             ],
             [
              0.1111111111111111,
              "#46039f"
             ],
             [
              0.2222222222222222,
              "#7201a8"
             ],
             [
              0.3333333333333333,
              "#9c179e"
             ],
             [
              0.4444444444444444,
              "#bd3786"
             ],
             [
              0.5555555555555556,
              "#d8576b"
             ],
             [
              0.6666666666666666,
              "#ed7953"
             ],
             [
              0.7777777777777778,
              "#fb9f3a"
             ],
             [
              0.8888888888888888,
              "#fdca26"
             ],
             [
              1,
              "#f0f921"
             ]
            ],
            "type": "histogram2d"
           }
          ],
          "histogram2dcontour": [
           {
            "colorbar": {
             "outlinewidth": 0,
             "ticks": ""
            },
            "colorscale": [
             [
              0,
              "#0d0887"
             ],
             [
              0.1111111111111111,
              "#46039f"
             ],
             [
              0.2222222222222222,
              "#7201a8"
             ],
             [
              0.3333333333333333,
              "#9c179e"
             ],
             [
              0.4444444444444444,
              "#bd3786"
             ],
             [
              0.5555555555555556,
              "#d8576b"
             ],
             [
              0.6666666666666666,
              "#ed7953"
             ],
             [
              0.7777777777777778,
              "#fb9f3a"
             ],
             [
              0.8888888888888888,
              "#fdca26"
             ],
             [
              1,
              "#f0f921"
             ]
            ],
            "type": "histogram2dcontour"
           }
          ],
          "mesh3d": [
           {
            "colorbar": {
             "outlinewidth": 0,
             "ticks": ""
            },
            "type": "mesh3d"
           }
          ],
          "parcoords": [
           {
            "line": {
             "colorbar": {
              "outlinewidth": 0,
              "ticks": ""
             }
            },
            "type": "parcoords"
           }
          ],
          "pie": [
           {
            "automargin": true,
            "type": "pie"
           }
          ],
          "scatter": [
           {
            "marker": {
             "colorbar": {
              "outlinewidth": 0,
              "ticks": ""
             }
            },
            "type": "scatter"
           }
          ],
          "scatter3d": [
           {
            "line": {
             "colorbar": {
              "outlinewidth": 0,
              "ticks": ""
             }
            },
            "marker": {
             "colorbar": {
              "outlinewidth": 0,
              "ticks": ""
             }
            },
            "type": "scatter3d"
           }
          ],
          "scattercarpet": [
           {
            "marker": {
             "colorbar": {
              "outlinewidth": 0,
              "ticks": ""
             }
            },
            "type": "scattercarpet"
           }
          ],
          "scattergeo": [
           {
            "marker": {
             "colorbar": {
              "outlinewidth": 0,
              "ticks": ""
             }
            },
            "type": "scattergeo"
           }
          ],
          "scattergl": [
           {
            "marker": {
             "colorbar": {
              "outlinewidth": 0,
              "ticks": ""
             }
            },
            "type": "scattergl"
           }
          ],
          "scattermapbox": [
           {
            "marker": {
             "colorbar": {
              "outlinewidth": 0,
              "ticks": ""
             }
            },
            "type": "scattermapbox"
           }
          ],
          "scatterpolar": [
           {
            "marker": {
             "colorbar": {
              "outlinewidth": 0,
              "ticks": ""
             }
            },
            "type": "scatterpolar"
           }
          ],
          "scatterpolargl": [
           {
            "marker": {
             "colorbar": {
              "outlinewidth": 0,
              "ticks": ""
             }
            },
            "type": "scatterpolargl"
           }
          ],
          "scatterternary": [
           {
            "marker": {
             "colorbar": {
              "outlinewidth": 0,
              "ticks": ""
             }
            },
            "type": "scatterternary"
           }
          ],
          "surface": [
           {
            "colorbar": {
             "outlinewidth": 0,
             "ticks": ""
            },
            "colorscale": [
             [
              0,
              "#0d0887"
             ],
             [
              0.1111111111111111,
              "#46039f"
             ],
             [
              0.2222222222222222,
              "#7201a8"
             ],
             [
              0.3333333333333333,
              "#9c179e"
             ],
             [
              0.4444444444444444,
              "#bd3786"
             ],
             [
              0.5555555555555556,
              "#d8576b"
             ],
             [
              0.6666666666666666,
              "#ed7953"
             ],
             [
              0.7777777777777778,
              "#fb9f3a"
             ],
             [
              0.8888888888888888,
              "#fdca26"
             ],
             [
              1,
              "#f0f921"
             ]
            ],
            "type": "surface"
           }
          ],
          "table": [
           {
            "cells": {
             "fill": {
              "color": "#EBF0F8"
             },
             "line": {
              "color": "white"
             }
            },
            "header": {
             "fill": {
              "color": "#C8D4E3"
             },
             "line": {
              "color": "white"
             }
            },
            "type": "table"
           }
          ]
         },
         "layout": {
          "annotationdefaults": {
           "arrowcolor": "#2a3f5f",
           "arrowhead": 0,
           "arrowwidth": 1
          },
          "coloraxis": {
           "colorbar": {
            "outlinewidth": 0,
            "ticks": ""
           }
          },
          "colorscale": {
           "diverging": [
            [
             0,
             "#8e0152"
            ],
            [
             0.1,
             "#c51b7d"
            ],
            [
             0.2,
             "#de77ae"
            ],
            [
             0.3,
             "#f1b6da"
            ],
            [
             0.4,
             "#fde0ef"
            ],
            [
             0.5,
             "#f7f7f7"
            ],
            [
             0.6,
             "#e6f5d0"
            ],
            [
             0.7,
             "#b8e186"
            ],
            [
             0.8,
             "#7fbc41"
            ],
            [
             0.9,
             "#4d9221"
            ],
            [
             1,
             "#276419"
            ]
           ],
           "sequential": [
            [
             0,
             "#0d0887"
            ],
            [
             0.1111111111111111,
             "#46039f"
            ],
            [
             0.2222222222222222,
             "#7201a8"
            ],
            [
             0.3333333333333333,
             "#9c179e"
            ],
            [
             0.4444444444444444,
             "#bd3786"
            ],
            [
             0.5555555555555556,
             "#d8576b"
            ],
            [
             0.6666666666666666,
             "#ed7953"
            ],
            [
             0.7777777777777778,
             "#fb9f3a"
            ],
            [
             0.8888888888888888,
             "#fdca26"
            ],
            [
             1,
             "#f0f921"
            ]
           ],
           "sequentialminus": [
            [
             0,
             "#0d0887"
            ],
            [
             0.1111111111111111,
             "#46039f"
            ],
            [
             0.2222222222222222,
             "#7201a8"
            ],
            [
             0.3333333333333333,
             "#9c179e"
            ],
            [
             0.4444444444444444,
             "#bd3786"
            ],
            [
             0.5555555555555556,
             "#d8576b"
            ],
            [
             0.6666666666666666,
             "#ed7953"
            ],
            [
             0.7777777777777778,
             "#fb9f3a"
            ],
            [
             0.8888888888888888,
             "#fdca26"
            ],
            [
             1,
             "#f0f921"
            ]
           ]
          },
          "colorway": [
           "#636efa",
           "#EF553B",
           "#00cc96",
           "#ab63fa",
           "#FFA15A",
           "#19d3f3",
           "#FF6692",
           "#B6E880",
           "#FF97FF",
           "#FECB52"
          ],
          "font": {
           "color": "#2a3f5f"
          },
          "geo": {
           "bgcolor": "white",
           "lakecolor": "white",
           "landcolor": "#E5ECF6",
           "showlakes": true,
           "showland": true,
           "subunitcolor": "white"
          },
          "hoverlabel": {
           "align": "left"
          },
          "hovermode": "closest",
          "mapbox": {
           "style": "light"
          },
          "paper_bgcolor": "white",
          "plot_bgcolor": "#E5ECF6",
          "polar": {
           "angularaxis": {
            "gridcolor": "white",
            "linecolor": "white",
            "ticks": ""
           },
           "bgcolor": "#E5ECF6",
           "radialaxis": {
            "gridcolor": "white",
            "linecolor": "white",
            "ticks": ""
           }
          },
          "scene": {
           "xaxis": {
            "backgroundcolor": "#E5ECF6",
            "gridcolor": "white",
            "gridwidth": 2,
            "linecolor": "white",
            "showbackground": true,
            "ticks": "",
            "zerolinecolor": "white"
           },
           "yaxis": {
            "backgroundcolor": "#E5ECF6",
            "gridcolor": "white",
            "gridwidth": 2,
            "linecolor": "white",
            "showbackground": true,
            "ticks": "",
            "zerolinecolor": "white"
           },
           "zaxis": {
            "backgroundcolor": "#E5ECF6",
            "gridcolor": "white",
            "gridwidth": 2,
            "linecolor": "white",
            "showbackground": true,
            "ticks": "",
            "zerolinecolor": "white"
           }
          },
          "shapedefaults": {
           "line": {
            "color": "#2a3f5f"
           }
          },
          "ternary": {
           "aaxis": {
            "gridcolor": "white",
            "linecolor": "white",
            "ticks": ""
           },
           "baxis": {
            "gridcolor": "white",
            "linecolor": "white",
            "ticks": ""
           },
           "bgcolor": "#E5ECF6",
           "caxis": {
            "gridcolor": "white",
            "linecolor": "white",
            "ticks": ""
           }
          },
          "title": {
           "x": 0.05
          },
          "xaxis": {
           "automargin": true,
           "gridcolor": "white",
           "linecolor": "white",
           "ticks": "",
           "title": {
            "standoff": 15
           },
           "zerolinecolor": "white",
           "zerolinewidth": 2
          },
          "yaxis": {
           "automargin": true,
           "gridcolor": "white",
           "linecolor": "white",
           "ticks": "",
           "title": {
            "standoff": 15
           },
           "zerolinecolor": "white",
           "zerolinewidth": 2
          }
         }
        },
        "title": {
         "text": "Metrics"
        },
        "xaxis": {
         "range": [
          -1,
          62
         ],
         "title": {
          "text": "Epoch #"
         }
        },
        "yaxis": {
         "range": [
          0,
          1
         ],
         "title": {
          "text": "Accuracy"
         }
        }
       }
      },
      "text/html": [
       "<div>\n",
       "        \n",
       "        \n",
       "            <div id=\"cfb8665c-02e0-4001-844c-1d59771470b9\" class=\"plotly-graph-div\" style=\"height:525px; width:100%;\"></div>\n",
       "            <script type=\"text/javascript\">\n",
       "                require([\"plotly\"], function(Plotly) {\n",
       "                    window.PLOTLYENV=window.PLOTLYENV || {};\n",
       "                    \n",
       "                if (document.getElementById(\"cfb8665c-02e0-4001-844c-1d59771470b9\")) {\n",
       "                    Plotly.newPlot(\n",
       "                        'cfb8665c-02e0-4001-844c-1d59771470b9',\n",
       "                        [{\"mode\": \"lines\", \"name\": \"Training accuracy on GT\", \"type\": \"scatter\", \"x\": [0, 1, 2, 3, 4, 5, 6, 7, 8, 9, 10, 11, 12, 13, 14, 15, 16, 17, 18, 19, 20, 21, 22, 23, 24, 25, 26, 27, 28, 29, 30, 31, 32, 33, 34, 35, 36, 37, 38, 39, 40, 41, 42, 43, 44, 45, 46, 47, 48, 49, 50, 51, 52, 53, 54, 55, 56, 57, 58, 59, 60, 61], \"y\": [0.28183035960022945, 0.30648249608261147, 0.3058708896243572, 0.4056447816726338, 0.50022475248456, 0.5216570787621206, 0.5290826636420425, 0.5532174194950326, 0.5527243167161942, 0.5542932180945156, 0.5587836103371379, 0.5700309979866489, 0.565795579783818, 0.5668049563313533, 0.5827714417223914, 0.5741312329489295, 0.575300295169377, 0.5719400869976784, 0.5799958704693129, 0.5767708567934746, 0.5761413300813556, 0.5832177453354048, 0.5836243883088479, 0.5919729407019237, 0.5884056851614022, 0.5922002594046689, 0.6011871569090623, 0.5977492127857827, 0.5952275626756678, 0.6080274217698642, 0.6090156858410125, 0.6002833255060681, 0.5940183903135575, 0.5994682697959933, 0.6027499325263401, 0.5971830606805175, 0.5953260200401046, 0.6065559687574258, 0.6134090766831778, 0.5995219032990224, 0.6179879754389838, 0.6048743700749866, 0.6121834912248834, 0.6061907477839097, 0.6078119066646224, 0.6014780779400328, 0.6054792996283365, 0.6080304217931646, 0.606040489330739, 0.5983551960006037, 0.6063894865943819, 0.6068795565265817, 0.613887402489829, 0.6078128927103018, 0.6096230134842852, 0.6128057922409045, 0.6108975471966218, 0.6090329122171769, 0.6055258129822727, 0.6102596804900939, 0.6026675023458383, 0.6054188958460386]}, {\"mode\": \"lines\", \"name\": \"Validation accuracy on AGT\", \"type\": \"scatter\", \"x\": [0, 1, 2, 3, 4, 5, 6, 7, 8, 9, 10, 11, 12, 13, 14, 15, 16, 17, 18, 19, 20, 21, 22, 23, 24, 25, 26, 27, 28, 29, 30, 31, 32, 33, 34, 35, 36, 37, 38, 39, 40, 41, 42, 43, 44, 45, 46, 47, 48, 49, 50, 51, 52, 53, 54, 55, 56, 57, 58, 59, 60, 61], \"y\": [0.10265468392216436, 0.17908825812083257, 0.29759566750377414, 0.48372600459347653, 0.3790841640051826, 0.5586072442955092, 0.5258447694223981, 0.5997742732982044, 0.5777519283801853, 0.5602865959405899, 0.6010466499546193, 0.5962905219201184, 0.6100732787183268, 0.5782174285987963, 0.5537872552702799, 0.6065046135194694, 0.554842339608613, 0.5831996331169997, 0.6184999139019938, 0.5353354149029972, 0.6042567728490559, 0.5343868775361496, 0.54175039421767, 0.6122236902264816, 0.4936651138603376, 0.5656763914932701, 0.604623129279329, 0.6175930971772934, 0.5953475933056325, 0.6214583858424071, 0.6401053426432236, 0.6480079715450605, 0.6205234857323843, 0.6370931919274062, 0.6031401344425878, 0.6065469290917515, 0.6372919657400676, 0.5837084155646153, 0.6509505479937167, 0.6297157286146244, 0.615702185978366, 0.6346281143614483, 0.6500691524380213, 0.6293301914500284, 0.6045561284606994, 0.6168906446355276, 0.6132217069466909, 0.5940486761812981, 0.6257070053920701, 0.6255548116564751, 0.6414462411680173, 0.6401836290916433, 0.6087905080912976, 0.6286371041842075, 0.6219539960798545, 0.6430607960003449, 0.6363562651228843, 0.637229762745626, 0.6202496074692673, 0.6538975455795738, 0.6297997573395517, 0.6032882216737498]}, {\"mode\": \"lines\", \"name\": \"Training accuracy on GT\", \"type\": \"scatter\", \"x\": [0, 1, 2, 3, 4, 5, 6, 7, 8, 9, 10, 11, 12, 13, 14, 15, 16, 17, 18, 19, 20, 21, 22, 23, 24, 25, 26, 27, 28, 29, 30, 31, 32, 33, 34, 35, 36, 37, 38, 39, 40, 41, 42, 43, 44, 45, 46, 47, 48, 49, 50, 51, 52, 53, 54, 55, 56, 57, 58, 59, 60, 61], \"y\": [null, 0.3222374719391055, 0.32404134576747007, 0.40972426763713665, 0.4999381503657455, 0.5198351879864203, 0.5235955115458529, 0.5361304177063513, 0.5436204334958215, 0.5460072436943857, 0.5518102787942957, 0.5593137164526238, 0.5610902436097112, 0.5641923545468512, 0.5596421774617676, 0.5636087173247271, 0.5586095026082667, 0.5653085392681552, 0.5674418578714242, 0.5635268534758642, 0.5667233958626643, 0.5720063437203118, 0.5680128579923455, 0.5776225235873346, 0.5768245498088157, 0.5773124878376764, 0.5848103901329665, 0.586353094169066, 0.5837445802203436, 0.5898798511405347, 0.587544468005282, 0.5861854634830258, 0.5892527750258775, 0.589155318273783, 0.5917692137762033, 0.5910752958577005, 0.5875643069569239, 0.5921533309532377, 0.5938257221241852, 0.5943803536694565, 0.5984774277493172, 0.5958768368856789, 0.597358283140643, 0.5953619601537584, 0.5917220812418442, 0.5939547384398339, 0.5977649717640006, 0.5927370076959958, 0.5901372380167412, 0.5954582717685514, 0.5909834838266275, 0.5965024614847695, 0.6013135268189564, 0.5960446238858648, 0.5942529633115209, 0.6018960600909566, 0.6009014762298027, 0.5978530515161079, 0.5950767708164343, 0.5949264311318054, 0.5917191417899935, 0.591222096260969]}, {\"mode\": \"lines\", \"name\": \"Validation accuracy on AGT\", \"type\": \"scatter\", \"x\": [0, 1, 2, 3, 4, 5, 6, 7, 8, 9, 10, 11, 12, 13, 14, 15, 16, 17, 18, 19, 20, 21, 22, 23, 24, 25, 26, 27, 28, 29, 30, 31, 32, 33, 34, 35, 36, 37, 38, 39, 40, 41, 42, 43, 44, 45, 46, 47, 48, 49, 50, 51, 52, 53, 54, 55, 56, 57, 58, 59, 60, 61], \"y\": [0.10867180208473336, 0.18714805488807856, 0.28542669696367123, 0.4890342301481052, 0.4157395407034056, 0.528377499608686, 0.5187040434198708, 0.5558953689427333, 0.5608089993988694, 0.567275409851535, 0.5798458413480378, 0.579235849945627, 0.5764916402257116, 0.5708284364239304, 0.5587906278257634, 0.5925279034248178, 0.5620190886850069, 0.5862741733930181, 0.5843362678222103, 0.531406990731774, 0.5968195381133403, 0.536369181501517, 0.5497128792552906, 0.5947882368854125, 0.4895465946429041, 0.5748550093109415, 0.6000183937566373, 0.6057064358676861, 0.5978089811296077, 0.6130748709769047, 0.6253023960675331, 0.6078320636671679, 0.6089587127598333, 0.6191187674889657, 0.5965078459743335, 0.5953141072370717, 0.6134485768192443, 0.6065027023825834, 0.6183392619549261, 0.6257507128912312, 0.6153699224044707, 0.6124759484865329, 0.6038611743097292, 0.614737917358, 0.61991678543857, 0.6159931149269875, 0.6171340705730886, 0.6140038940855878, 0.6166213869710543, 0.6081485166777435, 0.6121205582198874, 0.6214441111423236, 0.6104494772161094, 0.6065132131871503, 0.6156934841682191, 0.6179245288591595, 0.618072738254864, 0.6178337654347812, 0.6126677251850977, 0.6103862571874669, 0.6186019926661822, 0.6111456632863079]}],\n",
       "                        {\"template\": {\"data\": {\"bar\": [{\"error_x\": {\"color\": \"#2a3f5f\"}, \"error_y\": {\"color\": \"#2a3f5f\"}, \"marker\": {\"line\": {\"color\": \"#E5ECF6\", \"width\": 0.5}}, \"type\": \"bar\"}], \"barpolar\": [{\"marker\": {\"line\": {\"color\": \"#E5ECF6\", \"width\": 0.5}}, \"type\": \"barpolar\"}], \"carpet\": [{\"aaxis\": {\"endlinecolor\": \"#2a3f5f\", \"gridcolor\": \"white\", \"linecolor\": \"white\", \"minorgridcolor\": \"white\", \"startlinecolor\": \"#2a3f5f\"}, \"baxis\": {\"endlinecolor\": \"#2a3f5f\", \"gridcolor\": \"white\", \"linecolor\": \"white\", \"minorgridcolor\": \"white\", \"startlinecolor\": \"#2a3f5f\"}, \"type\": \"carpet\"}], \"choropleth\": [{\"colorbar\": {\"outlinewidth\": 0, \"ticks\": \"\"}, \"type\": \"choropleth\"}], \"contour\": [{\"colorbar\": {\"outlinewidth\": 0, \"ticks\": \"\"}, \"colorscale\": [[0.0, \"#0d0887\"], [0.1111111111111111, \"#46039f\"], [0.2222222222222222, \"#7201a8\"], [0.3333333333333333, \"#9c179e\"], [0.4444444444444444, \"#bd3786\"], [0.5555555555555556, \"#d8576b\"], [0.6666666666666666, \"#ed7953\"], [0.7777777777777778, \"#fb9f3a\"], [0.8888888888888888, \"#fdca26\"], [1.0, \"#f0f921\"]], \"type\": \"contour\"}], \"contourcarpet\": [{\"colorbar\": {\"outlinewidth\": 0, \"ticks\": \"\"}, \"type\": \"contourcarpet\"}], \"heatmap\": [{\"colorbar\": {\"outlinewidth\": 0, \"ticks\": \"\"}, \"colorscale\": [[0.0, \"#0d0887\"], [0.1111111111111111, \"#46039f\"], [0.2222222222222222, \"#7201a8\"], [0.3333333333333333, \"#9c179e\"], [0.4444444444444444, \"#bd3786\"], [0.5555555555555556, \"#d8576b\"], [0.6666666666666666, \"#ed7953\"], [0.7777777777777778, \"#fb9f3a\"], [0.8888888888888888, \"#fdca26\"], [1.0, \"#f0f921\"]], \"type\": \"heatmap\"}], \"heatmapgl\": [{\"colorbar\": {\"outlinewidth\": 0, \"ticks\": \"\"}, \"colorscale\": [[0.0, \"#0d0887\"], [0.1111111111111111, \"#46039f\"], [0.2222222222222222, \"#7201a8\"], [0.3333333333333333, \"#9c179e\"], [0.4444444444444444, \"#bd3786\"], [0.5555555555555556, \"#d8576b\"], [0.6666666666666666, \"#ed7953\"], [0.7777777777777778, \"#fb9f3a\"], [0.8888888888888888, \"#fdca26\"], [1.0, \"#f0f921\"]], \"type\": \"heatmapgl\"}], \"histogram\": [{\"marker\": {\"colorbar\": {\"outlinewidth\": 0, \"ticks\": \"\"}}, \"type\": \"histogram\"}], \"histogram2d\": [{\"colorbar\": {\"outlinewidth\": 0, \"ticks\": \"\"}, \"colorscale\": [[0.0, \"#0d0887\"], [0.1111111111111111, \"#46039f\"], [0.2222222222222222, \"#7201a8\"], [0.3333333333333333, \"#9c179e\"], [0.4444444444444444, \"#bd3786\"], [0.5555555555555556, \"#d8576b\"], [0.6666666666666666, \"#ed7953\"], [0.7777777777777778, \"#fb9f3a\"], [0.8888888888888888, \"#fdca26\"], [1.0, \"#f0f921\"]], \"type\": \"histogram2d\"}], \"histogram2dcontour\": [{\"colorbar\": {\"outlinewidth\": 0, \"ticks\": \"\"}, \"colorscale\": [[0.0, \"#0d0887\"], [0.1111111111111111, \"#46039f\"], [0.2222222222222222, \"#7201a8\"], [0.3333333333333333, \"#9c179e\"], [0.4444444444444444, \"#bd3786\"], [0.5555555555555556, \"#d8576b\"], [0.6666666666666666, \"#ed7953\"], [0.7777777777777778, \"#fb9f3a\"], [0.8888888888888888, \"#fdca26\"], [1.0, \"#f0f921\"]], \"type\": \"histogram2dcontour\"}], \"mesh3d\": [{\"colorbar\": {\"outlinewidth\": 0, \"ticks\": \"\"}, \"type\": \"mesh3d\"}], \"parcoords\": [{\"line\": {\"colorbar\": {\"outlinewidth\": 0, \"ticks\": \"\"}}, \"type\": \"parcoords\"}], \"pie\": [{\"automargin\": true, \"type\": \"pie\"}], \"scatter\": [{\"marker\": {\"colorbar\": {\"outlinewidth\": 0, \"ticks\": \"\"}}, \"type\": \"scatter\"}], \"scatter3d\": [{\"line\": {\"colorbar\": {\"outlinewidth\": 0, \"ticks\": \"\"}}, \"marker\": {\"colorbar\": {\"outlinewidth\": 0, \"ticks\": \"\"}}, \"type\": \"scatter3d\"}], \"scattercarpet\": [{\"marker\": {\"colorbar\": {\"outlinewidth\": 0, \"ticks\": \"\"}}, \"type\": \"scattercarpet\"}], \"scattergeo\": [{\"marker\": {\"colorbar\": {\"outlinewidth\": 0, \"ticks\": \"\"}}, \"type\": \"scattergeo\"}], \"scattergl\": [{\"marker\": {\"colorbar\": {\"outlinewidth\": 0, \"ticks\": \"\"}}, \"type\": \"scattergl\"}], \"scattermapbox\": [{\"marker\": {\"colorbar\": {\"outlinewidth\": 0, \"ticks\": \"\"}}, \"type\": \"scattermapbox\"}], \"scatterpolar\": [{\"marker\": {\"colorbar\": {\"outlinewidth\": 0, \"ticks\": \"\"}}, \"type\": \"scatterpolar\"}], \"scatterpolargl\": [{\"marker\": {\"colorbar\": {\"outlinewidth\": 0, \"ticks\": \"\"}}, \"type\": \"scatterpolargl\"}], \"scatterternary\": [{\"marker\": {\"colorbar\": {\"outlinewidth\": 0, \"ticks\": \"\"}}, \"type\": \"scatterternary\"}], \"surface\": [{\"colorbar\": {\"outlinewidth\": 0, \"ticks\": \"\"}, \"colorscale\": [[0.0, \"#0d0887\"], [0.1111111111111111, \"#46039f\"], [0.2222222222222222, \"#7201a8\"], [0.3333333333333333, \"#9c179e\"], [0.4444444444444444, \"#bd3786\"], [0.5555555555555556, \"#d8576b\"], [0.6666666666666666, \"#ed7953\"], [0.7777777777777778, \"#fb9f3a\"], [0.8888888888888888, \"#fdca26\"], [1.0, \"#f0f921\"]], \"type\": \"surface\"}], \"table\": [{\"cells\": {\"fill\": {\"color\": \"#EBF0F8\"}, \"line\": {\"color\": \"white\"}}, \"header\": {\"fill\": {\"color\": \"#C8D4E3\"}, \"line\": {\"color\": \"white\"}}, \"type\": \"table\"}]}, \"layout\": {\"annotationdefaults\": {\"arrowcolor\": \"#2a3f5f\", \"arrowhead\": 0, \"arrowwidth\": 1}, \"coloraxis\": {\"colorbar\": {\"outlinewidth\": 0, \"ticks\": \"\"}}, \"colorscale\": {\"diverging\": [[0, \"#8e0152\"], [0.1, \"#c51b7d\"], [0.2, \"#de77ae\"], [0.3, \"#f1b6da\"], [0.4, \"#fde0ef\"], [0.5, \"#f7f7f7\"], [0.6, \"#e6f5d0\"], [0.7, \"#b8e186\"], [0.8, \"#7fbc41\"], [0.9, \"#4d9221\"], [1, \"#276419\"]], \"sequential\": [[0.0, \"#0d0887\"], [0.1111111111111111, \"#46039f\"], [0.2222222222222222, \"#7201a8\"], [0.3333333333333333, \"#9c179e\"], [0.4444444444444444, \"#bd3786\"], [0.5555555555555556, \"#d8576b\"], [0.6666666666666666, \"#ed7953\"], [0.7777777777777778, \"#fb9f3a\"], [0.8888888888888888, \"#fdca26\"], [1.0, \"#f0f921\"]], \"sequentialminus\": [[0.0, \"#0d0887\"], [0.1111111111111111, \"#46039f\"], [0.2222222222222222, \"#7201a8\"], [0.3333333333333333, \"#9c179e\"], [0.4444444444444444, \"#bd3786\"], [0.5555555555555556, \"#d8576b\"], [0.6666666666666666, \"#ed7953\"], [0.7777777777777778, \"#fb9f3a\"], [0.8888888888888888, \"#fdca26\"], [1.0, \"#f0f921\"]]}, \"colorway\": [\"#636efa\", \"#EF553B\", \"#00cc96\", \"#ab63fa\", \"#FFA15A\", \"#19d3f3\", \"#FF6692\", \"#B6E880\", \"#FF97FF\", \"#FECB52\"], \"font\": {\"color\": \"#2a3f5f\"}, \"geo\": {\"bgcolor\": \"white\", \"lakecolor\": \"white\", \"landcolor\": \"#E5ECF6\", \"showlakes\": true, \"showland\": true, \"subunitcolor\": \"white\"}, \"hoverlabel\": {\"align\": \"left\"}, \"hovermode\": \"closest\", \"mapbox\": {\"style\": \"light\"}, \"paper_bgcolor\": \"white\", \"plot_bgcolor\": \"#E5ECF6\", \"polar\": {\"angularaxis\": {\"gridcolor\": \"white\", \"linecolor\": \"white\", \"ticks\": \"\"}, \"bgcolor\": \"#E5ECF6\", \"radialaxis\": {\"gridcolor\": \"white\", \"linecolor\": \"white\", \"ticks\": \"\"}}, \"scene\": {\"xaxis\": {\"backgroundcolor\": \"#E5ECF6\", \"gridcolor\": \"white\", \"gridwidth\": 2, \"linecolor\": \"white\", \"showbackground\": true, \"ticks\": \"\", \"zerolinecolor\": \"white\"}, \"yaxis\": {\"backgroundcolor\": \"#E5ECF6\", \"gridcolor\": \"white\", \"gridwidth\": 2, \"linecolor\": \"white\", \"showbackground\": true, \"ticks\": \"\", \"zerolinecolor\": \"white\"}, \"zaxis\": {\"backgroundcolor\": \"#E5ECF6\", \"gridcolor\": \"white\", \"gridwidth\": 2, \"linecolor\": \"white\", \"showbackground\": true, \"ticks\": \"\", \"zerolinecolor\": \"white\"}}, \"shapedefaults\": {\"line\": {\"color\": \"#2a3f5f\"}}, \"ternary\": {\"aaxis\": {\"gridcolor\": \"white\", \"linecolor\": \"white\", \"ticks\": \"\"}, \"baxis\": {\"gridcolor\": \"white\", \"linecolor\": \"white\", \"ticks\": \"\"}, \"bgcolor\": \"#E5ECF6\", \"caxis\": {\"gridcolor\": \"white\", \"linecolor\": \"white\", \"ticks\": \"\"}}, \"title\": {\"x\": 0.05}, \"xaxis\": {\"automargin\": true, \"gridcolor\": \"white\", \"linecolor\": \"white\", \"ticks\": \"\", \"title\": {\"standoff\": 15}, \"zerolinecolor\": \"white\", \"zerolinewidth\": 2}, \"yaxis\": {\"automargin\": true, \"gridcolor\": \"white\", \"linecolor\": \"white\", \"ticks\": \"\", \"title\": {\"standoff\": 15}, \"zerolinecolor\": \"white\", \"zerolinewidth\": 2}}}, \"title\": {\"text\": \"Metrics\"}, \"xaxis\": {\"range\": [-1, 62], \"title\": {\"text\": \"Epoch #\"}}, \"yaxis\": {\"range\": [0, 1], \"title\": {\"text\": \"Accuracy\"}}},\n",
       "                        {\"responsive\": true}\n",
       "                    ).then(function(){\n",
       "                            \n",
       "var gd = document.getElementById('cfb8665c-02e0-4001-844c-1d59771470b9');\n",
       "var x = new MutationObserver(function (mutations, observer) {{\n",
       "        var display = window.getComputedStyle(gd).display;\n",
       "        if (!display || display === 'none') {{\n",
       "            console.log([gd, 'removed!']);\n",
       "            Plotly.purge(gd);\n",
       "            observer.disconnect();\n",
       "        }}\n",
       "}});\n",
       "\n",
       "// Listen for the removal of the full notebook cells\n",
       "var notebookContainer = gd.closest('#notebook-container');\n",
       "if (notebookContainer) {{\n",
       "    x.observe(notebookContainer, {childList: true});\n",
       "}}\n",
       "\n",
       "// Listen for the clearing of the current output cell\n",
       "var outputEl = gd.closest('.output');\n",
       "if (outputEl) {{\n",
       "    x.observe(outputEl, {childList: true});\n",
       "}}\n",
       "\n",
       "                        })\n",
       "                };\n",
       "                });\n",
       "            </script>\n",
       "        </div>"
      ]
     },
     "metadata": {},
     "output_type": "display_data"
    }
   ],
   "source": [
    "metrics = pd.DataFrame(metrics)\n",
    "\n",
    "# create figure\n",
    "fig = go.Figure()\n",
    "fig.add_trace(go.Scatter(x=metrics.index, y=metrics['train_accuracyGT'],\n",
    "                    mode='lines',\n",
    "                    name='Training accuracy on GT'))\n",
    "fig.add_trace(go.Scatter(x=metrics.index, y=metrics['val_accuracyGT'],\n",
    "                    mode='lines',\n",
    "                    name='Validation accuracy on AGT'))\n",
    "fig.add_trace(go.Scatter(x=metrics.index, y=metrics['train_accuracyAGT'],\n",
    "                    mode='lines',\n",
    "                    name='Training accuracy on GT'))\n",
    "fig.add_trace(go.Scatter(x=metrics.index, y=metrics['val_accuracyAGT'],\n",
    "                    mode='lines',\n",
    "                    name='Validation accuracy on AGT'))\n",
    "\n",
    "fig.update_layout(title='Metrics',\n",
    "                   xaxis_title='Epoch #',\n",
    "                   yaxis_title='Accuracy')\n",
    "\n",
    "fig.update_xaxes(range = [-1,62])\n",
    "fig.update_yaxes(range = [0,1])\n",
    "\n",
    "fig.show()"
   ]
  },
  {
   "cell_type": "markdown",
   "metadata": {},
   "source": [
    "# Save model"
   ]
  },
  {
   "cell_type": "code",
   "execution_count": 25,
   "metadata": {},
   "outputs": [
    {
     "name": "stdout",
     "output_type": "stream",
     "text": [
      "[INFO] model saved !\n"
     ]
    }
   ],
   "source": [
    "# serialize the model to disk\n",
    "torch.save(unet, \"/data/jantina/CoralNet/dataset/medium/output/unet.pth\")\n",
    "print(\"[INFO] model saved !\")"
   ]
  },
  {
   "cell_type": "code",
   "execution_count": null,
   "metadata": {},
   "outputs": [],
   "source": []
  }
 ],
 "metadata": {
  "kernelspec": {
   "display_name": "Python 3 (ipykernel)",
   "language": "python",
   "name": "python3"
  },
  "language_info": {
   "codemirror_mode": {
    "name": "ipython",
    "version": 3
   },
   "file_extension": ".py",
   "mimetype": "text/x-python",
   "name": "python",
   "nbconvert_exporter": "python",
   "pygments_lexer": "ipython3",
   "version": "3.8.10"
  }
 },
 "nbformat": 4,
 "nbformat_minor": 4
}
