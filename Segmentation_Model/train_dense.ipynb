{
 "cells": [
  {
   "cell_type": "markdown",
   "metadata": {},
   "source": [
    "# Training the model on images"
   ]
  },
  {
   "cell_type": "markdown",
   "metadata": {},
   "source": [
    "## Imports"
   ]
  },
  {
   "cell_type": "code",
   "execution_count": 1,
   "metadata": {},
   "outputs": [],
   "source": [
    "# load custom scripts\n",
    "from dataset import Dataset\n",
    "from utils import *\n",
    "import config \n",
    "\n",
    "# import the necessary packages\n",
    "from albumentations.pytorch import ToTensorV2\n",
    "from imutils import paths\n",
    "from skimage import io\n",
    "from sklearn.model_selection import train_test_split\n",
    "from torch import optim\n",
    "from torch.nn import CrossEntropyLoss \n",
    "from torch.optim import Adam\n",
    "from torch.utils.data import DataLoader, WeightedRandomSampler\n",
    "from torchvision import transforms, models\n",
    "from tqdm import tqdm\n",
    "from utils import EarlyStopping\n",
    "import albumentations as A\n",
    "import cv2\n",
    "import matplotlib.pyplot as plt\n",
    "import numpy as np\n",
    "import pandas as pd\n",
    "import plotly.express as px\n",
    "import plotly.graph_objects as go\n",
    "import random\n",
    "import segmentation_models_pytorch as smp\n",
    "import time\n",
    "import torch\n",
    "import torchmetrics\n",
    "import os"
   ]
  },
  {
   "cell_type": "markdown",
   "metadata": {},
   "source": [
    "## Controlling sources of randomness"
   ]
  },
  {
   "cell_type": "code",
   "execution_count": 2,
   "metadata": {},
   "outputs": [],
   "source": [
    "# Set seed\n",
    "SEED = 42\n",
    "seed_all(SEED)"
   ]
  },
  {
   "cell_type": "markdown",
   "metadata": {},
   "source": [
    "## Setup CUDA"
   ]
  },
  {
   "cell_type": "code",
   "execution_count": 3,
   "metadata": {},
   "outputs": [
    {
     "name": "stdout",
     "output_type": "stream",
     "text": [
      "Is CUDA supported by this system? True\n",
      "[INFO] CUDA version: 11.1\n",
      "[INFO] ID of current CUDA device:0\n",
      "[INFO] Name of current CUDA device:NVIDIA GeForce RTX 3090\n"
     ]
    }
   ],
   "source": [
    "print(f\"Is CUDA supported by this system? {torch.cuda.is_available()}\")\n",
    "print(f\"[INFO] CUDA version: {torch.version.cuda}\")\n",
    "  \n",
    "# storing ID of current CUDA device\n",
    "cuda_id = torch.cuda.current_device()\n",
    "print(f\"[INFO] ID of current CUDA device:{torch.cuda.current_device()}\")\n",
    "        \n",
    "print(f\"[INFO] Name of current CUDA device:{torch.cuda.get_device_name(cuda_id)}\")\n",
    "\n",
    "DEVICE = torch.device(\"cuda\" if torch.cuda.is_available() else \"cpu\")"
   ]
  },
  {
   "cell_type": "markdown",
   "metadata": {},
   "source": [
    "## Load images"
   ]
  },
  {
   "cell_type": "code",
   "execution_count": 4,
   "metadata": {},
   "outputs": [
    {
     "name": "stdout",
     "output_type": "stream",
     "text": [
      "[INFO] saving testing image paths...\n"
     ]
    }
   ],
   "source": [
    "# load the image and label filepaths in a sorted manner\n",
    "imagePaths = sorted(list(paths.list_images(config.IMAGE_DATASET_PATH)))\n",
    "labelPaths = sorted(list(paths.list_images(\"/data/jantina/CoralNet/dataset/labels_dense\")))\n",
    "\n",
    "trainImages, testImages, trainLabels, testLabels = train_test_split(imagePaths,\n",
    "                                                                    labelPaths,\n",
    "                                                                    test_size=0.2,\n",
    "                                                                    train_size=0.8,\n",
    "                                                                    random_state=SEED)\n",
    "testImages, valImages, testLabels, valLabels = train_test_split(testImages, \n",
    "                                                                  testLabels,\n",
    "                                                                  test_size=0.5,\n",
    "                                                                  train_size=0.5,\n",
    "                                                                  random_state=SEED)\n",
    "\n",
    "# get the masks corresponding to the labels\n",
    "trainMasks = [s.replace('labels_dense', 'masks_9x9') for s in trainLabels]\n",
    "valMasks = [s.replace('labels_dense', 'masks_9x9') for s in valLabels]\n",
    "\n",
    "# save testing images to disk\n",
    "print(\"[INFO] saving testing image paths...\")\n",
    "f = open(\"/data/jantina/CoralNet/dataset/output_dense/test_paths.txt\", \"w\")\n",
    "f.write(\"\\n\".join(testImages))\n",
    "f.close()"
   ]
  },
  {
   "cell_type": "markdown",
   "metadata": {},
   "source": [
    "## Example"
   ]
  },
  {
   "cell_type": "code",
   "execution_count": 5,
   "metadata": {},
   "outputs": [],
   "source": [
    "# new label classes\n",
    "classes = {1: 'hard coral',\n",
    "           2: 'hard coral bleached',\n",
    "           3: 'dead coral',\n",
    "           4: 'other invertebrates',\n",
    "           5: 'sand/rubble',\n",
    "           6: 'other',\n",
    "           7: 'algae',\n",
    "           8: 'seagrass',\n",
    "           9: 'unknown',\n",
    "           0: 'no label'\n",
    "          }"
   ]
  },
  {
   "cell_type": "code",
   "execution_count": 6,
   "metadata": {},
   "outputs": [
    {
     "name": "stdout",
     "output_type": "stream",
     "text": [
      "Image name: (1153).JPG\n",
      "Image dtype: uint8, Label dtype: uint8\n"
     ]
    }
   ],
   "source": [
    "a=random.randrange(len(trainImages))\n",
    "image = io.imread(trainImages[a])\n",
    "label = io.imread(trainLabels[a])\n",
    "mask = io.imread(trainMasks[a])\n",
    "\n",
    "print(f\"Image name: {trainImages[a].split('/')[-1]}\")\n",
    "print(f\"Image dtype: {image.dtype}, Label dtype: {label.dtype}\")"
   ]
  },
  {
   "cell_type": "code",
   "execution_count": 7,
   "metadata": {},
   "outputs": [
    {
     "data": {
      "image/png": "[encoded data removed]",
      "text/plain": [
       "<Figure size 1080x1080 with 3 Axes>"
      ]
     },
     "metadata": {
      "needs_background": "light"
     },
     "output_type": "display_data"
    }
   ],
   "source": [
    "fig, ax = plt.subplots(ncols=2, figsize=(15, 15))\n",
    "ax[0].imshow(image)\n",
    "ax[0].scatter(np.nonzero(mask)[1], np.nonzero(mask)[0], s=20, marker='.', c='r')\n",
    "\n",
    "cax = ax[1].imshow(label, cmap = plt.cm.get_cmap('tab20', 10), vmin=0, vmax=9)\n",
    "ax[1].scatter(np.nonzero(mask)[1], np.nonzero(mask)[0], s=20, marker='.', c='r')\n",
    "\n",
    "cbar = fig.colorbar(cax, ticks=list(classes.keys()), fraction=0.035, pad=0.05)\n",
    "cbar.ax.set_yticklabels(list(classes.values()))\n",
    "plt.show()"
   ]
  },
  {
   "cell_type": "markdown",
   "metadata": {},
   "source": [
    "## Transforms"
   ]
  },
  {
   "cell_type": "code",
   "execution_count": 8,
   "metadata": {},
   "outputs": [],
   "source": [
    "train_transform = A.Compose([\n",
    "    A.RandomResizedCrop(width=128, height=128, scale=(0.08, 1.0), ratio=(0.75, 1.33), interpolation=cv2.INTER_NEAREST),    \n",
    "    A.HorizontalFlip(p=0.5),              \n",
    "    A.RandomRotate90(p=0.5),\n",
    "    A.ColorJitter(brightness=0.1, contrast=0.1, saturation=0.1, hue=0.1, p=0.5),\n",
    "    A.GaussianBlur(blur_limit=(3, 7), sigma_limit=0, always_apply=False, p=0.5),\n",
    "    A.CLAHE(p=0.8),\n",
    "    A.RandomBrightnessContrast(p=0.8),    \n",
    "    A.RandomGamma(p=0.8),\n",
    "    A.Normalize(mean=(0.485, 0.456, 0.406), std=(0.229, 0.224, 0.225)),\n",
    "    ToTensorV2()],\n",
    "    additional_targets={'mask2': 'mask'}\n",
    ")"
   ]
  },
  {
   "cell_type": "code",
   "execution_count": 9,
   "metadata": {},
   "outputs": [],
   "source": [
    "val_transform = A.Compose([\n",
    "    A.RandomResizedCrop(width=128, height=128, scale=(0.08, 1.0), ratio=(0.75, 1.33), interpolation=cv2.INTER_NEAREST),    \n",
    "    A.Normalize(mean=(0.485, 0.456, 0.406), std=(0.229, 0.224, 0.225)),\n",
    "    ToTensorV2()],\n",
    "    additional_targets={'mask2': 'mask'}\n",
    ")"
   ]
  },
  {
   "cell_type": "code",
   "execution_count": 10,
   "metadata": {},
   "outputs": [],
   "source": [
    "image = io.imread(trainImages[a])\n",
    "label = io.imread(trainLabels[a])\n",
    "mask = io.imread(trainMasks[a])\n",
    "transformed = train_transform(image=image, mask=label, mask2=mask)\n",
    "image = transformed[\"image\"]\n",
    "label = transformed[\"mask\"]\n",
    "mask = transformed[\"mask2\"]\n",
    "            \n",
    "# convert label and mask to long tensor\n",
    "label = label.type(torch.LongTensor)\n",
    "mask = mask.type(torch.LongTensor)"
   ]
  },
  {
   "cell_type": "code",
   "execution_count": 11,
   "metadata": {},
   "outputs": [
    {
     "name": "stderr",
     "output_type": "stream",
     "text": [
      "/tmp/ipykernel_1969242/1473477371.py:10: MatplotlibDeprecationWarning:\n",
      "\n",
      "Starting from Matplotlib 3.6, colorbar() will steal space from the mappable's axes, rather than from the current axes, to place the colorbar.  To silence this warning, explicitly pass the 'ax' argument to colorbar().\n",
      "\n"
     ]
    },
    {
     "data": {
      "image/png": "[encoded data removed]",
      "text/plain": [
       "<Figure size 720x720 with 3 Axes>"
      ]
     },
     "metadata": {
      "needs_background": "light"
     },
     "output_type": "display_data"
    }
   ],
   "source": [
    "fig, ax = plt.subplots(ncols=2, figsize=(10, 10))\n",
    "ax[0].imshow(unnormalize(image).permute(1, 2, 0))\n",
    "ax[0].scatter(np.nonzero(mask)[:,1], np.nonzero(mask)[:,0], s=20, marker='.', c='r')\n",
    "\n",
    "ax[1].imshow(label,\n",
    "             cmap = plt.cm.get_cmap('tab20', 10), \n",
    "             vmin=0, vmax=9)\n",
    "ax[1].scatter(np.nonzero(mask)[:,1], np.nonzero(mask)[:,0], s=20, marker='.', c='r')\n",
    "\n",
    "cbar = fig.colorbar(cax, ticks=list(classes.keys()), fraction=0.035)\n",
    "cbar.ax.set_yticklabels(list(classes.values()))\n",
    "plt.show()"
   ]
  },
  {
   "cell_type": "markdown",
   "metadata": {},
   "source": [
    "## Create dataset"
   ]
  },
  {
   "cell_type": "code",
   "execution_count": 12,
   "metadata": {},
   "outputs": [
    {
     "name": "stdout",
     "output_type": "stream",
     "text": [
      "[INFO] found 6829 examples in the training set\n",
      "[INFO] found 854 examples in the validation set\n",
      "[INFO] found 854 examples in the test set\n",
      "[INFO] total time taken to load the data: 0.00s\n"
     ]
    }
   ],
   "source": [
    "# create the train and validation datasets\n",
    "startTime = time.time()\n",
    "trainDS = Dataset(imagePaths=trainImages, labelPaths = trainLabels, maskPaths=trainMasks, transform=train_transform)\n",
    "valDS = Dataset(imagePaths=valImages, labelPaths = valLabels, maskPaths=valMasks, transform=val_transform)\n",
    "print(f\"[INFO] found {len(trainDS)} examples in the training set\")\n",
    "print(f\"[INFO] found {len(valDS)} examples in the validation set\")\n",
    "print(f\"[INFO] found {len(testImages)} examples in the test set\")\n",
    "endTime = time.time()\n",
    "print(\"[INFO] total time taken to load the data: {:.2f}s\".format(endTime - startTime))"
   ]
  },
  {
   "cell_type": "code",
   "execution_count": 13,
   "metadata": {},
   "outputs": [
    {
     "name": "stdout",
     "output_type": "stream",
     "text": [
      "Feature shape: torch.Size([3, 128, 128]), Feature type: torch.float32\n",
      "Label shape: torch.Size([128, 128]), Label type: torch.int64\n",
      "Mask shape: torch.Size([128, 128]), Mask type: torch.int64\n"
     ]
    }
   ],
   "source": [
    "sample = valDS[0]\n",
    "print(f\"Feature shape: {sample[0].shape}, Feature type: {sample[0].dtype}\")\n",
    "print(f\"Label shape: {sample[1].shape}, Label type: {sample[1].dtype}\")\n",
    "print(f\"Mask shape: {sample[2].shape}, Mask type: {sample[2].dtype}\")"
   ]
  },
  {
   "cell_type": "code",
   "execution_count": 14,
   "metadata": {},
   "outputs": [],
   "source": [
    "# create the training and validation data loaders\n",
    "trainLoader = DataLoader(trainDS, shuffle=True, \n",
    "                         batch_size=config.BATCH_SIZE, \n",
    "                         pin_memory=config.PIN_MEMORY, \n",
    "                         num_workers=os.cpu_count(),\n",
    "                         persistent_workers=True,\n",
    "                         worker_init_fn=seed_worker)\n",
    "\n",
    "valLoader = DataLoader(valDS, shuffle=False, \n",
    "                       batch_size=config.BATCH_SIZE, \n",
    "                       pin_memory=config.PIN_MEMORY, \n",
    "                       num_workers=os.cpu_count(),\n",
    "                       persistent_workers=True,\n",
    "                       worker_init_fn=seed_worker)"
   ]
  },
  {
   "cell_type": "code",
   "execution_count": 15,
   "metadata": {},
   "outputs": [
    {
     "name": "stdout",
     "output_type": "stream",
     "text": [
      "[INFO] batch_size:700\n",
      "[INFO] num_workers:32\n"
     ]
    }
   ],
   "source": [
    "print(f\"[INFO] batch_size:{config.BATCH_SIZE}\")\n",
    "print(f\"[INFO] num_workers:{os.cpu_count()}\")"
   ]
  },
  {
   "cell_type": "markdown",
   "metadata": {},
   "source": [
    "## Model initialization"
   ]
  },
  {
   "cell_type": "code",
   "execution_count": 16,
   "metadata": {},
   "outputs": [],
   "source": [
    "# import a pretrained model\n",
    "model = smp.Unet(\n",
    "    encoder_name=\"resnet18\",\n",
    "    encoder_weights=\"imagenet\",\n",
    "    in_channels=3,      \n",
    "    classes=len(classes)\n",
    ")"
   ]
  },
  {
   "cell_type": "code",
   "execution_count": 17,
   "metadata": {},
   "outputs": [],
   "source": [
    "# initialize model\n",
    "unet = model.to(config.DEVICE)\n",
    "\n",
    "# initialize loss function\n",
    "lossFunc = CrossEntropyLoss(ignore_index=0)\n",
    "\n",
    "# initialize optimizer\n",
    "opt = Adam(unet.parameters(), lr=config.INIT_LR)\n",
    "\n",
    "# calculate steps per epoch for training and validation set\n",
    "trainSteps = len(trainDS) // config.BATCH_SIZE\n",
    "valSteps = len(valDS) // config.BATCH_SIZE\n",
    "\n",
    "# initialize a dictionary to store training history\n",
    "H = {\"train_loss\": [], \"validation_loss\": []}"
   ]
  },
  {
   "cell_type": "code",
   "execution_count": 18,
   "metadata": {},
   "outputs": [],
   "source": [
    "# initialize metrics\n",
    "acc = torchmetrics.Accuracy(ignore_index=0)\n",
    "\n",
    "# move the metrics to device\n",
    "acc.to(config.DEVICE)\n",
    "\n",
    "# initialize a dictionary to store metrics history\n",
    "metrics = {\"train_accuracyGT\": [], \"val_accuracyGT\": [],\n",
    "          \"train_accuracyAGT\": [], \"val_accuracyAGT\": [],\n",
    "          \"train_accuracyAGT2\": [], \"val_accuracyAGT2\": []}"
   ]
  },
  {
   "cell_type": "code",
   "execution_count": 19,
   "metadata": {},
   "outputs": [],
   "source": [
    "# initialize the early_stopping object\n",
    "early_stopping = EarlyStopping(patience=10, verbose=True, \n",
    "                               path=\"/data/jantina/CoralNet/dataset/output_dense/checkpoint.pt\")"
   ]
  },
  {
   "cell_type": "code",
   "execution_count": 20,
   "metadata": {},
   "outputs": [],
   "source": [
    "#initialize scheduler\n",
    "scheduler = optim.lr_scheduler.ReduceLROnPlateau(opt, \"min\", patience=4, verbose=1)\n",
    "grad_scaler = torch.cuda.amp.GradScaler(enabled=False)"
   ]
  },
  {
   "cell_type": "markdown",
   "metadata": {},
   "source": [
    "## Training loop"
   ]
  },
  {
   "cell_type": "code",
   "execution_count": 21,
   "metadata": {
    "scrolled": true
   },
   "outputs": [
    {
     "name": "stdout",
     "output_type": "stream",
     "text": [
      "[INFO] training the network...\n"
     ]
    },
    {
     "name": "stderr",
     "output_type": "stream",
     "text": [
      "  1%|█▎                                                                                                                            | 1/100 [05:41<9:23:29, 341.51s/it]"
     ]
    },
    {
     "name": "stdout",
     "output_type": "stream",
     "text": [
      "Validation loss decreased (inf --> 2586383744.000000).  Saving model ...\n",
      "[INFO] EPOCH: 1/100\n",
      "Train loss: 1.947581, Validation loss: 2586383744.0000\n",
      "GT Train Accuracy: 0.2838\n",
      "AGT Train Accuracy: 0.2944\n",
      "AGT 2 Train Accuracy: 0.2741\n",
      "GT Val Accuracy: 0.2389\n",
      "AGT Val Accuracy: 0.3622\n",
      "AGT 2 Val Accuracy: 0.3620\n"
     ]
    },
    {
     "name": "stderr",
     "output_type": "stream",
     "text": [
      "\r",
      "  2%|██▌                                                                                                                           | 2/100 [11:12<9:08:08, 335.60s/it]"
     ]
    },
    {
     "name": "stdout",
     "output_type": "stream",
     "text": [
      "Validation loss decreased (2586383744.000000 --> 1617.274353).  Saving model ...\n",
      "[INFO] EPOCH: 2/100\n",
      "Train loss: 1.710725, Validation loss: 1617.2744\n",
      "GT Train Accuracy: 0.3005\n",
      "AGT Train Accuracy: 0.3383\n",
      "AGT 2 Train Accuracy: 0.3380\n",
      "GT Val Accuracy: 0.2965\n",
      "AGT Val Accuracy: 0.3204\n",
      "AGT 2 Val Accuracy: 0.3202\n"
     ]
    },
    {
     "name": "stderr",
     "output_type": "stream",
     "text": [
      "\r",
      "  3%|███▊                                                                                                                          | 3/100 [16:43<8:58:42, 333.22s/it]"
     ]
    },
    {
     "name": "stdout",
     "output_type": "stream",
     "text": [
      "Validation loss decreased (1617.274353 --> 6.311720).  Saving model ...\n",
      "[INFO] EPOCH: 3/100\n",
      "Train loss: 1.656165, Validation loss: 6.3117\n",
      "GT Train Accuracy: 0.3239\n",
      "AGT Train Accuracy: 0.3287\n",
      "AGT 2 Train Accuracy: 0.3283\n",
      "GT Val Accuracy: 0.3315\n",
      "AGT Val Accuracy: 0.3507\n",
      "AGT 2 Val Accuracy: 0.3504\n"
     ]
    },
    {
     "name": "stderr",
     "output_type": "stream",
     "text": [
      "\r",
      "  4%|█████                                                                                                                         | 4/100 [22:18<8:54:29, 334.06s/it]"
     ]
    },
    {
     "name": "stdout",
     "output_type": "stream",
     "text": [
      "Validation loss decreased (6.311720 --> 3.256083).  Saving model ...\n",
      "[INFO] EPOCH: 4/100\n",
      "Train loss: 1.582698, Validation loss: 3.2561\n",
      "GT Train Accuracy: 0.3568\n",
      "AGT Train Accuracy: 0.3809\n",
      "AGT 2 Train Accuracy: 0.3806\n",
      "GT Val Accuracy: 0.2895\n",
      "AGT Val Accuracy: 0.3714\n",
      "AGT 2 Val Accuracy: 0.3712\n"
     ]
    },
    {
     "name": "stderr",
     "output_type": "stream",
     "text": [
      "\r",
      "  5%|██████▎                                                                                                                       | 5/100 [27:37<8:40:08, 328.51s/it]"
     ]
    },
    {
     "name": "stdout",
     "output_type": "stream",
     "text": [
      "Validation loss decreased (3.256083 --> 2.907554).  Saving model ...\n",
      "[INFO] EPOCH: 5/100\n",
      "Train loss: 1.549866, Validation loss: 2.9076\n",
      "GT Train Accuracy: 0.4057\n",
      "AGT Train Accuracy: 0.4239\n",
      "AGT 2 Train Accuracy: 0.4235\n",
      "GT Val Accuracy: 0.3778\n",
      "AGT Val Accuracy: 0.4253\n",
      "AGT 2 Val Accuracy: 0.4250\n"
     ]
    },
    {
     "name": "stderr",
     "output_type": "stream",
     "text": [
      "\r",
      "  6%|███████▌                                                                                                                      | 6/100 [32:57<8:30:17, 325.72s/it]"
     ]
    },
    {
     "name": "stdout",
     "output_type": "stream",
     "text": [
      "Validation loss decreased (2.907554 --> 2.656835).  Saving model ...\n",
      "[INFO] EPOCH: 6/100\n",
      "Train loss: 1.527014, Validation loss: 2.6568\n",
      "GT Train Accuracy: 0.4393\n",
      "AGT Train Accuracy: 0.4366\n",
      "AGT 2 Train Accuracy: 0.4362\n",
      "GT Val Accuracy: 0.4483\n",
      "AGT Val Accuracy: 0.4645\n",
      "AGT 2 Val Accuracy: 0.4642\n"
     ]
    },
    {
     "name": "stderr",
     "output_type": "stream",
     "text": [
      "\r",
      "  7%|████████▊                                                                                                                     | 7/100 [38:18<8:22:21, 324.10s/it]"
     ]
    },
    {
     "name": "stdout",
     "output_type": "stream",
     "text": [
      "Validation loss decreased (2.656835 --> 2.610580).  Saving model ...\n",
      "[INFO] EPOCH: 7/100\n",
      "Train loss: 1.506419, Validation loss: 2.6106\n",
      "GT Train Accuracy: 0.4607\n",
      "AGT Train Accuracy: 0.4592\n",
      "AGT 2 Train Accuracy: 0.4589\n",
      "GT Val Accuracy: 0.4542\n",
      "AGT Val Accuracy: 0.5081\n",
      "AGT 2 Val Accuracy: 0.5072\n"
     ]
    },
    {
     "name": "stderr",
     "output_type": "stream",
     "text": [
      "\r",
      "  8%|██████████                                                                                                                    | 8/100 [43:36<8:13:52, 322.10s/it]"
     ]
    },
    {
     "name": "stdout",
     "output_type": "stream",
     "text": [
      "EarlyStopping counter: 1 out of 10\n",
      "[INFO] EPOCH: 8/100\n",
      "Train loss: 1.480524, Validation loss: 2.6348\n",
      "GT Train Accuracy: 0.4728\n",
      "AGT Train Accuracy: 0.4819\n",
      "AGT 2 Train Accuracy: 0.4815\n",
      "GT Val Accuracy: 0.4781\n",
      "AGT Val Accuracy: 0.4616\n",
      "AGT 2 Val Accuracy: 0.4614\n"
     ]
    },
    {
     "name": "stderr",
     "output_type": "stream",
     "text": [
      "\r",
      "  9%|███████████▎                                                                                                                  | 9/100 [48:57<8:07:53, 321.69s/it]"
     ]
    },
    {
     "name": "stdout",
     "output_type": "stream",
     "text": [
      "Validation loss decreased (2.610580 --> 2.492103).  Saving model ...\n",
      "[INFO] EPOCH: 9/100\n",
      "Train loss: 1.453541, Validation loss: 2.4921\n",
      "GT Train Accuracy: 0.4936\n",
      "AGT Train Accuracy: 0.5034\n",
      "AGT 2 Train Accuracy: 0.5029\n",
      "GT Val Accuracy: 0.5142\n",
      "AGT Val Accuracy: 0.5346\n",
      "AGT 2 Val Accuracy: 0.5343\n"
     ]
    },
    {
     "name": "stderr",
     "output_type": "stream",
     "text": [
      "\r",
      " 10%|████████████▌                                                                                                                | 10/100 [54:13<8:00:20, 320.22s/it]"
     ]
    },
    {
     "name": "stdout",
     "output_type": "stream",
     "text": [
      "Validation loss decreased (2.492103 --> 2.439555).  Saving model ...\n",
      "[INFO] EPOCH: 10/100\n",
      "Train loss: 1.444024, Validation loss: 2.4396\n",
      "GT Train Accuracy: 0.5030\n",
      "AGT Train Accuracy: 0.5057\n",
      "AGT 2 Train Accuracy: 0.5053\n",
      "GT Val Accuracy: 0.5315\n",
      "AGT Val Accuracy: 0.5443\n",
      "AGT 2 Val Accuracy: 0.5441\n"
     ]
    },
    {
     "name": "stderr",
     "output_type": "stream",
     "text": [
      "\r",
      " 11%|█████████████▊                                                                                                               | 11/100 [59:36<7:56:05, 320.97s/it]"
     ]
    },
    {
     "name": "stdout",
     "output_type": "stream",
     "text": [
      "Validation loss decreased (2.439555 --> 2.383259).  Saving model ...\n",
      "[INFO] EPOCH: 11/100\n",
      "Train loss: 1.445226, Validation loss: 2.3833\n",
      "GT Train Accuracy: 0.4895\n",
      "AGT Train Accuracy: 0.5095\n",
      "AGT 2 Train Accuracy: 0.5092\n",
      "GT Val Accuracy: 0.5536\n",
      "AGT Val Accuracy: 0.5665\n",
      "AGT 2 Val Accuracy: 0.5663\n"
     ]
    },
    {
     "name": "stderr",
     "output_type": "stream",
     "text": [
      "\r",
      " 12%|██████████████▊                                                                                                            | 12/100 [1:04:55<7:49:43, 320.27s/it]"
     ]
    },
    {
     "name": "stdout",
     "output_type": "stream",
     "text": [
      "EarlyStopping counter: 1 out of 10\n",
      "[INFO] EPOCH: 12/100\n",
      "Train loss: 1.430690, Validation loss: 2.4204\n",
      "GT Train Accuracy: 0.5123\n",
      "AGT Train Accuracy: 0.5202\n",
      "AGT 2 Train Accuracy: 0.5199\n",
      "GT Val Accuracy: 0.5682\n",
      "AGT Val Accuracy: 0.5769\n",
      "AGT 2 Val Accuracy: 0.5767\n"
     ]
    },
    {
     "name": "stderr",
     "output_type": "stream",
     "text": [
      "\r",
      " 13%|███████████████▉                                                                                                           | 13/100 [1:10:09<7:41:54, 318.55s/it]"
     ]
    },
    {
     "name": "stdout",
     "output_type": "stream",
     "text": [
      "Validation loss decreased (2.383259 --> 2.338942).  Saving model ...\n",
      "[INFO] EPOCH: 13/100\n",
      "Train loss: 1.412491, Validation loss: 2.3389\n",
      "GT Train Accuracy: 0.5019\n",
      "AGT Train Accuracy: 0.5261\n",
      "AGT 2 Train Accuracy: 0.5256\n",
      "GT Val Accuracy: 0.5605\n",
      "AGT Val Accuracy: 0.5771\n",
      "AGT 2 Val Accuracy: 0.5768\n"
     ]
    },
    {
     "name": "stderr",
     "output_type": "stream",
     "text": [
      "\r",
      " 14%|█████████████████▏                                                                                                         | 14/100 [1:15:27<7:36:07, 318.23s/it]"
     ]
    },
    {
     "name": "stdout",
     "output_type": "stream",
     "text": [
      "EarlyStopping counter: 1 out of 10\n",
      "[INFO] EPOCH: 14/100\n",
      "Train loss: 1.407424, Validation loss: 2.4773\n",
      "GT Train Accuracy: 0.5138\n",
      "AGT Train Accuracy: 0.5342\n",
      "AGT 2 Train Accuracy: 0.5338\n",
      "GT Val Accuracy: 0.5441\n",
      "AGT Val Accuracy: 0.5554\n",
      "AGT 2 Val Accuracy: 0.5552\n"
     ]
    },
    {
     "name": "stderr",
     "output_type": "stream",
     "text": [
      "\r",
      " 15%|██████████████████▍                                                                                                        | 15/100 [1:20:43<7:29:46, 317.49s/it]"
     ]
    },
    {
     "name": "stdout",
     "output_type": "stream",
     "text": [
      "EarlyStopping counter: 2 out of 10\n",
      "[INFO] EPOCH: 15/100\n",
      "Train loss: 1.395311, Validation loss: 2.4853\n",
      "GT Train Accuracy: 0.5187\n",
      "AGT Train Accuracy: 0.5365\n",
      "AGT 2 Train Accuracy: 0.5362\n",
      "GT Val Accuracy: 0.4877\n",
      "AGT Val Accuracy: 0.5450\n",
      "AGT 2 Val Accuracy: 0.5447\n",
      "Epoch    31: reducing learning rate of group 0 to 7.0000e-03.\n"
     ]
    },
    {
     "name": "stderr",
     "output_type": "stream",
     "text": [
      "\r",
      " 16%|███████████████████▋                                                                                                       | 16/100 [1:25:59<7:24:04, 317.20s/it]"
     ]
    },
    {
     "name": "stdout",
     "output_type": "stream",
     "text": [
      "EarlyStopping counter: 3 out of 10\n",
      "[INFO] EPOCH: 16/100\n",
      "Train loss: 1.391349, Validation loss: 2.3570\n",
      "GT Train Accuracy: 0.5233\n",
      "AGT Train Accuracy: 0.5369\n",
      "AGT 2 Train Accuracy: 0.5366\n",
      "GT Val Accuracy: 0.5624\n",
      "AGT Val Accuracy: 0.5810\n",
      "AGT 2 Val Accuracy: 0.5807\n"
     ]
    },
    {
     "name": "stderr",
     "output_type": "stream",
     "text": [
      "\r",
      " 17%|████████████████████▉                                                                                                      | 17/100 [1:31:02<7:12:59, 313.01s/it]"
     ]
    },
    {
     "name": "stdout",
     "output_type": "stream",
     "text": [
      "Validation loss decreased (2.338942 --> 2.289506).  Saving model ...\n",
      "[INFO] EPOCH: 17/100\n",
      "Train loss: 1.372358, Validation loss: 2.2895\n",
      "GT Train Accuracy: 0.5299\n",
      "AGT Train Accuracy: 0.5474\n",
      "AGT 2 Train Accuracy: 0.5470\n",
      "GT Val Accuracy: 0.5726\n",
      "AGT Val Accuracy: 0.5964\n",
      "AGT 2 Val Accuracy: 0.5961\n"
     ]
    },
    {
     "name": "stderr",
     "output_type": "stream",
     "text": [
      "\r",
      " 18%|██████████████████████▏                                                                                                    | 18/100 [1:36:08<7:04:34, 310.66s/it]"
     ]
    },
    {
     "name": "stdout",
     "output_type": "stream",
     "text": [
      "EarlyStopping counter: 1 out of 10\n",
      "[INFO] EPOCH: 18/100\n",
      "Train loss: 1.363849, Validation loss: 2.3255\n",
      "GT Train Accuracy: 0.5260\n",
      "AGT Train Accuracy: 0.5502\n",
      "AGT 2 Train Accuracy: 0.5499\n",
      "GT Val Accuracy: 0.5449\n",
      "AGT Val Accuracy: 0.5834\n",
      "AGT 2 Val Accuracy: 0.5832\n"
     ]
    },
    {
     "name": "stderr",
     "output_type": "stream",
     "text": [
      "\r",
      " 19%|███████████████████████▎                                                                                                   | 19/100 [1:41:18<6:59:19, 310.62s/it]"
     ]
    },
    {
     "name": "stdout",
     "output_type": "stream",
     "text": [
      "Validation loss decreased (2.289506 --> 2.278939).  Saving model ...\n",
      "[INFO] EPOCH: 19/100\n",
      "Train loss: 1.355246, Validation loss: 2.2789\n",
      "GT Train Accuracy: 0.5292\n",
      "AGT Train Accuracy: 0.5546\n",
      "AGT 2 Train Accuracy: 0.5543\n",
      "GT Val Accuracy: 0.5846\n",
      "AGT Val Accuracy: 0.6023\n",
      "AGT 2 Val Accuracy: 0.6020\n",
      "Epoch    39: reducing learning rate of group 0 to 7.0000e-04.\n"
     ]
    },
    {
     "name": "stderr",
     "output_type": "stream",
     "text": [
      "\r",
      " 20%|████████████████████████▌                                                                                                  | 20/100 [1:46:27<6:53:30, 310.14s/it]"
     ]
    },
    {
     "name": "stdout",
     "output_type": "stream",
     "text": [
      "EarlyStopping counter: 1 out of 10\n",
      "[INFO] EPOCH: 20/100\n",
      "Train loss: 1.363923, Validation loss: 2.3173\n",
      "GT Train Accuracy: 0.5307\n",
      "AGT Train Accuracy: 0.5498\n",
      "AGT 2 Train Accuracy: 0.5493\n",
      "GT Val Accuracy: 0.5829\n",
      "AGT Val Accuracy: 0.5920\n",
      "AGT 2 Val Accuracy: 0.5917\n"
     ]
    },
    {
     "name": "stderr",
     "output_type": "stream",
     "text": [
      "\r",
      " 21%|█████████████████████████▊                                                                                                 | 21/100 [1:51:33<6:46:38, 308.85s/it]"
     ]
    },
    {
     "name": "stdout",
     "output_type": "stream",
     "text": [
      "EarlyStopping counter: 2 out of 10\n",
      "[INFO] EPOCH: 21/100\n",
      "Train loss: 1.353666, Validation loss: 2.3313\n",
      "GT Train Accuracy: 0.5294\n",
      "AGT Train Accuracy: 0.5490\n",
      "AGT 2 Train Accuracy: 0.5487\n",
      "GT Val Accuracy: 0.5813\n",
      "AGT Val Accuracy: 0.5922\n",
      "AGT 2 Val Accuracy: 0.5919\n"
     ]
    },
    {
     "name": "stderr",
     "output_type": "stream",
     "text": [
      "\r",
      " 22%|███████████████████████████                                                                                                | 22/100 [1:56:34<6:38:30, 306.54s/it]"
     ]
    },
    {
     "name": "stdout",
     "output_type": "stream",
     "text": [
      "EarlyStopping counter: 3 out of 10\n",
      "[INFO] EPOCH: 22/100\n",
      "Train loss: 1.352846, Validation loss: 2.2798\n",
      "GT Train Accuracy: 0.5440\n",
      "AGT Train Accuracy: 0.5517\n",
      "AGT 2 Train Accuracy: 0.5512\n",
      "GT Val Accuracy: 0.6094\n",
      "AGT Val Accuracy: 0.5876\n",
      "AGT 2 Val Accuracy: 0.5873\n"
     ]
    },
    {
     "name": "stderr",
     "output_type": "stream",
     "text": [
      "\r",
      " 23%|████████████████████████████▎                                                                                              | 23/100 [2:01:38<6:32:15, 305.65s/it]"
     ]
    },
    {
     "name": "stdout",
     "output_type": "stream",
     "text": [
      "EarlyStopping counter: 4 out of 10\n",
      "[INFO] EPOCH: 23/100\n",
      "Train loss: 1.353571, Validation loss: 2.3002\n",
      "GT Train Accuracy: 0.5356\n",
      "AGT Train Accuracy: 0.5506\n",
      "AGT 2 Train Accuracy: 0.5503\n",
      "GT Val Accuracy: 0.5728\n",
      "AGT Val Accuracy: 0.5893\n",
      "AGT 2 Val Accuracy: 0.5890\n"
     ]
    },
    {
     "name": "stderr",
     "output_type": "stream",
     "text": [
      "\r",
      " 24%|█████████████████████████████▌                                                                                             | 24/100 [2:06:44<6:27:18, 305.77s/it]"
     ]
    },
    {
     "name": "stdout",
     "output_type": "stream",
     "text": [
      "EarlyStopping counter: 5 out of 10\n",
      "[INFO] EPOCH: 24/100\n",
      "Train loss: 1.346948, Validation loss: 2.3076\n",
      "GT Train Accuracy: 0.5345\n",
      "AGT Train Accuracy: 0.5550\n",
      "AGT 2 Train Accuracy: 0.5546\n",
      "GT Val Accuracy: 0.5874\n",
      "AGT Val Accuracy: 0.5926\n",
      "AGT 2 Val Accuracy: 0.5924\n",
      "Epoch    49: reducing learning rate of group 0 to 7.0000e-05.\n"
     ]
    },
    {
     "name": "stderr",
     "output_type": "stream",
     "text": [
      "\r",
      " 25%|██████████████████████████████▊                                                                                            | 25/100 [2:11:53<6:23:35, 306.87s/it]"
     ]
    },
    {
     "name": "stdout",
     "output_type": "stream",
     "text": [
      "Validation loss decreased (2.278939 --> 2.242523).  Saving model ...\n",
      "[INFO] EPOCH: 25/100\n",
      "Train loss: 1.349838, Validation loss: 2.2425\n",
      "GT Train Accuracy: 0.5369\n",
      "AGT Train Accuracy: 0.5570\n",
      "AGT 2 Train Accuracy: 0.5566\n",
      "GT Val Accuracy: 0.5870\n",
      "AGT Val Accuracy: 0.6017\n",
      "AGT 2 Val Accuracy: 0.6015\n"
     ]
    },
    {
     "name": "stderr",
     "output_type": "stream",
     "text": [
      "\r",
      " 26%|███████████████████████████████▉                                                                                           | 26/100 [2:16:56<6:16:46, 305.50s/it]"
     ]
    },
    {
     "name": "stdout",
     "output_type": "stream",
     "text": [
      "EarlyStopping counter: 1 out of 10\n",
      "[INFO] EPOCH: 26/100\n",
      "Train loss: 1.349110, Validation loss: 2.2854\n",
      "GT Train Accuracy: 0.5267\n",
      "AGT Train Accuracy: 0.5545\n",
      "AGT 2 Train Accuracy: 0.5542\n",
      "GT Val Accuracy: 0.5981\n",
      "AGT Val Accuracy: 0.5962\n",
      "AGT 2 Val Accuracy: 0.5960\n"
     ]
    },
    {
     "name": "stderr",
     "output_type": "stream",
     "text": [
      "\r",
      " 27%|█████████████████████████████████▏                                                                                         | 27/100 [2:22:04<6:12:35, 306.24s/it]"
     ]
    },
    {
     "name": "stdout",
     "output_type": "stream",
     "text": [
      "EarlyStopping counter: 2 out of 10\n",
      "[INFO] EPOCH: 27/100\n",
      "Train loss: 1.353784, Validation loss: 2.2939\n",
      "GT Train Accuracy: 0.5323\n",
      "AGT Train Accuracy: 0.5526\n",
      "AGT 2 Train Accuracy: 0.5523\n",
      "GT Val Accuracy: 0.6007\n",
      "AGT Val Accuracy: 0.5979\n",
      "AGT 2 Val Accuracy: 0.5976\n",
      "Epoch    55: reducing learning rate of group 0 to 7.0000e-06.\n"
     ]
    },
    {
     "name": "stderr",
     "output_type": "stream",
     "text": [
      "\r",
      " 28%|██████████████████████████████████▍                                                                                        | 28/100 [2:27:08<6:07:00, 305.85s/it]"
     ]
    },
    {
     "name": "stdout",
     "output_type": "stream",
     "text": [
      "EarlyStopping counter: 3 out of 10\n",
      "[INFO] EPOCH: 28/100\n",
      "Train loss: 1.343943, Validation loss: 2.3080\n",
      "GT Train Accuracy: 0.5334\n",
      "AGT Train Accuracy: 0.5597\n",
      "AGT 2 Train Accuracy: 0.5594\n",
      "GT Val Accuracy: 0.5785\n",
      "AGT Val Accuracy: 0.5909\n",
      "AGT 2 Val Accuracy: 0.5906\n"
     ]
    },
    {
     "name": "stderr",
     "output_type": "stream",
     "text": [
      "\r",
      " 29%|███████████████████████████████████▋                                                                                       | 29/100 [2:32:16<6:02:28, 306.32s/it]"
     ]
    },
    {
     "name": "stdout",
     "output_type": "stream",
     "text": [
      "EarlyStopping counter: 4 out of 10\n",
      "[INFO] EPOCH: 29/100\n",
      "Train loss: 1.352520, Validation loss: 2.2673\n",
      "GT Train Accuracy: 0.5381\n",
      "AGT Train Accuracy: 0.5536\n",
      "AGT 2 Train Accuracy: 0.5533\n",
      "GT Val Accuracy: 0.5803\n",
      "AGT Val Accuracy: 0.5945\n",
      "AGT 2 Val Accuracy: 0.5942\n",
      "Epoch    60: reducing learning rate of group 0 to 7.0000e-07.\n"
     ]
    },
    {
     "name": "stderr",
     "output_type": "stream",
     "text": [
      "\r",
      " 30%|████████████████████████████████████▉                                                                                      | 30/100 [2:37:19<5:56:19, 305.42s/it]"
     ]
    },
    {
     "name": "stdout",
     "output_type": "stream",
     "text": [
      "EarlyStopping counter: 5 out of 10\n",
      "[INFO] EPOCH: 30/100\n",
      "Train loss: 1.348491, Validation loss: 2.2988\n",
      "GT Train Accuracy: 0.5378\n",
      "AGT Train Accuracy: 0.5564\n",
      "AGT 2 Train Accuracy: 0.5561\n",
      "GT Val Accuracy: 0.5901\n",
      "AGT Val Accuracy: 0.5986\n",
      "AGT 2 Val Accuracy: 0.5984\n"
     ]
    },
    {
     "name": "stderr",
     "output_type": "stream",
     "text": [
      "\r",
      " 31%|██████████████████████████████████████▏                                                                                    | 31/100 [2:42:26<5:51:46, 305.89s/it]"
     ]
    },
    {
     "name": "stdout",
     "output_type": "stream",
     "text": [
      "EarlyStopping counter: 6 out of 10\n",
      "[INFO] EPOCH: 31/100\n",
      "Train loss: 1.347543, Validation loss: 2.2978\n",
      "GT Train Accuracy: 0.5438\n",
      "AGT Train Accuracy: 0.5583\n",
      "AGT 2 Train Accuracy: 0.5579\n",
      "GT Val Accuracy: 0.5883\n",
      "AGT Val Accuracy: 0.6014\n",
      "AGT 2 Val Accuracy: 0.6011\n"
     ]
    },
    {
     "name": "stderr",
     "output_type": "stream",
     "text": [
      "\r",
      " 32%|███████████████████████████████████████▎                                                                                   | 32/100 [2:47:34<5:47:24, 306.54s/it]"
     ]
    },
    {
     "name": "stdout",
     "output_type": "stream",
     "text": [
      "EarlyStopping counter: 7 out of 10\n",
      "[INFO] EPOCH: 32/100\n",
      "Train loss: 1.348894, Validation loss: 2.2468\n",
      "GT Train Accuracy: 0.5246\n",
      "AGT Train Accuracy: 0.5561\n",
      "AGT 2 Train Accuracy: 0.5557\n",
      "GT Val Accuracy: 0.5895\n",
      "AGT Val Accuracy: 0.6051\n",
      "AGT 2 Val Accuracy: 0.6048\n",
      "Epoch    65: reducing learning rate of group 0 to 7.0000e-08.\n"
     ]
    },
    {
     "name": "stderr",
     "output_type": "stream",
     "text": [
      "\r",
      " 33%|████████████████████████████████████████▌                                                                                  | 33/100 [2:52:47<5:44:17, 308.32s/it]"
     ]
    },
    {
     "name": "stdout",
     "output_type": "stream",
     "text": [
      "EarlyStopping counter: 8 out of 10\n",
      "[INFO] EPOCH: 33/100\n",
      "Train loss: 1.346591, Validation loss: 2.3001\n",
      "GT Train Accuracy: 0.5387\n",
      "AGT Train Accuracy: 0.5555\n",
      "AGT 2 Train Accuracy: 0.5552\n",
      "GT Val Accuracy: 0.5965\n",
      "AGT Val Accuracy: 0.5906\n",
      "AGT 2 Val Accuracy: 0.5903\n"
     ]
    },
    {
     "name": "stderr",
     "output_type": "stream",
     "text": [
      "\r",
      " 34%|█████████████████████████████████████████▊                                                                                 | 34/100 [2:58:00<5:40:41, 309.72s/it]"
     ]
    },
    {
     "name": "stdout",
     "output_type": "stream",
     "text": [
      "EarlyStopping counter: 9 out of 10\n",
      "[INFO] EPOCH: 34/100\n",
      "Train loss: 1.345571, Validation loss: 2.3274\n",
      "GT Train Accuracy: 0.5412\n",
      "AGT Train Accuracy: 0.5554\n",
      "AGT 2 Train Accuracy: 0.5551\n",
      "GT Val Accuracy: 0.5631\n",
      "AGT Val Accuracy: 0.5898\n",
      "AGT 2 Val Accuracy: 0.5896\n",
      "Epoch    70: reducing learning rate of group 0 to 7.0000e-09.\n"
     ]
    },
    {
     "name": "stderr",
     "output_type": "stream",
     "text": [
      "\r",
      " 34%|█████████████████████████████████████████▊                                                                                 | 34/100 [3:03:03<5:55:20, 323.04s/it]"
     ]
    },
    {
     "name": "stdout",
     "output_type": "stream",
     "text": [
      "EarlyStopping counter: 10 out of 10\n",
      "Early stopping\n",
      "[INFO] total time taken to train the model: 10983.33s\n"
     ]
    },
    {
     "name": "stderr",
     "output_type": "stream",
     "text": [
      "\n"
     ]
    }
   ],
   "source": [
    "# loop over epochs\n",
    "print(\"[INFO] training the network...\")\n",
    "startTime = time.time()\n",
    "for e in tqdm(range(config.NUM_EPOCHS)):\n",
    "    #fix seed\n",
    "    seed_all(SEED)\n",
    "    \n",
    "    ###################\n",
    "    # train the model #\n",
    "    ###################\n",
    "    unet.train() # prep model for training\n",
    "\n",
    "    # initialize the total training and validation loss\n",
    "    totalTrainLoss, totalValLoss = 0, 0\n",
    "    \n",
    "    # initialize the accuracy\n",
    "    accTrainGT = 0\n",
    "    accTrainAGT = 0\n",
    "    accTrainAGT2 = 0\n",
    "    accValGT = 0\n",
    "    accValAGT = 0\n",
    "    accValAGT2 = 0\n",
    "    countTrainGT = 0\n",
    "    countTrainAGT = 0\n",
    "    countTrainAGT2 = 0\n",
    "    countValGT = 0\n",
    "    countValAGT = 0\n",
    "    countValAGT2 = 0\n",
    "    \n",
    "    # loop over the training set\n",
    "    for batch, (data, target, mask) in enumerate(trainLoader, 1):\n",
    "        #fix seed\n",
    "        seed_all(SEED)\n",
    "        \n",
    "        # send the input to the device\n",
    "        (data, target, mask) = (data.to(config.DEVICE), target.to(config.DEVICE), mask.to(config.DEVICE))\n",
    "        \n",
    "        # perform a forward pass \n",
    "        pred = unet(data)\n",
    "\n",
    "        # calculate the training loss\n",
    "        loss = lossFunc(pred, target)\n",
    "        \n",
    "        # for each input\n",
    "        for i in range(len(target)):\n",
    "            if torch.sum(mask[i])!=0: # GT and AGT\n",
    "                # update the accuracy count\n",
    "                countTrainGT = countTrainGT + 1\n",
    "                countTrainAGT = countTrainAGT + 1\n",
    "                countTrainAGT2 = countTrainAGT2 + 1\n",
    "                # extract the GT label positions in the prediction\n",
    "                pixel_predGT = torch.mul(mask[i], torch.argmax(pred[i],dim=0))\n",
    "                # extract the GT label positions in the target\n",
    "                pixel_targGT = torch.mul(mask[i], target[i])\n",
    "                # metrics on current element\n",
    "                accTrainGT += acc(pixel_predGT, pixel_targGT).item()\n",
    "                \n",
    "                # extract the AGT label positions in the prediction\n",
    "                pixel_predAGT = torch.argmax(pred[i],dim=0)-pixel_predGT\n",
    "                # extract the AGT label positions in the target\n",
    "                pixel_targAGT = target[i]-pixel_targGT\n",
    "                # metrics on current element\n",
    "                accTrainAGT2 += acc(pixel_predAGT, pixel_targAGT).item()\n",
    "                if np.isnan(accuracyAGT(pixel_predAGT, pixel_targAGT).item()):\n",
    "                    countTrainAGT = countTrainAGT - 1\n",
    "                else:\n",
    "                    accTrainAGT += accuracyAGT(pixel_predAGT, pixel_targAGT).item()\n",
    "                \n",
    "            else: # only AGT\n",
    "                # update the accuracy count\n",
    "                countTrainAGT = countTrainAGT + 1\n",
    "                countTrainAGT2 = countTrainAGT2 + 1\n",
    "                # metrics on current element\n",
    "                accTrainAGT2 += acc(torch.argmax(pred[i],dim=0), target[i]).item()\n",
    "                if np.isnan(accuracyAGT(torch.argmax(pred[i],dim=0), target[i]).item()):\n",
    "                    countTrainAGT = countTrainAGT - 1\n",
    "                else:\n",
    "                    accTrainAGT += accuracyAGT(torch.argmax(pred[i],dim=0), target[i]).item()\n",
    "            \n",
    "        # Gradient descent with optimizer:\n",
    "        opt.zero_grad(set_to_none=True)\n",
    "        grad_scaler.scale(loss).backward()\n",
    "        grad_scaler.step(opt)\n",
    "        grad_scaler.update()\n",
    "\n",
    "        # add the loss to the total training loss so far\n",
    "        totalTrainLoss += loss.item()\n",
    "        \n",
    "    ######################    \n",
    "    # validate the model #\n",
    "    ######################\n",
    "    # switch off autograd\n",
    "    with torch.no_grad():        \n",
    "        unet.eval() # prep model for evaluation\n",
    "        \n",
    "        # loop over the validation set\n",
    "        for data, target, mask in valLoader:\n",
    "            #fix seed\n",
    "            seed_all(SEED)\n",
    "            \n",
    "            # send the input to the device\n",
    "            (data, target, mask) = (data.to(config.DEVICE), target.to(config.DEVICE), mask.to(config.DEVICE))\n",
    "        \n",
    "            # make the predictions \n",
    "            pred = unet(data)\n",
    "            \n",
    "            # calculate the validation loss\n",
    "            totalValLoss += lossFunc(pred, target).item()\n",
    "            \n",
    "            # scheduler step\n",
    "            scheduler.step(lossFunc(pred, target))\n",
    "            \n",
    "            # for each input\n",
    "            for i in range(len(target)):\n",
    "                if torch.sum(mask[i])!=0: # GT and AGT\n",
    "                    # update the accuracy count\n",
    "                    countValGT = countValGT + 1\n",
    "                    countValAGT = countValAGT + 1\n",
    "                    countValAGT2 = countValAGT2 + 1\n",
    "                    # extract the GT label positions in the prediction\n",
    "                    pixel_predGT = torch.mul(mask[i], torch.argmax(pred[i],dim=0))\n",
    "                    # extract the GT label positions in the target\n",
    "                    pixel_targGT = torch.mul(mask[i], target[i])\n",
    "                    # metrics on current element\n",
    "                    accValGT += acc(pixel_predGT, pixel_targGT).item()\n",
    "\n",
    "                    # extract the AGT label positions in the prediction\n",
    "                    pixel_predAGT = torch.argmax(pred[i],dim=0)-pixel_predGT\n",
    "                    # extract the AGT label positions in the target\n",
    "                    pixel_targAGT = target[i]-pixel_targGT\n",
    "                    # metrics on current element\n",
    "                    accValAGT2 += acc(pixel_predAGT, pixel_targAGT).item()\n",
    "                    if np.isnan(accuracyAGT(pixel_predAGT, pixel_targAGT).item()):\n",
    "                        countValAGT = countValAGT - 1\n",
    "                    else:\n",
    "                        accValAGT += accuracyAGT(pixel_predAGT, pixel_targAGT).item()\n",
    "                    \n",
    "                    '''                                    \n",
    "                    # show the validation results\n",
    "                    fig, ax = plt.subplots(ncols=3, figsize=(10, 10))\n",
    "                    ax[0].imshow(unnormalize(data[i]).cpu().detach().permute(1, 2, 0))\n",
    "                    ax[0].scatter(np.nonzero(mask[i])[:,1].cpu(), np.nonzero(mask[i])[:,0].cpu(), s=20, marker='.', c='r')\n",
    "\n",
    "                    ax[1].imshow(target[i].cpu(),\n",
    "                                 cmap = plt.cm.get_cmap('tab20', 10), \n",
    "                                 vmin=0, vmax=9)\n",
    "                    ax[1].scatter(np.nonzero(mask[i])[:,1].cpu(), np.nonzero(mask[i])[:,0].cpu(), s=20, marker='.', c='r')\n",
    "\n",
    "\n",
    "\n",
    "                    cax = ax[2].imshow(torch.argmax(pred[i],dim=0).cpu(),\n",
    "                                       cmap = plt.cm.get_cmap('tab20', 10),\n",
    "                                       vmin=0, vmax=9)\n",
    "\n",
    "\n",
    "                    cax = ax[2].imshow(torch.softmax(pred[i],dim=1)[3].cpu())\n",
    "                    \n",
    "                    ax[2].scatter(np.nonzero(mask[i])[:,1].cpu(), np.nonzero(mask[i])[:,0].cpu(), s=20, marker='.', c='r')\n",
    "\n",
    "                    cbar = fig.colorbar(cax, fraction=0.035)\n",
    "                    #cbar = fig.colorbar(cax, ticks=list(classes.keys()), fraction=0.035)\n",
    "                    #cbar.ax.set_yticklabels(list(classes.values()))\n",
    "                    plt.show()\n",
    "                    '''\n",
    "                    \n",
    "                else: # only AGT\n",
    "                    # update the accuracy count\n",
    "                    countValAGT = countValAGT + 1\n",
    "                    countValAGT2 = countValAGT2 + 1\n",
    "                    # metrics on current element\n",
    "                    accValAGT2 += acc(torch.argmax(pred[i],dim=0), target[i]).item()\n",
    "                    if np.isnan(accuracyAGT(torch.argmax(pred[i],dim=0), target[i]).item()):\n",
    "                        countValAGT = countValAGT - 1\n",
    "                    else:\n",
    "                        accValAGT += accuracyAGT(torch.argmax(pred[i],dim=0), target[i]).item()\n",
    "            \n",
    "    # calculate the average training and validation loss\n",
    "    avgTrainLoss = totalTrainLoss / trainSteps\n",
    "    avgValLoss = totalValLoss / valSteps\n",
    "    \n",
    "    # update our training history\n",
    "    H[\"train_loss\"].append(avgTrainLoss)\n",
    "    H[\"validation_loss\"].append(avgValLoss)\n",
    "    \n",
    "    # calculate the average metrics\n",
    "    avgaccTrainGT = accTrainGT / countTrainGT\n",
    "    avgaccTrainAGT = accTrainAGT / countTrainAGT\n",
    "    avgaccValGT = accValGT / countValGT\n",
    "    avgaccValAGT = accValAGT / countValAGT \n",
    "    avgaccTrainAGT2 = accTrainAGT2 / countTrainAGT2\n",
    "    avgaccValAGT2 = accValAGT2 / countValAGT2\n",
    "    \n",
    "    # update our metrics history\n",
    "    metrics[\"train_accuracyGT\"].append(avgaccTrainGT)\n",
    "    metrics[\"val_accuracyGT\"].append(avgaccValGT)\n",
    "    metrics[\"train_accuracyAGT\"].append(avgaccTrainAGT)\n",
    "    metrics[\"val_accuracyAGT\"].append(avgaccValAGT)\n",
    "    metrics[\"train_accuracyAGT2\"].append(avgaccTrainAGT2)\n",
    "    metrics[\"val_accuracyAGT2\"].append(avgaccValAGT2)\n",
    "    \n",
    "    # check early stopping\n",
    "    early_stopping(avgValLoss, unet)\n",
    "    if early_stopping.early_stop:\n",
    "        print(\"Early stopping\")\n",
    "        break\n",
    "    \n",
    "    # print the model training and validation information\n",
    "    print(\"[INFO] EPOCH: {}/{}\".format(e + 1, config.NUM_EPOCHS))\n",
    "    print(\"Train loss: {:.6f}, Validation loss: {:.4f}\".format(avgTrainLoss, avgValLoss))\n",
    "    \n",
    "    # print the model metrics information\n",
    "    print(\"GT Train Accuracy: {:.4f}\".format(avgaccTrainGT))\n",
    "    print(\"AGT Train Accuracy: {:.4f}\".format(avgaccTrainAGT))\n",
    "    print(\"AGT 2 Train Accuracy: {:.4f}\".format(avgaccTrainAGT2))\n",
    "    print(\"GT Val Accuracy: {:.4f}\".format(avgaccValGT))\n",
    "    print(\"AGT Val Accuracy: {:.4f}\".format(avgaccValAGT))\n",
    "    print(\"AGT 2 Val Accuracy: {:.4f}\".format(avgaccValAGT2))\n",
    "    \n",
    "# load the last checkpoint with the best model\n",
    "unet.load_state_dict(torch.load(\"/data/jantina/CoralNet/dataset/output_dense/checkpoint.pt\"))\n",
    "\n",
    "# display the total time needed to perform the training\n",
    "endTime = time.time()\n",
    "print(\"[INFO] total time taken to train the model: {:.2f}s\".format(endTime - startTime))"
   ]
  },
  {
   "cell_type": "markdown",
   "metadata": {},
   "source": [
    "## Plotting the loss"
   ]
  },
  {
   "cell_type": "code",
   "execution_count": 27,
   "metadata": {},
   "outputs": [
    {
     "data": {
      "application/vnd.plotly.v1+json": {
       "config": {
        "plotlyServerURL": "https://plot.ly"
       },
       "data": [
        {
         "mode": "lines",
         "name": "Training Loss",
         "type": "scatter",
         "x": [
          0,
          1,
          2,
          3,
          4,
          5,
          6,
          7,
          8,
          9,
          10,
          11,
          12,
          13,
          14,
          15,
          16,
          17,
          18,
          19,
          20,
          21,
          22,
          23,
          24,
          25,
          26,
          27,
          28,
          29,
          30,
          31,
          32,
          33,
          34
         ],
         "y": [
          1.947580721643236,
          1.7107248836093478,
          1.6561651759677463,
          1.5826975372102525,
          1.549866067038642,
          1.527014308505588,
          1.5064186652501423,
          1.480524155828688,
          1.4535405370924208,
          1.4440235561794705,
          1.445225755373637,
          1.4306903150346544,
          1.412490685780843,
          1.4074242644839816,
          1.3953109317355685,
          1.391348746087816,
          1.3723584016164143,
          1.3638490306006537,
          1.355245656437344,
          1.3639230728149414,
          1.353666411505805,
          1.3528461986117892,
          1.353570779164632,
          1.346947537528144,
          1.3498375283347235,
          1.3491103384229872,
          1.3537840445836384,
          1.3439431190490723,
          1.35251964463128,
          1.3484909799363878,
          1.3475432793299358,
          1.3488935894436307,
          1.3465909957885742,
          1.3455711868074205,
          1.3484496143129137
         ]
        },
        {
         "mode": "lines",
         "name": "Validation Loss",
         "type": "scatter",
         "x": [
          0,
          1,
          2,
          3,
          4,
          5,
          6,
          7,
          8,
          9,
          10,
          11,
          12,
          13,
          14,
          15,
          16,
          17,
          18,
          19,
          20,
          21,
          22,
          23,
          24,
          25,
          26,
          27,
          28,
          29,
          30,
          31,
          32,
          33,
          34
         ],
         "y": [
          2586383744,
          1617.2743530273438,
          6.311719655990601,
          3.256083130836487,
          2.907554030418396,
          2.656834602355957,
          2.610580325126648,
          2.634788751602173,
          2.492102861404419,
          2.4395554065704346,
          2.3832587003707886,
          2.4204005002975464,
          2.3389415740966797,
          2.477284550666809,
          2.485325336456299,
          2.3570330142974854,
          2.28950572013855,
          2.3255422115325928,
          2.278939127922058,
          2.3172543048858643,
          2.331257462501526,
          2.2798330783843994,
          2.3002090454101562,
          2.30756413936615,
          2.2425233125686646,
          2.2853705883026123,
          2.293903946876526,
          2.308044672012329,
          2.2673033475875854,
          2.2988096475601196,
          2.297847032546997,
          2.2468252182006836,
          2.300149440765381,
          2.327449083328247,
          2.324704885482788
         ]
        }
       ],
       "layout": {
        "template": {
         "data": {
          "bar": [
           {
            "error_x": {
             "color": "#2a3f5f"
            },
            "error_y": {
             "color": "#2a3f5f"
            },
            "marker": {
             "line": {
              "color": "#E5ECF6",
              "width": 0.5
             }
            },
            "type": "bar"
           }
          ],
          "barpolar": [
           {
            "marker": {
             "line": {
              "color": "#E5ECF6",
              "width": 0.5
             }
            },
            "type": "barpolar"
           }
          ],
          "carpet": [
           {
            "aaxis": {
             "endlinecolor": "#2a3f5f",
             "gridcolor": "white",
             "linecolor": "white",
             "minorgridcolor": "white",
             "startlinecolor": "#2a3f5f"
            },
            "baxis": {
             "endlinecolor": "#2a3f5f",
             "gridcolor": "white",
             "linecolor": "white",
             "minorgridcolor": "white",
             "startlinecolor": "#2a3f5f"
            },
            "type": "carpet"
           }
          ],
          "choropleth": [
           {
            "colorbar": {
             "outlinewidth": 0,
             "ticks": ""
            },
            "type": "choropleth"
           }
          ],
          "contour": [
           {
            "colorbar": {
             "outlinewidth": 0,
             "ticks": ""
            },
            "colorscale": [
             [
              0,
              "#0d0887"
             ],
             [
              0.1111111111111111,
              "#46039f"
             ],
             [
              0.2222222222222222,
              "#7201a8"
             ],
             [
              0.3333333333333333,
              "#9c179e"
             ],
             [
              0.4444444444444444,
              "#bd3786"
             ],
             [
              0.5555555555555556,
              "#d8576b"
             ],
             [
              0.6666666666666666,
              "#ed7953"
             ],
             [
              0.7777777777777778,
              "#fb9f3a"
             ],
             [
              0.8888888888888888,
              "#fdca26"
             ],
             [
              1,
              "#f0f921"
             ]
            ],
            "type": "contour"
           }
          ],
          "contourcarpet": [
           {
            "colorbar": {
             "outlinewidth": 0,
             "ticks": ""
            },
            "type": "contourcarpet"
           }
          ],
          "heatmap": [
           {
            "colorbar": {
             "outlinewidth": 0,
             "ticks": ""
            },
            "colorscale": [
             [
              0,
              "#0d0887"
             ],
             [
              0.1111111111111111,
              "#46039f"
             ],
             [
              0.2222222222222222,
              "#7201a8"
             ],
             [
              0.3333333333333333,
              "#9c179e"
             ],
             [
              0.4444444444444444,
              "#bd3786"
             ],
             [
              0.5555555555555556,
              "#d8576b"
             ],
             [
              0.6666666666666666,
              "#ed7953"
             ],
             [
              0.7777777777777778,
              "#fb9f3a"
             ],
             [
              0.8888888888888888,
              "#fdca26"
             ],
             [
              1,
              "#f0f921"
             ]
            ],
            "type": "heatmap"
           }
          ],
          "heatmapgl": [
           {
            "colorbar": {
             "outlinewidth": 0,
             "ticks": ""
            },
            "colorscale": [
             [
              0,
              "#0d0887"
             ],
             [
              0.1111111111111111,
              "#46039f"
             ],
             [
              0.2222222222222222,
              "#7201a8"
             ],
             [
              0.3333333333333333,
              "#9c179e"
             ],
             [
              0.4444444444444444,
              "#bd3786"
             ],
             [
              0.5555555555555556,
              "#d8576b"
             ],
             [
              0.6666666666666666,
              "#ed7953"
             ],
             [
              0.7777777777777778,
              "#fb9f3a"
             ],
             [
              0.8888888888888888,
              "#fdca26"
             ],
             [
              1,
              "#f0f921"
             ]
            ],
            "type": "heatmapgl"
           }
          ],
          "histogram": [
           {
            "marker": {
             "colorbar": {
              "outlinewidth": 0,
              "ticks": ""
             }
            },
            "type": "histogram"
           }
          ],
          "histogram2d": [
           {
            "colorbar": {
             "outlinewidth": 0,
             "ticks": ""
            },
            "colorscale": [
             [
              0,
              "#0d0887"
             ],
             [
              0.1111111111111111,
              "#46039f"
             ],
             [
              0.2222222222222222,
              "#7201a8"
             ],
             [
              0.3333333333333333,
              "#9c179e"
             ],
             [
              0.4444444444444444,
              "#bd3786"
             ],
             [
              0.5555555555555556,
              "#d8576b"
             ],
             [
              0.6666666666666666,
              "#ed7953"
             ],
             [
              0.7777777777777778,
              "#fb9f3a"
             ],
             [
              0.8888888888888888,
              "#fdca26"
             ],
             [
              1,
              "#f0f921"
             ]
            ],
            "type": "histogram2d"
           }
          ],
          "histogram2dcontour": [
           {
            "colorbar": {
             "outlinewidth": 0,
             "ticks": ""
            },
            "colorscale": [
             [
              0,
              "#0d0887"
             ],
             [
              0.1111111111111111,
              "#46039f"
             ],
             [
              0.2222222222222222,
              "#7201a8"
             ],
             [
              0.3333333333333333,
              "#9c179e"
             ],
             [
              0.4444444444444444,
              "#bd3786"
             ],
             [
              0.5555555555555556,
              "#d8576b"
             ],
             [
              0.6666666666666666,
              "#ed7953"
             ],
             [
              0.7777777777777778,
              "#fb9f3a"
             ],
             [
              0.8888888888888888,
              "#fdca26"
             ],
             [
              1,
              "#f0f921"
             ]
            ],
            "type": "histogram2dcontour"
           }
          ],
          "mesh3d": [
           {
            "colorbar": {
             "outlinewidth": 0,
             "ticks": ""
            },
            "type": "mesh3d"
           }
          ],
          "parcoords": [
           {
            "line": {
             "colorbar": {
              "outlinewidth": 0,
              "ticks": ""
             }
            },
            "type": "parcoords"
           }
          ],
          "pie": [
           {
            "automargin": true,
            "type": "pie"
           }
          ],
          "scatter": [
           {
            "marker": {
             "colorbar": {
              "outlinewidth": 0,
              "ticks": ""
             }
            },
            "type": "scatter"
           }
          ],
          "scatter3d": [
           {
            "line": {
             "colorbar": {
              "outlinewidth": 0,
              "ticks": ""
             }
            },
            "marker": {
             "colorbar": {
              "outlinewidth": 0,
              "ticks": ""
             }
            },
            "type": "scatter3d"
           }
          ],
          "scattercarpet": [
           {
            "marker": {
             "colorbar": {
              "outlinewidth": 0,
              "ticks": ""
             }
            },
            "type": "scattercarpet"
           }
          ],
          "scattergeo": [
           {
            "marker": {
             "colorbar": {
              "outlinewidth": 0,
              "ticks": ""
             }
            },
            "type": "scattergeo"
           }
          ],
          "scattergl": [
           {
            "marker": {
             "colorbar": {
              "outlinewidth": 0,
              "ticks": ""
             }
            },
            "type": "scattergl"
           }
          ],
          "scattermapbox": [
           {
            "marker": {
             "colorbar": {
              "outlinewidth": 0,
              "ticks": ""
             }
            },
            "type": "scattermapbox"
           }
          ],
          "scatterpolar": [
           {
            "marker": {
             "colorbar": {
              "outlinewidth": 0,
              "ticks": ""
             }
            },
            "type": "scatterpolar"
           }
          ],
          "scatterpolargl": [
           {
            "marker": {
             "colorbar": {
              "outlinewidth": 0,
              "ticks": ""
             }
            },
            "type": "scatterpolargl"
           }
          ],
          "scatterternary": [
           {
            "marker": {
             "colorbar": {
              "outlinewidth": 0,
              "ticks": ""
             }
            },
            "type": "scatterternary"
           }
          ],
          "surface": [
           {
            "colorbar": {
             "outlinewidth": 0,
             "ticks": ""
            },
            "colorscale": [
             [
              0,
              "#0d0887"
             ],
             [
              0.1111111111111111,
              "#46039f"
             ],
             [
              0.2222222222222222,
              "#7201a8"
             ],
             [
              0.3333333333333333,
              "#9c179e"
             ],
             [
              0.4444444444444444,
              "#bd3786"
             ],
             [
              0.5555555555555556,
              "#d8576b"
             ],
             [
              0.6666666666666666,
              "#ed7953"
             ],
             [
              0.7777777777777778,
              "#fb9f3a"
             ],
             [
              0.8888888888888888,
              "#fdca26"
             ],
             [
              1,
              "#f0f921"
             ]
            ],
            "type": "surface"
           }
          ],
          "table": [
           {
            "cells": {
             "fill": {
              "color": "#EBF0F8"
             },
             "line": {
              "color": "white"
             }
            },
            "header": {
             "fill": {
              "color": "#C8D4E3"
             },
             "line": {
              "color": "white"
             }
            },
            "type": "table"
           }
          ]
         },
         "layout": {
          "annotationdefaults": {
           "arrowcolor": "#2a3f5f",
           "arrowhead": 0,
           "arrowwidth": 1
          },
          "coloraxis": {
           "colorbar": {
            "outlinewidth": 0,
            "ticks": ""
           }
          },
          "colorscale": {
           "diverging": [
            [
             0,
             "#8e0152"
            ],
            [
             0.1,
             "#c51b7d"
            ],
            [
             0.2,
             "#de77ae"
            ],
            [
             0.3,
             "#f1b6da"
            ],
            [
             0.4,
             "#fde0ef"
            ],
            [
             0.5,
             "#f7f7f7"
            ],
            [
             0.6,
             "#e6f5d0"
            ],
            [
             0.7,
             "#b8e186"
            ],
            [
             0.8,
             "#7fbc41"
            ],
            [
             0.9,
             "#4d9221"
            ],
            [
             1,
             "#276419"
            ]
           ],
           "sequential": [
            [
             0,
             "#0d0887"
            ],
            [
             0.1111111111111111,
             "#46039f"
            ],
            [
             0.2222222222222222,
             "#7201a8"
            ],
            [
             0.3333333333333333,
             "#9c179e"
            ],
            [
             0.4444444444444444,
             "#bd3786"
            ],
            [
             0.5555555555555556,
             "#d8576b"
            ],
            [
             0.6666666666666666,
             "#ed7953"
            ],
            [
             0.7777777777777778,
             "#fb9f3a"
            ],
            [
             0.8888888888888888,
             "#fdca26"
            ],
            [
             1,
             "#f0f921"
            ]
           ],
           "sequentialminus": [
            [
             0,
             "#0d0887"
            ],
            [
             0.1111111111111111,
             "#46039f"
            ],
            [
             0.2222222222222222,
             "#7201a8"
            ],
            [
             0.3333333333333333,
             "#9c179e"
            ],
            [
             0.4444444444444444,
             "#bd3786"
            ],
            [
             0.5555555555555556,
             "#d8576b"
            ],
            [
             0.6666666666666666,
             "#ed7953"
            ],
            [
             0.7777777777777778,
             "#fb9f3a"
            ],
            [
             0.8888888888888888,
             "#fdca26"
            ],
            [
             1,
             "#f0f921"
            ]
           ]
          },
          "colorway": [
           "#636efa",
           "#EF553B",
           "#00cc96",
           "#ab63fa",
           "#FFA15A",
           "#19d3f3",
           "#FF6692",
           "#B6E880",
           "#FF97FF",
           "#FECB52"
          ],
          "font": {
           "color": "#2a3f5f"
          },
          "geo": {
           "bgcolor": "white",
           "lakecolor": "white",
           "landcolor": "#E5ECF6",
           "showlakes": true,
           "showland": true,
           "subunitcolor": "white"
          },
          "hoverlabel": {
           "align": "left"
          },
          "hovermode": "closest",
          "mapbox": {
           "style": "light"
          },
          "paper_bgcolor": "white",
          "plot_bgcolor": "#E5ECF6",
          "polar": {
           "angularaxis": {
            "gridcolor": "white",
            "linecolor": "white",
            "ticks": ""
           },
           "bgcolor": "#E5ECF6",
           "radialaxis": {
            "gridcolor": "white",
            "linecolor": "white",
            "ticks": ""
           }
          },
          "scene": {
           "xaxis": {
            "backgroundcolor": "#E5ECF6",
            "gridcolor": "white",
            "gridwidth": 2,
            "linecolor": "white",
            "showbackground": true,
            "ticks": "",
            "zerolinecolor": "white"
           },
           "yaxis": {
            "backgroundcolor": "#E5ECF6",
            "gridcolor": "white",
            "gridwidth": 2,
            "linecolor": "white",
            "showbackground": true,
            "ticks": "",
            "zerolinecolor": "white"
           },
           "zaxis": {
            "backgroundcolor": "#E5ECF6",
            "gridcolor": "white",
            "gridwidth": 2,
            "linecolor": "white",
            "showbackground": true,
            "ticks": "",
            "zerolinecolor": "white"
           }
          },
          "shapedefaults": {
           "line": {
            "color": "#2a3f5f"
           }
          },
          "ternary": {
           "aaxis": {
            "gridcolor": "white",
            "linecolor": "white",
            "ticks": ""
           },
           "baxis": {
            "gridcolor": "white",
            "linecolor": "white",
            "ticks": ""
           },
           "bgcolor": "#E5ECF6",
           "caxis": {
            "gridcolor": "white",
            "linecolor": "white",
            "ticks": ""
           }
          },
          "title": {
           "x": 0.05
          },
          "xaxis": {
           "automargin": true,
           "gridcolor": "white",
           "linecolor": "white",
           "ticks": "",
           "title": {
            "standoff": 15
           },
           "zerolinecolor": "white",
           "zerolinewidth": 2
          },
          "yaxis": {
           "automargin": true,
           "gridcolor": "white",
           "linecolor": "white",
           "ticks": "",
           "title": {
            "standoff": 15
           },
           "zerolinecolor": "white",
           "zerolinewidth": 2
          }
         }
        },
        "title": {
         "text": "Training and Testing Loss on Dataset"
        },
        "xaxis": {
         "range": [
          -1,
          35
         ],
         "title": {
          "text": "Epoch #"
         }
        },
        "yaxis": {
         "range": [
          0,
          4
         ],
         "title": {
          "text": "Loss"
         }
        }
       }
      },
      "text/html": [
       "<div>\n",
       "        \n",
       "        \n",
       "            <div id=\"a18f322f-1d57-42c1-82df-3541b91745b9\" class=\"plotly-graph-div\" style=\"height:525px; width:100%;\"></div>\n",
       "            <script type=\"text/javascript\">\n",
       "                require([\"plotly\"], function(Plotly) {\n",
       "                    window.PLOTLYENV=window.PLOTLYENV || {};\n",
       "                    \n",
       "                if (document.getElementById(\"a18f322f-1d57-42c1-82df-3541b91745b9\")) {\n",
       "                    Plotly.newPlot(\n",
       "                        'a18f322f-1d57-42c1-82df-3541b91745b9',\n",
       "                        [{\"mode\": \"lines\", \"name\": \"Training Loss\", \"type\": \"scatter\", \"x\": [0, 1, 2, 3, 4, 5, 6, 7, 8, 9, 10, 11, 12, 13, 14, 15, 16, 17, 18, 19, 20, 21, 22, 23, 24, 25, 26, 27, 28, 29, 30, 31, 32, 33, 34], \"y\": [1.947580721643236, 1.7107248836093478, 1.6561651759677463, 1.5826975372102525, 1.549866067038642, 1.527014308505588, 1.5064186652501423, 1.480524155828688, 1.4535405370924208, 1.4440235561794705, 1.445225755373637, 1.4306903150346544, 1.412490685780843, 1.4074242644839816, 1.3953109317355685, 1.391348746087816, 1.3723584016164143, 1.3638490306006537, 1.355245656437344, 1.3639230728149414, 1.353666411505805, 1.3528461986117892, 1.353570779164632, 1.346947537528144, 1.3498375283347235, 1.3491103384229872, 1.3537840445836384, 1.3439431190490723, 1.35251964463128, 1.3484909799363878, 1.3475432793299358, 1.3488935894436307, 1.3465909957885742, 1.3455711868074205, 1.3484496143129137]}, {\"mode\": \"lines\", \"name\": \"Validation Loss\", \"type\": \"scatter\", \"x\": [0, 1, 2, 3, 4, 5, 6, 7, 8, 9, 10, 11, 12, 13, 14, 15, 16, 17, 18, 19, 20, 21, 22, 23, 24, 25, 26, 27, 28, 29, 30, 31, 32, 33, 34], \"y\": [2586383744.0, 1617.2743530273438, 6.311719655990601, 3.256083130836487, 2.907554030418396, 2.656834602355957, 2.610580325126648, 2.634788751602173, 2.492102861404419, 2.4395554065704346, 2.3832587003707886, 2.4204005002975464, 2.3389415740966797, 2.477284550666809, 2.485325336456299, 2.3570330142974854, 2.28950572013855, 2.3255422115325928, 2.278939127922058, 2.3172543048858643, 2.331257462501526, 2.2798330783843994, 2.3002090454101562, 2.30756413936615, 2.2425233125686646, 2.2853705883026123, 2.293903946876526, 2.308044672012329, 2.2673033475875854, 2.2988096475601196, 2.297847032546997, 2.2468252182006836, 2.300149440765381, 2.327449083328247, 2.324704885482788]}],\n",
       "                        {\"template\": {\"data\": {\"bar\": [{\"error_x\": {\"color\": \"#2a3f5f\"}, \"error_y\": {\"color\": \"#2a3f5f\"}, \"marker\": {\"line\": {\"color\": \"#E5ECF6\", \"width\": 0.5}}, \"type\": \"bar\"}], \"barpolar\": [{\"marker\": {\"line\": {\"color\": \"#E5ECF6\", \"width\": 0.5}}, \"type\": \"barpolar\"}], \"carpet\": [{\"aaxis\": {\"endlinecolor\": \"#2a3f5f\", \"gridcolor\": \"white\", \"linecolor\": \"white\", \"minorgridcolor\": \"white\", \"startlinecolor\": \"#2a3f5f\"}, \"baxis\": {\"endlinecolor\": \"#2a3f5f\", \"gridcolor\": \"white\", \"linecolor\": \"white\", \"minorgridcolor\": \"white\", \"startlinecolor\": \"#2a3f5f\"}, \"type\": \"carpet\"}], \"choropleth\": [{\"colorbar\": {\"outlinewidth\": 0, \"ticks\": \"\"}, \"type\": \"choropleth\"}], \"contour\": [{\"colorbar\": {\"outlinewidth\": 0, \"ticks\": \"\"}, \"colorscale\": [[0.0, \"#0d0887\"], [0.1111111111111111, \"#46039f\"], [0.2222222222222222, \"#7201a8\"], [0.3333333333333333, \"#9c179e\"], [0.4444444444444444, \"#bd3786\"], [0.5555555555555556, \"#d8576b\"], [0.6666666666666666, \"#ed7953\"], [0.7777777777777778, \"#fb9f3a\"], [0.8888888888888888, \"#fdca26\"], [1.0, \"#f0f921\"]], \"type\": \"contour\"}], \"contourcarpet\": [{\"colorbar\": {\"outlinewidth\": 0, \"ticks\": \"\"}, \"type\": \"contourcarpet\"}], \"heatmap\": [{\"colorbar\": {\"outlinewidth\": 0, \"ticks\": \"\"}, \"colorscale\": [[0.0, \"#0d0887\"], [0.1111111111111111, \"#46039f\"], [0.2222222222222222, \"#7201a8\"], [0.3333333333333333, \"#9c179e\"], [0.4444444444444444, \"#bd3786\"], [0.5555555555555556, \"#d8576b\"], [0.6666666666666666, \"#ed7953\"], [0.7777777777777778, \"#fb9f3a\"], [0.8888888888888888, \"#fdca26\"], [1.0, \"#f0f921\"]], \"type\": \"heatmap\"}], \"heatmapgl\": [{\"colorbar\": {\"outlinewidth\": 0, \"ticks\": \"\"}, \"colorscale\": [[0.0, \"#0d0887\"], [0.1111111111111111, \"#46039f\"], [0.2222222222222222, \"#7201a8\"], [0.3333333333333333, \"#9c179e\"], [0.4444444444444444, \"#bd3786\"], [0.5555555555555556, \"#d8576b\"], [0.6666666666666666, \"#ed7953\"], [0.7777777777777778, \"#fb9f3a\"], [0.8888888888888888, \"#fdca26\"], [1.0, \"#f0f921\"]], \"type\": \"heatmapgl\"}], \"histogram\": [{\"marker\": {\"colorbar\": {\"outlinewidth\": 0, \"ticks\": \"\"}}, \"type\": \"histogram\"}], \"histogram2d\": [{\"colorbar\": {\"outlinewidth\": 0, \"ticks\": \"\"}, \"colorscale\": [[0.0, \"#0d0887\"], [0.1111111111111111, \"#46039f\"], [0.2222222222222222, \"#7201a8\"], [0.3333333333333333, \"#9c179e\"], [0.4444444444444444, \"#bd3786\"], [0.5555555555555556, \"#d8576b\"], [0.6666666666666666, \"#ed7953\"], [0.7777777777777778, \"#fb9f3a\"], [0.8888888888888888, \"#fdca26\"], [1.0, \"#f0f921\"]], \"type\": \"histogram2d\"}], \"histogram2dcontour\": [{\"colorbar\": {\"outlinewidth\": 0, \"ticks\": \"\"}, \"colorscale\": [[0.0, \"#0d0887\"], [0.1111111111111111, \"#46039f\"], [0.2222222222222222, \"#7201a8\"], [0.3333333333333333, \"#9c179e\"], [0.4444444444444444, \"#bd3786\"], [0.5555555555555556, \"#d8576b\"], [0.6666666666666666, \"#ed7953\"], [0.7777777777777778, \"#fb9f3a\"], [0.8888888888888888, \"#fdca26\"], [1.0, \"#f0f921\"]], \"type\": \"histogram2dcontour\"}], \"mesh3d\": [{\"colorbar\": {\"outlinewidth\": 0, \"ticks\": \"\"}, \"type\": \"mesh3d\"}], \"parcoords\": [{\"line\": {\"colorbar\": {\"outlinewidth\": 0, \"ticks\": \"\"}}, \"type\": \"parcoords\"}], \"pie\": [{\"automargin\": true, \"type\": \"pie\"}], \"scatter\": [{\"marker\": {\"colorbar\": {\"outlinewidth\": 0, \"ticks\": \"\"}}, \"type\": \"scatter\"}], \"scatter3d\": [{\"line\": {\"colorbar\": {\"outlinewidth\": 0, \"ticks\": \"\"}}, \"marker\": {\"colorbar\": {\"outlinewidth\": 0, \"ticks\": \"\"}}, \"type\": \"scatter3d\"}], \"scattercarpet\": [{\"marker\": {\"colorbar\": {\"outlinewidth\": 0, \"ticks\": \"\"}}, \"type\": \"scattercarpet\"}], \"scattergeo\": [{\"marker\": {\"colorbar\": {\"outlinewidth\": 0, \"ticks\": \"\"}}, \"type\": \"scattergeo\"}], \"scattergl\": [{\"marker\": {\"colorbar\": {\"outlinewidth\": 0, \"ticks\": \"\"}}, \"type\": \"scattergl\"}], \"scattermapbox\": [{\"marker\": {\"colorbar\": {\"outlinewidth\": 0, \"ticks\": \"\"}}, \"type\": \"scattermapbox\"}], \"scatterpolar\": [{\"marker\": {\"colorbar\": {\"outlinewidth\": 0, \"ticks\": \"\"}}, \"type\": \"scatterpolar\"}], \"scatterpolargl\": [{\"marker\": {\"colorbar\": {\"outlinewidth\": 0, \"ticks\": \"\"}}, \"type\": \"scatterpolargl\"}], \"scatterternary\": [{\"marker\": {\"colorbar\": {\"outlinewidth\": 0, \"ticks\": \"\"}}, \"type\": \"scatterternary\"}], \"surface\": [{\"colorbar\": {\"outlinewidth\": 0, \"ticks\": \"\"}, \"colorscale\": [[0.0, \"#0d0887\"], [0.1111111111111111, \"#46039f\"], [0.2222222222222222, \"#7201a8\"], [0.3333333333333333, \"#9c179e\"], [0.4444444444444444, \"#bd3786\"], [0.5555555555555556, \"#d8576b\"], [0.6666666666666666, \"#ed7953\"], [0.7777777777777778, \"#fb9f3a\"], [0.8888888888888888, \"#fdca26\"], [1.0, \"#f0f921\"]], \"type\": \"surface\"}], \"table\": [{\"cells\": {\"fill\": {\"color\": \"#EBF0F8\"}, \"line\": {\"color\": \"white\"}}, \"header\": {\"fill\": {\"color\": \"#C8D4E3\"}, \"line\": {\"color\": \"white\"}}, \"type\": \"table\"}]}, \"layout\": {\"annotationdefaults\": {\"arrowcolor\": \"#2a3f5f\", \"arrowhead\": 0, \"arrowwidth\": 1}, \"coloraxis\": {\"colorbar\": {\"outlinewidth\": 0, \"ticks\": \"\"}}, \"colorscale\": {\"diverging\": [[0, \"#8e0152\"], [0.1, \"#c51b7d\"], [0.2, \"#de77ae\"], [0.3, \"#f1b6da\"], [0.4, \"#fde0ef\"], [0.5, \"#f7f7f7\"], [0.6, \"#e6f5d0\"], [0.7, \"#b8e186\"], [0.8, \"#7fbc41\"], [0.9, \"#4d9221\"], [1, \"#276419\"]], \"sequential\": [[0.0, \"#0d0887\"], [0.1111111111111111, \"#46039f\"], [0.2222222222222222, \"#7201a8\"], [0.3333333333333333, \"#9c179e\"], [0.4444444444444444, \"#bd3786\"], [0.5555555555555556, \"#d8576b\"], [0.6666666666666666, \"#ed7953\"], [0.7777777777777778, \"#fb9f3a\"], [0.8888888888888888, \"#fdca26\"], [1.0, \"#f0f921\"]], \"sequentialminus\": [[0.0, \"#0d0887\"], [0.1111111111111111, \"#46039f\"], [0.2222222222222222, \"#7201a8\"], [0.3333333333333333, \"#9c179e\"], [0.4444444444444444, \"#bd3786\"], [0.5555555555555556, \"#d8576b\"], [0.6666666666666666, \"#ed7953\"], [0.7777777777777778, \"#fb9f3a\"], [0.8888888888888888, \"#fdca26\"], [1.0, \"#f0f921\"]]}, \"colorway\": [\"#636efa\", \"#EF553B\", \"#00cc96\", \"#ab63fa\", \"#FFA15A\", \"#19d3f3\", \"#FF6692\", \"#B6E880\", \"#FF97FF\", \"#FECB52\"], \"font\": {\"color\": \"#2a3f5f\"}, \"geo\": {\"bgcolor\": \"white\", \"lakecolor\": \"white\", \"landcolor\": \"#E5ECF6\", \"showlakes\": true, \"showland\": true, \"subunitcolor\": \"white\"}, \"hoverlabel\": {\"align\": \"left\"}, \"hovermode\": \"closest\", \"mapbox\": {\"style\": \"light\"}, \"paper_bgcolor\": \"white\", \"plot_bgcolor\": \"#E5ECF6\", \"polar\": {\"angularaxis\": {\"gridcolor\": \"white\", \"linecolor\": \"white\", \"ticks\": \"\"}, \"bgcolor\": \"#E5ECF6\", \"radialaxis\": {\"gridcolor\": \"white\", \"linecolor\": \"white\", \"ticks\": \"\"}}, \"scene\": {\"xaxis\": {\"backgroundcolor\": \"#E5ECF6\", \"gridcolor\": \"white\", \"gridwidth\": 2, \"linecolor\": \"white\", \"showbackground\": true, \"ticks\": \"\", \"zerolinecolor\": \"white\"}, \"yaxis\": {\"backgroundcolor\": \"#E5ECF6\", \"gridcolor\": \"white\", \"gridwidth\": 2, \"linecolor\": \"white\", \"showbackground\": true, \"ticks\": \"\", \"zerolinecolor\": \"white\"}, \"zaxis\": {\"backgroundcolor\": \"#E5ECF6\", \"gridcolor\": \"white\", \"gridwidth\": 2, \"linecolor\": \"white\", \"showbackground\": true, \"ticks\": \"\", \"zerolinecolor\": \"white\"}}, \"shapedefaults\": {\"line\": {\"color\": \"#2a3f5f\"}}, \"ternary\": {\"aaxis\": {\"gridcolor\": \"white\", \"linecolor\": \"white\", \"ticks\": \"\"}, \"baxis\": {\"gridcolor\": \"white\", \"linecolor\": \"white\", \"ticks\": \"\"}, \"bgcolor\": \"#E5ECF6\", \"caxis\": {\"gridcolor\": \"white\", \"linecolor\": \"white\", \"ticks\": \"\"}}, \"title\": {\"x\": 0.05}, \"xaxis\": {\"automargin\": true, \"gridcolor\": \"white\", \"linecolor\": \"white\", \"ticks\": \"\", \"title\": {\"standoff\": 15}, \"zerolinecolor\": \"white\", \"zerolinewidth\": 2}, \"yaxis\": {\"automargin\": true, \"gridcolor\": \"white\", \"linecolor\": \"white\", \"ticks\": \"\", \"title\": {\"standoff\": 15}, \"zerolinecolor\": \"white\", \"zerolinewidth\": 2}}}, \"title\": {\"text\": \"Training and Testing Loss on Dataset\"}, \"xaxis\": {\"range\": [-1, 35], \"title\": {\"text\": \"Epoch #\"}}, \"yaxis\": {\"range\": [0, 4], \"title\": {\"text\": \"Loss\"}}},\n",
       "                        {\"responsive\": true}\n",
       "                    ).then(function(){\n",
       "                            \n",
       "var gd = document.getElementById('a18f322f-1d57-42c1-82df-3541b91745b9');\n",
       "var x = new MutationObserver(function (mutations, observer) {{\n",
       "        var display = window.getComputedStyle(gd).display;\n",
       "        if (!display || display === 'none') {{\n",
       "            console.log([gd, 'removed!']);\n",
       "            Plotly.purge(gd);\n",
       "            observer.disconnect();\n",
       "        }}\n",
       "}});\n",
       "\n",
       "// Listen for the removal of the full notebook cells\n",
       "var notebookContainer = gd.closest('#notebook-container');\n",
       "if (notebookContainer) {{\n",
       "    x.observe(notebookContainer, {childList: true});\n",
       "}}\n",
       "\n",
       "// Listen for the clearing of the current output cell\n",
       "var outputEl = gd.closest('.output');\n",
       "if (outputEl) {{\n",
       "    x.observe(outputEl, {childList: true});\n",
       "}}\n",
       "\n",
       "                        })\n",
       "                };\n",
       "                });\n",
       "            </script>\n",
       "        </div>"
      ]
     },
     "metadata": {},
     "output_type": "display_data"
    }
   ],
   "source": [
    "H = pd.DataFrame(H)\n",
    "\n",
    "# create figure\n",
    "fig = go.Figure()\n",
    "fig.add_trace(go.Scatter(x=H.index, y=H['train_loss'],\n",
    "                    mode='lines',\n",
    "                    name='Training Loss'))\n",
    "fig.add_trace(go.Scatter(x=H.index, y=H['validation_loss'],\n",
    "                    mode='lines',\n",
    "                    name='Validation Loss'))\n",
    "\n",
    "fig.update_layout(title='Training and Testing Loss on Dataset',\n",
    "                   xaxis_title='Epoch #',\n",
    "                   yaxis_title='Loss')\n",
    "\n",
    "fig.update_xaxes(range = [-1,35])\n",
    "fig.update_yaxes(range = [0,4])\n",
    "\n",
    "fig.show()"
   ]
  },
  {
   "cell_type": "markdown",
   "metadata": {},
   "source": [
    "## Plotting the metrics"
   ]
  },
  {
   "cell_type": "code",
   "execution_count": 28,
   "metadata": {},
   "outputs": [
    {
     "data": {
      "application/vnd.plotly.v1+json": {
       "config": {
        "plotlyServerURL": "https://plot.ly"
       },
       "data": [
        {
         "mode": "lines",
         "name": "Training accuracy on GT",
         "type": "scatter",
         "x": [
          0,
          1,
          2,
          3,
          4,
          5,
          6,
          7,
          8,
          9,
          10,
          11,
          12,
          13,
          14,
          15,
          16,
          17,
          18,
          19,
          20,
          21,
          22,
          23,
          24,
          25,
          26,
          27,
          28,
          29,
          30,
          31,
          32,
          33,
          34
         ],
         "y": [
          0.2837906518174393,
          0.30045731525596214,
          0.3239137856485303,
          0.35678254602476533,
          0.4056841728901215,
          0.4392596917392009,
          0.4606569369681688,
          0.47279148182195374,
          0.49357767287168225,
          0.5030151817509553,
          0.4894680859822392,
          0.5122555745725268,
          0.5018570260817309,
          0.5138433950211859,
          0.5187005071354369,
          0.523259618246029,
          0.52987356950131,
          0.5260351910968737,
          0.5292344954296762,
          0.5306882565680888,
          0.5293962448033016,
          0.5440082451636267,
          0.5356210086196935,
          0.5344500502881191,
          0.5368951066407547,
          0.5266631440857394,
          0.5322888336897327,
          0.5333940297157665,
          0.5380636917926602,
          0.5378172412362477,
          0.5438388430311222,
          0.5246345832224267,
          0.5386986663899437,
          0.5411550291107822,
          0.5373384218609194
         ]
        },
        {
         "mode": "lines",
         "name": "Validation accuracy on AGT",
         "type": "scatter",
         "x": [
          0,
          1,
          2,
          3,
          4,
          5,
          6,
          7,
          8,
          9,
          10,
          11,
          12,
          13,
          14,
          15,
          16,
          17,
          18,
          19,
          20,
          21,
          22,
          23,
          24,
          25,
          26,
          27,
          28,
          29,
          30,
          31,
          32,
          33,
          34
         ],
         "y": [
          0.23887004627439076,
          0.2965332310762735,
          0.33145607666563776,
          0.2895380547885517,
          0.37775541106028887,
          0.44826948518097837,
          0.4541817743529498,
          0.47809746552713367,
          0.5142077306316147,
          0.5315429201875707,
          0.5536331584149936,
          0.5681940021647794,
          0.5604963491963689,
          0.5441167869090116,
          0.487723095627392,
          0.5623685936452311,
          0.5725969994076394,
          0.5449074332936192,
          0.5846103468253498,
          0.5828985684255349,
          0.5813479584349848,
          0.6094282268508437,
          0.5727583069320119,
          0.5873769910079935,
          0.5869952605267905,
          0.5980509437519042,
          0.6007481300130099,
          0.5785146563912856,
          0.5802984910342125,
          0.5901308289026239,
          0.588326309033535,
          0.5895112729631364,
          0.5964829750648402,
          0.563072582108712,
          0.5862923168171379
         ]
        },
        {
         "mode": "lines",
         "name": "Training accuracy on GT",
         "type": "scatter",
         "x": [
          0,
          1,
          2,
          3,
          4,
          5,
          6,
          7,
          8,
          9,
          10,
          11,
          12,
          13,
          14,
          15,
          16,
          17,
          18,
          19,
          20,
          21,
          22,
          23,
          24,
          25,
          26,
          27,
          28,
          29,
          30,
          31,
          32,
          33,
          34
         ],
         "y": [
          0.29435905048263095,
          0.33826261097411464,
          0.3286770805539965,
          0.3809158507469323,
          0.42385657814268496,
          0.43656292696283083,
          0.4592402225660109,
          0.48188910223702164,
          0.5033917441553676,
          0.5057311365539466,
          0.5095354959152257,
          0.5201971202378909,
          0.5261037017648059,
          0.5341716658713022,
          0.5365296885506735,
          0.5369012802818396,
          0.5474210810340018,
          0.550193075653444,
          0.5545845914215399,
          0.5498111850797761,
          0.5490143047028387,
          0.5517010903457648,
          0.550584109467761,
          0.5549618920427037,
          0.5570393972936704,
          0.5544686144181743,
          0.5525730955080509,
          0.5597491941805726,
          0.5536193834195654,
          0.556440748908023,
          0.5582567288093618,
          0.5560905156039364,
          0.5554949519504574,
          0.5554370630164013,
          0.5549492000303001
         ]
        },
        {
         "mode": "lines",
         "name": "Validation accuracy on AGT",
         "type": "scatter",
         "x": [
          0,
          1,
          2,
          3,
          4,
          5,
          6,
          7,
          8,
          9,
          10,
          11,
          12,
          13,
          14,
          15,
          16,
          17,
          18,
          19,
          20,
          21,
          22,
          23,
          24,
          25,
          26,
          27,
          28,
          29,
          30,
          31,
          32,
          33,
          34
         ],
         "y": [
          0.36221111039342074,
          0.3204166750197391,
          0.350666587737872,
          0.3714330984825023,
          0.42527885741974364,
          0.4645077622478825,
          0.508081915781213,
          0.46163371295871264,
          0.5345593766550245,
          0.5443274388842164,
          0.5665240931472378,
          0.576949460573329,
          0.5770864366783572,
          0.555443804002345,
          0.5449604389567392,
          0.5810055215942619,
          0.5963997893882269,
          0.5834125179990352,
          0.6023012739815193,
          0.5919575338886005,
          0.5921996117120288,
          0.5875574001457678,
          0.5892981758032569,
          0.5926371847873937,
          0.6017299007678625,
          0.5962100786013171,
          0.5979137149246253,
          0.5908961488082222,
          0.5944555342629869,
          0.5986358771481887,
          0.6013645083567056,
          0.6050506598570008,
          0.5905900047753088,
          0.5898213612736732,
          0.6002814187325766
         ]
        }
       ],
       "layout": {
        "template": {
         "data": {
          "bar": [
           {
            "error_x": {
             "color": "#2a3f5f"
            },
            "error_y": {
             "color": "#2a3f5f"
            },
            "marker": {
             "line": {
              "color": "#E5ECF6",
              "width": 0.5
             }
            },
            "type": "bar"
           }
          ],
          "barpolar": [
           {
            "marker": {
             "line": {
              "color": "#E5ECF6",
              "width": 0.5
             }
            },
            "type": "barpolar"
           }
          ],
          "carpet": [
           {
            "aaxis": {
             "endlinecolor": "#2a3f5f",
             "gridcolor": "white",
             "linecolor": "white",
             "minorgridcolor": "white",
             "startlinecolor": "#2a3f5f"
            },
            "baxis": {
             "endlinecolor": "#2a3f5f",
             "gridcolor": "white",
             "linecolor": "white",
             "minorgridcolor": "white",
             "startlinecolor": "#2a3f5f"
            },
            "type": "carpet"
           }
          ],
          "choropleth": [
           {
            "colorbar": {
             "outlinewidth": 0,
             "ticks": ""
            },
            "type": "choropleth"
           }
          ],
          "contour": [
           {
            "colorbar": {
             "outlinewidth": 0,
             "ticks": ""
            },
            "colorscale": [
             [
              0,
              "#0d0887"
             ],
             [
              0.1111111111111111,
              "#46039f"
             ],
             [
              0.2222222222222222,
              "#7201a8"
             ],
             [
              0.3333333333333333,
              "#9c179e"
             ],
             [
              0.4444444444444444,
              "#bd3786"
             ],
             [
              0.5555555555555556,
              "#d8576b"
             ],
             [
              0.6666666666666666,
              "#ed7953"
             ],
             [
              0.7777777777777778,
              "#fb9f3a"
             ],
             [
              0.8888888888888888,
              "#fdca26"
             ],
             [
              1,
              "#f0f921"
             ]
            ],
            "type": "contour"
           }
          ],
          "contourcarpet": [
           {
            "colorbar": {
             "outlinewidth": 0,
             "ticks": ""
            },
            "type": "contourcarpet"
           }
          ],
          "heatmap": [
           {
            "colorbar": {
             "outlinewidth": 0,
             "ticks": ""
            },
            "colorscale": [
             [
              0,
              "#0d0887"
             ],
             [
              0.1111111111111111,
              "#46039f"
             ],
             [
              0.2222222222222222,
              "#7201a8"
             ],
             [
              0.3333333333333333,
              "#9c179e"
             ],
             [
              0.4444444444444444,
              "#bd3786"
             ],
             [
              0.5555555555555556,
              "#d8576b"
             ],
             [
              0.6666666666666666,
              "#ed7953"
             ],
             [
              0.7777777777777778,
              "#fb9f3a"
             ],
             [
              0.8888888888888888,
              "#fdca26"
             ],
             [
              1,
              "#f0f921"
             ]
            ],
            "type": "heatmap"
           }
          ],
          "heatmapgl": [
           {
            "colorbar": {
             "outlinewidth": 0,
             "ticks": ""
            },
            "colorscale": [
             [
              0,
              "#0d0887"
             ],
             [
              0.1111111111111111,
              "#46039f"
             ],
             [
              0.2222222222222222,
              "#7201a8"
             ],
             [
              0.3333333333333333,
              "#9c179e"
             ],
             [
              0.4444444444444444,
              "#bd3786"
             ],
             [
              0.5555555555555556,
              "#d8576b"
             ],
             [
              0.6666666666666666,
              "#ed7953"
             ],
             [
              0.7777777777777778,
              "#fb9f3a"
             ],
             [
              0.8888888888888888,
              "#fdca26"
             ],
             [
              1,
              "#f0f921"
             ]
            ],
            "type": "heatmapgl"
           }
          ],
          "histogram": [
           {
            "marker": {
             "colorbar": {
              "outlinewidth": 0,
              "ticks": ""
             }
            },
            "type": "histogram"
           }
          ],
          "histogram2d": [
           {
            "colorbar": {
             "outlinewidth": 0,
             "ticks": ""
            },
            "colorscale": [
             [
              0,
              "#0d0887"
             ],
             [
              0.1111111111111111,
              "#46039f"
             ],
             [
              0.2222222222222222,
              "#7201a8"
             ],
             [
              0.3333333333333333,
              "#9c179e"
             ],
             [
              0.4444444444444444,
              "#bd3786"
             ],
             [
              0.5555555555555556,
              "#d8576b"
             ],
             [
              0.6666666666666666,
              "#ed7953"
             ],
             [
              0.7777777777777778,
              "#fb9f3a"
             ],
             [
              0.8888888888888888,
              "#fdca26"
             ],
             [
              1,
              "#f0f921"
             ]
            ],
            "type": "histogram2d"
           }
          ],
          "histogram2dcontour": [
           {
            "colorbar": {
             "outlinewidth": 0,
             "ticks": ""
            },
            "colorscale": [
             [
              0,
              "#0d0887"
             ],
             [
              0.1111111111111111,
              "#46039f"
             ],
             [
              0.2222222222222222,
              "#7201a8"
             ],
             [
              0.3333333333333333,
              "#9c179e"
             ],
             [
              0.4444444444444444,
              "#bd3786"
             ],
             [
              0.5555555555555556,
              "#d8576b"
             ],
             [
              0.6666666666666666,
              "#ed7953"
             ],
             [
              0.7777777777777778,
              "#fb9f3a"
             ],
             [
              0.8888888888888888,
              "#fdca26"
             ],
             [
              1,
              "#f0f921"
             ]
            ],
            "type": "histogram2dcontour"
           }
          ],
          "mesh3d": [
           {
            "colorbar": {
             "outlinewidth": 0,
             "ticks": ""
            },
            "type": "mesh3d"
           }
          ],
          "parcoords": [
           {
            "line": {
             "colorbar": {
              "outlinewidth": 0,
              "ticks": ""
             }
            },
            "type": "parcoords"
           }
          ],
          "pie": [
           {
            "automargin": true,
            "type": "pie"
           }
          ],
          "scatter": [
           {
            "marker": {
             "colorbar": {
              "outlinewidth": 0,
              "ticks": ""
             }
            },
            "type": "scatter"
           }
          ],
          "scatter3d": [
           {
            "line": {
             "colorbar": {
              "outlinewidth": 0,
              "ticks": ""
             }
            },
            "marker": {
             "colorbar": {
              "outlinewidth": 0,
              "ticks": ""
             }
            },
            "type": "scatter3d"
           }
          ],
          "scattercarpet": [
           {
            "marker": {
             "colorbar": {
              "outlinewidth": 0,
              "ticks": ""
             }
            },
            "type": "scattercarpet"
           }
          ],
          "scattergeo": [
           {
            "marker": {
             "colorbar": {
              "outlinewidth": 0,
              "ticks": ""
             }
            },
            "type": "scattergeo"
           }
          ],
          "scattergl": [
           {
            "marker": {
             "colorbar": {
              "outlinewidth": 0,
              "ticks": ""
             }
            },
            "type": "scattergl"
           }
          ],
          "scattermapbox": [
           {
            "marker": {
             "colorbar": {
              "outlinewidth": 0,
              "ticks": ""
             }
            },
            "type": "scattermapbox"
           }
          ],
          "scatterpolar": [
           {
            "marker": {
             "colorbar": {
              "outlinewidth": 0,
              "ticks": ""
             }
            },
            "type": "scatterpolar"
           }
          ],
          "scatterpolargl": [
           {
            "marker": {
             "colorbar": {
              "outlinewidth": 0,
              "ticks": ""
             }
            },
            "type": "scatterpolargl"
           }
          ],
          "scatterternary": [
           {
            "marker": {
             "colorbar": {
              "outlinewidth": 0,
              "ticks": ""
             }
            },
            "type": "scatterternary"
           }
          ],
          "surface": [
           {
            "colorbar": {
             "outlinewidth": 0,
             "ticks": ""
            },
            "colorscale": [
             [
              0,
              "#0d0887"
             ],
             [
              0.1111111111111111,
              "#46039f"
             ],
             [
              0.2222222222222222,
              "#7201a8"
             ],
             [
              0.3333333333333333,
              "#9c179e"
             ],
             [
              0.4444444444444444,
              "#bd3786"
             ],
             [
              0.5555555555555556,
              "#d8576b"
             ],
             [
              0.6666666666666666,
              "#ed7953"
             ],
             [
              0.7777777777777778,
              "#fb9f3a"
             ],
             [
              0.8888888888888888,
              "#fdca26"
             ],
             [
              1,
              "#f0f921"
             ]
            ],
            "type": "surface"
           }
          ],
          "table": [
           {
            "cells": {
             "fill": {
              "color": "#EBF0F8"
             },
             "line": {
              "color": "white"
             }
            },
            "header": {
             "fill": {
              "color": "#C8D4E3"
             },
             "line": {
              "color": "white"
             }
            },
            "type": "table"
           }
          ]
         },
         "layout": {
          "annotationdefaults": {
           "arrowcolor": "#2a3f5f",
           "arrowhead": 0,
           "arrowwidth": 1
          },
          "coloraxis": {
           "colorbar": {
            "outlinewidth": 0,
            "ticks": ""
           }
          },
          "colorscale": {
           "diverging": [
            [
             0,
             "#8e0152"
            ],
            [
             0.1,
             "#c51b7d"
            ],
            [
             0.2,
             "#de77ae"
            ],
            [
             0.3,
             "#f1b6da"
            ],
            [
             0.4,
             "#fde0ef"
            ],
            [
             0.5,
             "#f7f7f7"
            ],
            [
             0.6,
             "#e6f5d0"
            ],
            [
             0.7,
             "#b8e186"
            ],
            [
             0.8,
             "#7fbc41"
            ],
            [
             0.9,
             "#4d9221"
            ],
            [
             1,
             "#276419"
            ]
           ],
           "sequential": [
            [
             0,
             "#0d0887"
            ],
            [
             0.1111111111111111,
             "#46039f"
            ],
            [
             0.2222222222222222,
             "#7201a8"
            ],
            [
             0.3333333333333333,
             "#9c179e"
            ],
            [
             0.4444444444444444,
             "#bd3786"
            ],
            [
             0.5555555555555556,
             "#d8576b"
            ],
            [
             0.6666666666666666,
             "#ed7953"
            ],
            [
             0.7777777777777778,
             "#fb9f3a"
            ],
            [
             0.8888888888888888,
             "#fdca26"
            ],
            [
             1,
             "#f0f921"
            ]
           ],
           "sequentialminus": [
            [
             0,
             "#0d0887"
            ],
            [
             0.1111111111111111,
             "#46039f"
            ],
            [
             0.2222222222222222,
             "#7201a8"
            ],
            [
             0.3333333333333333,
             "#9c179e"
            ],
            [
             0.4444444444444444,
             "#bd3786"
            ],
            [
             0.5555555555555556,
             "#d8576b"
            ],
            [
             0.6666666666666666,
             "#ed7953"
            ],
            [
             0.7777777777777778,
             "#fb9f3a"
            ],
            [
             0.8888888888888888,
             "#fdca26"
            ],
            [
             1,
             "#f0f921"
            ]
           ]
          },
          "colorway": [
           "#636efa",
           "#EF553B",
           "#00cc96",
           "#ab63fa",
           "#FFA15A",
           "#19d3f3",
           "#FF6692",
           "#B6E880",
           "#FF97FF",
           "#FECB52"
          ],
          "font": {
           "color": "#2a3f5f"
          },
          "geo": {
           "bgcolor": "white",
           "lakecolor": "white",
           "landcolor": "#E5ECF6",
           "showlakes": true,
           "showland": true,
           "subunitcolor": "white"
          },
          "hoverlabel": {
           "align": "left"
          },
          "hovermode": "closest",
          "mapbox": {
           "style": "light"
          },
          "paper_bgcolor": "white",
          "plot_bgcolor": "#E5ECF6",
          "polar": {
           "angularaxis": {
            "gridcolor": "white",
            "linecolor": "white",
            "ticks": ""
           },
           "bgcolor": "#E5ECF6",
           "radialaxis": {
            "gridcolor": "white",
            "linecolor": "white",
            "ticks": ""
           }
          },
          "scene": {
           "xaxis": {
            "backgroundcolor": "#E5ECF6",
            "gridcolor": "white",
            "gridwidth": 2,
            "linecolor": "white",
            "showbackground": true,
            "ticks": "",
            "zerolinecolor": "white"
           },
           "yaxis": {
            "backgroundcolor": "#E5ECF6",
            "gridcolor": "white",
            "gridwidth": 2,
            "linecolor": "white",
            "showbackground": true,
            "ticks": "",
            "zerolinecolor": "white"
           },
           "zaxis": {
            "backgroundcolor": "#E5ECF6",
            "gridcolor": "white",
            "gridwidth": 2,
            "linecolor": "white",
            "showbackground": true,
            "ticks": "",
            "zerolinecolor": "white"
           }
          },
          "shapedefaults": {
           "line": {
            "color": "#2a3f5f"
           }
          },
          "ternary": {
           "aaxis": {
            "gridcolor": "white",
            "linecolor": "white",
            "ticks": ""
           },
           "baxis": {
            "gridcolor": "white",
            "linecolor": "white",
            "ticks": ""
           },
           "bgcolor": "#E5ECF6",
           "caxis": {
            "gridcolor": "white",
            "linecolor": "white",
            "ticks": ""
           }
          },
          "title": {
           "x": 0.05
          },
          "xaxis": {
           "automargin": true,
           "gridcolor": "white",
           "linecolor": "white",
           "ticks": "",
           "title": {
            "standoff": 15
           },
           "zerolinecolor": "white",
           "zerolinewidth": 2
          },
          "yaxis": {
           "automargin": true,
           "gridcolor": "white",
           "linecolor": "white",
           "ticks": "",
           "title": {
            "standoff": 15
           },
           "zerolinecolor": "white",
           "zerolinewidth": 2
          }
         }
        },
        "title": {
         "text": "Metrics"
        },
        "xaxis": {
         "range": [
          -1,
          35
         ],
         "title": {
          "text": "Epoch #"
         }
        },
        "yaxis": {
         "range": [
          0,
          1
         ],
         "title": {
          "text": "Accuracy"
         }
        }
       }
      },
      "text/html": [
       "<div>\n",
       "        \n",
       "        \n",
       "            <div id=\"1a29484c-2c16-4837-a844-525f35ee5538\" class=\"plotly-graph-div\" style=\"height:525px; width:100%;\"></div>\n",
       "            <script type=\"text/javascript\">\n",
       "                require([\"plotly\"], function(Plotly) {\n",
       "                    window.PLOTLYENV=window.PLOTLYENV || {};\n",
       "                    \n",
       "                if (document.getElementById(\"1a29484c-2c16-4837-a844-525f35ee5538\")) {\n",
       "                    Plotly.newPlot(\n",
       "                        '1a29484c-2c16-4837-a844-525f35ee5538',\n",
       "                        [{\"mode\": \"lines\", \"name\": \"Training accuracy on GT\", \"type\": \"scatter\", \"x\": [0, 1, 2, 3, 4, 5, 6, 7, 8, 9, 10, 11, 12, 13, 14, 15, 16, 17, 18, 19, 20, 21, 22, 23, 24, 25, 26, 27, 28, 29, 30, 31, 32, 33, 34], \"y\": [0.2837906518174393, 0.30045731525596214, 0.3239137856485303, 0.35678254602476533, 0.4056841728901215, 0.4392596917392009, 0.4606569369681688, 0.47279148182195374, 0.49357767287168225, 0.5030151817509553, 0.4894680859822392, 0.5122555745725268, 0.5018570260817309, 0.5138433950211859, 0.5187005071354369, 0.523259618246029, 0.52987356950131, 0.5260351910968737, 0.5292344954296762, 0.5306882565680888, 0.5293962448033016, 0.5440082451636267, 0.5356210086196935, 0.5344500502881191, 0.5368951066407547, 0.5266631440857394, 0.5322888336897327, 0.5333940297157665, 0.5380636917926602, 0.5378172412362477, 0.5438388430311222, 0.5246345832224267, 0.5386986663899437, 0.5411550291107822, 0.5373384218609194]}, {\"mode\": \"lines\", \"name\": \"Validation accuracy on AGT\", \"type\": \"scatter\", \"x\": [0, 1, 2, 3, 4, 5, 6, 7, 8, 9, 10, 11, 12, 13, 14, 15, 16, 17, 18, 19, 20, 21, 22, 23, 24, 25, 26, 27, 28, 29, 30, 31, 32, 33, 34], \"y\": [0.23887004627439076, 0.2965332310762735, 0.33145607666563776, 0.2895380547885517, 0.37775541106028887, 0.44826948518097837, 0.4541817743529498, 0.47809746552713367, 0.5142077306316147, 0.5315429201875707, 0.5536331584149936, 0.5681940021647794, 0.5604963491963689, 0.5441167869090116, 0.487723095627392, 0.5623685936452311, 0.5725969994076394, 0.5449074332936192, 0.5846103468253498, 0.5828985684255349, 0.5813479584349848, 0.6094282268508437, 0.5727583069320119, 0.5873769910079935, 0.5869952605267905, 0.5980509437519042, 0.6007481300130099, 0.5785146563912856, 0.5802984910342125, 0.5901308289026239, 0.588326309033535, 0.5895112729631364, 0.5964829750648402, 0.563072582108712, 0.5862923168171379]}, {\"mode\": \"lines\", \"name\": \"Training accuracy on GT\", \"type\": \"scatter\", \"x\": [0, 1, 2, 3, 4, 5, 6, 7, 8, 9, 10, 11, 12, 13, 14, 15, 16, 17, 18, 19, 20, 21, 22, 23, 24, 25, 26, 27, 28, 29, 30, 31, 32, 33, 34], \"y\": [0.29435905048263095, 0.33826261097411464, 0.3286770805539965, 0.3809158507469323, 0.42385657814268496, 0.43656292696283083, 0.4592402225660109, 0.48188910223702164, 0.5033917441553676, 0.5057311365539466, 0.5095354959152257, 0.5201971202378909, 0.5261037017648059, 0.5341716658713022, 0.5365296885506735, 0.5369012802818396, 0.5474210810340018, 0.550193075653444, 0.5545845914215399, 0.5498111850797761, 0.5490143047028387, 0.5517010903457648, 0.550584109467761, 0.5549618920427037, 0.5570393972936704, 0.5544686144181743, 0.5525730955080509, 0.5597491941805726, 0.5536193834195654, 0.556440748908023, 0.5582567288093618, 0.5560905156039364, 0.5554949519504574, 0.5554370630164013, 0.5549492000303001]}, {\"mode\": \"lines\", \"name\": \"Validation accuracy on AGT\", \"type\": \"scatter\", \"x\": [0, 1, 2, 3, 4, 5, 6, 7, 8, 9, 10, 11, 12, 13, 14, 15, 16, 17, 18, 19, 20, 21, 22, 23, 24, 25, 26, 27, 28, 29, 30, 31, 32, 33, 34], \"y\": [0.36221111039342074, 0.3204166750197391, 0.350666587737872, 0.3714330984825023, 0.42527885741974364, 0.4645077622478825, 0.508081915781213, 0.46163371295871264, 0.5345593766550245, 0.5443274388842164, 0.5665240931472378, 0.576949460573329, 0.5770864366783572, 0.555443804002345, 0.5449604389567392, 0.5810055215942619, 0.5963997893882269, 0.5834125179990352, 0.6023012739815193, 0.5919575338886005, 0.5921996117120288, 0.5875574001457678, 0.5892981758032569, 0.5926371847873937, 0.6017299007678625, 0.5962100786013171, 0.5979137149246253, 0.5908961488082222, 0.5944555342629869, 0.5986358771481887, 0.6013645083567056, 0.6050506598570008, 0.5905900047753088, 0.5898213612736732, 0.6002814187325766]}],\n",
       "                        {\"template\": {\"data\": {\"bar\": [{\"error_x\": {\"color\": \"#2a3f5f\"}, \"error_y\": {\"color\": \"#2a3f5f\"}, \"marker\": {\"line\": {\"color\": \"#E5ECF6\", \"width\": 0.5}}, \"type\": \"bar\"}], \"barpolar\": [{\"marker\": {\"line\": {\"color\": \"#E5ECF6\", \"width\": 0.5}}, \"type\": \"barpolar\"}], \"carpet\": [{\"aaxis\": {\"endlinecolor\": \"#2a3f5f\", \"gridcolor\": \"white\", \"linecolor\": \"white\", \"minorgridcolor\": \"white\", \"startlinecolor\": \"#2a3f5f\"}, \"baxis\": {\"endlinecolor\": \"#2a3f5f\", \"gridcolor\": \"white\", \"linecolor\": \"white\", \"minorgridcolor\": \"white\", \"startlinecolor\": \"#2a3f5f\"}, \"type\": \"carpet\"}], \"choropleth\": [{\"colorbar\": {\"outlinewidth\": 0, \"ticks\": \"\"}, \"type\": \"choropleth\"}], \"contour\": [{\"colorbar\": {\"outlinewidth\": 0, \"ticks\": \"\"}, \"colorscale\": [[0.0, \"#0d0887\"], [0.1111111111111111, \"#46039f\"], [0.2222222222222222, \"#7201a8\"], [0.3333333333333333, \"#9c179e\"], [0.4444444444444444, \"#bd3786\"], [0.5555555555555556, \"#d8576b\"], [0.6666666666666666, \"#ed7953\"], [0.7777777777777778, \"#fb9f3a\"], [0.8888888888888888, \"#fdca26\"], [1.0, \"#f0f921\"]], \"type\": \"contour\"}], \"contourcarpet\": [{\"colorbar\": {\"outlinewidth\": 0, \"ticks\": \"\"}, \"type\": \"contourcarpet\"}], \"heatmap\": [{\"colorbar\": {\"outlinewidth\": 0, \"ticks\": \"\"}, \"colorscale\": [[0.0, \"#0d0887\"], [0.1111111111111111, \"#46039f\"], [0.2222222222222222, \"#7201a8\"], [0.3333333333333333, \"#9c179e\"], [0.4444444444444444, \"#bd3786\"], [0.5555555555555556, \"#d8576b\"], [0.6666666666666666, \"#ed7953\"], [0.7777777777777778, \"#fb9f3a\"], [0.8888888888888888, \"#fdca26\"], [1.0, \"#f0f921\"]], \"type\": \"heatmap\"}], \"heatmapgl\": [{\"colorbar\": {\"outlinewidth\": 0, \"ticks\": \"\"}, \"colorscale\": [[0.0, \"#0d0887\"], [0.1111111111111111, \"#46039f\"], [0.2222222222222222, \"#7201a8\"], [0.3333333333333333, \"#9c179e\"], [0.4444444444444444, \"#bd3786\"], [0.5555555555555556, \"#d8576b\"], [0.6666666666666666, \"#ed7953\"], [0.7777777777777778, \"#fb9f3a\"], [0.8888888888888888, \"#fdca26\"], [1.0, \"#f0f921\"]], \"type\": \"heatmapgl\"}], \"histogram\": [{\"marker\": {\"colorbar\": {\"outlinewidth\": 0, \"ticks\": \"\"}}, \"type\": \"histogram\"}], \"histogram2d\": [{\"colorbar\": {\"outlinewidth\": 0, \"ticks\": \"\"}, \"colorscale\": [[0.0, \"#0d0887\"], [0.1111111111111111, \"#46039f\"], [0.2222222222222222, \"#7201a8\"], [0.3333333333333333, \"#9c179e\"], [0.4444444444444444, \"#bd3786\"], [0.5555555555555556, \"#d8576b\"], [0.6666666666666666, \"#ed7953\"], [0.7777777777777778, \"#fb9f3a\"], [0.8888888888888888, \"#fdca26\"], [1.0, \"#f0f921\"]], \"type\": \"histogram2d\"}], \"histogram2dcontour\": [{\"colorbar\": {\"outlinewidth\": 0, \"ticks\": \"\"}, \"colorscale\": [[0.0, \"#0d0887\"], [0.1111111111111111, \"#46039f\"], [0.2222222222222222, \"#7201a8\"], [0.3333333333333333, \"#9c179e\"], [0.4444444444444444, \"#bd3786\"], [0.5555555555555556, \"#d8576b\"], [0.6666666666666666, \"#ed7953\"], [0.7777777777777778, \"#fb9f3a\"], [0.8888888888888888, \"#fdca26\"], [1.0, \"#f0f921\"]], \"type\": \"histogram2dcontour\"}], \"mesh3d\": [{\"colorbar\": {\"outlinewidth\": 0, \"ticks\": \"\"}, \"type\": \"mesh3d\"}], \"parcoords\": [{\"line\": {\"colorbar\": {\"outlinewidth\": 0, \"ticks\": \"\"}}, \"type\": \"parcoords\"}], \"pie\": [{\"automargin\": true, \"type\": \"pie\"}], \"scatter\": [{\"marker\": {\"colorbar\": {\"outlinewidth\": 0, \"ticks\": \"\"}}, \"type\": \"scatter\"}], \"scatter3d\": [{\"line\": {\"colorbar\": {\"outlinewidth\": 0, \"ticks\": \"\"}}, \"marker\": {\"colorbar\": {\"outlinewidth\": 0, \"ticks\": \"\"}}, \"type\": \"scatter3d\"}], \"scattercarpet\": [{\"marker\": {\"colorbar\": {\"outlinewidth\": 0, \"ticks\": \"\"}}, \"type\": \"scattercarpet\"}], \"scattergeo\": [{\"marker\": {\"colorbar\": {\"outlinewidth\": 0, \"ticks\": \"\"}}, \"type\": \"scattergeo\"}], \"scattergl\": [{\"marker\": {\"colorbar\": {\"outlinewidth\": 0, \"ticks\": \"\"}}, \"type\": \"scattergl\"}], \"scattermapbox\": [{\"marker\": {\"colorbar\": {\"outlinewidth\": 0, \"ticks\": \"\"}}, \"type\": \"scattermapbox\"}], \"scatterpolar\": [{\"marker\": {\"colorbar\": {\"outlinewidth\": 0, \"ticks\": \"\"}}, \"type\": \"scatterpolar\"}], \"scatterpolargl\": [{\"marker\": {\"colorbar\": {\"outlinewidth\": 0, \"ticks\": \"\"}}, \"type\": \"scatterpolargl\"}], \"scatterternary\": [{\"marker\": {\"colorbar\": {\"outlinewidth\": 0, \"ticks\": \"\"}}, \"type\": \"scatterternary\"}], \"surface\": [{\"colorbar\": {\"outlinewidth\": 0, \"ticks\": \"\"}, \"colorscale\": [[0.0, \"#0d0887\"], [0.1111111111111111, \"#46039f\"], [0.2222222222222222, \"#7201a8\"], [0.3333333333333333, \"#9c179e\"], [0.4444444444444444, \"#bd3786\"], [0.5555555555555556, \"#d8576b\"], [0.6666666666666666, \"#ed7953\"], [0.7777777777777778, \"#fb9f3a\"], [0.8888888888888888, \"#fdca26\"], [1.0, \"#f0f921\"]], \"type\": \"surface\"}], \"table\": [{\"cells\": {\"fill\": {\"color\": \"#EBF0F8\"}, \"line\": {\"color\": \"white\"}}, \"header\": {\"fill\": {\"color\": \"#C8D4E3\"}, \"line\": {\"color\": \"white\"}}, \"type\": \"table\"}]}, \"layout\": {\"annotationdefaults\": {\"arrowcolor\": \"#2a3f5f\", \"arrowhead\": 0, \"arrowwidth\": 1}, \"coloraxis\": {\"colorbar\": {\"outlinewidth\": 0, \"ticks\": \"\"}}, \"colorscale\": {\"diverging\": [[0, \"#8e0152\"], [0.1, \"#c51b7d\"], [0.2, \"#de77ae\"], [0.3, \"#f1b6da\"], [0.4, \"#fde0ef\"], [0.5, \"#f7f7f7\"], [0.6, \"#e6f5d0\"], [0.7, \"#b8e186\"], [0.8, \"#7fbc41\"], [0.9, \"#4d9221\"], [1, \"#276419\"]], \"sequential\": [[0.0, \"#0d0887\"], [0.1111111111111111, \"#46039f\"], [0.2222222222222222, \"#7201a8\"], [0.3333333333333333, \"#9c179e\"], [0.4444444444444444, \"#bd3786\"], [0.5555555555555556, \"#d8576b\"], [0.6666666666666666, \"#ed7953\"], [0.7777777777777778, \"#fb9f3a\"], [0.8888888888888888, \"#fdca26\"], [1.0, \"#f0f921\"]], \"sequentialminus\": [[0.0, \"#0d0887\"], [0.1111111111111111, \"#46039f\"], [0.2222222222222222, \"#7201a8\"], [0.3333333333333333, \"#9c179e\"], [0.4444444444444444, \"#bd3786\"], [0.5555555555555556, \"#d8576b\"], [0.6666666666666666, \"#ed7953\"], [0.7777777777777778, \"#fb9f3a\"], [0.8888888888888888, \"#fdca26\"], [1.0, \"#f0f921\"]]}, \"colorway\": [\"#636efa\", \"#EF553B\", \"#00cc96\", \"#ab63fa\", \"#FFA15A\", \"#19d3f3\", \"#FF6692\", \"#B6E880\", \"#FF97FF\", \"#FECB52\"], \"font\": {\"color\": \"#2a3f5f\"}, \"geo\": {\"bgcolor\": \"white\", \"lakecolor\": \"white\", \"landcolor\": \"#E5ECF6\", \"showlakes\": true, \"showland\": true, \"subunitcolor\": \"white\"}, \"hoverlabel\": {\"align\": \"left\"}, \"hovermode\": \"closest\", \"mapbox\": {\"style\": \"light\"}, \"paper_bgcolor\": \"white\", \"plot_bgcolor\": \"#E5ECF6\", \"polar\": {\"angularaxis\": {\"gridcolor\": \"white\", \"linecolor\": \"white\", \"ticks\": \"\"}, \"bgcolor\": \"#E5ECF6\", \"radialaxis\": {\"gridcolor\": \"white\", \"linecolor\": \"white\", \"ticks\": \"\"}}, \"scene\": {\"xaxis\": {\"backgroundcolor\": \"#E5ECF6\", \"gridcolor\": \"white\", \"gridwidth\": 2, \"linecolor\": \"white\", \"showbackground\": true, \"ticks\": \"\", \"zerolinecolor\": \"white\"}, \"yaxis\": {\"backgroundcolor\": \"#E5ECF6\", \"gridcolor\": \"white\", \"gridwidth\": 2, \"linecolor\": \"white\", \"showbackground\": true, \"ticks\": \"\", \"zerolinecolor\": \"white\"}, \"zaxis\": {\"backgroundcolor\": \"#E5ECF6\", \"gridcolor\": \"white\", \"gridwidth\": 2, \"linecolor\": \"white\", \"showbackground\": true, \"ticks\": \"\", \"zerolinecolor\": \"white\"}}, \"shapedefaults\": {\"line\": {\"color\": \"#2a3f5f\"}}, \"ternary\": {\"aaxis\": {\"gridcolor\": \"white\", \"linecolor\": \"white\", \"ticks\": \"\"}, \"baxis\": {\"gridcolor\": \"white\", \"linecolor\": \"white\", \"ticks\": \"\"}, \"bgcolor\": \"#E5ECF6\", \"caxis\": {\"gridcolor\": \"white\", \"linecolor\": \"white\", \"ticks\": \"\"}}, \"title\": {\"x\": 0.05}, \"xaxis\": {\"automargin\": true, \"gridcolor\": \"white\", \"linecolor\": \"white\", \"ticks\": \"\", \"title\": {\"standoff\": 15}, \"zerolinecolor\": \"white\", \"zerolinewidth\": 2}, \"yaxis\": {\"automargin\": true, \"gridcolor\": \"white\", \"linecolor\": \"white\", \"ticks\": \"\", \"title\": {\"standoff\": 15}, \"zerolinecolor\": \"white\", \"zerolinewidth\": 2}}}, \"title\": {\"text\": \"Metrics\"}, \"xaxis\": {\"range\": [-1, 35], \"title\": {\"text\": \"Epoch #\"}}, \"yaxis\": {\"range\": [0, 1], \"title\": {\"text\": \"Accuracy\"}}},\n",
       "                        {\"responsive\": true}\n",
       "                    ).then(function(){\n",
       "                            \n",
       "var gd = document.getElementById('1a29484c-2c16-4837-a844-525f35ee5538');\n",
       "var x = new MutationObserver(function (mutations, observer) {{\n",
       "        var display = window.getComputedStyle(gd).display;\n",
       "        if (!display || display === 'none') {{\n",
       "            console.log([gd, 'removed!']);\n",
       "            Plotly.purge(gd);\n",
       "            observer.disconnect();\n",
       "        }}\n",
       "}});\n",
       "\n",
       "// Listen for the removal of the full notebook cells\n",
       "var notebookContainer = gd.closest('#notebook-container');\n",
       "if (notebookContainer) {{\n",
       "    x.observe(notebookContainer, {childList: true});\n",
       "}}\n",
       "\n",
       "// Listen for the clearing of the current output cell\n",
       "var outputEl = gd.closest('.output');\n",
       "if (outputEl) {{\n",
       "    x.observe(outputEl, {childList: true});\n",
       "}}\n",
       "\n",
       "                        })\n",
       "                };\n",
       "                });\n",
       "            </script>\n",
       "        </div>"
      ]
     },
     "metadata": {},
     "output_type": "display_data"
    }
   ],
   "source": [
    "metrics = pd.DataFrame(metrics)\n",
    "\n",
    "# create figure\n",
    "fig = go.Figure()\n",
    "fig.add_trace(go.Scatter(x=metrics.index, y=metrics['train_accuracyGT'],\n",
    "                    mode='lines',\n",
    "                    name='Training accuracy on GT'))\n",
    "fig.add_trace(go.Scatter(x=metrics.index, y=metrics['val_accuracyGT'],\n",
    "                    mode='lines',\n",
    "                    name='Validation accuracy on AGT'))\n",
    "fig.add_trace(go.Scatter(x=metrics.index, y=metrics['train_accuracyAGT'],\n",
    "                    mode='lines',\n",
    "                    name='Training accuracy on GT'))\n",
    "fig.add_trace(go.Scatter(x=metrics.index, y=metrics['val_accuracyAGT'],\n",
    "                    mode='lines',\n",
    "                    name='Validation accuracy on AGT'))\n",
    "\n",
    "fig.update_layout(title='Metrics',\n",
    "                   xaxis_title='Epoch #',\n",
    "                   yaxis_title='Accuracy')\n",
    "\n",
    "fig.update_xaxes(range = [-1,35])\n",
    "fig.update_yaxes(range = [0,1])\n",
    "\n",
    "fig.show()"
   ]
  },
  {
   "cell_type": "markdown",
   "metadata": {},
   "source": [
    "# Save model"
   ]
  },
  {
   "cell_type": "code",
   "execution_count": 24,
   "metadata": {},
   "outputs": [],
   "source": [
    "# Print model's state_dict\n",
    "#print(\"Model's state_dict:\")\n",
    "#for param_tensor in unet.state_dict():\n",
    "    #print(param_tensor, \"\\t\", unet.state_dict()[param_tensor].size())"
   ]
  },
  {
   "cell_type": "code",
   "execution_count": 25,
   "metadata": {},
   "outputs": [
    {
     "name": "stdout",
     "output_type": "stream",
     "text": [
      "[INFO] model saved !\n"
     ]
    }
   ],
   "source": [
    "# serialize the model to disk\n",
    "torch.save(unet, \"/data/jantina/CoralNet/dataset/output_dense/unet.pth\")\n",
    "print(\"[INFO] model saved !\")"
   ]
  }
 ],
 "metadata": {
  "kernelspec": {
   "display_name": "Python 3 (ipykernel)",
   "language": "python",
   "name": "python3"
  },
  "language_info": {
   "codemirror_mode": {
    "name": "ipython",
    "version": 3
   },
   "file_extension": ".py",
   "mimetype": "text/x-python",
   "name": "python",
   "nbconvert_exporter": "python",
   "pygments_lexer": "ipython3",
   "version": "3.8.10"
  }
 },
 "nbformat": 4,
 "nbformat_minor": 4
}
