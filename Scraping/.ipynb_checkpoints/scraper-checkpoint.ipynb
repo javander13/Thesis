{
 "cells": [
  {
   "cell_type": "markdown",
   "metadata": {},
   "source": [
    "This scraper allows the download of a full dataset on CoralNet"
   ]
  },
  {
   "cell_type": "code",
   "execution_count": 2,
   "metadata": {},
   "outputs": [
    {
     "name": "stderr",
     "output_type": "stream",
     "text": [
      "/usr/lib/python3/dist-packages/requests/__init__.py:89: RequestsDependencyWarning: urllib3 (1.26.9) or chardet (3.0.4) doesn't match a supported version!\n",
      "  warnings.warn(\"urllib3 ({}) or chardet ({}) doesn't match a supported \"\n",
      "/home/jantina/.local/lib/python3.8/site-packages/skimage/io/manage_plugins.py:23: UserWarning: Your installed pillow version is < 8.1.2. Several security issues (CVE-2021-27921, CVE-2021-25290, CVE-2021-25291, CVE-2021-25293, and more) have been fixed in pillow 8.1.2 or higher. We recommend to upgrade this library.\n",
      "  from .collection import imread_collection_wrapper\n"
     ]
    }
   ],
   "source": [
    "# Import necessary libraries\n",
    "\n",
    "import matplotlib.pyplot as plt\n",
    "import os\n",
    "import pandas as pd\n",
    "import requests\n",
    "\n",
    "from bs4 import BeautifulSoup\n",
    "from skimage import io"
   ]
  },
  {
   "cell_type": "code",
   "execution_count": 4,
   "metadata": {},
   "outputs": [
    {
     "name": "stdout",
     "output_type": "stream",
     "text": [
      "Number of Images:  96\n"
     ]
    }
   ],
   "source": [
    "os.chdir(\"/data/jantina/CoralNet\")\n",
    "\n",
    "# Create the data folder\n",
    "path = \"Waikiki\"\n",
    "isExist = os.path.exists(path)\n",
    "if not isExist:\n",
    "    os.makedirs(path)\n",
    "    print(\"The new directory is created!\")\n",
    "    \n",
    "# Create an image folder\n",
    "os.chdir(path)\n",
    "isExist = os.path.exists(\"images\")\n",
    "if not isExist:\n",
    "    os.makedirs(\"images\")\n",
    "\n",
    "# Read image data\n",
    "df = pd.read_csv('metadata.csv')\n",
    "imageList = df['Name']\n",
    "print('Number of Images: ', imageList.size)"
   ]
  },
  {
   "cell_type": "code",
   "execution_count": 5,
   "metadata": {},
   "outputs": [],
   "source": [
    "# Get images from CoralNet website by parsing source code\n",
    "\n",
    "# Download images in the image folder\n",
    "os.chdir(\"images\")\n",
    "\n",
    "# Declare variables\n",
    "searchList = imageList\n",
    "k = 0\n",
    "names = []\n",
    "links = []\n",
    "\n",
    "page_url = \"https://coralnet.ucsd.edu/source/1388/browse/images/\"\n",
    "\n",
    "# Grab image names and links\n",
    "for i in range(1,437):\n",
    "    # Grab the source code\n",
    "    r = requests.post(page_url,\n",
    "                 data = {\"csrfmiddlewaretoken\": \"bjTojRRptZsBWjwiBQPNe4DoXX2FoehBcpiwUFvwFWhSFQGoejxtJo6RJTI5qr4w\",\n",
    "                         \"annotation_status\": \"confirmed\",\n",
    "                         \"image_form_type\": \"search\",\n",
    "                         \"photo_date_1\": 2017,\n",
    "                         \"last_annotated_1\": 2019,\n",
    "                         \"sort_method\": \"name\",\n",
    "                         \"sort_direction\": \"asc\",\n",
    "                         \"page\": i},\n",
    "                 headers={'Referer': page_url,\n",
    "                          \"Cookie\": \"__utmz=209852167.1647342668.2.2.utmcsr=google|utmccn=(organic)|utmcmd=organic|utmctr=(not%20provided); wordpress_google_apps_login=6fd891271589e0e2db7107ffcaea809e; __utmc=209852167; __utma=209852167.364107365.1647260926.1649941795.1649963105.89; csrftoken=ThLZuguunLDRYpIJWwDqjuYvbEmpf9s8Una7548BzIs8HWSPzZl6OOrYXA2Phmf3; sessionid=yuujep2ye77h8gg7vrnkpwfc8v3ls35c; __utmt=1; __utmb=209852167.27.10.1649963105\"})\n",
    "    \n",
    "    soup = BeautifulSoup(r.text, \"html.parser\")\n",
    "    \n",
    "    # Names\n",
    "    for image in soup.find_all(\"img\"):\n",
    "        name = image[\"title\"].split(\" - Confirmed\")[0]\n",
    "        names.append(name)\n",
    "        \n",
    "        #if name.find(\":\")!=-1:\n",
    "            #continue\n",
    "        #else:\n",
    "            #name = name.split(\"/\")[0] + \".jpeg\"\n",
    "    \n",
    "    # Links\n",
    "    for link in soup.find_all('a'):\n",
    "        if \"/image/\" in link.get('href'):\n",
    "            img_url = 'https://coralnet.ucsd.edu' + link.get('href')\n",
    "            r = requests.get(img_url)\n",
    "            soup = BeautifulSoup(r.text, \"html.parser\")\n",
    "            div = soup.find(id = \"original_image_container\")\n",
    "            link = div.find('img').attrs['src']\n",
    "            links.append(link)\n",
    "            \n",
    "for i in range(len(names)):\n",
    "    if names[i] in set(names) & set(searchList):\n",
    "        # Get the image from the URL\n",
    "        r = requests.get(links[i], allow_redirects=True)\n",
    "\n",
    "        # Write it to a local file\n",
    "        try:\n",
    "            open(names[i], 'wb').write(r.content)\n",
    "            # Increment the number of images we have found\n",
    "            k = k + 1\n",
    "            print(\"downloaded image \" + names[i])\n",
    "        except:\n",
    "            continue\n",
    "\n",
    "print('found', k, 'images.')"
   ]
  },
  {
   "cell_type": "code",
   "execution_count": null,
   "metadata": {},
   "outputs": [],
   "source": [
    "# Check one image\n",
    "\n",
    "img_name = '(1037).JPG'\n",
    "image = io.imread(os.path.join('images', img_name))\n",
    "plt.imshow(image)"
   ]
  }
 ],
 "metadata": {
  "kernelspec": {
   "display_name": "Python 3 (ipykernel)",
   "language": "python",
   "name": "python3"
  },
  "language_info": {
   "codemirror_mode": {
    "name": "ipython",
    "version": 3
   },
   "file_extension": ".py",
   "mimetype": "text/x-python",
   "name": "python",
   "nbconvert_exporter": "python",
   "pygments_lexer": "ipython3",
   "version": "3.8.10"
  }
 },
 "nbformat": 4,
 "nbformat_minor": 4
}
