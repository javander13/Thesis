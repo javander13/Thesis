{
 "cells": [
  {
   "cell_type": "markdown",
   "metadata": {},
   "source": [
    "# Scraper for CoralNet\n",
    "\n",
    "This scraper allows the download of a full dataset on CoralNet.\n",
    "\n",
    "Datasets can also be filled with new images when more are confirmed.\n",
    "\n",
    "For each source dowload:\n",
    "- `labelset.csv`\n",
    "- `metadata.csv`\n",
    "- `annotations.csv`"
   ]
  },
  {
   "cell_type": "markdown",
   "metadata": {},
   "source": [
    "## Import necessary libraries"
   ]
  },
  {
   "cell_type": "code",
   "execution_count": 3,
   "metadata": {},
   "outputs": [],
   "source": [
    "from bs4 import BeautifulSoup\n",
    "from skimage import io\n",
    "\n",
    "import matplotlib.pyplot as plt\n",
    "import os\n",
    "import pandas as pd\n",
    "import requests\n",
    "import warnings\n",
    "warnings.filterwarnings('ignore')"
   ]
  },
  {
   "cell_type": "markdown",
   "metadata": {},
   "source": [
    "## Prepare directory for data download\n",
    "\n",
    "In the `/data/jantina` drive the sources are organised as such:\n",
    "```\n",
    "CoralNet\n",
    "│ \n",
    "└─── WAPA_RFM\n",
    "│   │\n",
    "│   └─── images\n",
    "│   │      \n",
    "│   └─── labels\n",
    "│   │      \n",
    "│   └─── masks    \n",
    "│   │      \n",
    "│   └─── output      \n",
    "│   │      \n",
    "│   └─── other   \n",
    "│\n",
    "└─── other\n",
    "    │     \n",
    "```"
   ]
  },
  {
   "cell_type": "code",
   "execution_count": 61,
   "metadata": {},
   "outputs": [
    {
     "name": "stdout",
     "output_type": "stream",
     "text": [
      "Number of Images:  2640\n"
     ]
    }
   ],
   "source": [
    "os.chdir(\"/data/jantina/CoralNet\")\n",
    "\n",
    "# create the data folder\n",
    "path = \"WAPA_RFM\"\n",
    "isExist = os.path.exists(path)\n",
    "if not isExist:\n",
    "    os.makedirs(path)\n",
    "    print(\"[INFO] The new directory is created!\")\n",
    "    \n",
    "# create an image folder\n",
    "os.chdir(path)\n",
    "isExist = os.path.exists(\"images\")\n",
    "if not isExist:\n",
    "    os.makedirs(\"images\")\n",
    "    print(\"[INFO] The new image folder is created!\")\n",
    "\n",
    "# read image metadata\n",
    "df = pd.read_csv('metadata.csv')\n",
    "imageList = df['Name']\n",
    "print('[INFO] Number of images: ', imageList.size)"
   ]
  },
  {
   "cell_type": "markdown",
   "metadata": {},
   "source": [
    "## Get image names and links from specific source\n",
    "\n",
    "Parse the CoralNet source code using BeautifulSoup."
   ]
  },
  {
   "cell_type": "code",
   "execution_count": 62,
   "metadata": {},
   "outputs": [],
   "source": [
    "# declare variables\n",
    "searchList = imageList\n",
    "names = []\n",
    "links = []\n",
    "\n",
    "# grab the link from the specific source\n",
    "page_url = \"https://coralnet.ucsd.edu/source/2112/browse/images/\"\n",
    "\n",
    "# grab image names and links\n",
    "for i in range(1,133):\n",
    "    # grab the source code\n",
    "    r = requests.post(page_url,\n",
    "                 data = {\"csrfmiddlewaretoken\": \"3zCbRyJMzORpgQNzmyoUyiT99XEAQREYqYdTKxJzO6NnQEG67jvLwC9HdNy1qbSV\",\n",
    "                         \"image_form_type\": \"search\",\n",
    "                         \"photo_date_1\": 2020,\n",
    "                         #\"annotation_status\": \"confirmed\",\n",
    "                         \"last_annotated_1\": 2020,\n",
    "                         \"sort_method\": \"name\",\n",
    "                         \"sort_direction\": \"asc\",\n",
    "                         \"page\": i},\n",
    "                 headers={'Referer': page_url,\n",
    "                          \"Cookie\": \"__utmc=209852167; __utmz=209852167.1651666647.1.1.utmcsr=google|utmccn=(organic)|utmcmd=organic|utmctr=(not%20provided); csrftoken=S2NTHiiDHomFqLglSikWZwmQkIFLUkHtfroBAhiqWGiD0z9SD3rNXQCooyzcuEVq; sessionid=vyo2ksxe1ig372r6hbv1lr5ws68egxv2; __utma=209852167.1649723512.1651666647.1651666647.1651736260.2; __utmt=1; __utmb=209852167.5.10.1651736260\"})\n",
    "    \n",
    "    # parse with BeautifulSoup\n",
    "    soup = BeautifulSoup(r.text, \"html.parser\")\n",
    "    \n",
    "    # extract names\n",
    "    for image in soup.find_all(\"img\"):\n",
    "        name = image[\"title\"].split(\" - Confirmed\")[0]\n",
    "        names.append(name)\n",
    "        \n",
    "        # for source with nasty names\n",
    "        #if name.find(\":\")!=-1:\n",
    "            #continue\n",
    "        #else:\n",
    "            #name = name.split(\"/\")[0] + \".jpeg\"\n",
    "    \n",
    "    # extract links\n",
    "    for link in soup.find_all('a'):\n",
    "        if \"/image/\" in link.get('href'):\n",
    "            img_url = 'https://coralnet.ucsd.edu' + link.get('href')\n",
    "            r = requests.get(img_url)\n",
    "            soup = BeautifulSoup(r.text, \"html.parser\")\n",
    "            div = soup.find(id = \"original_image_container\")\n",
    "            link = div.find('img').attrs['src']\n",
    "            links.append(link)        \n",
    "            \n",
    "print((f'[INFO] Found {len(links)} images to download.')"
   ]
  },
  {
   "cell_type": "markdown",
   "metadata": {},
   "source": [
    "## Filling in only missing images\n",
    "\n",
    "If the source is new, skip this step."
   ]
  },
  {
   "cell_type": "code",
   "execution_count": null,
   "metadata": {},
   "outputs": [],
   "source": [
    "filenames = []\n",
    "directory = os.chdir(\"/data/jantina/CoralNet/WAPA_RFM/images_almost_all/\")\n",
    "\n",
    "for filename in os.listdir(directory):\n",
    "    filenames.append(filename)\n",
    "\n",
    "searchList = (list(set(searchList) - set(filenames)))\n",
    "print((f'[INFO] Found {len(searchList)} images to download.')"
   ]
  },
  {
   "cell_type": "markdown",
   "metadata": {},
   "source": [
    "## Dowload all the images"
   ]
  },
  {
   "cell_type": "code",
   "execution_count": null,
   "metadata": {},
   "outputs": [],
   "source": [
    "# go to the image folder\n",
    "os.chdir(\"/data/jantina/CoralNet/WAPA_RFM/images/\")\n",
    "\n",
    "k = 0\n",
    "for i in range(len(names)):\n",
    "    # cross reference the names with the searchList\n",
    "    if names[i] in set(names) & set(searchList):\n",
    "        # get the image from the URL\n",
    "        r = requests.get(links[i], allow_redirects=True)\n",
    "\n",
    "        # write it to a local file\n",
    "        try:\n",
    "            open(names[i], 'wb').write(r.content)\n",
    "            # increment the number of images we have found\n",
    "            k = k + 1\n",
    "            print(\"downloaded image \" + names[i])\n",
    "        except:\n",
    "            continue\n",
    "\n",
    "print(f'[INFO] Found {k} images.')"
   ]
  }
 ],
 "metadata": {
  "kernelspec": {
   "display_name": "Python 3 (ipykernel)",
   "language": "python",
   "name": "python3"
  },
  "language_info": {
   "codemirror_mode": {
    "name": "ipython",
    "version": 3
   },
   "file_extension": ".py",
   "mimetype": "text/x-python",
   "name": "python",
   "nbconvert_exporter": "python",
   "pygments_lexer": "ipython3",
   "version": "3.8.10"
  }
 },
 "nbformat": 4,
 "nbformat_minor": 4
}
