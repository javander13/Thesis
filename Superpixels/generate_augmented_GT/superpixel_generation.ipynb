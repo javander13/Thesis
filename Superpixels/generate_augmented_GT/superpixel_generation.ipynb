{
 "cells": [
  {
   "cell_type": "markdown",
   "metadata": {},
   "source": [
    "# Superpixel generation and groundtruth augmentation\n",
    "\n",
    "This notebook allows to run the superpixel generation and groundtruth augmentation piece by piece.\n",
    "\n",
    "*In Litterature*:\n",
    "    \n",
    "- start with 1500 and decrease by 80% at each iteration\n",
    "- start with 10x the number of labelled pixels, end with the 10th of labelled pixels\n",
    "- start with 5000 to 300, 30 levels"
   ]
  },
  {
   "cell_type": "markdown",
   "metadata": {},
   "source": [
    "## Importing necessary libraries"
   ]
  },
  {
   "cell_type": "code",
   "execution_count": 16,
   "metadata": {},
   "outputs": [],
   "source": [
    "from collections import Counter\n",
    "\n",
    "import argparse\n",
    "import csv\n",
    "import cv2\n",
    "import glob\n",
    "import numpy as np\n",
    "import math\n",
    "import os"
   ]
  },
  {
   "cell_type": "markdown",
   "metadata": {},
   "source": [
    "## Configuration"
   ]
  },
  {
   "cell_type": "code",
   "execution_count": 17,
   "metadata": {},
   "outputs": [],
   "source": [
    "# value of non-labeled pixels\n",
    "DEFAULT_VALUE = int(255)\n",
    "\n",
    "# number of max iterations\n",
    "NL = int(30)\n",
    "\n",
    "# number of superpixels in the first iteration\n",
    "start_superpixels = int(500)\n",
    "\n",
    "# number of superpixels in the last iteration\n",
    "last_superpixels = int(30)"
   ]
  },
  {
   "cell_type": "code",
   "execution_count": 18,
   "metadata": {},
   "outputs": [],
   "source": [
    "csv_sizes = []\n",
    "reduction_factor = math.pow(float(last_superpixels) / start_superpixels, 1. / (NL - 1))\n",
    "for level in range(NL):\n",
    "    csv_sizes = csv_sizes + [int(round(start_superpixels * math.pow(reduction_factor, level)))]"
   ]
  },
  {
   "cell_type": "markdown",
   "metadata": {},
   "source": [
    "## Which dataset chunk"
   ]
  },
  {
   "cell_type": "code",
   "execution_count": 19,
   "metadata": {},
   "outputs": [],
   "source": [
    "dataset = '/data/jantina/Superpixels/Datasets/WAPA_Interns1'\n",
    "\n",
    "sparse_dir = os.path.join('/data/jantina/Superpixels/WAPA_Interns1/sparse_GT')\n",
    "out_dir = os.path.join('/data/jantina/Superpixels/WAPA_Interns1/augmented_GT')\n",
    "superpixels_dir = os.path.join('/data/jantina/Superpixels/WAPA_Interns1/superpixels')\n",
    "\n",
    "folders = ['test', 'train']"
   ]
  },
  {
   "cell_type": "markdown",
   "metadata": {},
   "source": [
    "### Execute superpixel generation"
   ]
  },
  {
   "cell_type": "code",
   "execution_count": null,
   "metadata": {},
   "outputs": [
    {
     "name": "stdout",
     "output_type": "stream",
     "text": [
      "/data/jantina/Superpixels\n",
      "889 images total ...\n",
      "On average, 1.2211 seconds needed ...\n",
      "1 images total ...\n",
      "On average, 1.57489 seconds needed ...\n",
      "889 images total ...\n",
      "On average, 1.22077 seconds needed ...\n",
      "1 images total ...\n",
      "On average, 1.57879 seconds needed ...\n",
      "889 images total ...\n",
      "On average, 1.21505 seconds needed ...\n",
      "1 images total ...\n",
      "On average, 1.60548 seconds needed ...\n",
      "889 images total ...\n",
      "On average, 1.01365 seconds needed ...\n",
      "1 images total ...\n",
      "On average, 1.29257 seconds needed ...\n",
      "889 images total ...\n",
      "On average, 1.01576 seconds needed ...\n",
      "1 images total ...\n",
      "On average, 1.381 seconds needed ...\n",
      "889 images total ...\n",
      "On average, 1.01168 seconds needed ...\n",
      "1 images total ...\n",
      "On average, 1.26746 seconds needed ...\n",
      "889 images total ...\n",
      "On average, 1.01177 seconds needed ...\n",
      "1 images total ...\n",
      "On average, 1.25023 seconds needed ...\n",
      "889 images total ...\n",
      "On average, 0.90197 seconds needed ...\n",
      "1 images total ...\n",
      "On average, 1.18477 seconds needed ...\n",
      "889 images total ...\n",
      "On average, 0.902323 seconds needed ...\n",
      "1 images total ...\n",
      "On average, 1.11996 seconds needed ...\n",
      "889 images total ...\n",
      "On average, 0.910054 seconds needed ...\n",
      "1 images total ...\n",
      "On average, 1.11284 seconds needed ...\n",
      "889 images total ...\n",
      "On average, 1.24713 seconds needed ...\n",
      "1 images total ...\n",
      "On average, 1.69794 seconds needed ...\n",
      "889 images total ...\n",
      "On average, 1.13634 seconds needed ...\n",
      "1 images total ...\n",
      "On average, 1.53017 seconds needed ...\n",
      "889 images total ...\n",
      "On average, 1.11545 seconds needed ...\n",
      "1 images total ...\n",
      "On average, 1.51971 seconds needed ...\n",
      "889 images total ...\n",
      "On average, 1.11164 seconds needed ...\n",
      "1 images total ...\n",
      "On average, 1.52153 seconds needed ...\n",
      "889 images total ...\n",
      "On average, 0.909589 seconds needed ...\n",
      "1 images total ...\n",
      "On average, 1.19489 seconds needed ...\n",
      "889 images total ...\n",
      "On average, 0.910529 seconds needed ...\n",
      "1 images total ...\n",
      "On average, 1.19397 seconds needed ...\n",
      "889 images total ...\n",
      "On average, 0.914849 seconds needed ...\n",
      "1 images total ...\n",
      "On average, 1.20176 seconds needed ...\n",
      "889 images total ...\n",
      "On average, 0.901013 seconds needed ...\n",
      "1 images total ...\n",
      "On average, 1.19441 seconds needed ...\n",
      "889 images total ...\n",
      "On average, 0.784269 seconds needed ...\n",
      "1 images total ...\n",
      "On average, 1.09546 seconds needed ...\n",
      "889 images total ...\n",
      "On average, 0.831185 seconds needed ...\n",
      "1 images total ...\n",
      "On average, 1.11263 seconds needed ...\n",
      "889 images total ...\n",
      "On average, 0.833842 seconds needed ...\n",
      "1 images total ...\n",
      "On average, 1.06618 seconds needed ...\n",
      "889 images total ...\n",
      "On average, 0.834948 seconds needed ...\n",
      "1 images total ...\n",
      "On average, 1.1094 seconds needed ...\n",
      "889 images total ...\n",
      "On average, 0.751766 seconds needed ...\n",
      "1 images total ...\n",
      "On average, 1.11141 seconds needed ...\n",
      "889 images total ...\n",
      "On average, 0.739137 seconds needed ...\n",
      "1 images total ...\n",
      "On average, 0.986277 seconds needed ...\n",
      "889 images total ...\n",
      "On average, 0.73445 seconds needed ...\n",
      "1 images total ...\n",
      "On average, 1.09231 seconds needed ...\n",
      "889 images total ...\n"
     ]
    }
   ],
   "source": [
    "size_sup_string = \" \"\n",
    "for size in csv_sizes:\n",
    "    size_sup_string = size_sup_string + str(size) + \" \"\n",
    "\n",
    "%cd /data/jantina/Superpixels/\n",
    "os.system(\"sh /home/jantina/CoralNet/Superpixels/generate_superpixels/generate_superpixels.sh \" + dataset + size_sup_string)\n"
   ]
  },
  {
   "cell_type": "markdown",
   "metadata": {},
   "source": [
    "## Classes"
   ]
  },
  {
   "cell_type": "code",
   "execution_count": null,
   "metadata": {},
   "outputs": [],
   "source": [
    "class Superpixel:\n",
    "    def __init__(self, maxlength=10000): #10000000\n",
    "        self.lista_x = np.zeros([maxlength], dtype=np.int16)\n",
    "        self.lista_y = np.zeros([maxlength], dtype=np.int16)\n",
    "        self.lista_x[:]=-1\n",
    "        self.lista_y[:]=-1\n",
    "        self.index = 0\n",
    "\n",
    "    def add(self, value_x, value_y):\n",
    "        if self.index >= len(self.lista_x):\n",
    "            #make it bigger\n",
    "            new_size = len(self.lista_x)*10\n",
    "            lista_x_new = np.zeros([new_size], dtype=np.int16)\n",
    "            lista_y_new = np.zeros([new_size], dtype=np.int16)\n",
    "            lista_x_new[:] = -1\n",
    "            lista_y_new[:] = -1\n",
    "\n",
    "            lista_x_new[:len(self.lista_x)] = self.lista_x\n",
    "            lista_y_new[:len(self.lista_y)] = self.lista_y\n",
    "            self.lista_x = lista_x_new\n",
    "            self.lista_y = lista_y_new\n",
    "\n",
    "        self.lista_x[self.index]=value_x\n",
    "        self.lista_y[self.index]=value_y\n",
    "        self.index += 1\n",
    "\n",
    "    def clean(self):\n",
    "        self.lista_x = self.lista_x[self.lista_x>=0]\n",
    "        self.lista_y = self.lista_y[self.lista_y>=0]"
   ]
  },
  {
   "cell_type": "code",
   "execution_count": null,
   "metadata": {},
   "outputs": [],
   "source": [
    "def label_mayoria_x_y(superpixel, gt):\n",
    "    '''Given a superpixel and a GT image, returns the label value of the superpixel'''\n",
    "    \n",
    "    # pixel label values of the superpixels\n",
    "    pixel_values = gt[superpixel.lista_x.astype(int), superpixel.lista_y.astype(int)]\n",
    "    # pixel label values of the superpixels excluding the default value\n",
    "    values_labels = pixel_values[pixel_values < DEFAULT_VALUE]\n",
    "    # returns the value which appears the most\n",
    "    if len(values_labels) == 0:\n",
    "        return DEFAULT_VALUE\n",
    "    else:\n",
    "        count = Counter(values_labels)\n",
    "        return count.most_common()[0][0]"
   ]
  },
  {
   "cell_type": "code",
   "execution_count": null,
   "metadata": {},
   "outputs": [],
   "source": [
    "def image_superpixels_gt(csv_name, gt_name, n_superpixels):\n",
    "    '''Given a csv file with segmentations (csv_name) and a sparse GT image (gt_name),\n",
    "        returns Superpixel-augmented GT image'''\n",
    "    \n",
    "    print(gt_name)\n",
    "    gt = cv2.imread(gt_name, 0)\n",
    "    blank_image = np.zeros((gt.shape[0], gt.shape[1], 1), np.uint8)\n",
    "\n",
    "    superpixels = {}\n",
    "\n",
    "    for i in range(n_superpixels*2):\n",
    "        superpixels[str(i)] = Superpixel()\n",
    "\n",
    "    # for each csv segmentation file, creates the Superpixel class\n",
    "    with open(csv_name, 'r') as csvfile:\n",
    "        spamreader = csv.reader(csvfile, delimiter=' ', quotechar='|')\n",
    "        i = 0\n",
    "        for row in spamreader:\n",
    "            fila = row[0].split(',')\n",
    "            fila_count = len(fila)\n",
    "            for j in range(fila_count):\n",
    "                superpixel_index = fila[j]\n",
    "                # the pixel here is (i, j). (superpixel_index) is the segmentation which the pixel belongs to\n",
    "                # add the pixel  to the Superpixel instance\n",
    "                superpixels[superpixel_index].add(i, j)\n",
    "            i = i + 1\n",
    "\n",
    "    # for each superpixel, gets its label value and writes it into the image to return\n",
    "    for index in range(len(superpixels)):\n",
    "        superpixels[str(index)].clean()\n",
    "        label_superpixel = label_mayoria_x_y(superpixels[str(index)], gt)\n",
    "        blank_image[superpixels[str(index)].lista_x.astype(int), \n",
    "                    superpixels[str(index)].lista_y.astype(int)] = int(label_superpixel)\n",
    "\n",
    "    return blank_image"
   ]
  },
  {
   "cell_type": "code",
   "execution_count": null,
   "metadata": {},
   "outputs": [],
   "source": [
    "%cd /data/jantina/Superpixels/\n",
    "\n",
    "def generar_augmentedGT():\n",
    "    for folder in folders:\n",
    "\n",
    "        in_folder = os.path.join(sparse_dir, folder)\n",
    "        out_folder = os.path.join(out_dir, folder)\n",
    "        superpixels_folder = os.path.join(superpixels_dir, folder)\n",
    "\n",
    "        if not os.path.exists(out_folder):\n",
    "            os.makedirs(out_folder)\n",
    "            \n",
    "        print(in_folder + '/*.' + 'png')\n",
    "  \n",
    "        for filename in glob.glob(in_folder + '/*.' + 'png'):\n",
    "            gt_name = filename.split('/')[-1]\n",
    "            gt_filename = os.path.join(out_folder, gt_name)\n",
    "            # for each different segmentation generated\n",
    "            for index in range(len(csv_sizes)):\n",
    "                print(csv_sizes[index])\n",
    "\n",
    "                csv_name = os.path.join(superpixels_folder, 'superpixels_' + str(csv_sizes[index]),\n",
    "                                        gt_name.replace('.' + 'png', '') + '.csv')\n",
    "\n",
    "                if index == 0:\n",
    "                    # creates the first one (it has to be the more detailed one, the segmentation with more segments)\n",
    "                    image_gt_new = image_superpixels_gt(csv_name, filename, csv_sizes[index])\n",
    "                else:\n",
    "                    # mask it with the less detailed segmentations in order to fill the areas with no valid labels\n",
    "                    image_gt_new_low = image_superpixels_gt(csv_name, filename, csv_sizes[index])\n",
    "                    image_gt_new[image_gt_new == DEFAULT_VALUE] = image_gt_new_low[image_gt_new == DEFAULT_VALUE]\n",
    "                    print(image_gt_new.shape)\n",
    "                # cv2.imwrite(gt_filename.replace(gt_name, gt_name.replace('.png', '_'+str(csv_sizes[index])+'.png')),image_gt_new)\n",
    "\n",
    "            # out_dir\n",
    "            cv2.imwrite(gt_filename, image_gt_new)"
   ]
  },
  {
   "cell_type": "markdown",
   "metadata": {},
   "source": [
    "## Generate augmented groundtruth"
   ]
  },
  {
   "cell_type": "code",
   "execution_count": null,
   "metadata": {},
   "outputs": [],
   "source": [
    "generar_augmentedGT()\n",
    "print('[INFO] generation completed')"
   ]
  },
  {
   "cell_type": "code",
   "execution_count": null,
   "metadata": {},
   "outputs": [],
   "source": []
  }
 ],
 "metadata": {
  "kernelspec": {
   "display_name": "Python 3 (ipykernel)",
   "language": "python",
   "name": "python3"
  },
  "language_info": {
   "codemirror_mode": {
    "name": "ipython",
    "version": 3
   },
   "file_extension": ".py",
   "mimetype": "text/x-python",
   "name": "python",
   "nbconvert_exporter": "python",
   "pygments_lexer": "ipython3",
   "version": "3.8.10"
  }
 },
 "nbformat": 4,
 "nbformat_minor": 4
}
