{
 "cells": [
  {
   "cell_type": "markdown",
   "metadata": {},
   "source": [
    "# Command lines\n",
    "\n",
    "In here are the command lines to prepare a dataset for superpixel generation and label augmentation.\n",
    "\n",
    "The superpixels are in `/data/jantina/Superpixels` and take up a **lot** of space in the drive.\n",
    "\n",
    "Thus the source has to be splitted in smaller chunks and the `superpixel_generation.ipynb` has to be run for each chunk seperately, so that the superpixels can be deleted in between.\n",
    "\n",
    "Use `du -sh file_path` in between steps to check the size of folders."
   ]
  },
  {
   "cell_type": "markdown",
   "metadata": {},
   "source": [
    "`/data/jantina/Superpixels` structure\n",
    "\n",
    "```\n",
    "Datasets\n",
    "│ \n",
    "└─── WAPA_RFM1\n",
    "│   │\n",
    "│   └─── images ── test/train\n",
    "│   │      \n",
    "│   └─── labels ── test/train\n",
    "│\n",
    "└─── WAPA_RFM2\n",
    "│   │  \n",
    "│   └─── images ── test/train\n",
    "│   │      \n",
    "│   └─── labels ── test/train\n",
    "│\n",
    "└─── WAPA_RFM3\n",
    "│   │  \n",
    "│   └─── images ── test/train\n",
    "│   │      \n",
    "│   └─── labels ── test/train\n",
    "│\n",
    "└─── WAPA_RFM4\n",
    "│   │  \n",
    "│   └─── images ── test/train\n",
    "│   │      \n",
    "│   └─── labels ── test/train\n",
    "   \n",
    "```"
   ]
  },
  {
   "cell_type": "markdown",
   "metadata": {},
   "source": [
    "### Prepare Superpixel folder structure"
   ]
  },
  {
   "cell_type": "code",
   "execution_count": null,
   "metadata": {},
   "outputs": [],
   "source": [
    "cd /data/jantina/Superpixels/Datasets\n",
    "\n",
    "# do for WAPA_RFM1, WAPA_RFM2, WAPA_RFM3, WAPA_RFM4\n",
    "mkdir WAPA_RFM1\n",
    "cd WAPA_RFM1\n",
    "mkdir images\n",
    "mkdir labels\n",
    "cd images\n",
    "mkdir test\n",
    "mkdir train\n",
    "cd cd /data/jantina/Superpixels/Datasets/WAPA_RFM1/labels\n",
    "mkdir test\n",
    "mkdir train"
   ]
  },
  {
   "cell_type": "code",
   "execution_count": null,
   "metadata": {},
   "outputs": [],
   "source": [
    "cd /data/jantina/Superpixels\n",
    "mkdir WAPA_RFM1\n",
    "mkdir WAPA_RFM2\n",
    "mkdir WAPA_RFM3\n",
    "mkdir WAPA_RFM4"
   ]
  },
  {
   "cell_type": "markdown",
   "metadata": {},
   "source": [
    "### Copy image and mask folders to the Superpixel folder"
   ]
  },
  {
   "cell_type": "code",
   "execution_count": null,
   "metadata": {},
   "outputs": [],
   "source": [
    "# put everything first into WAPA_RFM1\n",
    "cp -r /data/jantina/CoralNet/WAPA_RFM/images /data/jantina/Superpixels/Datasets/WAPA_RFM1/images\n",
    "cp -r /data/jantina/CoralNet/WAPA_RFM/masks /data/jantina/Superpixels/Datasets/WAPA_RFM1/labels"
   ]
  },
  {
   "cell_type": "markdown",
   "metadata": {},
   "source": [
    "### Put all images into the train folder"
   ]
  },
  {
   "cell_type": "code",
   "execution_count": null,
   "metadata": {},
   "outputs": [],
   "source": [
    "find /data/jantina/Superpixels/Datasets/WAPA_RFM1/images -type f -print0 | xargs -0 mv -t /data/jantina/Superpixels/Datasets/WAPA_RFM1/images/train\n"
   ]
  },
  {
   "cell_type": "markdown",
   "metadata": {},
   "source": [
    "### Move half of them into the test folder"
   ]
  },
  {
   "cell_type": "code",
   "execution_count": null,
   "metadata": {},
   "outputs": [],
   "source": [
    "cd /data/jantina/Superpixels/Datasets/WAPA_RFM1/images/train\n",
    "find . -name '*.JPG' | head -n 1271 | xargs -I {} mv {} /data/jantina/Superpixels/Datasets/WAPA_RFM1/images/test"
   ]
  },
  {
   "cell_type": "markdown",
   "metadata": {},
   "source": [
    "### Put all labels into the train folder"
   ]
  },
  {
   "cell_type": "code",
   "execution_count": null,
   "metadata": {},
   "outputs": [],
   "source": [
    "find /data/jantina/Superpixels/Datasets/WAPA_RFM1/labels -type f -print0 | xargs -0 mv -t /data/jantina/Superpixels/Datasets/WAPA_RFM1/labels/train\n"
   ]
  },
  {
   "cell_type": "markdown",
   "metadata": {},
   "source": [
    "### Move half of them into the test folder"
   ]
  },
  {
   "cell_type": "code",
   "execution_count": null,
   "metadata": {},
   "outputs": [],
   "source": [
    "cd /data/jantina/Superpixels/Datasets/WAPA_RFM1/labels/train\n",
    "find . -name '*.png' | head -n 1271 | xargs -I {} mv {} /data/jantina/Superpixels/Datasets/WAPA_RFM1/labels/test"
   ]
  },
  {
   "cell_type": "markdown",
   "metadata": {},
   "source": [
    "### Move half of WAPA_RFM1 into WAPA_RFM2"
   ]
  },
  {
   "cell_type": "code",
   "execution_count": null,
   "metadata": {},
   "outputs": [],
   "source": [
    "## Move half of WAPA_RFM1 into WAPA_RFM2\n",
    "cd /data/jantina/Superpixels/Datasets/WAPA_RFM1/images/train\n",
    "find . -name '*.JPG' | head -n 635 | xargs -I {} mv {} /data/jantina/ML-Superpixels/Datasets/WAPA_RFM2/images/train\n",
    "\n",
    "cd /data/jantina/Superpixels/Datasets/WAPA_RFM1/images/test\n",
    "find . -name '*.JPG' | head -n 635 | xargs -I {} mv {} /data/jantina/ML-Superpixels/Datasets/WAPA_RFM2/images/test\n",
    "\n",
    "cd /data/jantina/Superpixels/Datasets/WAPA_RFM1/labels/train\n",
    "find . -name '*.png' | head -n 635 | xargs -I {} mv {} /data/jantina/ML-Superpixels/Datasets/WAPA_RFM2/labels/train\n",
    "\n",
    "cd /data/jantina/Superpixels/Datasets/WAPA_RFM1/labels/test\n",
    "find . -name '*.png' | head -n 635 | xargs -I {} mv {} /data/jantina/ML-Superpixels/Datasets/WAPA_RFM2/labels/test\n"
   ]
  },
  {
   "cell_type": "markdown",
   "metadata": {},
   "source": [
    "### Move half of WAPA_RFM1 into WAPA_RFM3"
   ]
  },
  {
   "cell_type": "code",
   "execution_count": null,
   "metadata": {},
   "outputs": [],
   "source": [
    "## Move half of WAPA_RFM1 into WAPA_RFM2\n",
    "cd /data/jantina/Superpixels/Datasets/WAPA_RFM1/images/train\n",
    "find . -name '*.JPG' | head -n 318 | xargs -I {} mv {} /data/jantina/ML-Superpixels/Datasets/WAPA_RFM3/images/train\n",
    "\n",
    "cd /data/jantina/Superpixels/Datasets/WAPA_RFM1/images/test\n",
    "find . -name '*.JPG' | head -n 318 | xargs -I {} mv {} /data/jantina/ML-Superpixels/Datasets/WAPA_RFM3/images/test\n",
    "\n",
    "cd /data/jantina/Superpixels/Datasets/WAPA_RFM1/labels/train\n",
    "find . -name '*.png' | head -n 318 | xargs -I {} mv {} /data/jantina/ML-Superpixels/Datasets/WAPA_RFM3/labels/train\n",
    "\n",
    "cd /data/jantina/Superpixels/Datasets/WAPA_RFM1/labels/test\n",
    "find . -name '*.png' | head -n 318 | xargs -I {} mv {} /data/jantina/ML-Superpixels/Datasets/WAPA_RFM3/labels/test\n"
   ]
  },
  {
   "cell_type": "markdown",
   "metadata": {},
   "source": [
    "### Move half of WAPA_RFM2 into WAPA_RFM4"
   ]
  },
  {
   "cell_type": "code",
   "execution_count": null,
   "metadata": {},
   "outputs": [],
   "source": [
    "## Move half of WAPA_RFM1 into WAPA_RFM2\n",
    "cd /data/jantina/Superpixels/Datasets/WAPA_RFM2/images/train\n",
    "find . -name '*.JPG' | head -n 318 | xargs -I {} mv {} /data/jantina/ML-Superpixels/Datasets/WAPA_RFM4/images/train\n",
    "\n",
    "cd /data/jantina/Superpixels/Datasets/WAPA_RFM2/images/test\n",
    "find . -name '*.JPG' | head -n 318 | xargs -I {} mv {} /data/jantina/ML-Superpixels/Datasets/WAPA_RFM4/images/test\n",
    "\n",
    "cd /data/jantina/Superpixels/Datasets/WAPA_RFM2/labels/train\n",
    "find . -name '*.png' | head -n 318 | xargs -I {} mv {} /data/jantina/ML-Superpixels/Datasets/WAPA_RFM4/labels/train\n",
    "\n",
    "cd /data/jantina/Superpixels/Datasets/WAPA_RFM2/labels/test\n",
    "find . -name '*.png' | head -n 318 | xargs -I {} mv {} /data/jantina/ML-Superpixels/Datasets/WAPA_RFM4/labels/test\n"
   ]
  },
  {
   "cell_type": "markdown",
   "metadata": {},
   "source": [
    "### Copy the label folder into the sparse_GT folder "
   ]
  },
  {
   "cell_type": "code",
   "execution_count": null,
   "metadata": {},
   "outputs": [],
   "source": [
    "cp -r /data/jantina/ML-Superpixels/Datasets/WAPA_RFM1/labels /data/jantina/ML-Superpixels/WAPA_RFM1\n",
    "cp -r /data/jantina/ML-Superpixels/Datasets/WAPA_RFM2/labels /data/jantina/ML-Superpixels/WAPA_RFM2\n",
    "cp -r /data/jantina/ML-Superpixels/Datasets/WAPA_RFM3/labels /data/jantina/ML-Superpixels/WAPA_RFM3\n",
    "cp -r /data/jantina/ML-Superpixels/Datasets/WAPA_RFM4/labels /data/jantina/ML-Superpixels/WAPA_RFM4\n",
    "## Don't forget to rename it to sparse_GT"
   ]
  }
 ],
 "metadata": {
  "kernelspec": {
   "display_name": "Python 3 (ipykernel)",
   "language": "python",
   "name": "python3"
  },
  "language_info": {
   "codemirror_mode": {
    "name": "ipython",
    "version": 3
   },
   "file_extension": ".py",
   "mimetype": "text/x-python",
   "name": "python",
   "nbconvert_exporter": "python",
   "pygments_lexer": "ipython3",
   "version": "3.8.10"
  }
 },
 "nbformat": 4,
 "nbformat_minor": 4
}
