{
 "cells": [
  {
   "cell_type": "code",
   "execution_count": 1,
   "metadata": {},
   "outputs": [],
   "source": [
    "# Import necessary libraries\n",
    "\n",
    "import numpy as np\n",
    "import os\n",
    "import pandas as pd"
   ]
  },
  {
   "cell_type": "code",
   "execution_count": 2,
   "metadata": {},
   "outputs": [],
   "source": [
    "# Get verified labels ID\n",
    "\n",
    "os.chdir(\"/home/jantina/CoralNet/Image_Metadata\")\n",
    "data = pd.read_excel('verified_labels.xlsx',sheet_name='Health_Labels',usecols=\"A,C,D\").dropna()\n",
    "data[\"Label ID\"] = data[\"Label ID\"].astype(int)"
   ]
  },
  {
   "cell_type": "code",
   "execution_count": 3,
   "metadata": {},
   "outputs": [],
   "source": [
    "# Extract data from all CoralNet sources\n",
    "\n",
    "# Assign directory\n",
    "directory = '/data/jantina/CoralNet'\n",
    "\n",
    "# Declare variables\n",
    "names = []\n",
    "images = []\n",
    "labels = []\n",
    "annots = []\n",
    "health_labels = []\n",
    "average_health_labels = []\n",
    " \n",
    "# Iterate over files in that directory\n",
    "for filename in os.listdir(directory):\n",
    "    f = os.path.join(directory, filename)\n",
    "    os.chdir(f)\n",
    "    \n",
    "    try:\n",
    "        # Get the image name\n",
    "        names.append(f.split(\"/\")[4])\n",
    "        \n",
    "        # Get number of images\n",
    "        landmarks_frame = pd.read_csv('annotations.csv')\n",
    "        temp = landmarks_frame.groupby('Name').count()\n",
    "        images.append(len(temp))\n",
    "        \n",
    "        # Get number of labels \n",
    "        label = pd.read_csv('labelset.csv')\n",
    "        labels.append(len(label))\n",
    "        \n",
    "        # Get number of labels per image\n",
    "        annots.append(temp[\"Label\"][0])\n",
    "        \n",
    "        # Get number of health labels \n",
    "        label[\"Label ID\"] = label[\"Label ID\"].astype(int)\n",
    "        df_common = label.loc[label[\"Label ID\"].isin(data[\"Label ID\"])]\n",
    "        temp2 = landmarks_frame.groupby('Label').count()\n",
    "        df_common = temp2.loc[temp2.index.isin(df_common[\"Short Code\"])]\n",
    "        health_labels.append(len(df_common))\n",
    "        \n",
    "        # Get the average of health labels/images\n",
    "        average_health_labels.append(df_common[\"Name\"].mean())\n",
    "        \n",
    "    except:\n",
    "        continue"
   ]
  },
  {
   "cell_type": "code",
   "execution_count": 4,
   "metadata": {},
   "outputs": [],
   "source": [
    "# Create dataframe with all information\n",
    "\n",
    "df = pd.DataFrame(list(zip(names,\n",
    "                           images,\n",
    "                           labels,\n",
    "                           annots, \n",
    "                           health_labels,\n",
    "                           average_health_labels)),\n",
    "               columns = ['Name', \n",
    "                         '# Images',\n",
    "                         '# Labels', \n",
    "                         '# Labels/Images',\n",
    "                         '# Health Labels', \n",
    "                         'Average # Health Labels/Images'])\n",
    "\n",
    "df.sort_values('Name', inplace = True,)"
   ]
  },
  {
   "cell_type": "code",
   "execution_count": 5,
   "metadata": {},
   "outputs": [],
   "source": [
    "# Save metadata as excel file\n",
    "\n",
    "os.chdir(\"/home/jantina/CoralNet/Image_Metadata\")\n",
    "df.to_excel(\"sources_metadata.xlsx\")"
   ]
  }
 ],
 "metadata": {
  "kernelspec": {
   "display_name": "Python 3 (ipykernel)",
   "language": "python",
   "name": "python3"
  },
  "language_info": {
   "codemirror_mode": {
    "name": "ipython",
    "version": 3
   },
   "file_extension": ".py",
   "mimetype": "text/x-python",
   "name": "python",
   "nbconvert_exporter": "python",
   "pygments_lexer": "ipython3",
   "version": "3.8.10"
  }
 },
 "nbformat": 4,
 "nbformat_minor": 4
}
