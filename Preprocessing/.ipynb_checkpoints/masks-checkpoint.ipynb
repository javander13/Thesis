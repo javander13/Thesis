{
 "cells": [
  {
   "cell_type": "markdown",
   "metadata": {},
   "source": [
    "# Mask creation\n",
    "\n",
    "This notebook uses the sparse pixel annotations (always in the `annotations.csv` file) \n",
    "from the CoralNet website, and creates a **mask** for each image.\n",
    "\n",
    "The annotations are given in the following order: `row, column, label` -> `height, width, label`.\n",
    "\n",
    "The image shapes are in the same order: `height, width, channels`.\n",
    "\n",
    "! quick reminder !\n",
    "\n",
    "numpy image: H x W x C\n",
    "\n",
    "torch image: C x H x W\n",
    "\n",
    "To create the masks, the `labelset.csv` is going to be used.\n",
    "\n",
    "*I am going to use all the labels provided by the sources (even if they are not in the \"verified\" labels), \n",
    "because the images have been selected to the \"confirmed\".*"
   ]
  },
  {
   "cell_type": "markdown",
   "metadata": {},
   "source": [
    "## Import necessary libraries"
   ]
  },
  {
   "cell_type": "code",
   "execution_count": 1,
   "metadata": {},
   "outputs": [],
   "source": [
    "from PIL import Image\n",
    "from skimage import io, transform\n",
    "from sklearn.preprocessing import MinMaxScaler  \n",
    "\n",
    "import cv2\n",
    "import matplotlib.pyplot as plt\n",
    "import numpy as np\n",
    "import os\n",
    "import pandas as pd\n",
    "import torch"
   ]
  },
  {
   "cell_type": "markdown",
   "metadata": {},
   "source": [
    "## Get data from the chosen source"
   ]
  },
  {
   "cell_type": "code",
   "execution_count": 2,
   "metadata": {},
   "outputs": [
    {
     "name": "stdout",
     "output_type": "stream",
     "text": [
      "[INFO] There are 90 images in this source\n",
      "[INFO] There are 207 labels in this source\n"
     ]
    }
   ],
   "source": [
    "# go to the source\n",
    "os.chdir(\"/data/jantina/CoralNet/used/Hamad_New/other\")\n",
    "\n",
    "# prepare annotations\n",
    "annotations = pd.read_csv('annotations.csv')\n",
    "img_names = annotations.iloc[:, 0]\n",
    "landmarks = annotations.iloc[:, 1:4]\n",
    "\n",
    "# prepare labels as dictionary\n",
    "# using numbers from 1 -> N\n",
    "labels = pd.read_csv('labelset.csv')[\"Short Code\"]\n",
    "labels.index = labels.index + 1\n",
    "labels = labels.to_dict()\n",
    "\n",
    "print(f\"[INFO] There are {len(img_names.unique())} images in this source\")\n",
    "print(f\"[INFO] There are {len(labels)} labels in this source\")"
   ]
  },
  {
   "cell_type": "markdown",
   "metadata": {},
   "source": [
    "## Create masks for all images in that source"
   ]
  },
  {
   "cell_type": "code",
   "execution_count": 4,
   "metadata": {
    "scrolled": true
   },
   "outputs": [
    {
     "name": "stdout",
     "output_type": "stream",
     "text": [
      "ALM1Q10.png [ 78 120 145 147 204 255]\n",
      "ALM1Q10.png [ 78 120 145 147 204 255]\n",
      "ALM1Q11.png [ 78 120 147 255]\n",
      "ALM1Q11.png [ 78 120 147 255]\n",
      "ALM1Q12.png [ 78 120 145 207 255]\n",
      "ALM1Q12.png [ 78 120 145 207 255]\n",
      "ALM1Q13.png [120 207 255]\n",
      "ALM1Q13.png [120 207 255]\n",
      "ALM1Q14.png [120 145 147 199 255]\n",
      "ALM1Q14.png [120 145 147 199 255]\n",
      "ALM1Q15.png [ 78 120 145 147 207 255]\n",
      "ALM1Q15.png [ 78 120 145 147 207 255]\n",
      "ALM1Q1.png [ 78 120 147 255]\n",
      "ALM1Q1.png [ 78 120 147 255]\n",
      "ALM1Q2.png [ 78 120 145 147 255]\n",
      "ALM1Q2.png [ 78 120 145 147 255]\n",
      "ALM1Q3.png [ 78 120 147 255]\n",
      "ALM1Q3.png [ 78 120 147 255]\n",
      "ALM1Q4.png [120 255]\n",
      "ALM1Q4.png [120 255]\n",
      "ALM1Q5.png [120 132 145 147 199 255]\n",
      "ALM1Q5.png [120 132 145 147 199 255]\n",
      "ALM1Q6.png [ 78 120 145 147 255]\n",
      "ALM1Q6.png [ 78 120 145 147 255]\n",
      "ALM1Q7.png [120 255]\n",
      "ALM1Q7.png [120 255]\n",
      "ALM1Q8.png [ 78 120 147 255]\n",
      "ALM1Q8.png [ 78 120 147 255]\n",
      "ALM1Q9.png [ 78 120 147 255]\n",
      "ALM1Q9.png [ 78 120 147 255]\n",
      "ALM2Q10.png [ 78 120 199 255]\n",
      "ALM2Q10.png [ 78 120 199 255]\n",
      "ALM2Q11.png [ 78 120 199 255]\n",
      "ALM2Q11.png [ 78 120 199 255]\n",
      "ALM2Q12.png [120 201 255]\n",
      "ALM2Q12.png [120 201 255]\n",
      "ALM2Q13.png [ 78 120 201 255]\n",
      "ALM2Q13.png [ 78 120 201 255]\n",
      "ALM2Q14.png [ 78 120 255]\n",
      "ALM2Q14.png [ 78 120 255]\n",
      "ALM2Q15.png [ 78 120 147 255]\n",
      "ALM2Q15.png [ 78 120 147 255]\n",
      "ALM2Q1.png [ 78 120 145 255]\n",
      "ALM2Q1.png [ 78 120 145 255]\n",
      "ALM2Q2.png [ 78 120 145 255]\n",
      "ALM2Q2.png [ 78 120 145 255]\n",
      "ALM2Q3.png [ 78 120 145 199 255]\n",
      "ALM2Q3.png [ 78 120 145 199 255]\n",
      "ALM2Q4.png [ 78 120 199 201 255]\n",
      "ALM2Q4.png [ 78 120 199 201 255]\n",
      "ALM2Q5.png [120 145 199 255]\n",
      "ALM2Q5.png [120 145 199 255]\n",
      "ALM2Q6.png [ 78 120 147 199 255]\n",
      "ALM2Q6.png [ 78 120 147 199 255]\n",
      "ALM2Q7.png [120 255]\n",
      "ALM2Q7.png [120 255]\n",
      "ALM2Q8.png [120 255]\n",
      "ALM2Q8.png [120 255]\n",
      "ALM2Q9.png [ 78 120 199 255]\n",
      "ALM2Q9.png [ 78 120 199 255]\n",
      "C1Q10.png [ 78 120 145 147 255]\n",
      "C1Q10.png [ 78 120 145 147 255]\n",
      "C1Q11.png [ 37  78  87 120 145 255]\n",
      "C1Q11.png [ 37  78  87 120 145 255]\n",
      "C1Q12.png [120 145 147 255]\n",
      "C1Q12.png [120 145 147 255]\n",
      "C1Q13.png [120 145 152 255]\n",
      "C1Q13.png [120 145 152 255]\n",
      "C1Q14.png [120 145 255]\n",
      "C1Q14.png [120 145 255]\n",
      "C1Q15.png [120 145 255]\n",
      "C1Q15.png [120 145 255]\n",
      "C1Q1.png [120 255]\n",
      "C1Q1.png [120 255]\n",
      "C1Q2.png [ 37 120 152 255]\n",
      "C1Q2.png [ 37 120 152 255]\n",
      "C1Q3.png [ 31 120 152 255]\n",
      "C1Q3.png [ 31 120 152 255]\n",
      "C1Q4.png [120 152 255]\n",
      "C1Q4.png [120 152 255]\n",
      "C1Q5.png [120 145 152 255]\n",
      "C1Q5.png [120 145 152 255]\n",
      "C1Q6.png [ 37 120 145 147 255]\n",
      "C1Q6.png [ 37 120 145 147 255]\n",
      "C1Q7.png [120 145 147 152 199 201 255]\n",
      "C1Q7.png [120 145 147 152 199 201 255]\n",
      "C1Q8.png [120 145 147 152 199 255]\n",
      "C1Q8.png [120 145 147 152 199 255]\n",
      "C1Q9.png [120 145 147 199 255]\n",
      "C1Q9.png [120 145 147 199 255]\n",
      "Q10.jpg.png [ 78 120 204 205 206 255]\n",
      "Q10.jpg.png [ 78 120 204 205 206 255]\n",
      "Q10.png [ 78 120 145 147 152 201 255]\n",
      "Q10.png [ 78 120 145 147 152 201 255]\n",
      "Q11.jpg.png [ 78 120 204 205 255]\n",
      "Q11.jpg.png [ 78 120 204 205 255]\n",
      "Q11.png [ 39  78 120 121 255]\n",
      "Q11.png [ 39  78 120 121 255]\n",
      "Q12.jpg.png [ 78 120 204 205 255]\n",
      "Q12.jpg.png [ 78 120 204 205 255]\n",
      "Q12.png [ 39 120 255]\n",
      "Q12.png [ 39 120 255]\n",
      "Q13.jpg.png [120 204 255]\n",
      "Q13.jpg.png [120 204 255]\n",
      "Q13.png [ 39 120 121 147 255]\n",
      "Q13.png [ 39 120 121 147 255]\n",
      "Q14.jpg.png [ 78 120 204 205 255]\n",
      "Q14.jpg.png [ 78 120 204 205 255]\n",
      "Q14.png [ 31  37 152 255]\n",
      "Q14.png [ 31  37 152 255]\n",
      "Q15.jpg.png [ 78 120 204 205 255]\n",
      "Q15.jpg.png [ 78 120 204 205 255]\n",
      "Q15.png [ 31  37  78 120 147 152 255]\n",
      "Q15.png [ 31  37  78 120 147 152 255]\n",
      "Q1.jpg.png [120 204 255]\n",
      "Q1.jpg.png [120 204 255]\n",
      "Q1.png [ 37  78 120 152 255]\n",
      "Q1.png [ 37  78 120 152 255]\n",
      "Q2.jpg.png [ 78 120 204 255]\n",
      "Q2.jpg.png [ 78 120 204 255]\n",
      "Q2.png [ 78 120 152 255]\n",
      "Q2.png [ 78 120 152 255]\n",
      "Q32.png [ 78 120 145 152 255]\n",
      "Q32.png [ 78 120 145 152 255]\n",
      "Q3.jpg.png [120 204 205 255]\n",
      "Q3.jpg.png [120 204 205 255]\n",
      "Q4.jpg.png [ 78 120 199 204 205 255]\n",
      "Q4.jpg.png [ 78 120 199 204 205 255]\n",
      "Q4.png [ 78 120 147 255]\n",
      "Q4.png [ 78 120 147 255]\n",
      "Q5.jpg.png [ 78 120 204 205 255]\n",
      "Q5.jpg.png [ 78 120 204 205 255]\n",
      "Q5.png [ 37  78 120 145 147 152 255]\n",
      "Q5.png [ 37  78 120 145 147 152 255]\n",
      "Q6.jpg.png [ 78 120 204 255]\n",
      "Q6.jpg.png [ 78 120 204 255]\n",
      "Q6.png [120 152 255]\n",
      "Q6.png [120 152 255]\n",
      "Q7.jpg.png [ 78 120 204 255]\n",
      "Q7.jpg.png [ 78 120 204 255]\n",
      "Q7.png [ 37 120 152 255]\n",
      "Q7.png [ 37 120 152 255]\n",
      "Q8.jpg.png [120 255]\n",
      "Q8.jpg.png [120 255]\n",
      "Q8.png [ 78 120 152 255]\n",
      "Q8.png [ 78 120 152 255]\n",
      "Q9.jpg.png [ 78 120 204 205 206 255]\n",
      "Q9.jpg.png [ 78 120 204 205 206 255]\n",
      "Q9.png [ 37  78 120 152 255]\n",
      "Q9.png [ 37  78 120 152 255]\n",
      "SGM2Q10.jpg.png [120 204 205 255]\n",
      "SGM2Q10.jpg.png [120 204 205 255]\n",
      "SGM2Q11.jpg.png [ 78 120 204 205 255]\n",
      "SGM2Q11.jpg.png [ 78 120 204 205 255]\n",
      "SGM2Q12.jpg.png [ 78 120 204 205 255]\n",
      "SGM2Q12.jpg.png [ 78 120 204 205 255]\n",
      "SGM2Q13.jpg.png [ 78 120 204 255]\n",
      "SGM2Q13.jpg.png [ 78 120 204 255]\n",
      "SGM2Q14.jpg.png [120 204 206 255]\n",
      "SGM2Q14.jpg.png [120 204 206 255]\n",
      "SGM2Q15.jpg.png [120 204 205 206 255]\n",
      "SGM2Q15.jpg.png [120 204 205 206 255]\n",
      "SGM2Q1.jpg.png [120 204 255]\n",
      "SGM2Q1.jpg.png [120 204 255]\n",
      "SGM2Q2.jpg.png [ 78 120 204 205 255]\n",
      "SGM2Q2.jpg.png [ 78 120 204 205 255]\n",
      "SGM2Q3.jpg.png [120 204 255]\n",
      "SGM2Q3.jpg.png [120 204 255]\n",
      "SGM2Q4.jpg.png [ 78 120 204 255]\n",
      "SGM2Q4.jpg.png [ 78 120 204 255]\n",
      "SGM2Q5.jpg.png [ 78 120 204 205 206 255]\n",
      "SGM2Q5.jpg.png [ 78 120 204 205 206 255]\n",
      "SGM2Q6.jpg.png [ 78 120 204 255]\n",
      "SGM2Q6.jpg.png [ 78 120 204 255]\n",
      "SGM2Q7.jpg.png [ 78 120 204 255]\n",
      "SGM2Q7.jpg.png [ 78 120 204 255]\n",
      "SGM2Q8.jpg.png [ 78 120 255]\n",
      "SGM2Q8.jpg.png [ 78 120 255]\n",
      "SGM2Q9.jpg.png [ 78 120 204 255]\n",
      "SGM2Q9.jpg.png [ 78 120 204 255]\n"
     ]
    }
   ],
   "source": [
    "for img_name in img_names.unique():\n",
    "    # go to root\n",
    "    os.chdir(\"/data/jantina/CoralNet/used/Hamad_New\")\n",
    "    # get image\n",
    "    try:\n",
    "        image = io.imread(os.path.join('images', img_name))\n",
    "        # retrieve the annotations for that image\n",
    "        landmark = landmarks.iloc[img_names[img_names==img_name].index.values]\n",
    "        landmark = np.asarray(landmark)\n",
    "\n",
    "        # get image information\n",
    "        height = image.shape[0]\n",
    "        width = image.shape[1]\n",
    "        colors = image.shape[2]\n",
    "\n",
    "        # create array with coordinates and label code\n",
    "        classes = np.copy(landmark) \n",
    "        for new, old in labels.items():\n",
    "            classes[landmark == old] = new\n",
    "\n",
    "        # create mask \n",
    "        mask = np.full((height, width), 255)\n",
    "        for x in classes:\n",
    "            try:\n",
    "                mask[x[0], x[1]] = x[2]\n",
    "            except:\n",
    "                print(img_name)\n",
    "                print(\"These labels are out of bounds\", x[0], x[1], x[2])\n",
    "                continue\n",
    "\n",
    "        # switch to png to not loose information\n",
    "        img_name = img_name.split(\".JPG\")[0]+\".png\"\n",
    "\n",
    "        # check the labels contained in the mask\n",
    "        print(img_name, np.unique(mask))\n",
    "\n",
    "        # save mask\n",
    "        os.chdir(\"/data/jantina/CoralNet/used/Hamad_New/masks\")\n",
    "        cv2.imwrite(img_name, mask)\n",
    "\n",
    "        # load the mask and check the labels again\n",
    "        # if they don't match there is a problem\n",
    "        image = cv2.imread(os.path.join(img_name))\n",
    "        print(img_name, np.unique(image))\n",
    "    except:\n",
    "        continue"
   ]
  },
  {
   "cell_type": "markdown",
   "metadata": {},
   "source": [
    "## Rotating images\n",
    "\n",
    "Some images might have tilted when being download, thus the annotations won't match. \n",
    "\n",
    "The message `These labels are out of bounds` will appear for these images.\n",
    "\n",
    "These images will need to be rotated first !"
   ]
  },
  {
   "cell_type": "code",
   "execution_count": null,
   "metadata": {},
   "outputs": [],
   "source": [
    "# go to root\n",
    "os.chdir(\"/data/jantina/CoralNet/used/Hamad_New\")\n",
    "\n",
    "# take a single image\n",
    "img_name = \"ALM2Q14.JPG\"\n",
    "image = io.imread(os.path.join('images', img_name))\n",
    "print(image.shape)\n",
    "plt.imshow(image)\n",
    "\n",
    "# retrieve the annotations for that image\n",
    "landmark = landmarks.iloc[img_names[img_names==img_name].index.values]\n",
    "landmark = np.asarray(landmark)\n",
    "\n",
    "# rotate\n",
    "img = cv2.rotate(image, cv2.ROTATE_90_CLOCKWISE)\n",
    "print(img.shape)\n",
    "plt.imshow(img)\n",
    "\n",
    "# replace the current image\n",
    "os.chdir(\"/data/jantina/CoralNet/used/Hamad_New/images\")\n",
    "cv2.imwrite(img_name, img)"
   ]
  },
  {
   "cell_type": "markdown",
   "metadata": {},
   "source": [
    "## Converting RGBA to RGB"
   ]
  },
  {
   "cell_type": "code",
   "execution_count": null,
   "metadata": {},
   "outputs": [],
   "source": [
    "for img_name in img_names.unique():\n",
    "    # go to root\n",
    "    os.chdir(\"/data/jantina/CoralNet/dataset\")\n",
    "    image = Image.open(os.path.join('images', img_name))\n",
    "    rgb_image = image.convert('RGB')\n",
    "    # replace the current image\n",
    "    os.chdir(\"/data/jantina/CoralNet/dataset/images\")\n",
    "    rgb_image.save(img_name)"
   ]
  },
  {
   "cell_type": "markdown",
   "metadata": {},
   "source": [
    "## Plot a single image with annotations"
   ]
  },
  {
   "cell_type": "code",
   "execution_count": 76,
   "metadata": {},
   "outputs": [
    {
     "data": {
      "image/png": "[encoded data removed]",
      "text/plain": [
       "<Figure size 432x288 with 1 Axes>"
      ]
     },
     "metadata": {
      "needs_background": "light"
     },
     "output_type": "display_data"
    }
   ],
   "source": [
    "# go to root\n",
    "os.chdir(\"/data/jantina/CoralNet/used/WAPA_RFM\")\n",
    "annotations = pd.read_csv('other/annotations.csv')\n",
    "img_names = annotations.iloc[:, 0]\n",
    "landmarks = annotations.iloc[:, 1:4]\n",
    "\n",
    "# take a single image\n",
    "img_name = \"2020-08-10-AGAT-A-T5 7.5-B (P8103497).JPG\"\n",
    "\n",
    "# retrieve the annotations for that image\n",
    "landmarks = annotations.iloc[:, 1:3]\n",
    "landmarks = landmarks.iloc[img_names[img_names==img_name].index.values]\n",
    "landmarks = np.asarray(landmarks).astype('float').reshape(-1, 2)\n",
    "\n",
    "def show_landmarks(image, landmarks):\n",
    "    \"\"\"Show image with landmarks\"\"\"\n",
    "    plt.imshow(image)\n",
    "    plt.scatter(landmarks[:, 1], landmarks[:, 0], s=50, marker='.', c='r')\n",
    "\n",
    "# show the image with it's annotations\n",
    "plt.figure()\n",
    "show_landmarks(io.imread(os.path.join('images', img_name)),landmarks)\n",
    "plt.show()"
   ]
  },
  {
   "cell_type": "code",
   "execution_count": 89,
   "metadata": {},
   "outputs": [
    {
     "data": {
      "application/vnd.plotly.v1+json": {
       "config": {
        "plotlyServerURL": "https://plot.ly"
       },
       "data": [
        {
         "hoverlabel": {
          "namelength": 0
         },
         "hovertemplate": "name=Aukane Reef<br>lat=%{lat}<br>lon=%{lon}",
         "lat": [
          -10.5799
         ],
         "legendgroup": "name=Aukane Reef",
         "lon": [
          142.2195
         ],
         "marker": {
          "color": "#636efa"
         },
         "mode": "markers",
         "name": "name=Aukane Reef",
         "showlegend": true,
         "subplot": "mapbox",
         "type": "scattermapbox"
        },
        {
         "hoverlabel": {
          "namelength": 0
         },
         "hovertemplate": "name=BHP GSR Fiji<br>lat=%{lat}<br>lon=%{lon}",
         "lat": [
          -17.3801
         ],
         "legendgroup": "name=BHP GSR Fiji",
         "lon": [
          177.6507
         ],
         "marker": {
          "color": "#EF553B"
         },
         "mode": "markers",
         "name": "name=BHP GSR Fiji",
         "showlegend": true,
         "subplot": "mapbox",
         "type": "scattermapbox"
        },
        {
         "hoverlabel": {
          "namelength": 0
         },
         "hovertemplate": "name=Hamad New<br>lat=%{lat}<br>lon=%{lon}",
         "lat": [
          25.03139
         ],
         "legendgroup": "name=Hamad New",
         "lon": [
          52.22665
         ],
         "marker": {
          "color": "#00cc96"
         },
         "mode": "markers",
         "name": "name=Hamad New",
         "showlegend": true,
         "subplot": "mapbox",
         "type": "scattermapbox"
        },
        {
         "hoverlabel": {
          "namelength": 0
         },
         "hovertemplate": "name=Hanan Shafeeg<br>lat=%{lat}<br>lon=%{lon}",
         "lat": [
          3.202778
         ],
         "legendgroup": "name=Hanan Shafeeg",
         "lon": [
          73.22068
         ],
         "marker": {
          "color": "#ab63fa"
         },
         "mode": "markers",
         "name": "name=Hanan Shafeeg",
         "showlegend": true,
         "subplot": "mapbox",
         "type": "scattermapbox"
        },
        {
         "hoverlabel": {
          "namelength": 0
         },
         "hovertemplate": "name=Vavau<br>lat=%{lat}<br>lon=%{lon}",
         "lat": [
          -18.6227
         ],
         "legendgroup": "name=Vavau",
         "lon": [
          -173.99
         ],
         "marker": {
          "color": "#FFA15A"
         },
         "mode": "markers",
         "name": "name=Vavau",
         "showlegend": true,
         "subplot": "mapbox",
         "type": "scattermapbox"
        },
        {
         "hoverlabel": {
          "namelength": 0
         },
         "hovertemplate": "name=WAPA Interns<br>lat=%{lat}<br>lon=%{lon}",
         "lat": [
          13.46317
         ],
         "legendgroup": "name=WAPA Interns",
         "lon": [
          144.7542
         ],
         "marker": {
          "color": "#19d3f3"
         },
         "mode": "markers",
         "name": "name=WAPA Interns",
         "showlegend": true,
         "subplot": "mapbox",
         "type": "scattermapbox"
        },
        {
         "hoverlabel": {
          "namelength": 0
         },
         "hovertemplate": "name=WAPA RFM<br>lat=%{lat}<br>lon=%{lon}",
         "lat": [
          13.475
         ],
         "legendgroup": "name=WAPA RFM",
         "lon": [
          144.706
         ],
         "marker": {
          "color": "#FF6692"
         },
         "mode": "markers",
         "name": "name=WAPA RFM",
         "showlegend": true,
         "subplot": "mapbox",
         "type": "scattermapbox"
        }
       ],
       "layout": {
        "legend": {
         "tracegroupgap": 0
        },
        "mapbox": {
         "center": {
          "lat": 1.2270911428571425,
          "lon": 80.11253285714285
         },
         "domain": {
          "x": [
           0,
           1
          ],
          "y": [
           0,
           1
          ]
         },
         "style": "carto-positron",
         "zoom": 10
        },
        "margin": {
         "t": 60
        },
        "template": {
         "data": {
          "bar": [
           {
            "error_x": {
             "color": "#2a3f5f"
            },
            "error_y": {
             "color": "#2a3f5f"
            },
            "marker": {
             "line": {
              "color": "#E5ECF6",
              "width": 0.5
             }
            },
            "type": "bar"
           }
          ],
          "barpolar": [
           {
            "marker": {
             "line": {
              "color": "#E5ECF6",
              "width": 0.5
             }
            },
            "type": "barpolar"
           }
          ],
          "carpet": [
           {
            "aaxis": {
             "endlinecolor": "#2a3f5f",
             "gridcolor": "white",
             "linecolor": "white",
             "minorgridcolor": "white",
             "startlinecolor": "#2a3f5f"
            },
            "baxis": {
             "endlinecolor": "#2a3f5f",
             "gridcolor": "white",
             "linecolor": "white",
             "minorgridcolor": "white",
             "startlinecolor": "#2a3f5f"
            },
            "type": "carpet"
           }
          ],
          "choropleth": [
           {
            "colorbar": {
             "outlinewidth": 0,
             "ticks": ""
            },
            "type": "choropleth"
           }
          ],
          "contour": [
           {
            "colorbar": {
             "outlinewidth": 0,
             "ticks": ""
            },
            "colorscale": [
             [
              0,
              "#0d0887"
             ],
             [
              0.1111111111111111,
              "#46039f"
             ],
             [
              0.2222222222222222,
              "#7201a8"
             ],
             [
              0.3333333333333333,
              "#9c179e"
             ],
             [
              0.4444444444444444,
              "#bd3786"
             ],
             [
              0.5555555555555556,
              "#d8576b"
             ],
             [
              0.6666666666666666,
              "#ed7953"
             ],
             [
              0.7777777777777778,
              "#fb9f3a"
             ],
             [
              0.8888888888888888,
              "#fdca26"
             ],
             [
              1,
              "#f0f921"
             ]
            ],
            "type": "contour"
           }
          ],
          "contourcarpet": [
           {
            "colorbar": {
             "outlinewidth": 0,
             "ticks": ""
            },
            "type": "contourcarpet"
           }
          ],
          "heatmap": [
           {
            "colorbar": {
             "outlinewidth": 0,
             "ticks": ""
            },
            "colorscale": [
             [
              0,
              "#0d0887"
             ],
             [
              0.1111111111111111,
              "#46039f"
             ],
             [
              0.2222222222222222,
              "#7201a8"
             ],
             [
              0.3333333333333333,
              "#9c179e"
             ],
             [
              0.4444444444444444,
              "#bd3786"
             ],
             [
              0.5555555555555556,
              "#d8576b"
             ],
             [
              0.6666666666666666,
              "#ed7953"
             ],
             [
              0.7777777777777778,
              "#fb9f3a"
             ],
             [
              0.8888888888888888,
              "#fdca26"
             ],
             [
              1,
              "#f0f921"
             ]
            ],
            "type": "heatmap"
           }
          ],
          "heatmapgl": [
           {
            "colorbar": {
             "outlinewidth": 0,
             "ticks": ""
            },
            "colorscale": [
             [
              0,
              "#0d0887"
             ],
             [
              0.1111111111111111,
              "#46039f"
             ],
             [
              0.2222222222222222,
              "#7201a8"
             ],
             [
              0.3333333333333333,
              "#9c179e"
             ],
             [
              0.4444444444444444,
              "#bd3786"
             ],
             [
              0.5555555555555556,
              "#d8576b"
             ],
             [
              0.6666666666666666,
              "#ed7953"
             ],
             [
              0.7777777777777778,
              "#fb9f3a"
             ],
             [
              0.8888888888888888,
              "#fdca26"
             ],
             [
              1,
              "#f0f921"
             ]
            ],
            "type": "heatmapgl"
           }
          ],
          "histogram": [
           {
            "marker": {
             "colorbar": {
              "outlinewidth": 0,
              "ticks": ""
             }
            },
            "type": "histogram"
           }
          ],
          "histogram2d": [
           {
            "colorbar": {
             "outlinewidth": 0,
             "ticks": ""
            },
            "colorscale": [
             [
              0,
              "#0d0887"
             ],
             [
              0.1111111111111111,
              "#46039f"
             ],
             [
              0.2222222222222222,
              "#7201a8"
             ],
             [
              0.3333333333333333,
              "#9c179e"
             ],
             [
              0.4444444444444444,
              "#bd3786"
             ],
             [
              0.5555555555555556,
              "#d8576b"
             ],
             [
              0.6666666666666666,
              "#ed7953"
             ],
             [
              0.7777777777777778,
              "#fb9f3a"
             ],
             [
              0.8888888888888888,
              "#fdca26"
             ],
             [
              1,
              "#f0f921"
             ]
            ],
            "type": "histogram2d"
           }
          ],
          "histogram2dcontour": [
           {
            "colorbar": {
             "outlinewidth": 0,
             "ticks": ""
            },
            "colorscale": [
             [
              0,
              "#0d0887"
             ],
             [
              0.1111111111111111,
              "#46039f"
             ],
             [
              0.2222222222222222,
              "#7201a8"
             ],
             [
              0.3333333333333333,
              "#9c179e"
             ],
             [
              0.4444444444444444,
              "#bd3786"
             ],
             [
              0.5555555555555556,
              "#d8576b"
             ],
             [
              0.6666666666666666,
              "#ed7953"
             ],
             [
              0.7777777777777778,
              "#fb9f3a"
             ],
             [
              0.8888888888888888,
              "#fdca26"
             ],
             [
              1,
              "#f0f921"
             ]
            ],
            "type": "histogram2dcontour"
           }
          ],
          "mesh3d": [
           {
            "colorbar": {
             "outlinewidth": 0,
             "ticks": ""
            },
            "type": "mesh3d"
           }
          ],
          "parcoords": [
           {
            "line": {
             "colorbar": {
              "outlinewidth": 0,
              "ticks": ""
             }
            },
            "type": "parcoords"
           }
          ],
          "pie": [
           {
            "automargin": true,
            "type": "pie"
           }
          ],
          "scatter": [
           {
            "marker": {
             "colorbar": {
              "outlinewidth": 0,
              "ticks": ""
             }
            },
            "type": "scatter"
           }
          ],
          "scatter3d": [
           {
            "line": {
             "colorbar": {
              "outlinewidth": 0,
              "ticks": ""
             }
            },
            "marker": {
             "colorbar": {
              "outlinewidth": 0,
              "ticks": ""
             }
            },
            "type": "scatter3d"
           }
          ],
          "scattercarpet": [
           {
            "marker": {
             "colorbar": {
              "outlinewidth": 0,
              "ticks": ""
             }
            },
            "type": "scattercarpet"
           }
          ],
          "scattergeo": [
           {
            "marker": {
             "colorbar": {
              "outlinewidth": 0,
              "ticks": ""
             }
            },
            "type": "scattergeo"
           }
          ],
          "scattergl": [
           {
            "marker": {
             "colorbar": {
              "outlinewidth": 0,
              "ticks": ""
             }
            },
            "type": "scattergl"
           }
          ],
          "scattermapbox": [
           {
            "marker": {
             "colorbar": {
              "outlinewidth": 0,
              "ticks": ""
             }
            },
            "type": "scattermapbox"
           }
          ],
          "scatterpolar": [
           {
            "marker": {
             "colorbar": {
              "outlinewidth": 0,
              "ticks": ""
             }
            },
            "type": "scatterpolar"
           }
          ],
          "scatterpolargl": [
           {
            "marker": {
             "colorbar": {
              "outlinewidth": 0,
              "ticks": ""
             }
            },
            "type": "scatterpolargl"
           }
          ],
          "scatterternary": [
           {
            "marker": {
             "colorbar": {
              "outlinewidth": 0,
              "ticks": ""
             }
            },
            "type": "scatterternary"
           }
          ],
          "surface": [
           {
            "colorbar": {
             "outlinewidth": 0,
             "ticks": ""
            },
            "colorscale": [
             [
              0,
              "#0d0887"
             ],
             [
              0.1111111111111111,
              "#46039f"
             ],
             [
              0.2222222222222222,
              "#7201a8"
             ],
             [
              0.3333333333333333,
              "#9c179e"
             ],
             [
              0.4444444444444444,
              "#bd3786"
             ],
             [
              0.5555555555555556,
              "#d8576b"
             ],
             [
              0.6666666666666666,
              "#ed7953"
             ],
             [
              0.7777777777777778,
              "#fb9f3a"
             ],
             [
              0.8888888888888888,
              "#fdca26"
             ],
             [
              1,
              "#f0f921"
             ]
            ],
            "type": "surface"
           }
          ],
          "table": [
           {
            "cells": {
             "fill": {
              "color": "#EBF0F8"
             },
             "line": {
              "color": "white"
             }
            },
            "header": {
             "fill": {
              "color": "#C8D4E3"
             },
             "line": {
              "color": "white"
             }
            },
            "type": "table"
           }
          ]
         },
         "layout": {
          "annotationdefaults": {
           "arrowcolor": "#2a3f5f",
           "arrowhead": 0,
           "arrowwidth": 1
          },
          "coloraxis": {
           "colorbar": {
            "outlinewidth": 0,
            "ticks": ""
           }
          },
          "colorscale": {
           "diverging": [
            [
             0,
             "#8e0152"
            ],
            [
             0.1,
             "#c51b7d"
            ],
            [
             0.2,
             "#de77ae"
            ],
            [
             0.3,
             "#f1b6da"
            ],
            [
             0.4,
             "#fde0ef"
            ],
            [
             0.5,
             "#f7f7f7"
            ],
            [
             0.6,
             "#e6f5d0"
            ],
            [
             0.7,
             "#b8e186"
            ],
            [
             0.8,
             "#7fbc41"
            ],
            [
             0.9,
             "#4d9221"
            ],
            [
             1,
             "#276419"
            ]
           ],
           "sequential": [
            [
             0,
             "#0d0887"
            ],
            [
             0.1111111111111111,
             "#46039f"
            ],
            [
             0.2222222222222222,
             "#7201a8"
            ],
            [
             0.3333333333333333,
             "#9c179e"
            ],
            [
             0.4444444444444444,
             "#bd3786"
            ],
            [
             0.5555555555555556,
             "#d8576b"
            ],
            [
             0.6666666666666666,
             "#ed7953"
            ],
            [
             0.7777777777777778,
             "#fb9f3a"
            ],
            [
             0.8888888888888888,
             "#fdca26"
            ],
            [
             1,
             "#f0f921"
            ]
           ],
           "sequentialminus": [
            [
             0,
             "#0d0887"
            ],
            [
             0.1111111111111111,
             "#46039f"
            ],
            [
             0.2222222222222222,
             "#7201a8"
            ],
            [
             0.3333333333333333,
             "#9c179e"
            ],
            [
             0.4444444444444444,
             "#bd3786"
            ],
            [
             0.5555555555555556,
             "#d8576b"
            ],
            [
             0.6666666666666666,
             "#ed7953"
            ],
            [
             0.7777777777777778,
             "#fb9f3a"
            ],
            [
             0.8888888888888888,
             "#fdca26"
            ],
            [
             1,
             "#f0f921"
            ]
           ]
          },
          "colorway": [
           "#636efa",
           "#EF553B",
           "#00cc96",
           "#ab63fa",
           "#FFA15A",
           "#19d3f3",
           "#FF6692",
           "#B6E880",
           "#FF97FF",
           "#FECB52"
          ],
          "font": {
           "color": "#2a3f5f"
          },
          "geo": {
           "bgcolor": "white",
           "lakecolor": "white",
           "landcolor": "#E5ECF6",
           "showlakes": true,
           "showland": true,
           "subunitcolor": "white"
          },
          "hoverlabel": {
           "align": "left"
          },
          "hovermode": "closest",
          "mapbox": {
           "style": "light"
          },
          "paper_bgcolor": "white",
          "plot_bgcolor": "#E5ECF6",
          "polar": {
           "angularaxis": {
            "gridcolor": "white",
            "linecolor": "white",
            "ticks": ""
           },
           "bgcolor": "#E5ECF6",
           "radialaxis": {
            "gridcolor": "white",
            "linecolor": "white",
            "ticks": ""
           }
          },
          "scene": {
           "xaxis": {
            "backgroundcolor": "#E5ECF6",
            "gridcolor": "white",
            "gridwidth": 2,
            "linecolor": "white",
            "showbackground": true,
            "ticks": "",
            "zerolinecolor": "white"
           },
           "yaxis": {
            "backgroundcolor": "#E5ECF6",
            "gridcolor": "white",
            "gridwidth": 2,
            "linecolor": "white",
            "showbackground": true,
            "ticks": "",
            "zerolinecolor": "white"
           },
           "zaxis": {
            "backgroundcolor": "#E5ECF6",
            "gridcolor": "white",
            "gridwidth": 2,
            "linecolor": "white",
            "showbackground": true,
            "ticks": "",
            "zerolinecolor": "white"
           }
          },
          "shapedefaults": {
           "line": {
            "color": "#2a3f5f"
           }
          },
          "ternary": {
           "aaxis": {
            "gridcolor": "white",
            "linecolor": "white",
            "ticks": ""
           },
           "baxis": {
            "gridcolor": "white",
            "linecolor": "white",
            "ticks": ""
           },
           "bgcolor": "#E5ECF6",
           "caxis": {
            "gridcolor": "white",
            "linecolor": "white",
            "ticks": ""
           }
          },
          "title": {
           "x": 0.05
          },
          "xaxis": {
           "automargin": true,
           "gridcolor": "white",
           "linecolor": "white",
           "ticks": "",
           "title": {
            "standoff": 15
           },
           "zerolinecolor": "white",
           "zerolinewidth": 2
          },
          "yaxis": {
           "automargin": true,
           "gridcolor": "white",
           "linecolor": "white",
           "ticks": "",
           "title": {
            "standoff": 15
           },
           "zerolinecolor": "white",
           "zerolinewidth": 2
          }
         }
        }
       }
      },
      "text/html": [
       "<div>\n",
       "        \n",
       "        \n",
       "            <div id=\"d2049112-7c3a-432c-bfaa-9a5c97dd2019\" class=\"plotly-graph-div\" style=\"height:525px; width:100%;\"></div>\n",
       "            <script type=\"text/javascript\">\n",
       "                require([\"plotly\"], function(Plotly) {\n",
       "                    window.PLOTLYENV=window.PLOTLYENV || {};\n",
       "                    \n",
       "                if (document.getElementById(\"d2049112-7c3a-432c-bfaa-9a5c97dd2019\")) {\n",
       "                    Plotly.newPlot(\n",
       "                        'd2049112-7c3a-432c-bfaa-9a5c97dd2019',\n",
       "                        [{\"hoverlabel\": {\"namelength\": 0}, \"hovertemplate\": \"name=Aukane Reef<br>lat=%{lat}<br>lon=%{lon}\", \"lat\": [-10.5799], \"legendgroup\": \"name=Aukane Reef\", \"lon\": [142.2195], \"marker\": {\"color\": \"#636efa\"}, \"mode\": \"markers\", \"name\": \"name=Aukane Reef\", \"showlegend\": true, \"subplot\": \"mapbox\", \"type\": \"scattermapbox\"}, {\"hoverlabel\": {\"namelength\": 0}, \"hovertemplate\": \"name=BHP GSR Fiji<br>lat=%{lat}<br>lon=%{lon}\", \"lat\": [-17.3801], \"legendgroup\": \"name=BHP GSR Fiji\", \"lon\": [177.6507], \"marker\": {\"color\": \"#EF553B\"}, \"mode\": \"markers\", \"name\": \"name=BHP GSR Fiji\", \"showlegend\": true, \"subplot\": \"mapbox\", \"type\": \"scattermapbox\"}, {\"hoverlabel\": {\"namelength\": 0}, \"hovertemplate\": \"name=Hamad New<br>lat=%{lat}<br>lon=%{lon}\", \"lat\": [25.03139], \"legendgroup\": \"name=Hamad New\", \"lon\": [52.22665], \"marker\": {\"color\": \"#00cc96\"}, \"mode\": \"markers\", \"name\": \"name=Hamad New\", \"showlegend\": true, \"subplot\": \"mapbox\", \"type\": \"scattermapbox\"}, {\"hoverlabel\": {\"namelength\": 0}, \"hovertemplate\": \"name=Hanan Shafeeg<br>lat=%{lat}<br>lon=%{lon}\", \"lat\": [3.202778], \"legendgroup\": \"name=Hanan Shafeeg\", \"lon\": [73.22068], \"marker\": {\"color\": \"#ab63fa\"}, \"mode\": \"markers\", \"name\": \"name=Hanan Shafeeg\", \"showlegend\": true, \"subplot\": \"mapbox\", \"type\": \"scattermapbox\"}, {\"hoverlabel\": {\"namelength\": 0}, \"hovertemplate\": \"name=Vavau<br>lat=%{lat}<br>lon=%{lon}\", \"lat\": [-18.6227], \"legendgroup\": \"name=Vavau\", \"lon\": [-173.99], \"marker\": {\"color\": \"#FFA15A\"}, \"mode\": \"markers\", \"name\": \"name=Vavau\", \"showlegend\": true, \"subplot\": \"mapbox\", \"type\": \"scattermapbox\"}, {\"hoverlabel\": {\"namelength\": 0}, \"hovertemplate\": \"name=WAPA Interns<br>lat=%{lat}<br>lon=%{lon}\", \"lat\": [13.46317], \"legendgroup\": \"name=WAPA Interns\", \"lon\": [144.7542], \"marker\": {\"color\": \"#19d3f3\"}, \"mode\": \"markers\", \"name\": \"name=WAPA Interns\", \"showlegend\": true, \"subplot\": \"mapbox\", \"type\": \"scattermapbox\"}, {\"hoverlabel\": {\"namelength\": 0}, \"hovertemplate\": \"name=WAPA RFM<br>lat=%{lat}<br>lon=%{lon}\", \"lat\": [13.475], \"legendgroup\": \"name=WAPA RFM\", \"lon\": [144.706], \"marker\": {\"color\": \"#FF6692\"}, \"mode\": \"markers\", \"name\": \"name=WAPA RFM\", \"showlegend\": true, \"subplot\": \"mapbox\", \"type\": \"scattermapbox\"}],\n",
       "                        {\"legend\": {\"tracegroupgap\": 0}, \"mapbox\": {\"center\": {\"lat\": 1.2270911428571425, \"lon\": 80.11253285714285}, \"domain\": {\"x\": [0.0, 1.0], \"y\": [0.0, 1.0]}, \"style\": \"carto-positron\", \"zoom\": 10}, \"margin\": {\"t\": 60}, \"template\": {\"data\": {\"bar\": [{\"error_x\": {\"color\": \"#2a3f5f\"}, \"error_y\": {\"color\": \"#2a3f5f\"}, \"marker\": {\"line\": {\"color\": \"#E5ECF6\", \"width\": 0.5}}, \"type\": \"bar\"}], \"barpolar\": [{\"marker\": {\"line\": {\"color\": \"#E5ECF6\", \"width\": 0.5}}, \"type\": \"barpolar\"}], \"carpet\": [{\"aaxis\": {\"endlinecolor\": \"#2a3f5f\", \"gridcolor\": \"white\", \"linecolor\": \"white\", \"minorgridcolor\": \"white\", \"startlinecolor\": \"#2a3f5f\"}, \"baxis\": {\"endlinecolor\": \"#2a3f5f\", \"gridcolor\": \"white\", \"linecolor\": \"white\", \"minorgridcolor\": \"white\", \"startlinecolor\": \"#2a3f5f\"}, \"type\": \"carpet\"}], \"choropleth\": [{\"colorbar\": {\"outlinewidth\": 0, \"ticks\": \"\"}, \"type\": \"choropleth\"}], \"contour\": [{\"colorbar\": {\"outlinewidth\": 0, \"ticks\": \"\"}, \"colorscale\": [[0.0, \"#0d0887\"], [0.1111111111111111, \"#46039f\"], [0.2222222222222222, \"#7201a8\"], [0.3333333333333333, \"#9c179e\"], [0.4444444444444444, \"#bd3786\"], [0.5555555555555556, \"#d8576b\"], [0.6666666666666666, \"#ed7953\"], [0.7777777777777778, \"#fb9f3a\"], [0.8888888888888888, \"#fdca26\"], [1.0, \"#f0f921\"]], \"type\": \"contour\"}], \"contourcarpet\": [{\"colorbar\": {\"outlinewidth\": 0, \"ticks\": \"\"}, \"type\": \"contourcarpet\"}], \"heatmap\": [{\"colorbar\": {\"outlinewidth\": 0, \"ticks\": \"\"}, \"colorscale\": [[0.0, \"#0d0887\"], [0.1111111111111111, \"#46039f\"], [0.2222222222222222, \"#7201a8\"], [0.3333333333333333, \"#9c179e\"], [0.4444444444444444, \"#bd3786\"], [0.5555555555555556, \"#d8576b\"], [0.6666666666666666, \"#ed7953\"], [0.7777777777777778, \"#fb9f3a\"], [0.8888888888888888, \"#fdca26\"], [1.0, \"#f0f921\"]], \"type\": \"heatmap\"}], \"heatmapgl\": [{\"colorbar\": {\"outlinewidth\": 0, \"ticks\": \"\"}, \"colorscale\": [[0.0, \"#0d0887\"], [0.1111111111111111, \"#46039f\"], [0.2222222222222222, \"#7201a8\"], [0.3333333333333333, \"#9c179e\"], [0.4444444444444444, \"#bd3786\"], [0.5555555555555556, \"#d8576b\"], [0.6666666666666666, \"#ed7953\"], [0.7777777777777778, \"#fb9f3a\"], [0.8888888888888888, \"#fdca26\"], [1.0, \"#f0f921\"]], \"type\": \"heatmapgl\"}], \"histogram\": [{\"marker\": {\"colorbar\": {\"outlinewidth\": 0, \"ticks\": \"\"}}, \"type\": \"histogram\"}], \"histogram2d\": [{\"colorbar\": {\"outlinewidth\": 0, \"ticks\": \"\"}, \"colorscale\": [[0.0, \"#0d0887\"], [0.1111111111111111, \"#46039f\"], [0.2222222222222222, \"#7201a8\"], [0.3333333333333333, \"#9c179e\"], [0.4444444444444444, \"#bd3786\"], [0.5555555555555556, \"#d8576b\"], [0.6666666666666666, \"#ed7953\"], [0.7777777777777778, \"#fb9f3a\"], [0.8888888888888888, \"#fdca26\"], [1.0, \"#f0f921\"]], \"type\": \"histogram2d\"}], \"histogram2dcontour\": [{\"colorbar\": {\"outlinewidth\": 0, \"ticks\": \"\"}, \"colorscale\": [[0.0, \"#0d0887\"], [0.1111111111111111, \"#46039f\"], [0.2222222222222222, \"#7201a8\"], [0.3333333333333333, \"#9c179e\"], [0.4444444444444444, \"#bd3786\"], [0.5555555555555556, \"#d8576b\"], [0.6666666666666666, \"#ed7953\"], [0.7777777777777778, \"#fb9f3a\"], [0.8888888888888888, \"#fdca26\"], [1.0, \"#f0f921\"]], \"type\": \"histogram2dcontour\"}], \"mesh3d\": [{\"colorbar\": {\"outlinewidth\": 0, \"ticks\": \"\"}, \"type\": \"mesh3d\"}], \"parcoords\": [{\"line\": {\"colorbar\": {\"outlinewidth\": 0, \"ticks\": \"\"}}, \"type\": \"parcoords\"}], \"pie\": [{\"automargin\": true, \"type\": \"pie\"}], \"scatter\": [{\"marker\": {\"colorbar\": {\"outlinewidth\": 0, \"ticks\": \"\"}}, \"type\": \"scatter\"}], \"scatter3d\": [{\"line\": {\"colorbar\": {\"outlinewidth\": 0, \"ticks\": \"\"}}, \"marker\": {\"colorbar\": {\"outlinewidth\": 0, \"ticks\": \"\"}}, \"type\": \"scatter3d\"}], \"scattercarpet\": [{\"marker\": {\"colorbar\": {\"outlinewidth\": 0, \"ticks\": \"\"}}, \"type\": \"scattercarpet\"}], \"scattergeo\": [{\"marker\": {\"colorbar\": {\"outlinewidth\": 0, \"ticks\": \"\"}}, \"type\": \"scattergeo\"}], \"scattergl\": [{\"marker\": {\"colorbar\": {\"outlinewidth\": 0, \"ticks\": \"\"}}, \"type\": \"scattergl\"}], \"scattermapbox\": [{\"marker\": {\"colorbar\": {\"outlinewidth\": 0, \"ticks\": \"\"}}, \"type\": \"scattermapbox\"}], \"scatterpolar\": [{\"marker\": {\"colorbar\": {\"outlinewidth\": 0, \"ticks\": \"\"}}, \"type\": \"scatterpolar\"}], \"scatterpolargl\": [{\"marker\": {\"colorbar\": {\"outlinewidth\": 0, \"ticks\": \"\"}}, \"type\": \"scatterpolargl\"}], \"scatterternary\": [{\"marker\": {\"colorbar\": {\"outlinewidth\": 0, \"ticks\": \"\"}}, \"type\": \"scatterternary\"}], \"surface\": [{\"colorbar\": {\"outlinewidth\": 0, \"ticks\": \"\"}, \"colorscale\": [[0.0, \"#0d0887\"], [0.1111111111111111, \"#46039f\"], [0.2222222222222222, \"#7201a8\"], [0.3333333333333333, \"#9c179e\"], [0.4444444444444444, \"#bd3786\"], [0.5555555555555556, \"#d8576b\"], [0.6666666666666666, \"#ed7953\"], [0.7777777777777778, \"#fb9f3a\"], [0.8888888888888888, \"#fdca26\"], [1.0, \"#f0f921\"]], \"type\": \"surface\"}], \"table\": [{\"cells\": {\"fill\": {\"color\": \"#EBF0F8\"}, \"line\": {\"color\": \"white\"}}, \"header\": {\"fill\": {\"color\": \"#C8D4E3\"}, \"line\": {\"color\": \"white\"}}, \"type\": \"table\"}]}, \"layout\": {\"annotationdefaults\": {\"arrowcolor\": \"#2a3f5f\", \"arrowhead\": 0, \"arrowwidth\": 1}, \"coloraxis\": {\"colorbar\": {\"outlinewidth\": 0, \"ticks\": \"\"}}, \"colorscale\": {\"diverging\": [[0, \"#8e0152\"], [0.1, \"#c51b7d\"], [0.2, \"#de77ae\"], [0.3, \"#f1b6da\"], [0.4, \"#fde0ef\"], [0.5, \"#f7f7f7\"], [0.6, \"#e6f5d0\"], [0.7, \"#b8e186\"], [0.8, \"#7fbc41\"], [0.9, \"#4d9221\"], [1, \"#276419\"]], \"sequential\": [[0.0, \"#0d0887\"], [0.1111111111111111, \"#46039f\"], [0.2222222222222222, \"#7201a8\"], [0.3333333333333333, \"#9c179e\"], [0.4444444444444444, \"#bd3786\"], [0.5555555555555556, \"#d8576b\"], [0.6666666666666666, \"#ed7953\"], [0.7777777777777778, \"#fb9f3a\"], [0.8888888888888888, \"#fdca26\"], [1.0, \"#f0f921\"]], \"sequentialminus\": [[0.0, \"#0d0887\"], [0.1111111111111111, \"#46039f\"], [0.2222222222222222, \"#7201a8\"], [0.3333333333333333, \"#9c179e\"], [0.4444444444444444, \"#bd3786\"], [0.5555555555555556, \"#d8576b\"], [0.6666666666666666, \"#ed7953\"], [0.7777777777777778, \"#fb9f3a\"], [0.8888888888888888, \"#fdca26\"], [1.0, \"#f0f921\"]]}, \"colorway\": [\"#636efa\", \"#EF553B\", \"#00cc96\", \"#ab63fa\", \"#FFA15A\", \"#19d3f3\", \"#FF6692\", \"#B6E880\", \"#FF97FF\", \"#FECB52\"], \"font\": {\"color\": \"#2a3f5f\"}, \"geo\": {\"bgcolor\": \"white\", \"lakecolor\": \"white\", \"landcolor\": \"#E5ECF6\", \"showlakes\": true, \"showland\": true, \"subunitcolor\": \"white\"}, \"hoverlabel\": {\"align\": \"left\"}, \"hovermode\": \"closest\", \"mapbox\": {\"style\": \"light\"}, \"paper_bgcolor\": \"white\", \"plot_bgcolor\": \"#E5ECF6\", \"polar\": {\"angularaxis\": {\"gridcolor\": \"white\", \"linecolor\": \"white\", \"ticks\": \"\"}, \"bgcolor\": \"#E5ECF6\", \"radialaxis\": {\"gridcolor\": \"white\", \"linecolor\": \"white\", \"ticks\": \"\"}}, \"scene\": {\"xaxis\": {\"backgroundcolor\": \"#E5ECF6\", \"gridcolor\": \"white\", \"gridwidth\": 2, \"linecolor\": \"white\", \"showbackground\": true, \"ticks\": \"\", \"zerolinecolor\": \"white\"}, \"yaxis\": {\"backgroundcolor\": \"#E5ECF6\", \"gridcolor\": \"white\", \"gridwidth\": 2, \"linecolor\": \"white\", \"showbackground\": true, \"ticks\": \"\", \"zerolinecolor\": \"white\"}, \"zaxis\": {\"backgroundcolor\": \"#E5ECF6\", \"gridcolor\": \"white\", \"gridwidth\": 2, \"linecolor\": \"white\", \"showbackground\": true, \"ticks\": \"\", \"zerolinecolor\": \"white\"}}, \"shapedefaults\": {\"line\": {\"color\": \"#2a3f5f\"}}, \"ternary\": {\"aaxis\": {\"gridcolor\": \"white\", \"linecolor\": \"white\", \"ticks\": \"\"}, \"baxis\": {\"gridcolor\": \"white\", \"linecolor\": \"white\", \"ticks\": \"\"}, \"bgcolor\": \"#E5ECF6\", \"caxis\": {\"gridcolor\": \"white\", \"linecolor\": \"white\", \"ticks\": \"\"}}, \"title\": {\"x\": 0.05}, \"xaxis\": {\"automargin\": true, \"gridcolor\": \"white\", \"linecolor\": \"white\", \"ticks\": \"\", \"title\": {\"standoff\": 15}, \"zerolinecolor\": \"white\", \"zerolinewidth\": 2}, \"yaxis\": {\"automargin\": true, \"gridcolor\": \"white\", \"linecolor\": \"white\", \"ticks\": \"\", \"title\": {\"standoff\": 15}, \"zerolinecolor\": \"white\", \"zerolinewidth\": 2}}}},\n",
       "                        {\"responsive\": true}\n",
       "                    ).then(function(){\n",
       "                            \n",
       "var gd = document.getElementById('d2049112-7c3a-432c-bfaa-9a5c97dd2019');\n",
       "var x = new MutationObserver(function (mutations, observer) {{\n",
       "        var display = window.getComputedStyle(gd).display;\n",
       "        if (!display || display === 'none') {{\n",
       "            console.log([gd, 'removed!']);\n",
       "            Plotly.purge(gd);\n",
       "            observer.disconnect();\n",
       "        }}\n",
       "}});\n",
       "\n",
       "// Listen for the removal of the full notebook cells\n",
       "var notebookContainer = gd.closest('#notebook-container');\n",
       "if (notebookContainer) {{\n",
       "    x.observe(notebookContainer, {childList: true});\n",
       "}}\n",
       "\n",
       "// Listen for the clearing of the current output cell\n",
       "var outputEl = gd.closest('.output');\n",
       "if (outputEl) {{\n",
       "    x.observe(outputEl, {childList: true});\n",
       "}}\n",
       "\n",
       "                        })\n",
       "                };\n",
       "                });\n",
       "            </script>\n",
       "        </div>"
      ]
     },
     "metadata": {},
     "output_type": "display_data"
    }
   ],
   "source": [
    "import plotly.express as px\n",
    "#df = px.data.carshare()\n",
    "fig = px.scatter_mapbox(df, lat=\"lat\", lon=\"lon\", color=\"name\",\n",
    "                  color_continuous_scale=px.colors.cyclical.IceFire, size_max=15, zoom=10,\n",
    "                  mapbox_style=\"carto-positron\")\n",
    "fig.show()"
   ]
  },
  {
   "cell_type": "code",
   "execution_count": 87,
   "metadata": {},
   "outputs": [],
   "source": [
    "d = {'name': [\"Aukane Reef\", \"BHP GSR Fiji\", \"Hamad New\", \"Hanan Shafeeg\", \"Vavau\", \"WAPA Interns\", \"WAPA RFM\"],\n",
    "                  'lat': [ -10.5799,-17.3801,25.03139,3.202778,-18.6227,13.46317,13.475],\n",
    "                 'lon': [142.2195,177.6507,52.22665,73.22068,-173.990,144.7542,144.706]}\n",
    "df = pd.DataFrame(data=d)\n"
   ]
  },
  {
   "cell_type": "code",
   "execution_count": null,
   "metadata": {},
   "outputs": [],
   "source": []
  }
 ],
 "metadata": {
  "kernelspec": {
   "display_name": "Python 3 (ipykernel)",
   "language": "python",
   "name": "python3"
  },
  "language_info": {
   "codemirror_mode": {
    "name": "ipython",
    "version": 3
   },
   "file_extension": ".py",
   "mimetype": "text/x-python",
   "name": "python",
   "nbconvert_exporter": "python",
   "pygments_lexer": "ipython3",
   "version": "3.8.10"
  }
 },
 "nbformat": 4,
 "nbformat_minor": 4
}
