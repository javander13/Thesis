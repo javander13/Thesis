{
 "cells": [
  {
   "cell_type": "markdown",
   "metadata": {},
   "source": [
    "# Patch extractor\n",
    "\n",
    "Extracts a patch around each labelled pixel of an image."
   ]
  },
  {
   "cell_type": "markdown",
   "metadata": {},
   "source": [
    "## Importing necessary libraries"
   ]
  },
  {
   "cell_type": "code",
   "execution_count": 97,
   "metadata": {},
   "outputs": [],
   "source": [
    "from skimage import io, transform\n",
    "\n",
    "import cv2\n",
    "import matplotlib.pyplot as plt\n",
    "import numpy as np\n",
    "import pandas as pd\n",
    "import os"
   ]
  },
  {
   "cell_type": "markdown",
   "metadata": {},
   "source": [
    "## Functions"
   ]
  },
  {
   "cell_type": "code",
   "execution_count": 92,
   "metadata": {},
   "outputs": [],
   "source": [
    "def crop_patch(image, y, x, size=224):\n",
    "    \"\"\"Given an image, and a Y, X location, this function will extract the patch.\"\"\"\n",
    "\n",
    "    patch = image[abs((size//2) - y) : abs((size//2) + y), abs((size//2) - x) : abs((size//2) + x), :]\n",
    "    \n",
    "    return patch"
   ]
  },
  {
   "cell_type": "code",
   "execution_count": 84,
   "metadata": {},
   "outputs": [],
   "source": [
    "def check_dimensions(image, y, x, size=224):\n",
    "    \"\"\"Before a patch is extracted from an image, check to make sure \n",
    "        that it will not extend pass the dimensions of the image.\"\"\"\n",
    "    \n",
    "    height, width = image.shape[0:2]\n",
    "    \n",
    "    if(x + (size//2) > width or x - (size//2) < 0 or y + (size//2) > height or y - (size//2) < 0):\n",
    "        return False\n",
    "    else:\n",
    "        return True"
   ]
  },
  {
   "cell_type": "code",
   "execution_count": 169,
   "metadata": {},
   "outputs": [],
   "source": [
    "def create_patches(img_name, landmarks, labels, size=224):\n",
    "    \"\"\"Given an image, this function will extract patches for every labelled pixel and save them.\"\"\"\n",
    "    \n",
    "    # creat array with coordinates and annotation\n",
    "    landmark = landmarks.iloc[img_names[img_names==img_name].index.values]\n",
    "    landmark = np.asarray(landmark)\n",
    "\n",
    "    # create array with coordinates and label code\n",
    "    classes = np.copy(landmark) \n",
    "    for new, old in labels.items():\n",
    "        classes[landmark == old] = new\n",
    "    \n",
    "    # read the image\n",
    "    image = io.imread(os.path.join('images', img_name))\n",
    "    img_name = img_name.split(\".JPG\")[0]\n",
    "    \n",
    "    # create patches\n",
    "    k = 0\n",
    "    for i in range(len(classes)):\n",
    "        if check_dimensions(image, classes[i][0], classes[i][1]):\n",
    "            \n",
    "            patch = crop_patch(image, classes[i][0], classes[i][1])\n",
    "            \n",
    "            os.chdir(\"/data/jantina/CoralNet/WAPA_RFM/other/patches/\"+str(classes[i][2]))\n",
    "            cv2.imwrite(img_name+'_'+str(classes[i][2])+'_'+str(i)+\".png\", patch)\n",
    "            \n",
    "            k=k+1\n",
    "        else:\n",
    "            continue\n",
    "    \n",
    "    print(\"[INFO] Number of patches: \", k)\n",
    "    \n",
    "    return None"
   ]
  },
  {
   "cell_type": "markdown",
   "metadata": {},
   "source": [
    "## Choose source"
   ]
  },
  {
   "cell_type": "code",
   "execution_count": null,
   "metadata": {},
   "outputs": [],
   "source": [
    "os.chdir(\"/data/jantina/CoralNet/WAPA_RFM\")\n",
    "\n",
    "# prepare annotations and image names\n",
    "annotations = pd.read_csv('annotations.csv')\n",
    "img_names = annotations.iloc[:, 0]\n",
    "landmarks = annotations.iloc[:, 1:4]\n",
    "\n",
    "# prepare labels as dictionary\n",
    "# using numbers from 1 -> N\n",
    "labels = pd.read_csv('labelset.csv')[\"Short Code\"]\n",
    "labels.index = labels.index + 1\n",
    "labels = labels.to_dict()"
   ]
  },
  {
   "cell_type": "markdown",
   "metadata": {},
   "source": [
    "## Prepare source directory\n",
    "\n",
    "Create new folders for each label in the labelset of the wanted source (here WAPA_RFM)."
   ]
  },
  {
   "cell_type": "code",
   "execution_count": null,
   "metadata": {},
   "outputs": [],
   "source": [
    "parent_dir = '/data/jantina/CoralNet/WAPA_RFM/other/patches/'\n",
    "  \n",
    "for i in range(1,len(labels)):\n",
    "    # directory\n",
    "    directory = str(i)\n",
    "    # path\n",
    "    path = os.path.join(parent_dir, directory)\n",
    "    os.mkdir(path)"
   ]
  },
  {
   "cell_type": "markdown",
   "metadata": {},
   "source": [
    "## Create patches"
   ]
  },
  {
   "cell_type": "code",
   "execution_count": null,
   "metadata": {},
   "outputs": [],
   "source": [
    "# for all images\n",
    "for img_name in img_names.unique():\n",
    "    os.chdir(\"/data/jantina/CoralNet/WAPA_RFM\")\n",
    "    create_patches(img_name, landmarks, labels)"
   ]
  },
  {
   "cell_type": "markdown",
   "metadata": {},
   "source": [
    "## Remove empty folders that don't contain patches"
   ]
  },
  {
   "cell_type": "code",
   "execution_count": 181,
   "metadata": {},
   "outputs": [],
   "source": [
    "directory = '/data/jantina/CoralNet/WAPA_RFM/other/patches/'\n",
    "folders = list(os.walk(directory))[1:]\n",
    "\n",
    "for folder in folders:\n",
    "    if not folder[2]:\n",
    "        os.rmdir(folder[0])"
   ]
  }
 ],
 "metadata": {
  "kernelspec": {
   "display_name": "Python 3 (ipykernel)",
   "language": "python",
   "name": "python3"
  },
  "language_info": {
   "codemirror_mode": {
    "name": "ipython",
    "version": 3
   },
   "file_extension": ".py",
   "mimetype": "text/x-python",
   "name": "python",
   "nbconvert_exporter": "python",
   "pygments_lexer": "ipython3",
   "version": "3.8.10"
  }
 },
 "nbformat": 4,
 "nbformat_minor": 4
}
