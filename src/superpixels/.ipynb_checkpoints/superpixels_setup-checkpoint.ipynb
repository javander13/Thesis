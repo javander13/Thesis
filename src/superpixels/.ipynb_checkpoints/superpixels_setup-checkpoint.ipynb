{
 "cells": [
  {
   "cell_type": "markdown",
   "metadata": {},
   "source": [
    "# Command lines\n",
    "\n",
    "In here are the command lines to prepare a dataset for superpixel generation and label augmentation.\n",
    "\n",
    "The superpixels are in `/data/jantina/data/Superpixels` and take up a **lot** of space in the drive.\n",
    "\n",
    "Thus the source has to be splitted in smaller chunks and the `superpixel_generation.ipynb` has to be run for each chunk seperately, so that the superpixels can be deleted in between.\n",
    "\n",
    "Use `du -sh file_path` in between steps to check the size of folders."
   ]
  },
  {
   "cell_type": "markdown",
   "metadata": {},
   "source": [
    "`/data/jantina/data/Superpixels` structure\n",
    "\n",
    "```\n",
    "Datasets\n",
    "│ \n",
    "└─── WAPA_RFM1\n",
    "│   │\n",
    "│   └─── images ── test/train\n",
    "│   │      \n",
    "│   └─── labels ── test/train\n",
    "│\n",
    "└─── WAPA_RFM2\n",
    "│   │  \n",
    "│   └─── images ── test/train\n",
    "│   │      \n",
    "│   └─── labels ── test/train\n",
    "│\n",
    "└─── WAPA_RFM3\n",
    "│   │  \n",
    "│   └─── images ── test/train\n",
    "│   │      \n",
    "│   └─── labels ── test/train\n",
    "│\n",
    "└─── WAPA_RFM4\n",
    "│   │  \n",
    "│   └─── images ── test/train\n",
    "│   │      \n",
    "│   └─── labels ── test/train\n",
    "   \n",
    "```"
   ]
  },
  {
   "cell_type": "markdown",
   "metadata": {},
   "source": [
    "### Prepare Superpixel folder structure"
   ]
  },
  {
   "cell_type": "code",
   "execution_count": null,
   "metadata": {},
   "outputs": [],
   "source": [
    "%cd /data/jantina/data/Superpixels/Datasets\n",
    "\n",
    "%mkdir Vavau5_22\n",
    "%cd Vavau5_22\n",
    "%mkdir images\n",
    "%mkdir labels\n",
    "%cd images\n",
    "%mkdir test\n",
    "%mkdir train\n",
    "%cd /data/jantina/Superpixels/Datasets/Vavau5_22/labels\n",
    "%mkdir test\n",
    "%mkdir train"
   ]
  },
  {
   "cell_type": "markdown",
   "metadata": {},
   "source": [
    "### Copy image and mask folders to the Superpixel folder"
   ]
  },
  {
   "cell_type": "code",
   "execution_count": 1,
   "metadata": {},
   "outputs": [],
   "source": [
    "# put everything first into WAPA_RFM1\n",
    "%cp -r /data/jantina/CoralNet/used/Hamad_New/images /data/jantina/Superpixels/Datasets/Hamad_New/images\n",
    "%cp -r /data/jantina/CoralNet/used/Hamad_New/masks /data/jantina/Superpixels/Datasets/Hamad_New/labels\n"
   ]
  },
  {
   "cell_type": "markdown",
   "metadata": {},
   "source": [
    "### Put all images into the train folder"
   ]
  },
  {
   "cell_type": "code",
   "execution_count": null,
   "metadata": {},
   "outputs": [],
   "source": [
    "find /data/jantina/Superpixels/Datasets/Hamad_New/images/images -type f -print0 | xargs -0 mv -t /data/jantina/Superpixels/Datasets/Hamad_New/images/train\n",
    "rm -rf /data/jantina/Superpixels/Datasets/Hamad_New/images/images\n"
   ]
  },
  {
   "cell_type": "markdown",
   "metadata": {},
   "source": [
    "### Move half of them into the test folder"
   ]
  },
  {
   "cell_type": "code",
   "execution_count": null,
   "metadata": {},
   "outputs": [],
   "source": [
    "cd /data/jantina/Superpixels/Datasets/Hamad_New/images/train\n",
    "find . -name '*.JPG' | head -n 45 | xargs -I {} mv {} /data/jantina/Superpixels/Datasets/Hamad_New/images/test\n"
   ]
  },
  {
   "cell_type": "markdown",
   "metadata": {},
   "source": [
    "### Put all labels into the train folder"
   ]
  },
  {
   "cell_type": "code",
   "execution_count": null,
   "metadata": {},
   "outputs": [],
   "source": [
    "find /data/jantina/Superpixels/Datasets/Hamad_New/labels/masks -type f -print0 | xargs -0 mv -t /data/jantina/Superpixels/Datasets/Hamad_New/labels/train\n",
    "rm -rf /data/jantina/Superpixels/Datasets/Hamad_New/labels/masks\n"
   ]
  },
  {
   "cell_type": "markdown",
   "metadata": {},
   "source": [
    "### Move half of them into the test folder"
   ]
  },
  {
   "cell_type": "code",
   "execution_count": null,
   "metadata": {},
   "outputs": [],
   "source": [
    "cd /data/jantina/Superpixels/Datasets/Vavau1/labels/train\n",
    "find . -name '*.png' | head -n 1940 | xargs -I {} mv {} /data/jantina/Superpixels/Datasets/Vavau1/labels/test\n"
   ]
  },
  {
   "cell_type": "markdown",
   "metadata": {},
   "source": [
    "### Move half of WAPA_RFM1 into WAPA_RFM2"
   ]
  },
  {
   "cell_type": "code",
   "execution_count": 216,
   "metadata": {},
   "outputs": [],
   "source": [
    "## Move half of WAPA_RFM1 into WAPA_RFM2\n",
    "cd /data/jantina/Superpixels/Datasets/Vavau8/images/train\n",
    "find . -name '*.JPG' | head -n 10 | xargs -I {} mv {} /data/jantina/Superpixels/Datasets/Vavau8_22/images/train\n",
    "\n",
    "cd /data/jantina/Superpixels/Datasets/Vavau8/images/test\n",
    "find . -name '*.JPG' | head -n 10 | xargs -I {} mv {} /data/jantina/Superpixels/Datasets/Vavau8_22/images/test\n",
    "\n",
    "cd /data/jantina/Superpixels/Datasets/Vavau8/labels/train\n",
    "find . -name '*.png' | head -n 10 | xargs -I {} mv {} /data/jantina/Superpixels/Datasets/Vavau8_22/labels/train\n",
    "\n",
    "cd /data/jantina/Superpixels/Datasets/Vavau8/labels/test\n",
    "find . -name '*.png' | head -n 10 | xargs -I {} mv {} /data/jantina/Superpixels/Datasets/Vavau8_22/labels/test\n"
   ]
  },
  {
   "cell_type": "markdown",
   "metadata": {},
   "source": [
    "### Move half of WAPA_RFM1 into WAPA_RFM3"
   ]
  },
  {
   "cell_type": "code",
   "execution_count": null,
   "metadata": {},
   "outputs": [],
   "source": [
    "## Move half of WAPA_RFM1 into WAPA_RFM2\n",
    "cd /data/jantina/Superpixels/Datasets/Vavau1/images/train\n",
    "find . -name '*.JPG' | head -n 485 | xargs -I {} mv {} /data/jantina/Superpixels/Datasets/Vavau3/images/train\n",
    "\n",
    "cd /data/jantina/Superpixels/Datasets/Vavau1/images/test\n",
    "find . -name '*.JPG' | head -n 485 | xargs -I {} mv {} /data/jantina/Superpixels/Datasets/Vavau3/images/test\n",
    "\n",
    "cd /data/jantina/Superpixels/Datasets/Vavau1/labels/train\n",
    "find . -name '*.png' | head -n 485 | xargs -I {} mv {} /data/jantina/Superpixels/Datasets/Vavau3/labels/train\n",
    "\n",
    "cd /data/jantina/Superpixels/Datasets/Vavau1/labels/test\n",
    "find . -name '*.png' | head -n 485 | xargs -I {} mv {} /data/jantina/Superpixels/Datasets/Vavau3/labels/test\n"
   ]
  },
  {
   "cell_type": "markdown",
   "metadata": {},
   "source": [
    "### Move half of WAPA_RFM2 into WAPA_RFM4"
   ]
  },
  {
   "cell_type": "code",
   "execution_count": null,
   "metadata": {},
   "outputs": [],
   "source": [
    "## Move half of WAPA_RFM1 into WAPA_RFM2\n",
    "cd /data/jantina/Superpixels/Datasets/Vavau5/images/train\n",
    "find . -name '*.JPG' | head -n 10 | xargs -I {} mv {} /data/jantina/Superpixels/Datasets/Vavau5_22/images/train\n",
    "\n",
    "cd /data/jantina/Superpixels/Datasets/Vavau5/images/test\n",
    "find . -name '*.JPG' | head -n 10 | xargs -I {} mv {} /data/jantina/Superpixels/Datasets/Vavau5_22/images/test\n",
    "\n",
    "cd /data/jantina/Superpixels/Datasets/Vavau5/labels/train\n",
    "find . -name '*.png' | head -n 10 | xargs -I {} mv {} /data/jantina/Superpixels/Datasets/Vavau5_22/labels/train\n",
    "\n",
    "cd /data/jantina/Superpixels/Datasets/Vavau5/labels/test\n",
    "find . -name '*.png' | head -n 10 | xargs -I {} mv {} /data/jantina/Superpixels/Datasets/Vavau5_22/labels/test\n"
   ]
  },
  {
   "cell_type": "markdown",
   "metadata": {},
   "source": [
    "### Copy the label folder into the sparse_GT folder "
   ]
  },
  {
   "cell_type": "code",
   "execution_count": 1076,
   "metadata": {},
   "outputs": [],
   "source": [
    "%cp -r /data/jantina/Superpixels/Datasets/Vavau5/labels /data/jantina/Superpixels/Vavau5/sparse_GT"
   ]
  },
  {
   "cell_type": "markdown",
   "metadata": {},
   "source": [
    "### Remove the superpixel folder"
   ]
  },
  {
   "cell_type": "code",
   "execution_count": 4,
   "metadata": {},
   "outputs": [],
   "source": [
    "%rm -rf /data/jantina/Superpixels/Vavau2/superpixels"
   ]
  },
  {
   "cell_type": "markdown",
   "metadata": {},
   "source": [
    "### Copy the augmented_GT into the corresponding label folder"
   ]
  },
  {
   "cell_type": "code",
   "execution_count": null,
   "metadata": {},
   "outputs": [],
   "source": [
    "%cp -r /data/jantina/Superpixels/Vavau8/augmented_GT/test/. /data/jantina/CoralNet/used/Vavau/labels_dense/"
   ]
  },
  {
   "cell_type": "markdown",
   "metadata": {},
   "source": [
    "### Copy all the images and labels from the used sources into the dataset folder"
   ]
  },
  {
   "cell_type": "code",
   "execution_count": 1105,
   "metadata": {},
   "outputs": [],
   "source": [
    "%cp -r /data/jantina/CoralNet/used/WAPA_RFM/labels_dense/. /data/jantina/CoralNet/dataset/pre_labels_dense\n"
   ]
  },
  {
   "cell_type": "markdown",
   "metadata": {},
   "source": [
    "### Check that the folders have the same length"
   ]
  },
  {
   "cell_type": "code",
   "execution_count": null,
   "metadata": {},
   "outputs": [],
   "source": [
    "from imutils import paths\n",
    "\n",
    "print(len(sorted(list(paths.list_images(\"/data/jantina/data/CoralNet/dataset/images\")))))\n",
    "print(len(sorted(list(paths.list_images(\"/data/jantina/data/CoralNet/dataset/pre_masks\")))))\n",
    "print(len(sorted(list(paths.list_images(\"/data/jantina/data/CoralNet/dataset/pre_labels\")))))\n",
    "print(len(sorted(list(paths.list_images(\"/data/jantina/data/CoralNet/dataset/pre_labels_dense\")))))\n",
    "print(len(sorted(list(paths.list_images(\"/data/jantina/data/CoralNet/dataset/masks\")))))\n",
    "print(len(sorted(list(paths.list_images(\"/data/jantina/data/CoralNet/dataset/labels\")))))\n",
    "print(len(sorted(list(paths.list_images(\"/data/jantina/data/CoralNet/dataset/labels_dense\")))))\n",
    "print(len(sorted(list(paths.list_images(\"/data/jantina/data/CoralNet/dataset/masks_9x9\")))))"
   ]
  },
  {
   "cell_type": "markdown",
   "metadata": {},
   "source": [
    "### Copy labels into other folder"
   ]
  },
  {
   "cell_type": "code",
   "execution_count": 59,
   "metadata": {},
   "outputs": [],
   "source": [
    "import os\n",
    "import shutil\n",
    "\n",
    "for path in sorted(list(paths.list_images(\"/data/jantina/CoralNet/dataset/medium/labels\"))):\n",
    "    filename = path.split(os.path.sep)[-1]\n",
    "    path_src = \"/data/jantina/CoralNet/dataset/labels_dense/\"+filename\n",
    "    path_trg = \"/data/jantina/CoralNet/dataset/medium/labels_dense/\"+filename\n",
    "    shutil.copy(path_src, path_trg)"
   ]
  }
 ],
 "metadata": {
  "kernelspec": {
   "display_name": "Python 3 (ipykernel)",
   "language": "python",
   "name": "python3"
  },
  "language_info": {
   "codemirror_mode": {
    "name": "ipython",
    "version": 3
   },
   "file_extension": ".py",
   "mimetype": "text/x-python",
   "name": "python",
   "nbconvert_exporter": "python",
   "pygments_lexer": "ipython3",
   "version": "3.8.10"
  }
 },
 "nbformat": 4,
 "nbformat_minor": 4
}
