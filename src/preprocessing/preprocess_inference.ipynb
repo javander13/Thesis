{
 "cells": [
  {
   "cell_type": "markdown",
   "metadata": {},
   "source": [
    "# Preprocess mask\n",
    "\n",
    "Combine the multiple labels into 10 categories:\n",
    "- hard coral\n",
    "- hard coral bleached\n",
    "- dead coral\n",
    "- other invertebrates\n",
    "- sand/rubble\n",
    "- other\n",
    "- (macro) algae\n",
    "- seagrass\n",
    "- unknown\n",
    "- no label"
   ]
  },
  {
   "cell_type": "markdown",
   "metadata": {},
   "source": [
    "## Imports"
   ]
  },
  {
   "cell_type": "code",
   "execution_count": 27,
   "metadata": {},
   "outputs": [],
   "source": [
    "# load custom scripts\n",
    "from preprocess_inference import *\n",
    "\n",
    "# import the necessary packages\n",
    "from imutils import paths\n",
    "from PIL import Image\n",
    "from skimage import io\n",
    "import cv2\n",
    "import matplotlib.pyplot as plt\n",
    "import numpy as np\n",
    "import os\n",
    "import pandas as pd\n",
    "import plotly.offline as pyo\n",
    "pyo.init_notebook_mode()\n",
    "import plotly.express as px\n",
    "import time\n",
    "import warnings\n",
    "warnings.filterwarnings('ignore')"
   ]
  },
  {
   "cell_type": "markdown",
   "metadata": {},
   "source": [
    "## Load masks and labels"
   ]
  },
  {
   "cell_type": "code",
   "execution_count": null,
   "metadata": {},
   "outputs": [],
   "source": [
    "# for scene_3\n",
    "#%cp -r /home/jonathan/aerial_wildlife_detection/export/scene_3/. /data/jantina/CoralNet/inference/segmentation_masks/scene_3/\n"
   ]
  },
  {
   "cell_type": "code",
   "execution_count": 28,
   "metadata": {},
   "outputs": [],
   "source": [
    "# choose scene\n",
    "scene = 'scene_3'"
   ]
  },
  {
   "cell_type": "code",
   "execution_count": null,
   "metadata": {},
   "outputs": [],
   "source": [
    "# load the paths of segmentation masks \n",
    "maskPaths = sorted(list(paths.list_images(\"/data/jantina/data/CoralNet/inference/segmentation_masks/\"+scene)))"
   ]
  },
  {
   "cell_type": "code",
   "execution_count": null,
   "metadata": {},
   "outputs": [],
   "source": [
    "pd.read_csv('/data/jantina/data/CoralNet/inference/labelclasses.csv',usecols=[\"name\",\"labelclass_index\"])"
   ]
  },
  {
   "cell_type": "markdown",
   "metadata": {},
   "source": [
    "## Old classes distribution"
   ]
  },
  {
   "cell_type": "code",
   "execution_count": null,
   "metadata": {},
   "outputs": [],
   "source": [
    "classes = {\n",
    "1: \"Branching Dead Unknown\",\n",
    "2: \"Massive Dead Uknown\",\n",
    "3: \"Encrusting Dead\",\n",
    "29: \"Dead Unknown\",\n",
    "5: \"Acropora Unknown\",\n",
    "6: \"Stylophora Unknown\",\n",
    "7: \"Stylophora Pistillata\",\n",
    "8: \"Stylophora Wellsi\",\n",
    "9: \"Pocilopora Unknown\",\n",
    "10: \"Pocilopora Verrucosa\",\n",
    "11: \"Pocilopora Damicornis\",\n",
    "12: \"Seriatopora Hystrix\",\n",
    "4: \"Branching Unknown\",\n",
    "118: \"Lobophyllia Unknown\",\n",
    "13: \"Massive Unknown\",\n",
    "14: \"Encrusting Unknown\",\n",
    "15: \"Soft Coral Unknown\",\n",
    "17: \"Millepora Alcicornis\",\n",
    "18: \"Millepora Dichotoma\",\n",
    "16: \"Hydrozoans Unknown\",\n",
    "19: \"Unidentifiable\",\n",
    "20: \"Sand\",\n",
    "21: \"Rock\",\n",
    "22: \"Fish\",\n",
    "23: \"Human\",\n",
    "24: \"Background\",\n",
    "25: \"Macroalgae\",\n",
    "185: \"Trash\",\n",
    "0: \"Unkown\"\n",
    "    }"
   ]
  },
  {
   "cell_type": "markdown",
   "metadata": {},
   "source": [
    "## Remapping segmentation masks into masks"
   ]
  },
  {
   "cell_type": "code",
   "execution_count": 81,
   "metadata": {},
   "outputs": [],
   "source": [
    "# slightly remapped\n",
    "\n",
    "classes = {\n",
    "1: \"Branching Dead Unknown\",\n",
    "2: \"Massive Dead Uknown\",\n",
    "3: \"Encrusting Dead\",\n",
    "4: \"Branching Unknown\",\n",
    "5: \"Acropora Unknown\",\n",
    "6: \"Stylophora Unknown\",\n",
    "7: \"Stylophora Pistillata\",\n",
    "8: \"Stylophora Wellsi\",\n",
    "9: \"Pocilopora Unknown\",\n",
    "10: \"Pocilopora Verrucosa\",\n",
    "11: \"Pocilopora Damicornis\",\n",
    "12: \"Seriatopora Hystrix\",\n",
    "13: \"Massive Unknown\",\n",
    "14: \"Encrusting Unknown\",\n",
    "15: \"Soft Coral Unknown\",\n",
    "16: \"Hydrozoans Unknown\",\n",
    "17: \"Millepora Alcicornis\",\n",
    "18: \"Millepora Dichotoma\",\n",
    "19: \"Sand\",\n",
    "20: \"Rock\",\n",
    "21: \"Fish\",\n",
    "22: \"Human\",\n",
    "23: \"Background\",\n",
    "24: \"Macroalgae\",\n",
    "25: \"Dead Unknown\",\n",
    "26: \"Lobophyllia Unknown\",\n",
    "27: \"Trash\",\n",
    "0: \"Unkown\"\n",
    "    }"
   ]
  },
  {
   "cell_type": "code",
   "execution_count": 31,
   "metadata": {},
   "outputs": [
    {
     "name": "stdout",
     "output_type": "stream",
     "text": [
      "[INFO] total time taken to write the new masks: 0.23s\n"
     ]
    }
   ],
   "source": [
    "maskPaths = sorted(list(paths.list_images('/data/jantina/data/CoralNet/inference/segmentation_masks/'+scene+'/')))\n",
    "startTime = time.time()\n",
    "\n",
    "for masks in maskPaths:\n",
    "    mask = io.imread(masks)\n",
    "    new_mask = merge_mask2(mask)\n",
    "    im = Image.fromarray(new_mask) \n",
    "    maskPath = '/data/jantina/data/CoralNet/inference/masks/'+scene+'/' + masks.split(os.path.sep)[-1].replace('..tiff','.png.tif')\n",
    "    im.save(maskPath)\n",
    "\n",
    "endTime = time.time()\n",
    "print(\"[INFO] total time taken to write the new masks: {:.2f}s\".format(endTime - startTime))"
   ]
  },
  {
   "cell_type": "markdown",
   "metadata": {},
   "source": [
    "### Old classes distribution"
   ]
  },
  {
   "cell_type": "code",
   "execution_count": null,
   "metadata": {},
   "outputs": [],
   "source": [
    "count = pd.DataFrame()\n",
    "\n",
    "new_maskPaths = sorted(list(paths.list_images(\"/data/jantina/data/CoralNet/inference/masks/total/\")))\n",
    "for masks in new_maskPaths:\n",
    "    mask = io.imread(masks)\n",
    "    unique, counts = np.unique(mask, return_counts=True)\n",
    "    count = count.append(pd.DataFrame(dict(zip(unique, counts)).items(),\n",
    "                                      columns=['label', 'pixel count']),\n",
    "                         ignore_index = True)"
   ]
  },
  {
   "cell_type": "code",
   "execution_count": null,
   "metadata": {},
   "outputs": [],
   "source": [
    "orderClasses = classes.values()\n",
    "d = pd.DataFrame(count.groupby('label')['pixel count'].sum()).reset_index()\n",
    "d = d.drop([0])\n",
    "\n",
    "for old, new in classes.items():\n",
    "    d.label[d.label == old] = new\n",
    "    \n",
    "mapping = {label: i for i, label in enumerate(orderClasses)}\n",
    "key = d['label'].map(mapping)\n",
    "d = d.iloc[key.argsort()].set_index('label')\n",
    "\n",
    "fig = plt.figure(figsize = (12,6))\n",
    "colors = ['#88CCFF']\n",
    "ax = plt.subplot(1,1,1)\n",
    "d.plot(kind = 'bar', ax =ax, color = colors)\n",
    "ax.set_xticklabels(d.index, rotation = 80, fontsize = 15)\n",
    "ax.set_ylabel('Pixel Occurcences', fontsize = 16, labelpad=20)\n",
    "ax.set_xlabel('Semantic Class', fontsize= 16)\n",
    "ax.get_legend().remove()\n",
    "plt.savefig('histogram.pdf', bbox_inches=\"tight\") "
   ]
  },
  {
   "cell_type": "markdown",
   "metadata": {},
   "source": [
    "## New label classes"
   ]
  },
  {
   "cell_type": "code",
   "execution_count": null,
   "metadata": {},
   "outputs": [],
   "source": [
    "classes = {1: 'hard coral',\n",
    "           2: 'hard coral bleached',\n",
    "           3: 'dead coral',\n",
    "           4: 'other invertebrates',\n",
    "           5: 'sand/rubble',\n",
    "           6: 'other',\n",
    "           7: '(macro) algae',\n",
    "           8: 'seagrass',\n",
    "           9: 'unknown',\n",
    "           0: 'no label'\n",
    "          }"
   ]
  },
  {
   "cell_type": "code",
   "execution_count": null,
   "metadata": {},
   "outputs": [],
   "source": [
    "hard_coral = [4,5,6,7,8,9,10,11,12,13,14,17,18,118]\n",
    "\n",
    "hard_coral_bleached = []\n",
    "\n",
    "dead_coral = [1,2,3,29]\n",
    "\n",
    "other_invertebrates = [15,16]\n",
    "\n",
    "sand_rubble = [20,21,24]\n",
    "\n",
    "other = [22,23,185]\n",
    "\n",
    "algae = [25]\n",
    "\n",
    "seagrass = []\n",
    "\n",
    "unknown = []\n",
    "\n",
    "no_label = [19]"
   ]
  },
  {
   "cell_type": "markdown",
   "metadata": {},
   "source": [
    "### Creating new labels + cropped images and saving to disk"
   ]
  },
  {
   "cell_type": "code",
   "execution_count": 32,
   "metadata": {},
   "outputs": [
    {
     "name": "stdout",
     "output_type": "stream",
     "text": [
      "[INFO] total time taken to write the new masks: 0.21s\n"
     ]
    }
   ],
   "source": [
    "startTime = time.time()\n",
    "\n",
    "for masks in maskPaths:\n",
    "    mask = io.imread(masks)\n",
    "    new_mask = merge_mask(mask)\n",
    "    im = Image.fromarray(new_mask) \n",
    "    maskPath = '/data/jantina/data/CoralNet/inference/labels/'+scene+'/' + masks.split(os.path.sep)[-1].replace('..tiff','.png.tif')\n",
    "    im.save(maskPath)\n",
    "    \n",
    "endTime = time.time()\n",
    "print(\"[INFO] total time taken to write the new masks: {:.2f}s\".format(endTime - startTime))"
   ]
  },
  {
   "cell_type": "code",
   "execution_count": null,
   "metadata": {},
   "outputs": [],
   "source": [
    "startTime = time.time()\n",
    "\n",
    "# load the image paths corresponding to the images\n",
    "directory = \"/data/jonathan/labeling_test/\"+scene+\"/\"\n",
    "\n",
    "# iterate over the selected test image paths\n",
    "for masks in maskPaths:\n",
    "    y = int(masks.split(os.path.sep)[-1].split(\"_\")[1])\n",
    "    x = int(masks.split(os.path.sep)[-1].split(\"_\")[2].split(\".\")[0])\n",
    "    name = masks.split(os.path.sep)[-1].split(\"_\")[0] + \".png\"\n",
    "    image = io.imread(directory+name)[y:y+500,x:x+800]\n",
    "    im = Image.fromarray(image)\n",
    "    imagePath = '/data/jantina/data/CoralNet/inference/images/'+scene+'/' + masks.split(os.path.sep)[-1].replace('..tiff','.png')\n",
    "    im.save(imagePath)\n",
    "\n",
    "endTime = time.time()\n",
    "print(\"[INFO] total time taken to write the new masks: {:.2f}s\".format(endTime - startTime))"
   ]
  },
  {
   "cell_type": "markdown",
   "metadata": {},
   "source": [
    "### New classes distribution"
   ]
  },
  {
   "cell_type": "code",
   "execution_count": 96,
   "metadata": {},
   "outputs": [],
   "source": [
    "count = pd.DataFrame()\n",
    "\n",
    "new_maskPaths = sorted(list(paths.list_images(\"/data/jantina/data/CoralNet/inference/labels/total/\")))\n",
    "for masks in new_maskPaths:\n",
    "    mask = io.imread(masks)\n",
    "    unique, counts = np.unique(mask, return_counts=True)\n",
    "    count = count.append(pd.DataFrame(dict(zip(unique, counts)).items(),\n",
    "                                      columns=['label', 'pixel count']),\n",
    "                         ignore_index = True)\n",
    "    "
   ]
  },
  {
   "cell_type": "code",
   "execution_count": null,
   "metadata": {},
   "outputs": [],
   "source": [
    "orderClasses = classes.values()\n",
    "d = pd.DataFrame(count.groupby('label')['pixel count'].sum()).reset_index()\n",
    "d = d.drop([0])\n",
    "\n",
    "for old, new in classes.items():\n",
    "    d.label[d.label == old] = new\n",
    "    \n",
    "mapping = {label: i for i, label in enumerate(orderClasses)}\n",
    "key = d['label'].map(mapping)\n",
    "d = d.iloc[key.argsort()].set_index('label')\n",
    "\n",
    "fig = plt.figure(figsize = (12,6))\n",
    "colors = ['#88CCFF']\n",
    "ax = plt.subplot(1,1,1)\n",
    "d.plot(kind = 'bar', ax =ax, color = colors)\n",
    "ax.set_xticklabels(d.index, rotation = 25, fontsize = 15)\n",
    "ax.set_ylabel('Pixel Occurcences', fontsize = 16, labelpad=20)\n",
    "ax.set_xlabel('Semantic Class', fontsize= 16)\n",
    "ax.get_legend().remove()\n",
    "plt.savefig('histogram.pdf', bbox_inches=\"tight\") "
   ]
  }
 ],
 "metadata": {
  "kernelspec": {
   "display_name": "Python 3 (ipykernel)",
   "language": "python",
   "name": "python3"
  },
  "language_info": {
   "codemirror_mode": {
    "name": "ipython",
    "version": 3
   },
   "file_extension": ".py",
   "mimetype": "text/x-python",
   "name": "python",
   "nbconvert_exporter": "python",
   "pygments_lexer": "ipython3",
   "version": "3.8.10"
  }
 },
 "nbformat": 4,
 "nbformat_minor": 4
}
