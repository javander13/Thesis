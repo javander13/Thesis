{
 "cells": [
  {
   "cell_type": "markdown",
   "metadata": {},
   "source": [
    "# Extracting sources metadata\n",
    "\n",
    "This notebook allows to extract the main features of all downloaded CoralNet sources.\n",
    "\n",
    "Using the excel sheet `verified_labels.xlsx` containing all the verified labels of the CoralNet website,\n",
    "it gives out a new excel sheet containing for each source:\n",
    "\n",
    "- name\n",
    "- number of images\n",
    "- number of labels\n",
    "- number of labels/image\n",
    "- number of health labels\n",
    "\n",
    "This summary will provide an easier selection of which sources to combine."
   ]
  },
  {
   "cell_type": "markdown",
   "metadata": {},
   "source": [
    "## Import necessary libraries"
   ]
  },
  {
   "cell_type": "code",
   "execution_count": 1,
   "metadata": {},
   "outputs": [],
   "source": [
    "import numpy as np\n",
    "import os\n",
    "import pandas as pd"
   ]
  },
  {
   "cell_type": "markdown",
   "metadata": {},
   "source": [
    "## Read the verified labels excel sheet"
   ]
  },
  {
   "cell_type": "code",
   "execution_count": 2,
   "metadata": {},
   "outputs": [],
   "source": [
    "os.chdir(\"/home/jantina/code/src/preprocessing/\")\n",
    "data = pd.read_excel('verified_labels.xlsx',\n",
    "                     sheet_name='Health_Labels',\n",
    "                     usecols=\"A,C,D\").dropna()\n",
    "data[\"Label ID\"] = data[\"Label ID\"].astype(int)"
   ]
  },
  {
   "cell_type": "markdown",
   "metadata": {},
   "source": [
    "## Extract data from all CoralNet sources\n",
    "\n",
    "! Requires all sources to be in `/data/jantina/data/CoralNet/used` directory !\n",
    "\n",
    "Right now only the used sources are there, the others are in `/data/jantina/data/CoralNet/other`."
   ]
  },
  {
   "cell_type": "code",
   "execution_count": 3,
   "metadata": {},
   "outputs": [],
   "source": [
    "# assign directory\n",
    "directory = '/data/jantina/data/CoralNet/used'\n",
    "\n",
    "# declare variables\n",
    "names = []\n",
    "images = []\n",
    "labels = []\n",
    "annots = []\n",
    "health_labels = []\n",
    " \n",
    "# iterate over files in that directory\n",
    "for filename in os.listdir(directory):\n",
    "    f = os.path.join(directory, filename)\n",
    "    os.chdir(f)\n",
    "    \n",
    "    try:\n",
    "        # get the source name\n",
    "        names.append(f.split(\"/\")[4])\n",
    "        \n",
    "        # get number of images\n",
    "        annotations = pd.read_csv('annotations.csv')\n",
    "        temp = annotations.groupby('Name').count()\n",
    "        images.append(len(temp))\n",
    "        \n",
    "        # get number of labels \n",
    "        label = pd.read_csv('labelset.csv')\n",
    "        labels.append(len(label))\n",
    "        \n",
    "        # get number of labels per image\n",
    "        annots.append(temp[\"Label\"][0])\n",
    "        \n",
    "        # get number of health labels \n",
    "        label[\"Label ID\"] = label[\"Label ID\"].astype(int)\n",
    "        df_common = label.loc[label[\"Label ID\"].isin(data[\"Label ID\"])]\n",
    "        temp2 = annotations.groupby('Label').count()\n",
    "        df_common = temp2.loc[temp2.index.isin(df_common[\"Short Code\"])]\n",
    "        health_labels.append(len(df_common))\n",
    "        \n",
    "    except:\n",
    "        continue"
   ]
  },
  {
   "cell_type": "markdown",
   "metadata": {},
   "source": [
    "## Create dataframe with all information"
   ]
  },
  {
   "cell_type": "code",
   "execution_count": 4,
   "metadata": {},
   "outputs": [],
   "source": [
    "df = pd.DataFrame(list(zip(names,\n",
    "                           images,\n",
    "                           labels,\n",
    "                           annots, \n",
    "                           health_labels)),\n",
    "               columns = ['Name', \n",
    "                         '# Images',\n",
    "                         '# Labels', \n",
    "                         '# Labels/Images',\n",
    "                         '# Health Labels'])\n",
    "\n",
    "df.sort_values('Name', inplace = True,)"
   ]
  },
  {
   "cell_type": "markdown",
   "metadata": {},
   "source": [
    "## Save metadata as excel file"
   ]
  },
  {
   "cell_type": "code",
   "execution_count": 5,
   "metadata": {},
   "outputs": [],
   "source": [
    "os.chdir(\"/home/jantina/code/src/preprocessing/\")\n",
    "df.to_excel(\"sources_metadata.xlsx\")\n",
    "print(\"[INFO] Excel sheet created !\")"
   ]
  }
 ],
 "metadata": {
  "kernelspec": {
   "display_name": "Python 3 (ipykernel)",
   "language": "python",
   "name": "python3"
  },
  "language_info": {
   "codemirror_mode": {
    "name": "ipython",
    "version": 3
   },
   "file_extension": ".py",
   "mimetype": "text/x-python",
   "name": "python",
   "nbconvert_exporter": "python",
   "pygments_lexer": "ipython3",
   "version": "3.8.10"
  }
 },
 "nbformat": 4,
 "nbformat_minor": 4
}
