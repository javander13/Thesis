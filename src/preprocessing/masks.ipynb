{
 "cells": [
  {
   "cell_type": "markdown",
   "metadata": {},
   "source": [
    "# Mask creation\n",
    "\n",
    "This notebook uses the sparse pixel annotations (always in the `annotations.csv` file) \n",
    "from the CoralNet website, and creates a **mask** for each image.\n",
    "\n",
    "The annotations are given in the following order: `row, column, label` -> `height, width, label`.\n",
    "\n",
    "The image shapes are in the same order: `height, width, channels`.\n",
    "\n",
    "! quick reminder !\n",
    "\n",
    "numpy image: H x W x C\n",
    "\n",
    "torch image: C x H x W\n",
    "\n",
    "To create the masks, the `labelset.csv` is going to be used.\n",
    "\n",
    "*I am going to use all the labels provided by the sources (even if they are not in the \"verified\" labels), \n",
    "because the images have been selected to the \"confirmed\".*"
   ]
  },
  {
   "cell_type": "markdown",
   "metadata": {},
   "source": [
    "## Import necessary libraries"
   ]
  },
  {
   "cell_type": "code",
   "execution_count": 2,
   "metadata": {},
   "outputs": [],
   "source": [
    "from PIL import Image\n",
    "from skimage import io, transform\n",
    "from sklearn.preprocessing import MinMaxScaler  \n",
    "\n",
    "import cv2\n",
    "import matplotlib.pyplot as plt\n",
    "import numpy as np\n",
    "import os\n",
    "import pandas as pd\n",
    "import torch"
   ]
  },
  {
   "cell_type": "markdown",
   "metadata": {},
   "source": [
    "## Get data from the chosen source"
   ]
  },
  {
   "cell_type": "code",
   "execution_count": null,
   "metadata": {},
   "outputs": [],
   "source": [
    "# go to the source\n",
    "os.chdir(\"/data/jantina/data/CoralNet/used/BHP_GSR_Fiji/other\")\n",
    "\n",
    "# prepare annotations\n",
    "annotations = pd.read_csv('annotations.csv')\n",
    "img_names = annotations.iloc[:, 0]\n",
    "landmarks = annotations.iloc[:, 1:4]\n",
    "\n",
    "# prepare labels as dictionary\n",
    "# using numbers from 1 -> N\n",
    "labels = pd.read_csv('labelset.csv')[\"Short Code\"]\n",
    "labels.index = labels.index + 1\n",
    "labels = labels.to_dict()\n",
    "\n",
    "print(f\"[INFO] There are {len(img_names.unique())} images in this source\")\n",
    "print(f\"[INFO] There are {len(labels)} labels in this source\")"
   ]
  },
  {
   "cell_type": "markdown",
   "metadata": {},
   "source": [
    "## Create masks for all images in that source"
   ]
  },
  {
   "cell_type": "code",
   "execution_count": null,
   "metadata": {},
   "outputs": [],
   "source": [
    "for img_name in img_names.unique():\n",
    "    # go to root\n",
    "    os.chdir(\"/data/jantina/data/CoralNet/used/Hamad_New\")\n",
    "    # get image\n",
    "    try:\n",
    "        image = io.imread(os.path.join('images', img_name))\n",
    "        # retrieve the annotations for that image\n",
    "        landmark = landmarks.iloc[img_names[img_names==img_name].index.values]\n",
    "        landmark = np.asarray(landmark)\n",
    "\n",
    "        # get image information\n",
    "        height = image.shape[0]\n",
    "        width = image.shape[1]\n",
    "        colors = image.shape[2]\n",
    "\n",
    "        # create array with coordinates and label code\n",
    "        classes = np.copy(landmark) \n",
    "        for new, old in labels.items():\n",
    "            classes[landmark == old] = new\n",
    "\n",
    "        # create mask \n",
    "        mask = np.full((height, width), 255)\n",
    "        for x in classes:\n",
    "            try:\n",
    "                mask[x[0], x[1]] = x[2]\n",
    "            except:\n",
    "                print(img_name)\n",
    "                print(\"These labels are out of bounds\", x[0], x[1], x[2])\n",
    "                continue\n",
    "\n",
    "        # switch to png to not loose information\n",
    "        img_name = img_name.split(\".JPG\")[0]+\".png\"\n",
    "\n",
    "        # check the labels contained in the mask\n",
    "        print(img_name, np.unique(mask))\n",
    "\n",
    "        # save mask\n",
    "        os.chdir(\"/data/jantina/data/CoralNet/used/Hamad_New/masks\")\n",
    "        cv2.imwrite(img_name, mask)\n",
    "\n",
    "        # load the mask and check the labels again\n",
    "        # if they don't match there is a problem\n",
    "        image = cv2.imread(os.path.join(img_name))\n",
    "        print(img_name, np.unique(image))\n",
    "    except:\n",
    "        continue"
   ]
  },
  {
   "cell_type": "markdown",
   "metadata": {},
   "source": [
    "## Rotating images\n",
    "\n",
    "Some images might have tilted when being download, thus the annotations won't match. \n",
    "\n",
    "The message `These labels are out of bounds` will appear for these images.\n",
    "\n",
    "These images will need to be rotated first !"
   ]
  },
  {
   "cell_type": "code",
   "execution_count": null,
   "metadata": {},
   "outputs": [],
   "source": [
    "# go to root\n",
    "os.chdir(\"/data/jantina/data/CoralNet/used/Hamad_New\")\n",
    "\n",
    "# take a single image\n",
    "img_name = \"ALM2Q14.JPG\"\n",
    "image = io.imread(os.path.join('images', img_name))\n",
    "print(image.shape)\n",
    "plt.imshow(image)\n",
    "\n",
    "# retrieve the annotations for that image\n",
    "landmark = landmarks.iloc[img_names[img_names==img_name].index.values]\n",
    "landmark = np.asarray(landmark)\n",
    "\n",
    "# rotate\n",
    "img = cv2.rotate(image, cv2.ROTATE_90_CLOCKWISE)\n",
    "print(img.shape)\n",
    "plt.imshow(img)\n",
    "\n",
    "# replace the current image\n",
    "os.chdir(\"/data/jantina/data/CoralNet/used/Hamad_New/images\")\n",
    "cv2.imwrite(img_name, img)"
   ]
  },
  {
   "cell_type": "markdown",
   "metadata": {},
   "source": [
    "## Converting RGBA to RGB"
   ]
  },
  {
   "cell_type": "markdown",
   "metadata": {},
   "source": [
    "The RGBA color space is a color space that includes an extra channel (alpha channel) for representing the transparency information of an image."
   ]
  },
  {
   "cell_type": "code",
   "execution_count": null,
   "metadata": {},
   "outputs": [],
   "source": [
    "for img_name in img_names.unique():\n",
    "    # go to root\n",
    "    os.chdir(\"/data/jantina/data/CoralNet/dataset\")\n",
    "    image = Image.open(os.path.join('images', img_name))\n",
    "    rgb_image = image.convert('RGB')\n",
    "    # replace the current image\n",
    "    os.chdir(\"/data/jantina/data/CoralNet/dataset/images\")\n",
    "    rgb_image.save(img_name)"
   ]
  },
  {
   "cell_type": "markdown",
   "metadata": {},
   "source": [
    "## Plot a single image with annotations"
   ]
  },
  {
   "cell_type": "code",
   "execution_count": null,
   "metadata": {},
   "outputs": [],
   "source": [
    "# go to root\n",
    "os.chdir(\"/data/jantina/data/CoralNet/used/WAPA_RFM\")\n",
    "annotations = pd.read_csv('other/annotations.csv')\n",
    "img_names = annotations.iloc[:, 0]\n",
    "landmarks = annotations.iloc[:, 1:4]\n",
    "\n",
    "# take a single image\n",
    "img_name = \"2021-11-20-ADELUP-A-T4 20.5-B (PB200870).JPG\"\n",
    "\n",
    "# retrieve the annotations for that image\n",
    "landmarks = annotations.iloc[:, 1:3]\n",
    "landmarks = landmarks.iloc[img_names[img_names==img_name].index.values]\n",
    "landmarks = np.asarray(landmarks).astype('float').reshape(-1, 2)\n",
    "\n",
    "def show_landmarks(image, landmarks):\n",
    "    \"\"\"Show image with landmarks\"\"\"\n",
    "    plt.imshow(image)\n",
    "    plt.scatter(landmarks[:, 1], landmarks[:, 0], s=50, marker='.', c='r')\n",
    "\n",
    "# show the image with it's annotations\n",
    "plt.figure()\n",
    "show_landmarks(io.imread(os.path.join('images', img_name)),landmarks)\n",
    "plt.axis('off')\n",
    "plt.show()"
   ]
  },
  {
   "cell_type": "code",
   "execution_count": null,
   "metadata": {},
   "outputs": [],
   "source": [
    "# plot only annotations\n",
    "plt.figure()\n",
    "scatter = plt.scatter(landmarks[:, 1], landmarks[:, 0], s=50, marker='.', c='r')\n",
    "ax = scatter.axes\n",
    "ax.invert_yaxis()\n",
    "plt.axis('off')\n",
    "plt.show()"
   ]
  }
 ],
 "metadata": {
  "kernelspec": {
   "display_name": "Python 3 (ipykernel)",
   "language": "python",
   "name": "python3"
  },
  "language_info": {
   "codemirror_mode": {
    "name": "ipython",
    "version": 3
   },
   "file_extension": ".py",
   "mimetype": "text/x-python",
   "name": "python",
   "nbconvert_exporter": "python",
   "pygments_lexer": "ipython3",
   "version": "3.8.10"
  }
 },
 "nbformat": 4,
 "nbformat_minor": 4
}
